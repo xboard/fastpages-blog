{
 "cells": [
  {
   "cell_type": "markdown",
   "metadata": {},
   "source": [
    "# Collecting Brazil's 2022 presidential election pools data\n",
    "> A tutorial on how to collect, filter and prepare for analysis Brazil's 2022 presidential election pools data.\n",
    "\n",
    "- toc: true \n",
    "- badges: true\n",
    "- comments: true\n",
    "- categories: [data-science]\n",
    "- hide: false\n",
    "- search_exclude: false\n",
    "- image: images/chart-preview.png"
   ]
  }
 ],
 "metadata": {
  "language_info": {
   "name": "python"
  },
  "orig_nbformat": 4
 },
 "nbformat": 4,
 "nbformat_minor": 2
}
