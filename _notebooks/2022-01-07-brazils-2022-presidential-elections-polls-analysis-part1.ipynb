{
 "cells": [
  {
   "cell_type": "markdown",
   "metadata": {},
   "source": [
    "# Collecting Brazil's 2022 presidential election polls data\n",
    "> A tutorial on how to collect, filter and prepare for analysis Brazil's 2022 presidential election polls data.\n",
    "\n",
    "- toc: true \n",
    "- badges: true\n",
    "- comments: true\n",
    "- categories: [data-science]\n",
    "- hide: false\n",
    "- search_exclude: false\n",
    "- image: images/chart-preview.png"
   ]
  },
  {
   "cell_type": "markdown",
   "metadata": {},
   "source": [
    "## Context\n",
    "\n",
    "This year [more than 146 million fellow Brazilian](https://www.tse.jus.br/eleitor/estatisticas-de-eleitorado/consulta-quantitativo) are going to choose our new President..."
   ]
  },
  {
   "cell_type": "markdown",
   "metadata": {},
   "source": [
    "## Data sources\n",
    "\n",
    "### Pool data\n",
    "- [Poder360 polls database](https://www.poder360.com.br/banco-de-dados/)\n",
    "### Voters statistics\n",
    "\n",
    "- [TSE: Voters statistics by Region](https://www.tse.jus.br/eleitor/estatisticas-de-eleitorado/consulta-quantitativo)\n",
    "- [TSE: Voters statistics by sex and age](https://www.tse.jus.br/eleitor/estatisticas-de-eleitorado/estatistica-do-eleitorado-por-sexo-e-faixa-etaria)\n",
    "\n",
    "### Dashboard\n",
    "- [App](https://chance-lula-ganhar-1o-turno.github.io/)\n",
    "- [Repositório: Chance de Lula ganhar no primeiro turno](https://github.com/chance-lula-ganhar-1o-turno)\n",
    "  "
   ]
  },
  {
   "cell_type": "markdown",
   "metadata": {},
   "source": [
    "## Analysis"
   ]
  },
  {
   "cell_type": "markdown",
   "metadata": {},
   "source": [
    "### Importing libraries"
   ]
  },
  {
   "cell_type": "code",
   "execution_count": 1,
   "metadata": {},
   "outputs": [],
   "source": [
    "import numpy as np\n",
    "import scipy.stats as stats\n",
    "import pandas as pd\n",
    "import pymc3 as pm\n",
    "import arviz as az\n",
    "import matplotlib.pyplot as plt\n",
    "import seaborn as sns\n",
    "import dirichlet\n",
    "from pathlib import Path\n",
    "from tqdm.notebook import tqdm\n",
    "\n",
    "pd.set_option('display.max_columns', None)\n",
    "pd.set_option('display.max_rows', None)"
   ]
  },
  {
   "cell_type": "markdown",
   "metadata": {},
   "source": [
    "## Load and transform data"
   ]
  },
  {
   "cell_type": "code",
   "execution_count": 2,
   "metadata": {},
   "outputs": [],
   "source": [
    "#noshow \n",
    "columns_to_use = [\"pesquisa_id\", \"cenario_id\", \"turno\", \"partido\",\n",
    "                  \"candidato\", \"cenario_descricao\", \"instituto\",\n",
    "                  \"percentual\", \"data_pesquisa\", \"qtd_entrevistas\",\n",
    "                  \"qtd_mencoes\",\"grupo\"]\n",
    "\n",
    "HDI = [0.025, 0.5, 0.975] # quantiles"
   ]
  },
  {
   "cell_type": "code",
   "execution_count": 3,
   "metadata": {},
   "outputs": [],
   "source": [
    "def enrich_and_filter(df: pd.DataFrame) ->pd.DataFrame:\n",
    "    df['qtd_mencoes'] = df.percentual * df.qtd_entrevistas / 100.0\n",
    "    df['grupo'] = 'OUTROS'\n",
    "    df.loc[(df.partido == 'PT'), 'grupo'] = 'LULA'\n",
    "    df.loc[(df.partido.isna()), 'grupo'] = 'NULO'\n",
    "\n",
    "    return df[columns_to_use]"
   ]
  },
  {
   "cell_type": "code",
   "execution_count": 4,
   "metadata": {},
   "outputs": [
    {
     "name": "stdout",
     "output_type": "stream",
     "text": [
      "../assets/data/elections2022/20220121.csv\n"
     ]
    }
   ],
   "source": [
    "def get_most_recent_file() -> Path:\n",
    "    data_dir = Path('../assets/data/elections2022/')\n",
    "    return sorted(data_dir.glob('2022*.csv'))[-1]\n",
    "print(get_most_recent_file())"
   ]
  },
  {
   "cell_type": "code",
   "execution_count": 5,
   "metadata": {},
   "outputs": [],
   "source": [
    "def get_most_recent_df() -> pd.DataFrame:\n",
    "    return enrich_and_filter(pd.read_csv(get_most_recent_file(),\n",
    "                                         sep=',',\n",
    "                                         parse_dates=True,\n",
    "                                         dayfirst=True)\n",
    "                             )\n"
   ]
  },
  {
   "cell_type": "code",
   "execution_count": 6,
   "metadata": {},
   "outputs": [
    {
     "data": {
      "text/html": [
       "<div>\n",
       "<style scoped>\n",
       "    .dataframe tbody tr th:only-of-type {\n",
       "        vertical-align: middle;\n",
       "    }\n",
       "\n",
       "    .dataframe tbody tr th {\n",
       "        vertical-align: top;\n",
       "    }\n",
       "\n",
       "    .dataframe thead th {\n",
       "        text-align: right;\n",
       "    }\n",
       "</style>\n",
       "<table border=\"1\" class=\"dataframe\">\n",
       "  <thead>\n",
       "    <tr style=\"text-align: right;\">\n",
       "      <th></th>\n",
       "      <th>pesquisa_id</th>\n",
       "      <th>cenario_id</th>\n",
       "      <th>turno</th>\n",
       "      <th>partido</th>\n",
       "      <th>candidato</th>\n",
       "      <th>cenario_descricao</th>\n",
       "      <th>instituto</th>\n",
       "      <th>percentual</th>\n",
       "      <th>data_pesquisa</th>\n",
       "      <th>qtd_entrevistas</th>\n",
       "      <th>qtd_mencoes</th>\n",
       "      <th>grupo</th>\n",
       "    </tr>\n",
       "  </thead>\n",
       "  <tbody>\n",
       "    <tr>\n",
       "      <th>0</th>\n",
       "      <td>9750</td>\n",
       "      <td>24567</td>\n",
       "      <td>1</td>\n",
       "      <td>NaN</td>\n",
       "      <td>não sabe / não respondeu</td>\n",
       "      <td>cenário 1 - estimulado - 1º turno</td>\n",
       "      <td>Vox Populi</td>\n",
       "      <td>12.0</td>\n",
       "      <td>2021-11-04</td>\n",
       "      <td>2000</td>\n",
       "      <td>240.0</td>\n",
       "      <td>NULO</td>\n",
       "    </tr>\n",
       "    <tr>\n",
       "      <th>1</th>\n",
       "      <td>9750</td>\n",
       "      <td>24567</td>\n",
       "      <td>1</td>\n",
       "      <td>NaN</td>\n",
       "      <td>branco / nulo / nenhum</td>\n",
       "      <td>cenário 1 - estimulado - 1º turno</td>\n",
       "      <td>Vox Populi</td>\n",
       "      <td>10.0</td>\n",
       "      <td>2021-11-04</td>\n",
       "      <td>2000</td>\n",
       "      <td>200.0</td>\n",
       "      <td>NULO</td>\n",
       "    </tr>\n",
       "    <tr>\n",
       "      <th>2</th>\n",
       "      <td>9750</td>\n",
       "      <td>24567</td>\n",
       "      <td>1</td>\n",
       "      <td>PSD</td>\n",
       "      <td>Rodrigo Pacheco</td>\n",
       "      <td>cenário 1 - estimulado - 1º turno</td>\n",
       "      <td>Vox Populi</td>\n",
       "      <td>0.0</td>\n",
       "      <td>2021-11-04</td>\n",
       "      <td>2000</td>\n",
       "      <td>0.0</td>\n",
       "      <td>OUTROS</td>\n",
       "    </tr>\n",
       "    <tr>\n",
       "      <th>3</th>\n",
       "      <td>9750</td>\n",
       "      <td>24567</td>\n",
       "      <td>1</td>\n",
       "      <td>PT</td>\n",
       "      <td>Lula</td>\n",
       "      <td>cenário 1 - estimulado - 1º turno</td>\n",
       "      <td>Vox Populi</td>\n",
       "      <td>44.0</td>\n",
       "      <td>2021-11-04</td>\n",
       "      <td>2000</td>\n",
       "      <td>880.0</td>\n",
       "      <td>LULA</td>\n",
       "    </tr>\n",
       "    <tr>\n",
       "      <th>4</th>\n",
       "      <td>9750</td>\n",
       "      <td>24567</td>\n",
       "      <td>1</td>\n",
       "      <td>sem partido</td>\n",
       "      <td>Bolsonaro</td>\n",
       "      <td>cenário 1 - estimulado - 1º turno</td>\n",
       "      <td>Vox Populi</td>\n",
       "      <td>21.0</td>\n",
       "      <td>2021-11-04</td>\n",
       "      <td>2000</td>\n",
       "      <td>420.0</td>\n",
       "      <td>OUTROS</td>\n",
       "    </tr>\n",
       "  </tbody>\n",
       "</table>\n",
       "</div>"
      ],
      "text/plain": [
       "   pesquisa_id  cenario_id  turno      partido                 candidato  \\\n",
       "0         9750       24567      1          NaN  não sabe / não respondeu   \n",
       "1         9750       24567      1          NaN    branco / nulo / nenhum   \n",
       "2         9750       24567      1          PSD           Rodrigo Pacheco   \n",
       "3         9750       24567      1           PT                      Lula   \n",
       "4         9750       24567      1  sem partido                 Bolsonaro   \n",
       "\n",
       "                   cenario_descricao   instituto  percentual data_pesquisa  \\\n",
       "0  cenário 1 - estimulado - 1º turno  Vox Populi        12.0    2021-11-04   \n",
       "1  cenário 1 - estimulado - 1º turno  Vox Populi        10.0    2021-11-04   \n",
       "2  cenário 1 - estimulado - 1º turno  Vox Populi         0.0    2021-11-04   \n",
       "3  cenário 1 - estimulado - 1º turno  Vox Populi        44.0    2021-11-04   \n",
       "4  cenário 1 - estimulado - 1º turno  Vox Populi        21.0    2021-11-04   \n",
       "\n",
       "   qtd_entrevistas  qtd_mencoes   grupo  \n",
       "0             2000        240.0    NULO  \n",
       "1             2000        200.0    NULO  \n",
       "2             2000          0.0  OUTROS  \n",
       "3             2000        880.0    LULA  \n",
       "4             2000        420.0  OUTROS  "
      ]
     },
     "execution_count": 6,
     "metadata": {},
     "output_type": "execute_result"
    }
   ],
   "source": [
    "raw_df = get_most_recent_df()\n",
    "raw_df.head()"
   ]
  },
  {
   "cell_type": "code",
   "execution_count": 116,
   "metadata": {},
   "outputs": [],
   "source": [
    "def prepare_df(raw_df: pd.DataFrame) -> pd.DataFrame:\n",
    "    table_df = raw_df.pivot_table(values=['qtd_mencoes'],\n",
    "                        index=['data_pesquisa', 'instituto'],\n",
    "                        columns=['grupo'],\n",
    "                        aggfunc=np.sum)\n",
    "    table_df2 = table_df\n",
    "    table2 = table_df.reset_index(col_level=1).copy()\n",
    "    table2.columns = [a[1] for a in table2.columns.to_flat_index()]\n",
    "    table2[\"TOTAL\"] = table2['LULA'] + table2['NULO'] + table2['OUTROS']\n",
    "    table2[\"mes\"] = pd.to_datetime(table2['data_pesquisa']).dt.strftime('%Y_%m')\n",
    "    # print(table2)\n",
    "    # table3 = table2.groupby('data_pesquisa').agg({'LULA':'sum', 'NULO':'sum', 'OUTROS':'sum', 'TOTAL':'sum', 'mes':'first', 'instituto': 'first'})\n",
    "    # table3 = table3.reset_index(col_level=1).copy()\n",
    "    # print(table3.columns)\n",
    "    # table3.columns = [a for a in table3.columns.to_flat_index()]\n",
    "    \n",
    "    return table2"
   ]
  },
  {
   "cell_type": "code",
   "execution_count": 117,
   "metadata": {},
   "outputs": [
    {
     "name": "stdout",
     "output_type": "stream",
     "text": [
      "   data_pesquisa         instituto      LULA     NULO    OUTROS   TOTAL  \\\n",
      "0     2021-11-04        Vox Populi   880.000  440.000   660.000  1980.0   \n",
      "1     2021-11-06            Quaest   990.240  288.820   783.940  2063.0   \n",
      "2     2021-11-19  Paraná Pesquisas   704.980  270.680  1044.340  2020.0   \n",
      "3     2021-11-20            Futura   740.000  142.000  1118.000  2000.0   \n",
      "4     2021-11-24         PoderData   850.000  225.000  1400.000  2475.0   \n",
      "5     2021-11-29             Atlas  1883.628  140.832  2376.540  4401.0   \n",
      "6     2021-12-05            Quaest   937.020  244.440   855.540  2037.0   \n",
      "7     2021-12-09    Ideia Big Data   444.000  156.000   600.000  1200.0   \n",
      "8     2021-12-11               MDA   856.856  306.306   838.838  2002.0   \n",
      "9     2021-12-13            Futura   758.000  170.000  1072.000  2000.0   \n",
      "10    2021-12-13              Ipec   960.960  280.280   760.760  2002.0   \n",
      "11    2021-12-16         Datafolha  1759.680  366.600  1539.720  3666.0   \n",
      "12    2021-12-16            Ipespe   440.000  120.000   450.000  1010.0   \n",
      "13    2021-12-21         PoderData  1200.000  330.000  1470.000  3000.0   \n",
      "14    2022-01-09            Quaest   900.000  240.000   820.000  1960.0   \n",
      "15    2022-01-12            Ipespe   440.000  130.000   450.000  1020.0   \n",
      "16    2022-01-13    Ideia Big Data   615.000  165.000   705.000  1485.0   \n",
      "\n",
      "        mes  \n",
      "0   2021_11  \n",
      "1   2021_11  \n",
      "2   2021_11  \n",
      "3   2021_11  \n",
      "4   2021_11  \n",
      "5   2021_11  \n",
      "6   2021_12  \n",
      "7   2021_12  \n",
      "8   2021_12  \n",
      "9   2021_12  \n",
      "10  2021_12  \n",
      "11  2021_12  \n",
      "12  2021_12  \n",
      "13  2021_12  \n",
      "14  2022_01  \n",
      "15  2022_01  \n",
      "16  2022_01  \n"
     ]
    },
    {
     "data": {
      "text/html": [
       "<div>\n",
       "<style scoped>\n",
       "    .dataframe tbody tr th:only-of-type {\n",
       "        vertical-align: middle;\n",
       "    }\n",
       "\n",
       "    .dataframe tbody tr th {\n",
       "        vertical-align: top;\n",
       "    }\n",
       "\n",
       "    .dataframe thead th {\n",
       "        text-align: right;\n",
       "    }\n",
       "</style>\n",
       "<table border=\"1\" class=\"dataframe\">\n",
       "  <thead>\n",
       "    <tr style=\"text-align: right;\">\n",
       "      <th></th>\n",
       "      <th>data_pesquisa</th>\n",
       "      <th>instituto</th>\n",
       "      <th>LULA</th>\n",
       "      <th>NULO</th>\n",
       "      <th>OUTROS</th>\n",
       "      <th>TOTAL</th>\n",
       "      <th>mes</th>\n",
       "    </tr>\n",
       "  </thead>\n",
       "  <tbody>\n",
       "    <tr>\n",
       "      <th>0</th>\n",
       "      <td>2021-11-04</td>\n",
       "      <td>Vox Populi</td>\n",
       "      <td>880.000</td>\n",
       "      <td>440.000</td>\n",
       "      <td>660.000</td>\n",
       "      <td>1980.0</td>\n",
       "      <td>2021_11</td>\n",
       "    </tr>\n",
       "    <tr>\n",
       "      <th>1</th>\n",
       "      <td>2021-11-06</td>\n",
       "      <td>Quaest</td>\n",
       "      <td>990.240</td>\n",
       "      <td>288.820</td>\n",
       "      <td>783.940</td>\n",
       "      <td>2063.0</td>\n",
       "      <td>2021_11</td>\n",
       "    </tr>\n",
       "    <tr>\n",
       "      <th>2</th>\n",
       "      <td>2021-11-19</td>\n",
       "      <td>Paraná Pesquisas</td>\n",
       "      <td>704.980</td>\n",
       "      <td>270.680</td>\n",
       "      <td>1044.340</td>\n",
       "      <td>2020.0</td>\n",
       "      <td>2021_11</td>\n",
       "    </tr>\n",
       "    <tr>\n",
       "      <th>3</th>\n",
       "      <td>2021-11-20</td>\n",
       "      <td>Futura</td>\n",
       "      <td>740.000</td>\n",
       "      <td>142.000</td>\n",
       "      <td>1118.000</td>\n",
       "      <td>2000.0</td>\n",
       "      <td>2021_11</td>\n",
       "    </tr>\n",
       "    <tr>\n",
       "      <th>4</th>\n",
       "      <td>2021-11-24</td>\n",
       "      <td>PoderData</td>\n",
       "      <td>850.000</td>\n",
       "      <td>225.000</td>\n",
       "      <td>1400.000</td>\n",
       "      <td>2475.0</td>\n",
       "      <td>2021_11</td>\n",
       "    </tr>\n",
       "    <tr>\n",
       "      <th>5</th>\n",
       "      <td>2021-11-29</td>\n",
       "      <td>Atlas</td>\n",
       "      <td>1883.628</td>\n",
       "      <td>140.832</td>\n",
       "      <td>2376.540</td>\n",
       "      <td>4401.0</td>\n",
       "      <td>2021_11</td>\n",
       "    </tr>\n",
       "    <tr>\n",
       "      <th>6</th>\n",
       "      <td>2021-12-05</td>\n",
       "      <td>Quaest</td>\n",
       "      <td>937.020</td>\n",
       "      <td>244.440</td>\n",
       "      <td>855.540</td>\n",
       "      <td>2037.0</td>\n",
       "      <td>2021_12</td>\n",
       "    </tr>\n",
       "    <tr>\n",
       "      <th>7</th>\n",
       "      <td>2021-12-09</td>\n",
       "      <td>Ideia Big Data</td>\n",
       "      <td>444.000</td>\n",
       "      <td>156.000</td>\n",
       "      <td>600.000</td>\n",
       "      <td>1200.0</td>\n",
       "      <td>2021_12</td>\n",
       "    </tr>\n",
       "    <tr>\n",
       "      <th>8</th>\n",
       "      <td>2021-12-11</td>\n",
       "      <td>MDA</td>\n",
       "      <td>856.856</td>\n",
       "      <td>306.306</td>\n",
       "      <td>838.838</td>\n",
       "      <td>2002.0</td>\n",
       "      <td>2021_12</td>\n",
       "    </tr>\n",
       "    <tr>\n",
       "      <th>9</th>\n",
       "      <td>2021-12-13</td>\n",
       "      <td>Futura</td>\n",
       "      <td>758.000</td>\n",
       "      <td>170.000</td>\n",
       "      <td>1072.000</td>\n",
       "      <td>2000.0</td>\n",
       "      <td>2021_12</td>\n",
       "    </tr>\n",
       "    <tr>\n",
       "      <th>10</th>\n",
       "      <td>2021-12-13</td>\n",
       "      <td>Ipec</td>\n",
       "      <td>960.960</td>\n",
       "      <td>280.280</td>\n",
       "      <td>760.760</td>\n",
       "      <td>2002.0</td>\n",
       "      <td>2021_12</td>\n",
       "    </tr>\n",
       "    <tr>\n",
       "      <th>11</th>\n",
       "      <td>2021-12-16</td>\n",
       "      <td>Datafolha</td>\n",
       "      <td>1759.680</td>\n",
       "      <td>366.600</td>\n",
       "      <td>1539.720</td>\n",
       "      <td>3666.0</td>\n",
       "      <td>2021_12</td>\n",
       "    </tr>\n",
       "    <tr>\n",
       "      <th>12</th>\n",
       "      <td>2021-12-16</td>\n",
       "      <td>Ipespe</td>\n",
       "      <td>440.000</td>\n",
       "      <td>120.000</td>\n",
       "      <td>450.000</td>\n",
       "      <td>1010.0</td>\n",
       "      <td>2021_12</td>\n",
       "    </tr>\n",
       "    <tr>\n",
       "      <th>13</th>\n",
       "      <td>2021-12-21</td>\n",
       "      <td>PoderData</td>\n",
       "      <td>1200.000</td>\n",
       "      <td>330.000</td>\n",
       "      <td>1470.000</td>\n",
       "      <td>3000.0</td>\n",
       "      <td>2021_12</td>\n",
       "    </tr>\n",
       "    <tr>\n",
       "      <th>14</th>\n",
       "      <td>2022-01-09</td>\n",
       "      <td>Quaest</td>\n",
       "      <td>900.000</td>\n",
       "      <td>240.000</td>\n",
       "      <td>820.000</td>\n",
       "      <td>1960.0</td>\n",
       "      <td>2022_01</td>\n",
       "    </tr>\n",
       "    <tr>\n",
       "      <th>15</th>\n",
       "      <td>2022-01-12</td>\n",
       "      <td>Ipespe</td>\n",
       "      <td>440.000</td>\n",
       "      <td>130.000</td>\n",
       "      <td>450.000</td>\n",
       "      <td>1020.0</td>\n",
       "      <td>2022_01</td>\n",
       "    </tr>\n",
       "    <tr>\n",
       "      <th>16</th>\n",
       "      <td>2022-01-13</td>\n",
       "      <td>Ideia Big Data</td>\n",
       "      <td>615.000</td>\n",
       "      <td>165.000</td>\n",
       "      <td>705.000</td>\n",
       "      <td>1485.0</td>\n",
       "      <td>2022_01</td>\n",
       "    </tr>\n",
       "    <tr>\n",
       "      <th>0</th>\n",
       "      <td>2022-01-20</td>\n",
       "      <td>PoderData</td>\n",
       "      <td>1260.000</td>\n",
       "      <td>360.000</td>\n",
       "      <td>1350.000</td>\n",
       "      <td>3000.0</td>\n",
       "      <td>2022_01</td>\n",
       "    </tr>\n",
       "    <tr>\n",
       "      <th>0</th>\n",
       "      <td>2022-01-26</td>\n",
       "      <td>Futura</td>\n",
       "      <td>738.000</td>\n",
       "      <td>214.000</td>\n",
       "      <td>1048.000</td>\n",
       "      <td>2000.0</td>\n",
       "      <td>2022_01</td>\n",
       "    </tr>\n",
       "  </tbody>\n",
       "</table>\n",
       "</div>"
      ],
      "text/plain": [
       "   data_pesquisa         instituto      LULA     NULO    OUTROS   TOTAL  \\\n",
       "0     2021-11-04        Vox Populi   880.000  440.000   660.000  1980.0   \n",
       "1     2021-11-06            Quaest   990.240  288.820   783.940  2063.0   \n",
       "2     2021-11-19  Paraná Pesquisas   704.980  270.680  1044.340  2020.0   \n",
       "3     2021-11-20            Futura   740.000  142.000  1118.000  2000.0   \n",
       "4     2021-11-24         PoderData   850.000  225.000  1400.000  2475.0   \n",
       "5     2021-11-29             Atlas  1883.628  140.832  2376.540  4401.0   \n",
       "6     2021-12-05            Quaest   937.020  244.440   855.540  2037.0   \n",
       "7     2021-12-09    Ideia Big Data   444.000  156.000   600.000  1200.0   \n",
       "8     2021-12-11               MDA   856.856  306.306   838.838  2002.0   \n",
       "9     2021-12-13            Futura   758.000  170.000  1072.000  2000.0   \n",
       "10    2021-12-13              Ipec   960.960  280.280   760.760  2002.0   \n",
       "11    2021-12-16         Datafolha  1759.680  366.600  1539.720  3666.0   \n",
       "12    2021-12-16            Ipespe   440.000  120.000   450.000  1010.0   \n",
       "13    2021-12-21         PoderData  1200.000  330.000  1470.000  3000.0   \n",
       "14    2022-01-09            Quaest   900.000  240.000   820.000  1960.0   \n",
       "15    2022-01-12            Ipespe   440.000  130.000   450.000  1020.0   \n",
       "16    2022-01-13    Ideia Big Data   615.000  165.000   705.000  1485.0   \n",
       "0     2022-01-20         PoderData  1260.000  360.000  1350.000  3000.0   \n",
       "0     2022-01-26            Futura   738.000  214.000  1048.000  2000.0   \n",
       "\n",
       "        mes  \n",
       "0   2021_11  \n",
       "1   2021_11  \n",
       "2   2021_11  \n",
       "3   2021_11  \n",
       "4   2021_11  \n",
       "5   2021_11  \n",
       "6   2021_12  \n",
       "7   2021_12  \n",
       "8   2021_12  \n",
       "9   2021_12  \n",
       "10  2021_12  \n",
       "11  2021_12  \n",
       "12  2021_12  \n",
       "13  2021_12  \n",
       "14  2022_01  \n",
       "15  2022_01  \n",
       "16  2022_01  \n",
       "0   2022_01  \n",
       "0   2022_01  "
      ]
     },
     "execution_count": 117,
     "metadata": {},
     "output_type": "execute_result"
    }
   ],
   "source": [
    "df = prepare_df(raw_df)\n",
    "print(df)\n",
    "### ENQUANTO PODER DATA NAO ATUALIZA (SUA PRÓPRIA PESQUISA)\n",
    "### DADOS RETIRADOS DAQUI: https://bit.ly/3Ax2c93\n",
    "df = df.append(pd.DataFrame({\"data_pesquisa\": [\"2022-01-20\"],\n",
    "                        \"mes\": [\"2022_01\"],\n",
    "                        \"LULA\":[1260],\n",
    "                        \"NULO\":[360],\n",
    "                        \"OUTROS\":[1350],\n",
    "                        \"TOTAL\": [3000],\n",
    "                        \"instituto\":[\"PoderData\"]}))\n",
    "\n",
    "df = df.append(pd.DataFrame({\"data_pesquisa\": [\"2022-01-26\"],\n",
    "                        \"mes\": [\"2022_01\"],\n",
    "                        \"LULA\":[738],\n",
    "                        \"NULO\":[214],\n",
    "                        \"OUTROS\":[1048],\n",
    "                        \"TOTAL\": [2000],\n",
    "                        \"instituto\":[\"Futura\"]}))\n",
    "###\n",
    "df"
   ]
  },
  {
   "cell_type": "code",
   "execution_count": 118,
   "metadata": {},
   "outputs": [],
   "source": [
    "def simulate_prob_freq(concentration: np.array, iters=10_000, N=100_000) -> float:\n",
    "    priors = stats.dirichlet.rvs(concentration, iters)\n",
    "    cnt = 0\n",
    "    for i in range(iters):\n",
    "        votes = stats.multinomial(n=100_000, p = priors[i]).rvs()[0]\n",
    "        if votes[0] > votes[2]:\n",
    "            cnt += 1\n",
    "    return cnt/iters * 100\n",
    "# simulate_prob_freq(np.array([723, 186, 780]))\n",
    "#stats.multinomial(n=100_000, p = np.array([0.45, 0.11, 0.44])).rvs()"
   ]
  },
  {
   "cell_type": "code",
   "execution_count": 119,
   "metadata": {},
   "outputs": [],
   "source": [
    "def run_prob_weekly(simulate_prob):\n",
    "    prior = np.array([420,130,450])\n",
    "    posterior = np.array([0,0,0])\n",
    "    for obj in df.itertuples():\n",
    "        like = np.array([obj.LULA, obj.NULO, obj.OUTROS])\n",
    "        posterior = prior + like * 0.5\n",
    "        print(obj.data_pesquisa, posterior/posterior.sum(), simulate_prob(posterior))\n",
    "        prior = 1000 * posterior/posterior.sum()\n",
    "\n",
    "# run_prob_weekly(simulate_prob_freq)"
   ]
  },
  {
   "cell_type": "code",
   "execution_count": 120,
   "metadata": {},
   "outputs": [
    {
     "data": {
      "text/html": [
       "<div>\n",
       "<style scoped>\n",
       "    .dataframe tbody tr th:only-of-type {\n",
       "        vertical-align: middle;\n",
       "    }\n",
       "\n",
       "    .dataframe tbody tr th {\n",
       "        vertical-align: top;\n",
       "    }\n",
       "\n",
       "    .dataframe thead th {\n",
       "        text-align: right;\n",
       "    }\n",
       "</style>\n",
       "<table border=\"1\" class=\"dataframe\">\n",
       "  <thead>\n",
       "    <tr style=\"text-align: right;\">\n",
       "      <th></th>\n",
       "      <th>mes</th>\n",
       "      <th>LULA</th>\n",
       "      <th>NULO</th>\n",
       "      <th>OUTROS</th>\n",
       "      <th>TOTAL</th>\n",
       "    </tr>\n",
       "  </thead>\n",
       "  <tbody>\n",
       "    <tr>\n",
       "      <th>0</th>\n",
       "      <td>2021_11</td>\n",
       "      <td>6048.848</td>\n",
       "      <td>1507.332</td>\n",
       "      <td>7382.820</td>\n",
       "      <td>14939.0</td>\n",
       "    </tr>\n",
       "    <tr>\n",
       "      <th>1</th>\n",
       "      <td>2021_12</td>\n",
       "      <td>7356.516</td>\n",
       "      <td>1973.626</td>\n",
       "      <td>7586.858</td>\n",
       "      <td>16917.0</td>\n",
       "    </tr>\n",
       "    <tr>\n",
       "      <th>2</th>\n",
       "      <td>2022_01</td>\n",
       "      <td>3953.000</td>\n",
       "      <td>1109.000</td>\n",
       "      <td>4373.000</td>\n",
       "      <td>9465.0</td>\n",
       "    </tr>\n",
       "  </tbody>\n",
       "</table>\n",
       "</div>"
      ],
      "text/plain": [
       "       mes      LULA      NULO    OUTROS    TOTAL\n",
       "0  2021_11  6048.848  1507.332  7382.820  14939.0\n",
       "1  2021_12  7356.516  1973.626  7586.858  16917.0\n",
       "2  2022_01  3953.000  1109.000  4373.000   9465.0"
      ]
     },
     "execution_count": 120,
     "metadata": {},
     "output_type": "execute_result"
    }
   ],
   "source": [
    "mes = df.groupby(\"mes\").sum().reset_index()\n",
    "mes"
   ]
  },
  {
   "cell_type": "code",
   "execution_count": 121,
   "metadata": {},
   "outputs": [
    {
     "name": "stdout",
     "output_type": "stream",
     "text": [
      "2021_11 [3444.424  883.666 4141.41 ] 0.0\n",
      "2021_12 [4491.62927339 1195.48316943 4771.38755718] 0.33999999999999997\n",
      "2022_01 [2835.44330418  783.11465209 3098.94204373] 0.08\n"
     ]
    }
   ],
   "source": [
    "def run_prob_monthly(simulate_prob):\n",
    "    prior = np.array([420,130,450])\n",
    "    posterior = np.array([0,0,0])\n",
    "    df_by_mes = df.groupby(\"mes\").sum().reset_index()\n",
    "    for obj in df_by_mes.itertuples():\n",
    "        # print(obj)\n",
    "        like = np.array([obj.LULA, obj.NULO, obj.OUTROS])\n",
    "        posterior = prior + like * 0.5\n",
    "        print(obj.mes, posterior, simulate_prob(posterior))\n",
    "        prior = 2000 * posterior/posterior.sum()\n",
    "run_prob_monthly(simulate_prob_freq)"
   ]
  },
  {
   "cell_type": "code",
   "execution_count": 122,
   "metadata": {},
   "outputs": [
    {
     "data": {
      "image/svg+xml": "<?xml version=\"1.0\" encoding=\"UTF-8\" standalone=\"no\"?>\n<!DOCTYPE svg PUBLIC \"-//W3C//DTD SVG 1.1//EN\"\n \"http://www.w3.org/Graphics/SVG/1.1/DTD/svg11.dtd\">\n<!-- Generated by graphviz version 2.49.0 (20210829.0051)\n -->\n<!-- Pages: 1 -->\n<svg width=\"170pt\" height=\"360pt\"\n viewBox=\"0.00 0.00 170.00 359.86\" xmlns=\"http://www.w3.org/2000/svg\" xmlns:xlink=\"http://www.w3.org/1999/xlink\">\n<g id=\"graph0\" class=\"graph\" transform=\"scale(1 1) rotate(0) translate(4 355.86)\">\n<polygon fill=\"white\" stroke=\"transparent\" points=\"-4,4 -4,-355.86 166,-355.86 166,4 -4,4\"/>\n<g id=\"clust1\" class=\"cluster\">\n<title>cluster3</title>\n<path fill=\"none\" stroke=\"black\" d=\"M20,-8C20,-8 142,-8 142,-8 148,-8 154,-14 154,-20 154,-20 154,-331.86 154,-331.86 154,-337.86 148,-343.86 142,-343.86 142,-343.86 20,-343.86 20,-343.86 14,-343.86 8,-337.86 8,-331.86 8,-331.86 8,-20 8,-20 8,-14 14,-8 20,-8\"/>\n<text text-anchor=\"middle\" x=\"142.5\" y=\"-15.8\" font-family=\"Times,serif\" font-size=\"14.00\">3</text>\n</g>\n<!-- current -->\n<g id=\"node1\" class=\"node\">\n<title>current</title>\n<ellipse fill=\"lightgrey\" stroke=\"black\" cx=\"81\" cy=\"-76.48\" rx=\"60.62\" ry=\"37.45\"/>\n<text text-anchor=\"middle\" x=\"81\" y=\"-87.78\" font-family=\"Times,serif\" font-size=\"14.00\">current</text>\n<text text-anchor=\"middle\" x=\"81\" y=\"-72.78\" font-family=\"Times,serif\" font-size=\"14.00\">~</text>\n<text text-anchor=\"middle\" x=\"81\" y=\"-57.78\" font-family=\"Times,serif\" font-size=\"14.00\">Multinomial</text>\n</g>\n<!-- random_walk -->\n<g id=\"node2\" class=\"node\">\n<title>random_walk</title>\n<ellipse fill=\"none\" stroke=\"black\" cx=\"81\" cy=\"-298.38\" rx=\"65.11\" ry=\"37.45\"/>\n<text text-anchor=\"middle\" x=\"81\" y=\"-309.68\" font-family=\"Times,serif\" font-size=\"14.00\">random_walk</text>\n<text text-anchor=\"middle\" x=\"81\" y=\"-294.68\" font-family=\"Times,serif\" font-size=\"14.00\">~</text>\n<text text-anchor=\"middle\" x=\"81\" y=\"-279.68\" font-family=\"Times,serif\" font-size=\"14.00\">Gamma</text>\n</g>\n<!-- prior -->\n<g id=\"node3\" class=\"node\">\n<title>prior</title>\n<ellipse fill=\"none\" stroke=\"black\" cx=\"81\" cy=\"-187.43\" rx=\"45.92\" ry=\"37.45\"/>\n<text text-anchor=\"middle\" x=\"81\" y=\"-198.73\" font-family=\"Times,serif\" font-size=\"14.00\">prior</text>\n<text text-anchor=\"middle\" x=\"81\" y=\"-183.73\" font-family=\"Times,serif\" font-size=\"14.00\">~</text>\n<text text-anchor=\"middle\" x=\"81\" y=\"-168.73\" font-family=\"Times,serif\" font-size=\"14.00\">Dirichlet</text>\n</g>\n<!-- random_walk&#45;&gt;prior -->\n<g id=\"edge1\" class=\"edge\">\n<title>random_walk&#45;&gt;prior</title>\n<path fill=\"none\" stroke=\"black\" d=\"M81,-260.8C81,-252.63 81,-243.85 81,-235.32\"/>\n<polygon fill=\"black\" stroke=\"black\" points=\"84.5,-235.1 81,-225.1 77.5,-235.1 84.5,-235.1\"/>\n</g>\n<!-- prior&#45;&gt;current -->\n<g id=\"edge2\" class=\"edge\">\n<title>prior&#45;&gt;current</title>\n<path fill=\"none\" stroke=\"black\" d=\"M81,-149.85C81,-141.67 81,-132.89 81,-124.37\"/>\n<polygon fill=\"black\" stroke=\"black\" points=\"84.5,-124.15 81,-114.15 77.5,-124.15 84.5,-124.15\"/>\n</g>\n</g>\n</svg>\n",
      "text/plain": [
       "<graphviz.dot.Digraph at 0x7fd995778a90>"
      ]
     },
     "execution_count": 122,
     "metadata": {},
     "output_type": "execute_result"
    }
   ],
   "source": [
    "def build_model(prior, observed, rw_alpha_mult=1.0, rw_beta_mult=1.0) -> pm.Model:\n",
    "    observed = observed.astype(\"int32\")\n",
    "    with pm.Model() as dirichlet_model:\n",
    "        rw = pm.Gamma(\"random_walk\",\n",
    "                      alpha=(rw_alpha_mult * prior),\n",
    "                      beta=(rw_beta_mult * np.ones(3)), shape=(3,)\n",
    "                      )\n",
    "        \n",
    "        previous_month_prior = pm.Dirichlet(\n",
    "            \"prior\", a=rw, shape=(3,),\n",
    "        )\n",
    "\n",
    "        pm.Multinomial(\n",
    "            \"current\", n=observed.sum(), p=(previous_month_prior), observed=observed, shape=(3,)\n",
    "        )\n",
    "    \n",
    "    return dirichlet_model\n",
    "model = build_model(np.ones(3), np.ones(3))\n",
    "pm.model_to_graphviz(model)"
   ]
  },
  {
   "cell_type": "code",
   "execution_count": 123,
   "metadata": {},
   "outputs": [],
   "source": [
    "\n",
    "def sampling(model: pm.Model, samples=2000, chains=2):\n",
    "    with model:\n",
    "        dirichlet_trace = pm.sample(samples, tune=2000, chains=chains, return_inferencedata=True, progressbar=False)\n",
    "        ppc = pm.fast_sample_posterior_predictive(dirichlet_trace, 5000)\n",
    "    return dirichlet_trace , ppc\n",
    "\n",
    "def calc_prob_lula_win(model, trace, niter=30, ppc=None):\n",
    "    simul = []\n",
    "    if ppc:\n",
    "        lula = ppc['current'][:, 0]\n",
    "        others = ppc['current'][:, 2]\n",
    "        simul.append((lula > others).mean() * 100.0)\n",
    "    for _ in tqdm(range(niter)):\n",
    "        with model:\n",
    "            ppc = pm.fast_sample_posterior_predictive(trace, 10000)\n",
    "        lula = ppc['current'][:, 0]\n",
    "        others = ppc['current'][:, 2]\n",
    "        simul.append((lula > others).mean() * 100.0)\n",
    "    simul = np.array(simul)\n",
    "    return np.quantile(simul, q=HDI)"
   ]
  },
  {
   "cell_type": "markdown",
   "metadata": {},
   "source": [
    "### Weekly update"
   ]
  },
  {
   "cell_type": "code",
   "execution_count": 68,
   "metadata": {},
   "outputs": [
    {
     "name": "stdout",
     "output_type": "stream",
     "text": [
      ">>> observed = [880. 440. 660.]\n"
     ]
    },
    {
     "name": "stderr",
     "output_type": "stream",
     "text": [
      "Auto-assigning NUTS sampler...\n",
      "Initializing NUTS using jitter+adapt_diag...\n",
      "Multiprocess sampling (2 chains in 2 jobs)\n",
      "NUTS: [prior, random_walk]\n",
      "Sampling 2 chains for 2_000 tune and 2_000 draw iterations (4_000 + 4_000 draws total) took 12 seconds.\n"
     ]
    },
    {
     "data": {
      "application/vnd.jupyter.widget-view+json": {
       "model_id": "42f77390e0d341aaaf0e67622db72bec",
       "version_major": 2,
       "version_minor": 0
      },
      "text/plain": [
       "  0%|          | 0/30 [00:00<?, ?it/s]"
      ]
     },
     "metadata": {},
     "output_type": "display_data"
    },
    {
     "name": "stdout",
     "output_type": "stream",
     "text": [
      ">>> data_pesquisa=2021-11-04, updaed_prior=[682.28145807 245.56716981 740.49090942],  qs=[5.7075 6.06   6.52  ]% <<<\n",
      "lula= [0.38535354 0.40909091 0.43333333]\n",
      "nulo= [0.13080808 0.1469697  0.16464646]\n",
      "demais= [0.42020202 0.44393939 0.46717172]\n",
      ">>> observed = [990.24 288.82 783.94]\n"
     ]
    },
    {
     "name": "stderr",
     "output_type": "stream",
     "text": [
      "Auto-assigning NUTS sampler...\n",
      "Initializing NUTS using jitter+adapt_diag...\n",
      "Multiprocess sampling (2 chains in 2 jobs)\n",
      "NUTS: [prior, random_walk]\n",
      "Sampling 2 chains for 2_000 tune and 2_000 draw iterations (4_000 + 4_000 draws total) took 14 seconds.\n"
     ]
    },
    {
     "data": {
      "application/vnd.jupyter.widget-view+json": {
       "model_id": "7600e1ecb8e64c898e5c20780c97833a",
       "version_major": 2,
       "version_minor": 0
      },
      "text/plain": [
       "  0%|          | 0/30 [00:00<?, ?it/s]"
      ]
     },
     "metadata": {},
     "output_type": "display_data"
    },
    {
     "name": "stdout",
     "output_type": "stream",
     "text": [
      ">>> data_pesquisa=2021-11-06, updaed_prior=[757.95654811 264.88398608 788.468999  ],  qs=[20.1975 20.94   21.45  ]% <<<\n",
      "lula= [0.39543911 0.41824357 0.44153324]\n",
      "nulo= [0.13051917 0.14604561 0.16206938]\n",
      "demais= [0.41193595 0.43571082 0.45851528]\n",
      ">>> observed = [ 704.98  270.68 1044.34]\n"
     ]
    },
    {
     "name": "stderr",
     "output_type": "stream",
     "text": [
      "Auto-assigning NUTS sampler...\n",
      "Initializing NUTS using jitter+adapt_diag...\n",
      "Multiprocess sampling (2 chains in 2 jobs)\n",
      "NUTS: [prior, random_walk]\n",
      "Sampling 2 chains for 2_000 tune and 2_000 draw iterations (4_000 + 4_000 draws total) took 17 seconds.\n"
     ]
    },
    {
     "data": {
      "application/vnd.jupyter.widget-view+json": {
       "model_id": "6b433950ce744929918823f064e24020",
       "version_major": 2,
       "version_minor": 0
      },
      "text/plain": [
       "  0%|          | 0/30 [00:00<?, ?it/s]"
      ]
     },
     "metadata": {},
     "output_type": "display_data"
    },
    {
     "name": "stdout",
     "output_type": "stream",
     "text": [
      ">>> data_pesquisa=2021-11-19, updaed_prior=[716.40513878 253.32058797 777.95755881],  qs=[4.815 5.23  5.625]% <<<\n",
      "lula= [0.38701685 0.40981169 0.43260654]\n",
      "nulo= [0.12884044 0.14469772 0.16106293]\n",
      "demais= [0.42170466 0.44549058 0.46778989]\n",
      ">>> observed = [ 740.  142. 1118.]\n"
     ]
    },
    {
     "name": "stderr",
     "output_type": "stream",
     "text": [
      "Auto-assigning NUTS sampler...\n",
      "Initializing NUTS using jitter+adapt_diag...\n",
      "Multiprocess sampling (2 chains in 2 jobs)\n",
      "NUTS: [prior, random_walk]\n",
      "Sampling 2 chains for 2_000 tune and 2_000 draw iterations (4_000 + 4_000 draws total) took 13 seconds.\n"
     ]
    },
    {
     "data": {
      "application/vnd.jupyter.widget-view+json": {
       "model_id": "adc6d1194ca9473d9f22f56845d94e20",
       "version_major": 2,
       "version_minor": 0
      },
      "text/plain": [
       "  0%|          | 0/30 [00:00<?, ?it/s]"
      ]
     },
     "metadata": {},
     "output_type": "display_data"
    },
    {
     "name": "stdout",
     "output_type": "stream",
     "text": [
      ">>> data_pesquisa=2021-11-20, updaed_prior=[717.69265563 241.07498252 812.28088293],  qs=[0.6075 0.71   0.84  ]% <<<\n",
      "lula= [0.3815 0.4055 0.429 ]\n",
      "nulo= [0.12   0.136  0.1525]\n",
      "demais= [0.4355 0.459  0.482 ]\n",
      ">>> observed = [ 850.  225. 1400.]\n"
     ]
    },
    {
     "name": "stderr",
     "output_type": "stream",
     "text": [
      "Auto-assigning NUTS sampler...\n",
      "Initializing NUTS using jitter+adapt_diag...\n",
      "Multiprocess sampling (2 chains in 2 jobs)\n",
      "NUTS: [prior, random_walk]\n",
      "Sampling 2 chains for 2_000 tune and 2_000 draw iterations (4_000 + 4_000 draws total) took 15 seconds.\n"
     ]
    },
    {
     "data": {
      "application/vnd.jupyter.widget-view+json": {
       "model_id": "490e40c56b6d4ca087c33e1b15c54288",
       "version_major": 2,
       "version_minor": 0
      },
      "text/plain": [
       "  0%|          | 0/30 [00:00<?, ?it/s]"
      ]
     },
     "metadata": {},
     "output_type": "display_data"
    },
    {
     "name": "stdout",
     "output_type": "stream",
     "text": [
      ">>> data_pesquisa=2021-11-24, updaed_prior=[ 866.53129554  283.3784171  1035.15793448],  qs=[0.     0.     0.0325]% <<<\n",
      "lula= [0.37656566 0.39676768 0.41737374]\n",
      "nulo= [0.1159596  0.12969697 0.14424242]\n",
      "demais= [0.45212121 0.47393939 0.49414141]\n",
      ">>> observed = [1883.628  140.832 2376.54 ]\n"
     ]
    },
    {
     "name": "stderr",
     "output_type": "stream",
     "text": [
      "Auto-assigning NUTS sampler...\n",
      "Initializing NUTS using jitter+adapt_diag...\n",
      "Multiprocess sampling (2 chains in 2 jobs)\n",
      "NUTS: [prior, random_walk]\n",
      "Sampling 2 chains for 2_000 tune and 2_000 draw iterations (4_000 + 4_000 draws total) took 15 seconds.\n"
     ]
    },
    {
     "data": {
      "application/vnd.jupyter.widget-view+json": {
       "model_id": "99082a197a6b409695d5e627840a9d29",
       "version_major": 2,
       "version_minor": 0
      },
      "text/plain": [
       "  0%|          | 0/30 [00:00<?, ?it/s]"
      ]
     },
     "metadata": {},
     "output_type": "display_data"
    },
    {
     "name": "stdout",
     "output_type": "stream",
     "text": [
      ">>> data_pesquisa=2021-11-29, updaed_prior=[1474.52410348  404.64762354 1783.37145311],  qs=[0. 0. 0.]% <<<\n",
      "lula= [0.38645147 0.4025915  0.41804956]\n",
      "nulo= [0.10047738 0.11047965 0.12070925]\n",
      "demais= [0.47078882 0.48692885 0.50284155]\n",
      ">>> observed = [937.02 244.44 855.54]\n"
     ]
    },
    {
     "name": "stderr",
     "output_type": "stream",
     "text": [
      "Auto-assigning NUTS sampler...\n",
      "Initializing NUTS using jitter+adapt_diag...\n",
      "Multiprocess sampling (2 chains in 2 jobs)\n",
      "NUTS: [prior, random_walk]\n",
      "Sampling 2 chains for 2_000 tune and 2_000 draw iterations (4_000 + 4_000 draws total) took 14 seconds.\n"
     ]
    },
    {
     "data": {
      "application/vnd.jupyter.widget-view+json": {
       "model_id": "60c31eafddb14207a11f8bb49fa4408b",
       "version_major": 2,
       "version_minor": 0
      },
      "text/plain": [
       "  0%|          | 0/30 [00:00<?, ?it/s]"
      ]
     },
     "metadata": {},
     "output_type": "display_data"
    },
    {
     "name": "stdout",
     "output_type": "stream",
     "text": [
      ">>> data_pesquisa=2021-12-05, updaed_prior=[774.85421021 212.19255765 919.54322136],  qs=[0.   0.02 0.05]% <<<\n",
      "lula= [0.38408644 0.40667976 0.42779961]\n",
      "nulo= [0.09724951 0.11100196 0.12573674]\n",
      "demais= [0.46021611 0.48231827 0.50491159]\n",
      ">>> observed = [444. 156. 600.]\n"
     ]
    },
    {
     "name": "stderr",
     "output_type": "stream",
     "text": [
      "Auto-assigning NUTS sampler...\n",
      "Initializing NUTS using jitter+adapt_diag...\n",
      "Multiprocess sampling (2 chains in 2 jobs)\n",
      "NUTS: [prior, random_walk]\n",
      "Sampling 2 chains for 2_000 tune and 2_000 draw iterations (4_000 + 4_000 draws total) took 13 seconds.\n"
     ]
    },
    {
     "data": {
      "application/vnd.jupyter.widget-view+json": {
       "model_id": "cecc51c8c5374d3291b4fd20fe4ae5fa",
       "version_major": 2,
       "version_minor": 0
      },
      "text/plain": [
       "  0%|          | 0/30 [00:00<?, ?it/s]"
      ]
     },
     "metadata": {},
     "output_type": "display_data"
    },
    {
     "name": "stdout",
     "output_type": "stream",
     "text": [
      ">>> data_pesquisa=2021-12-09, updaed_prior=[448.35294339 124.75657706 536.28431287],  qs=[0.16  0.23  0.285]% <<<\n",
      "lula= [0.37666667 0.40416667 0.43333333]\n",
      "nulo= [0.09416667 0.1125     0.13166667]\n",
      "demais= [0.45333333 0.48333333 0.5125    ]\n",
      ">>> observed = [856.856 306.306 838.838]\n"
     ]
    },
    {
     "name": "stderr",
     "output_type": "stream",
     "text": [
      "Auto-assigning NUTS sampler...\n",
      "Initializing NUTS using jitter+adapt_diag...\n",
      "Multiprocess sampling (2 chains in 2 jobs)\n",
      "NUTS: [prior, random_walk]\n",
      "Sampling 2 chains for 2_000 tune and 2_000 draw iterations (4_000 + 4_000 draws total) took 11 seconds.\n"
     ]
    },
    {
     "data": {
      "application/vnd.jupyter.widget-view+json": {
       "model_id": "b7a82bbd3599483bbe8254d748494982",
       "version_major": 2,
       "version_minor": 0
      },
      "text/plain": [
       "  0%|          | 0/30 [00:00<?, ?it/s]"
      ]
     },
     "metadata": {},
     "output_type": "display_data"
    },
    {
     "name": "stdout",
     "output_type": "stream",
     "text": [
      ">>> data_pesquisa=2021-12-11, updaed_prior=[688.9642578  201.43206668 795.20605148],  qs=[0.1675 0.26   0.375 ]% <<<\n",
      "lula= [0.3855 0.409  0.432 ]\n",
      "nulo= [0.104  0.1195 0.1355]\n",
      "demais= [0.4485 0.4715 0.496 ]\n",
      ">>> observed = [ 758.  170. 1072.]\n"
     ]
    },
    {
     "name": "stderr",
     "output_type": "stream",
     "text": [
      "Auto-assigning NUTS sampler...\n",
      "Initializing NUTS using jitter+adapt_diag...\n",
      "Multiprocess sampling (2 chains in 2 jobs)\n",
      "NUTS: [prior, random_walk]\n",
      "Sampling 2 chains for 2_000 tune and 2_000 draw iterations (4_000 + 4_000 draws total) took 14 seconds.\n"
     ]
    },
    {
     "data": {
      "application/vnd.jupyter.widget-view+json": {
       "model_id": "f88c1ee2e9f0431a8510d77ed938ae68",
       "version_major": 2,
       "version_minor": 0
      },
      "text/plain": [
       "  0%|          | 0/30 [00:00<?, ?it/s]"
      ]
     },
     "metadata": {},
     "output_type": "display_data"
    },
    {
     "name": "stdout",
     "output_type": "stream",
     "text": [
      ">>> data_pesquisa=2021-12-13, updaed_prior=[690.31585144 196.0166008  817.5224334 ],  qs=[0.01 0.04 0.09]% <<<\n",
      "lula= [0.3825 0.405  0.428 ]\n",
      "nulo= [0.1    0.115  0.1305]\n",
      "demais= [0.456  0.48   0.5035]\n",
      ">>> observed = [960.96 280.28 760.76]\n"
     ]
    },
    {
     "name": "stderr",
     "output_type": "stream",
     "text": [
      "Auto-assigning NUTS sampler...\n",
      "Initializing NUTS using jitter+adapt_diag...\n",
      "Multiprocess sampling (2 chains in 2 jobs)\n",
      "NUTS: [prior, random_walk]\n",
      "Sampling 2 chains for 2_000 tune and 2_000 draw iterations (4_000 + 4_000 draws total) took 12 seconds.\n"
     ]
    },
    {
     "data": {
      "application/vnd.jupyter.widget-view+json": {
       "model_id": "4d6711bef9ea4439bf1a912d8a75ad63",
       "version_major": 2,
       "version_minor": 0
      },
      "text/plain": [
       "  0%|          | 0/30 [00:00<?, ?it/s]"
      ]
     },
     "metadata": {},
     "output_type": "display_data"
    },
    {
     "name": "stdout",
     "output_type": "stream",
     "text": [
      ">>> data_pesquisa=2021-12-13, updaed_prior=[733.4966743  208.87610458 827.12267779],  qs=[0.68   0.86   1.1025]% <<<\n",
      "lula= [0.3915 0.4145 0.438 ]\n",
      "nulo= [0.103 0.118 0.133]\n",
      "demais= [0.444  0.4675 0.4905]\n",
      ">>> observed = [1759.68  366.6  1539.72]\n"
     ]
    },
    {
     "name": "stderr",
     "output_type": "stream",
     "text": [
      "Auto-assigning NUTS sampler...\n",
      "Initializing NUTS using jitter+adapt_diag...\n",
      "Multiprocess sampling (2 chains in 2 jobs)\n",
      "NUTS: [prior, random_walk]\n",
      "Sampling 2 chains for 2_000 tune and 2_000 draw iterations (4_000 + 4_000 draws total) took 11 seconds.\n"
     ]
    },
    {
     "data": {
      "application/vnd.jupyter.widget-view+json": {
       "model_id": "e32a7869a55a4a18b22a74e630a54549",
       "version_major": 2,
       "version_minor": 0
      },
      "text/plain": [
       "  0%|          | 0/30 [00:00<?, ?it/s]"
      ]
     },
     "metadata": {},
     "output_type": "display_data"
    },
    {
     "name": "stdout",
     "output_type": "stream",
     "text": [
      ">>> data_pesquisa=2021-12-16, updaed_prior=[1313.99822047  351.05789114 1407.34510297],  qs=[3.1125 3.57   3.755 ]% <<<\n",
      "lula= [0.41075328 0.42767467 0.44541485]\n",
      "nulo= [0.10316594 0.1143559  0.12554585]\n",
      "demais= [0.44076829 0.45796943 0.47543668]\n",
      ">>> observed = [440. 120. 450.]\n"
     ]
    },
    {
     "name": "stderr",
     "output_type": "stream",
     "text": [
      "Auto-assigning NUTS sampler...\n",
      "Initializing NUTS using jitter+adapt_diag...\n",
      "Multiprocess sampling (2 chains in 2 jobs)\n",
      "NUTS: [prior, random_walk]\n",
      "Sampling 2 chains for 2_000 tune and 2_000 draw iterations (4_000 + 4_000 draws total) took 13 seconds.\n"
     ]
    },
    {
     "data": {
      "application/vnd.jupyter.widget-view+json": {
       "model_id": "e87e7c82e14d43289b791611559abd88",
       "version_major": 2,
       "version_minor": 0
      },
      "text/plain": [
       "  0%|          | 0/30 [00:00<?, ?it/s]"
      ]
     },
     "metadata": {},
     "output_type": "display_data"
    },
    {
     "name": "stdout",
     "output_type": "stream",
     "text": [
      ">>> data_pesquisa=2021-12-16, updaed_prior=[413.94769623 110.91380445 442.16736342],  qs=[15.29 15.95 16.45]% <<<\n",
      "lula= [0.3970297  0.42772277 0.45940594]\n",
      "nulo= [0.0950495  0.11485149 0.13467822]\n",
      "demais= [0.42475248 0.45742574 0.48811881]\n",
      ">>> observed = [1200.  330. 1470.]\n"
     ]
    },
    {
     "name": "stderr",
     "output_type": "stream",
     "text": [
      "Auto-assigning NUTS sampler...\n",
      "Initializing NUTS using jitter+adapt_diag...\n",
      "Multiprocess sampling (2 chains in 2 jobs)\n",
      "NUTS: [prior, random_walk]\n",
      "Sampling 2 chains for 2_000 tune and 2_000 draw iterations (4_000 + 4_000 draws total) took 8 seconds.\n"
     ]
    },
    {
     "data": {
      "application/vnd.jupyter.widget-view+json": {
       "model_id": "03f91914db974f8eaa446212121e1f2c",
       "version_major": 2,
       "version_minor": 0
      },
      "text/plain": [
       "  0%|          | 0/30 [00:00<?, ?it/s]"
      ]
     },
     "metadata": {},
     "output_type": "display_data"
    },
    {
     "name": "stdout",
     "output_type": "stream",
     "text": [
      ">>> data_pesquisa=2021-12-21, updaed_prior=[ 985.7258485   265.97790446 1091.60190558],  qs=[0.7925 0.93   1.065 ]% <<<\n",
      "lula= [0.401      0.42066667 0.441     ]\n",
      "nulo= [0.101      0.11333333 0.12666667]\n",
      "demais= [0.446      0.466      0.48566667]\n",
      ">>> observed = [900. 240. 820.]\n"
     ]
    },
    {
     "name": "stderr",
     "output_type": "stream",
     "text": [
      "Auto-assigning NUTS sampler...\n",
      "Initializing NUTS using jitter+adapt_diag...\n",
      "Multiprocess sampling (2 chains in 2 jobs)\n",
      "NUTS: [prior, random_walk]\n",
      "Sampling 2 chains for 2_000 tune and 2_000 draw iterations (4_000 + 4_000 draws total) took 10 seconds.\n"
     ]
    },
    {
     "data": {
      "application/vnd.jupyter.widget-view+json": {
       "model_id": "2b55e92ab98240f3b8fd3b2e6abd90b8",
       "version_major": 2,
       "version_minor": 0
      },
      "text/plain": [
       "  0%|          | 0/30 [00:00<?, ?it/s]"
      ]
     },
     "metadata": {},
     "output_type": "display_data"
    },
    {
     "name": "stdout",
     "output_type": "stream",
     "text": [
      ">>> data_pesquisa=2022-01-09, updaed_prior=[777.44142613 209.13939663 844.52460806],  qs=[4.3225 4.63   5.02  ]% <<<\n",
      "lula= [0.40204082 0.4244898  0.44795918]\n",
      "nulo= [0.1        0.11428571 0.12857143]\n",
      "demais= [0.4377551  0.46122449 0.48367347]\n",
      ">>> observed = [440. 130. 450.]\n"
     ]
    },
    {
     "name": "stderr",
     "output_type": "stream",
     "text": [
      "Auto-assigning NUTS sampler...\n",
      "Initializing NUTS using jitter+adapt_diag...\n",
      "Multiprocess sampling (2 chains in 2 jobs)\n",
      "NUTS: [prior, random_walk]\n",
      "Sampling 2 chains for 2_000 tune and 2_000 draw iterations (4_000 + 4_000 draws total) took 13 seconds.\n"
     ]
    },
    {
     "data": {
      "application/vnd.jupyter.widget-view+json": {
       "model_id": "60a8d80a55a34668869947478605b091",
       "version_major": 2,
       "version_minor": 0
      },
      "text/plain": [
       "  0%|          | 0/30 [00:00<?, ?it/s]"
      ]
     },
     "metadata": {},
     "output_type": "display_data"
    },
    {
     "name": "stdout",
     "output_type": "stream",
     "text": [
      ">>> data_pesquisa=2022-01-12, updaed_prior=[407.12966047 110.25406781 440.78240111],  qs=[11.4725 11.98   12.5   ]% <<<\n",
      "lula= [0.39313725 0.4245098  0.45686275]\n",
      "nulo= [0.09509804 0.11470588 0.13531863]\n",
      "demais= [0.42843137 0.45980392 0.49117647]\n",
      ">>> observed = [615. 165. 705.]\n"
     ]
    },
    {
     "name": "stderr",
     "output_type": "stream",
     "text": [
      "Auto-assigning NUTS sampler...\n",
      "Initializing NUTS using jitter+adapt_diag...\n",
      "Multiprocess sampling (2 chains in 2 jobs)\n",
      "NUTS: [prior, random_walk]\n",
      "Sampling 2 chains for 2_000 tune and 2_000 draw iterations (4_000 + 4_000 draws total) took 8 seconds.\n"
     ]
    },
    {
     "data": {
      "application/vnd.jupyter.widget-view+json": {
       "model_id": "39ee70fab26141f8b8ccdc62b5e8ea4f",
       "version_major": 2,
       "version_minor": 0
      },
      "text/plain": [
       "  0%|          | 0/30 [00:00<?, ?it/s]"
      ]
     },
     "metadata": {},
     "output_type": "display_data"
    },
    {
     "name": "stdout",
     "output_type": "stream",
     "text": [
      ">>> data_pesquisa=2022-01-13, updaed_prior=[552.31833011 149.60941001 603.7686027 ],  qs=[6.2875 6.65   7.2725]% <<<\n",
      "lula= [0.396633   0.42289562 0.45050505]\n",
      "nulo= [0.0976431  0.11447811 0.13198653]\n",
      "demais= [0.43501684 0.46262626 0.48888889]\n",
      ">>> observed = [1260.  360. 1350.]\n"
     ]
    },
    {
     "name": "stderr",
     "output_type": "stream",
     "text": [
      "Auto-assigning NUTS sampler...\n",
      "Initializing NUTS using jitter+adapt_diag...\n",
      "Multiprocess sampling (2 chains in 2 jobs)\n",
      "NUTS: [prior, random_walk]\n",
      "Sampling 2 chains for 2_000 tune and 2_000 draw iterations (4_000 + 4_000 draws total) took 8 seconds.\n"
     ]
    },
    {
     "data": {
      "application/vnd.jupyter.widget-view+json": {
       "model_id": "bb4ef85a838c470b8fb16ef323b89860",
       "version_major": 2,
       "version_minor": 0
      },
      "text/plain": [
       "  0%|          | 0/30 [00:00<?, ?it/s]"
      ]
     },
     "metadata": {},
     "output_type": "display_data"
    },
    {
     "name": "stdout",
     "output_type": "stream",
     "text": [
      ">>> data_pesquisa=2022-01-20, updaed_prior=[1028.50710423  282.08157675 1119.84916186],  qs=[2.1025 2.38   2.5625]% <<<\n",
      "lula= [0.4037037  0.42323232 0.44309764]\n",
      "nulo= [0.103367   0.11582492 0.12862795]\n",
      "demais= [0.44040404 0.46094276 0.48080808]\n",
      ">>> observed = [ 738.  214. 1048.]\n"
     ]
    },
    {
     "name": "stderr",
     "output_type": "stream",
     "text": [
      "Auto-assigning NUTS sampler...\n",
      "Initializing NUTS using jitter+adapt_diag...\n",
      "Multiprocess sampling (2 chains in 2 jobs)\n",
      "NUTS: [prior, random_walk]\n",
      "Sampling 2 chains for 2_000 tune and 2_000 draw iterations (4_000 + 4_000 draws total) took 8 seconds.\n"
     ]
    },
    {
     "data": {
      "application/vnd.jupyter.widget-view+json": {
       "model_id": "65f6f9db598949c6a4ca31b42bcd131e",
       "version_major": 2,
       "version_minor": 0
      },
      "text/plain": [
       "  0%|          | 0/30 [00:00<?, ?it/s]"
      ]
     },
     "metadata": {},
     "output_type": "display_data"
    },
    {
     "name": "stdout",
     "output_type": "stream",
     "text": [
      ">>> data_pesquisa=2022-01-26, updaed_prior=[756.76043782 208.04716552 844.27135598],  qs=[1.2875 1.42   1.6025]% <<<\n",
      "lula= [0.3955 0.4185 0.4405]\n",
      "nulo= [0.1005 0.115  0.13  ]\n",
      "demais= [0.4435 0.467  0.49  ]\n"
     ]
    },
    {
     "data": {
      "text/html": [
       "<div>\n",
       "<style scoped>\n",
       "    .dataframe tbody tr th:only-of-type {\n",
       "        vertical-align: middle;\n",
       "    }\n",
       "\n",
       "    .dataframe tbody tr th {\n",
       "        vertical-align: top;\n",
       "    }\n",
       "\n",
       "    .dataframe thead th {\n",
       "        text-align: right;\n",
       "    }\n",
       "</style>\n",
       "<table border=\"1\" class=\"dataframe\">\n",
       "  <thead>\n",
       "    <tr style=\"text-align: right;\">\n",
       "      <th></th>\n",
       "      <th>data</th>\n",
       "      <th>LulaLB</th>\n",
       "      <th>LulaM</th>\n",
       "      <th>LulaUB</th>\n",
       "      <th>DemaisLB</th>\n",
       "      <th>DemaisM</th>\n",
       "      <th>DemaisUB</th>\n",
       "    </tr>\n",
       "  </thead>\n",
       "  <tbody>\n",
       "    <tr>\n",
       "      <th>0</th>\n",
       "      <td>2021-11-04</td>\n",
       "      <td>0.385354</td>\n",
       "      <td>0.409091</td>\n",
       "      <td>0.433333</td>\n",
       "      <td>0.420202</td>\n",
       "      <td>0.443939</td>\n",
       "      <td>0.467172</td>\n",
       "    </tr>\n",
       "    <tr>\n",
       "      <th>0</th>\n",
       "      <td>2021-11-06</td>\n",
       "      <td>0.395439</td>\n",
       "      <td>0.418244</td>\n",
       "      <td>0.441533</td>\n",
       "      <td>0.411936</td>\n",
       "      <td>0.435711</td>\n",
       "      <td>0.458515</td>\n",
       "    </tr>\n",
       "    <tr>\n",
       "      <th>0</th>\n",
       "      <td>2021-11-19</td>\n",
       "      <td>0.387017</td>\n",
       "      <td>0.409812</td>\n",
       "      <td>0.432607</td>\n",
       "      <td>0.421705</td>\n",
       "      <td>0.445491</td>\n",
       "      <td>0.467790</td>\n",
       "    </tr>\n",
       "    <tr>\n",
       "      <th>0</th>\n",
       "      <td>2021-11-20</td>\n",
       "      <td>0.381500</td>\n",
       "      <td>0.405500</td>\n",
       "      <td>0.429000</td>\n",
       "      <td>0.435500</td>\n",
       "      <td>0.459000</td>\n",
       "      <td>0.482000</td>\n",
       "    </tr>\n",
       "    <tr>\n",
       "      <th>0</th>\n",
       "      <td>2021-11-24</td>\n",
       "      <td>0.376566</td>\n",
       "      <td>0.396768</td>\n",
       "      <td>0.417374</td>\n",
       "      <td>0.452121</td>\n",
       "      <td>0.473939</td>\n",
       "      <td>0.494141</td>\n",
       "    </tr>\n",
       "    <tr>\n",
       "      <th>0</th>\n",
       "      <td>2021-11-29</td>\n",
       "      <td>0.386451</td>\n",
       "      <td>0.402591</td>\n",
       "      <td>0.418050</td>\n",
       "      <td>0.470789</td>\n",
       "      <td>0.486929</td>\n",
       "      <td>0.502842</td>\n",
       "    </tr>\n",
       "    <tr>\n",
       "      <th>0</th>\n",
       "      <td>2021-12-05</td>\n",
       "      <td>0.384086</td>\n",
       "      <td>0.406680</td>\n",
       "      <td>0.427800</td>\n",
       "      <td>0.460216</td>\n",
       "      <td>0.482318</td>\n",
       "      <td>0.504912</td>\n",
       "    </tr>\n",
       "    <tr>\n",
       "      <th>0</th>\n",
       "      <td>2021-12-09</td>\n",
       "      <td>0.376667</td>\n",
       "      <td>0.404167</td>\n",
       "      <td>0.433333</td>\n",
       "      <td>0.453333</td>\n",
       "      <td>0.483333</td>\n",
       "      <td>0.512500</td>\n",
       "    </tr>\n",
       "    <tr>\n",
       "      <th>0</th>\n",
       "      <td>2021-12-11</td>\n",
       "      <td>0.385500</td>\n",
       "      <td>0.409000</td>\n",
       "      <td>0.432000</td>\n",
       "      <td>0.448500</td>\n",
       "      <td>0.471500</td>\n",
       "      <td>0.496000</td>\n",
       "    </tr>\n",
       "    <tr>\n",
       "      <th>0</th>\n",
       "      <td>2021-12-13</td>\n",
       "      <td>0.382500</td>\n",
       "      <td>0.405000</td>\n",
       "      <td>0.428000</td>\n",
       "      <td>0.456000</td>\n",
       "      <td>0.480000</td>\n",
       "      <td>0.503500</td>\n",
       "    </tr>\n",
       "    <tr>\n",
       "      <th>0</th>\n",
       "      <td>2021-12-13</td>\n",
       "      <td>0.391500</td>\n",
       "      <td>0.414500</td>\n",
       "      <td>0.438000</td>\n",
       "      <td>0.444000</td>\n",
       "      <td>0.467500</td>\n",
       "      <td>0.490500</td>\n",
       "    </tr>\n",
       "    <tr>\n",
       "      <th>0</th>\n",
       "      <td>2021-12-16</td>\n",
       "      <td>0.410753</td>\n",
       "      <td>0.427675</td>\n",
       "      <td>0.445415</td>\n",
       "      <td>0.440768</td>\n",
       "      <td>0.457969</td>\n",
       "      <td>0.475437</td>\n",
       "    </tr>\n",
       "    <tr>\n",
       "      <th>0</th>\n",
       "      <td>2021-12-16</td>\n",
       "      <td>0.397030</td>\n",
       "      <td>0.427723</td>\n",
       "      <td>0.459406</td>\n",
       "      <td>0.424752</td>\n",
       "      <td>0.457426</td>\n",
       "      <td>0.488119</td>\n",
       "    </tr>\n",
       "    <tr>\n",
       "      <th>0</th>\n",
       "      <td>2021-12-21</td>\n",
       "      <td>0.401000</td>\n",
       "      <td>0.420667</td>\n",
       "      <td>0.441000</td>\n",
       "      <td>0.446000</td>\n",
       "      <td>0.466000</td>\n",
       "      <td>0.485667</td>\n",
       "    </tr>\n",
       "    <tr>\n",
       "      <th>0</th>\n",
       "      <td>2022-01-09</td>\n",
       "      <td>0.402041</td>\n",
       "      <td>0.424490</td>\n",
       "      <td>0.447959</td>\n",
       "      <td>0.437755</td>\n",
       "      <td>0.461224</td>\n",
       "      <td>0.483673</td>\n",
       "    </tr>\n",
       "    <tr>\n",
       "      <th>0</th>\n",
       "      <td>2022-01-12</td>\n",
       "      <td>0.393137</td>\n",
       "      <td>0.424510</td>\n",
       "      <td>0.456863</td>\n",
       "      <td>0.428431</td>\n",
       "      <td>0.459804</td>\n",
       "      <td>0.491176</td>\n",
       "    </tr>\n",
       "    <tr>\n",
       "      <th>0</th>\n",
       "      <td>2022-01-13</td>\n",
       "      <td>0.396633</td>\n",
       "      <td>0.422896</td>\n",
       "      <td>0.450505</td>\n",
       "      <td>0.435017</td>\n",
       "      <td>0.462626</td>\n",
       "      <td>0.488889</td>\n",
       "    </tr>\n",
       "    <tr>\n",
       "      <th>0</th>\n",
       "      <td>2022-01-20</td>\n",
       "      <td>0.403704</td>\n",
       "      <td>0.423232</td>\n",
       "      <td>0.443098</td>\n",
       "      <td>0.440404</td>\n",
       "      <td>0.460943</td>\n",
       "      <td>0.480808</td>\n",
       "    </tr>\n",
       "    <tr>\n",
       "      <th>0</th>\n",
       "      <td>2022-01-26</td>\n",
       "      <td>0.395500</td>\n",
       "      <td>0.418500</td>\n",
       "      <td>0.440500</td>\n",
       "      <td>0.443500</td>\n",
       "      <td>0.467000</td>\n",
       "      <td>0.490000</td>\n",
       "    </tr>\n",
       "  </tbody>\n",
       "</table>\n",
       "</div>"
      ],
      "text/plain": [
       "         data    LulaLB     LulaM    LulaUB  DemaisLB   DemaisM  DemaisUB\n",
       "0  2021-11-04  0.385354  0.409091  0.433333  0.420202  0.443939  0.467172\n",
       "0  2021-11-06  0.395439  0.418244  0.441533  0.411936  0.435711  0.458515\n",
       "0  2021-11-19  0.387017  0.409812  0.432607  0.421705  0.445491  0.467790\n",
       "0  2021-11-20  0.381500  0.405500  0.429000  0.435500  0.459000  0.482000\n",
       "0  2021-11-24  0.376566  0.396768  0.417374  0.452121  0.473939  0.494141\n",
       "0  2021-11-29  0.386451  0.402591  0.418050  0.470789  0.486929  0.502842\n",
       "0  2021-12-05  0.384086  0.406680  0.427800  0.460216  0.482318  0.504912\n",
       "0  2021-12-09  0.376667  0.404167  0.433333  0.453333  0.483333  0.512500\n",
       "0  2021-12-11  0.385500  0.409000  0.432000  0.448500  0.471500  0.496000\n",
       "0  2021-12-13  0.382500  0.405000  0.428000  0.456000  0.480000  0.503500\n",
       "0  2021-12-13  0.391500  0.414500  0.438000  0.444000  0.467500  0.490500\n",
       "0  2021-12-16  0.410753  0.427675  0.445415  0.440768  0.457969  0.475437\n",
       "0  2021-12-16  0.397030  0.427723  0.459406  0.424752  0.457426  0.488119\n",
       "0  2021-12-21  0.401000  0.420667  0.441000  0.446000  0.466000  0.485667\n",
       "0  2022-01-09  0.402041  0.424490  0.447959  0.437755  0.461224  0.483673\n",
       "0  2022-01-12  0.393137  0.424510  0.456863  0.428431  0.459804  0.491176\n",
       "0  2022-01-13  0.396633  0.422896  0.450505  0.435017  0.462626  0.488889\n",
       "0  2022-01-20  0.403704  0.423232  0.443098  0.440404  0.460943  0.480808\n",
       "0  2022-01-26  0.395500  0.418500  0.440500  0.443500  0.467000  0.490000"
      ]
     },
     "execution_count": 68,
     "metadata": {},
     "output_type": "execute_result"
    }
   ],
   "source": [
    "flat_prior = prior = np.array([400.0, 130.0, 470.0])\n",
    "\n",
    "# df_by_mes = df.groupby(\"mes\").sum().reset_index()\n",
    "# for obj in df_by_mes.itertuples():\n",
    "df_results_weekly = pd.DataFrame({})\n",
    "# print(df)\n",
    "\n",
    "for obj in df.itertuples():\n",
    "    observed = np.array([obj.LULA, obj.NULO, obj.OUTROS])\n",
    "    print(f\">>> observed = {observed}\")\n",
    "    \n",
    "    # model_w = build_model(prior, observed, rw_alpha_mult=6.67, rw_beta_mult=0.667)\n",
    "    model_w = build_model(prior, observed, rw_alpha_mult=15, rw_beta_mult=0.8)\n",
    "    trace_w, ppc_w = sampling(model_w)\n",
    "    posterior_w = ppc_w['current']\n",
    "    \n",
    "    prior = dirichlet.mle(posterior_w/posterior_w.sum(axis=1).reshape(-1, 1))\n",
    "    \n",
    "    qs = calc_prob_lula_win(model_w, trace_w, ppc=ppc_w)\n",
    "    \n",
    "    print(f\">>> data_pesquisa={obj.data_pesquisa}, updaed_prior={prior},  qs={qs}% <<<\");\n",
    "    post_prob = posterior_w/posterior_w.sum(axis=1).reshape(-1, 1)\n",
    "    df_results_weekly = df_results_weekly.append(pd.DataFrame({\"data\":[obj.data_pesquisa],\n",
    "                                           \"LulaLB\":[np.quantile(post_prob[:, 0], q=HDI)[0]],\n",
    "                                           \"LulaM\":[np.quantile(post_prob[:, 0], q=HDI)[1]],\n",
    "                                           \"LulaUB\":[np.quantile(post_prob[:, 0], q=HDI)[2]],\n",
    "                                           \"DemaisLB\":[np.quantile(post_prob[:, 2], q=HDI)[0]],\n",
    "                                           \"DemaisM\":[np.quantile(post_prob[:, 2], q=HDI)[1]],\n",
    "                                           \"DemaisUB\":[np.quantile(post_prob[:, 2], q=HDI)[2]]}))\n",
    "    print(f\"lula=\", np.quantile(post_prob[:, 0], q=HDI))\n",
    "    print(f\"nulo=\", np.quantile(post_prob[:, 1], q=HDI))\n",
    "    print(f\"demais=\", np.quantile(post_prob[:, 2], q=HDI))\n",
    "df_results_weekly"
   ]
  },
  {
   "cell_type": "markdown",
   "metadata": {},
   "source": [
    "model = build_model(prior, observed, rw_alpha_mult=6.67, rw_beta_mult=0.667)\n",
    "\n",
    ">>> data_pesquisa=2022-01-13, updaed_prior=[483.38778278 128.66210683 523.97315797],  qs=[ 9.25   9.69  10.065]% <<<\n",
    "lula= [0.396633   0.42558923 0.45454545]\n",
    "nulo= [0.0956229  0.11313131 0.13265993]\n",
    "demais= [0.43164983 0.46127946 0.49158249]\n",
    "\n",
    ">>> data_pesquisa=2022-01-20, updaed_prior=[896.11772754 245.53127403 967.04329633],  qs=[4.64 4.95 5.32]% <<<\n",
    "lula= [0.4037037  0.42491582 0.44612795]\n",
    "nulo= [0.1030303  0.11649832 0.13030303]\n",
    "demais= [0.43737374 0.45858586 0.47979798]"
   ]
  },
  {
   "cell_type": "code",
   "execution_count": 69,
   "metadata": {},
   "outputs": [],
   "source": [
    "# az.plot_ppc(az.from_pymc3(posterior_predictive=ppc, model=model), figsize=(10,5));"
   ]
  },
  {
   "cell_type": "code",
   "execution_count": 70,
   "metadata": {},
   "outputs": [
    {
     "data": {
      "text/html": [
       "<div>\n",
       "<style scoped>\n",
       "    .dataframe tbody tr th:only-of-type {\n",
       "        vertical-align: middle;\n",
       "    }\n",
       "\n",
       "    .dataframe tbody tr th {\n",
       "        vertical-align: top;\n",
       "    }\n",
       "\n",
       "    .dataframe thead th {\n",
       "        text-align: right;\n",
       "    }\n",
       "</style>\n",
       "<table border=\"1\" class=\"dataframe\">\n",
       "  <thead>\n",
       "    <tr style=\"text-align: right;\">\n",
       "      <th></th>\n",
       "      <th>mean</th>\n",
       "      <th>sd</th>\n",
       "      <th>hdi_3%</th>\n",
       "      <th>hdi_97%</th>\n",
       "      <th>mcse_mean</th>\n",
       "      <th>mcse_sd</th>\n",
       "      <th>ess_bulk</th>\n",
       "      <th>ess_tail</th>\n",
       "      <th>r_hat</th>\n",
       "    </tr>\n",
       "  </thead>\n",
       "  <tbody>\n",
       "    <tr>\n",
       "      <th>random_walk[0]</th>\n",
       "      <td>19166.290</td>\n",
       "      <td>157.626</td>\n",
       "      <td>18876.936</td>\n",
       "      <td>19467.555</td>\n",
       "      <td>2.986</td>\n",
       "      <td>2.112</td>\n",
       "      <td>2783.0</td>\n",
       "      <td>2265.0</td>\n",
       "      <td>1.0</td>\n",
       "    </tr>\n",
       "    <tr>\n",
       "      <th>random_walk[1]</th>\n",
       "      <td>5265.020</td>\n",
       "      <td>80.057</td>\n",
       "      <td>5117.991</td>\n",
       "      <td>5411.072</td>\n",
       "      <td>1.718</td>\n",
       "      <td>1.215</td>\n",
       "      <td>2167.0</td>\n",
       "      <td>2731.0</td>\n",
       "      <td>1.0</td>\n",
       "    </tr>\n",
       "    <tr>\n",
       "      <th>random_walk[2]</th>\n",
       "      <td>21140.051</td>\n",
       "      <td>163.985</td>\n",
       "      <td>20818.459</td>\n",
       "      <td>21433.209</td>\n",
       "      <td>2.702</td>\n",
       "      <td>1.911</td>\n",
       "      <td>3681.0</td>\n",
       "      <td>2779.0</td>\n",
       "      <td>1.0</td>\n",
       "    </tr>\n",
       "    <tr>\n",
       "      <th>prior[0]</th>\n",
       "      <td>0.418</td>\n",
       "      <td>0.003</td>\n",
       "      <td>0.412</td>\n",
       "      <td>0.424</td>\n",
       "      <td>0.000</td>\n",
       "      <td>0.000</td>\n",
       "      <td>2556.0</td>\n",
       "      <td>3092.0</td>\n",
       "      <td>1.0</td>\n",
       "    </tr>\n",
       "    <tr>\n",
       "      <th>prior[1]</th>\n",
       "      <td>0.115</td>\n",
       "      <td>0.002</td>\n",
       "      <td>0.111</td>\n",
       "      <td>0.119</td>\n",
       "      <td>0.000</td>\n",
       "      <td>0.000</td>\n",
       "      <td>1727.0</td>\n",
       "      <td>2362.0</td>\n",
       "      <td>1.0</td>\n",
       "    </tr>\n",
       "    <tr>\n",
       "      <th>prior[2]</th>\n",
       "      <td>0.466</td>\n",
       "      <td>0.003</td>\n",
       "      <td>0.460</td>\n",
       "      <td>0.473</td>\n",
       "      <td>0.000</td>\n",
       "      <td>0.000</td>\n",
       "      <td>3782.0</td>\n",
       "      <td>3031.0</td>\n",
       "      <td>1.0</td>\n",
       "    </tr>\n",
       "  </tbody>\n",
       "</table>\n",
       "</div>"
      ],
      "text/plain": [
       "                     mean       sd     hdi_3%    hdi_97%  mcse_mean  mcse_sd  \\\n",
       "random_walk[0]  19166.290  157.626  18876.936  19467.555      2.986    2.112   \n",
       "random_walk[1]   5265.020   80.057   5117.991   5411.072      1.718    1.215   \n",
       "random_walk[2]  21140.051  163.985  20818.459  21433.209      2.702    1.911   \n",
       "prior[0]            0.418    0.003      0.412      0.424      0.000    0.000   \n",
       "prior[1]            0.115    0.002      0.111      0.119      0.000    0.000   \n",
       "prior[2]            0.466    0.003      0.460      0.473      0.000    0.000   \n",
       "\n",
       "                ess_bulk  ess_tail  r_hat  \n",
       "random_walk[0]    2783.0    2265.0    1.0  \n",
       "random_walk[1]    2167.0    2731.0    1.0  \n",
       "random_walk[2]    3681.0    2779.0    1.0  \n",
       "prior[0]          2556.0    3092.0    1.0  \n",
       "prior[1]          1727.0    2362.0    1.0  \n",
       "prior[2]          3782.0    3031.0    1.0  "
      ]
     },
     "execution_count": 70,
     "metadata": {},
     "output_type": "execute_result"
    }
   ],
   "source": [
    "az.summary(trace_w)"
   ]
  },
  {
   "cell_type": "code",
   "execution_count": 71,
   "metadata": {},
   "outputs": [],
   "source": [
    "# fig, ax = plt.subplots(2, figsize=(10,6))\n",
    "lula_w = ppc_w['current'][:,0] / ppc_w['current'].sum(axis=1) * 100\n",
    "nulo_w = ppc_w['current'][:,1] / ppc_w['current'].sum(axis=1) * 100.00\n",
    "demais_w = ppc_w['current'][:,2] / ppc_w['current'].sum(axis=1) * 100\n",
    "# az.plot_posterior({'Lula': lula, 'Demais': demais});\n",
    "# az.plot_posterior({}, ax=ax[1])"
   ]
  },
  {
   "cell_type": "code",
   "execution_count": 72,
   "metadata": {},
   "outputs": [
    {
     "data": {
      "image/png": "[encoded data removed]",
      "text/plain": [
       "<Figure size 1490.4x331.2 with 3 Axes>"
      ]
     },
     "metadata": {
      "needs_background": "light"
     },
     "output_type": "display_data"
    },
    {
     "data": {
      "image/png": "[encoded data removed]",
      "text/plain": [
       "<Figure size 1000x500 with 1 Axes>"
      ]
     },
     "metadata": {
      "needs_background": "light"
     },
     "output_type": "display_data"
    }
   ],
   "source": [
    "# a0 = np.array([100, 299, 100])\n",
    "# D0 = np.random.dirichlet(a0, 1000)\n",
    "# D0\n",
    "post_pred_w = pd.DataFrame({'Lula': lula_w, 'Nulo': nulo_w, 'Demais': demais_w})\n",
    "az.plot_posterior(post_pred_w.to_dict(orient='list'));\n",
    "fig, ax = plt.subplots(figsize=(10, 5), dpi=100)\n",
    "# ax.set_xlim(40, 50)\n",
    "\n",
    "sns.kdeplot(data=post_pred_w, ax=ax, palette=['red','yellow','black'], linewidth=2.5, gridsize=100);"
   ]
  },
  {
   "cell_type": "code",
   "execution_count": 73,
   "metadata": {},
   "outputs": [
    {
     "data": {
      "text/html": [
       "<div>\n",
       "<style scoped>\n",
       "    .dataframe tbody tr th:only-of-type {\n",
       "        vertical-align: middle;\n",
       "    }\n",
       "\n",
       "    .dataframe tbody tr th {\n",
       "        vertical-align: top;\n",
       "    }\n",
       "\n",
       "    .dataframe thead th {\n",
       "        text-align: right;\n",
       "    }\n",
       "</style>\n",
       "<table border=\"1\" class=\"dataframe\">\n",
       "  <thead>\n",
       "    <tr style=\"text-align: right;\">\n",
       "      <th></th>\n",
       "      <th>data</th>\n",
       "      <th>LulaLB</th>\n",
       "      <th>LulaM</th>\n",
       "      <th>LulaUB</th>\n",
       "      <th>DemaisLB</th>\n",
       "      <th>DemaisM</th>\n",
       "      <th>DemaisUB</th>\n",
       "    </tr>\n",
       "  </thead>\n",
       "  <tbody>\n",
       "    <tr>\n",
       "      <th>0</th>\n",
       "      <td>2021-11-04</td>\n",
       "      <td>0.385354</td>\n",
       "      <td>0.409091</td>\n",
       "      <td>0.433333</td>\n",
       "      <td>0.420202</td>\n",
       "      <td>0.443939</td>\n",
       "      <td>0.467172</td>\n",
       "    </tr>\n",
       "    <tr>\n",
       "      <th>0</th>\n",
       "      <td>2021-11-06</td>\n",
       "      <td>0.395439</td>\n",
       "      <td>0.418244</td>\n",
       "      <td>0.441533</td>\n",
       "      <td>0.411936</td>\n",
       "      <td>0.435711</td>\n",
       "      <td>0.458515</td>\n",
       "    </tr>\n",
       "    <tr>\n",
       "      <th>0</th>\n",
       "      <td>2021-11-19</td>\n",
       "      <td>0.387017</td>\n",
       "      <td>0.409812</td>\n",
       "      <td>0.432607</td>\n",
       "      <td>0.421705</td>\n",
       "      <td>0.445491</td>\n",
       "      <td>0.467790</td>\n",
       "    </tr>\n",
       "    <tr>\n",
       "      <th>0</th>\n",
       "      <td>2021-11-20</td>\n",
       "      <td>0.381500</td>\n",
       "      <td>0.405500</td>\n",
       "      <td>0.429000</td>\n",
       "      <td>0.435500</td>\n",
       "      <td>0.459000</td>\n",
       "      <td>0.482000</td>\n",
       "    </tr>\n",
       "    <tr>\n",
       "      <th>0</th>\n",
       "      <td>2021-11-24</td>\n",
       "      <td>0.376566</td>\n",
       "      <td>0.396768</td>\n",
       "      <td>0.417374</td>\n",
       "      <td>0.452121</td>\n",
       "      <td>0.473939</td>\n",
       "      <td>0.494141</td>\n",
       "    </tr>\n",
       "    <tr>\n",
       "      <th>0</th>\n",
       "      <td>2021-11-29</td>\n",
       "      <td>0.386451</td>\n",
       "      <td>0.402591</td>\n",
       "      <td>0.418050</td>\n",
       "      <td>0.470789</td>\n",
       "      <td>0.486929</td>\n",
       "      <td>0.502842</td>\n",
       "    </tr>\n",
       "    <tr>\n",
       "      <th>0</th>\n",
       "      <td>2021-12-05</td>\n",
       "      <td>0.384086</td>\n",
       "      <td>0.406680</td>\n",
       "      <td>0.427800</td>\n",
       "      <td>0.460216</td>\n",
       "      <td>0.482318</td>\n",
       "      <td>0.504912</td>\n",
       "    </tr>\n",
       "    <tr>\n",
       "      <th>0</th>\n",
       "      <td>2021-12-09</td>\n",
       "      <td>0.376667</td>\n",
       "      <td>0.404167</td>\n",
       "      <td>0.433333</td>\n",
       "      <td>0.453333</td>\n",
       "      <td>0.483333</td>\n",
       "      <td>0.512500</td>\n",
       "    </tr>\n",
       "    <tr>\n",
       "      <th>0</th>\n",
       "      <td>2021-12-11</td>\n",
       "      <td>0.385500</td>\n",
       "      <td>0.409000</td>\n",
       "      <td>0.432000</td>\n",
       "      <td>0.448500</td>\n",
       "      <td>0.471500</td>\n",
       "      <td>0.496000</td>\n",
       "    </tr>\n",
       "    <tr>\n",
       "      <th>0</th>\n",
       "      <td>2021-12-13</td>\n",
       "      <td>0.382500</td>\n",
       "      <td>0.405000</td>\n",
       "      <td>0.428000</td>\n",
       "      <td>0.456000</td>\n",
       "      <td>0.480000</td>\n",
       "      <td>0.503500</td>\n",
       "    </tr>\n",
       "    <tr>\n",
       "      <th>0</th>\n",
       "      <td>2021-12-13</td>\n",
       "      <td>0.391500</td>\n",
       "      <td>0.414500</td>\n",
       "      <td>0.438000</td>\n",
       "      <td>0.444000</td>\n",
       "      <td>0.467500</td>\n",
       "      <td>0.490500</td>\n",
       "    </tr>\n",
       "    <tr>\n",
       "      <th>0</th>\n",
       "      <td>2021-12-16</td>\n",
       "      <td>0.410753</td>\n",
       "      <td>0.427675</td>\n",
       "      <td>0.445415</td>\n",
       "      <td>0.440768</td>\n",
       "      <td>0.457969</td>\n",
       "      <td>0.475437</td>\n",
       "    </tr>\n",
       "    <tr>\n",
       "      <th>0</th>\n",
       "      <td>2021-12-16</td>\n",
       "      <td>0.397030</td>\n",
       "      <td>0.427723</td>\n",
       "      <td>0.459406</td>\n",
       "      <td>0.424752</td>\n",
       "      <td>0.457426</td>\n",
       "      <td>0.488119</td>\n",
       "    </tr>\n",
       "    <tr>\n",
       "      <th>0</th>\n",
       "      <td>2021-12-21</td>\n",
       "      <td>0.401000</td>\n",
       "      <td>0.420667</td>\n",
       "      <td>0.441000</td>\n",
       "      <td>0.446000</td>\n",
       "      <td>0.466000</td>\n",
       "      <td>0.485667</td>\n",
       "    </tr>\n",
       "    <tr>\n",
       "      <th>0</th>\n",
       "      <td>2022-01-09</td>\n",
       "      <td>0.402041</td>\n",
       "      <td>0.424490</td>\n",
       "      <td>0.447959</td>\n",
       "      <td>0.437755</td>\n",
       "      <td>0.461224</td>\n",
       "      <td>0.483673</td>\n",
       "    </tr>\n",
       "    <tr>\n",
       "      <th>0</th>\n",
       "      <td>2022-01-12</td>\n",
       "      <td>0.393137</td>\n",
       "      <td>0.424510</td>\n",
       "      <td>0.456863</td>\n",
       "      <td>0.428431</td>\n",
       "      <td>0.459804</td>\n",
       "      <td>0.491176</td>\n",
       "    </tr>\n",
       "    <tr>\n",
       "      <th>0</th>\n",
       "      <td>2022-01-13</td>\n",
       "      <td>0.396633</td>\n",
       "      <td>0.422896</td>\n",
       "      <td>0.450505</td>\n",
       "      <td>0.435017</td>\n",
       "      <td>0.462626</td>\n",
       "      <td>0.488889</td>\n",
       "    </tr>\n",
       "    <tr>\n",
       "      <th>0</th>\n",
       "      <td>2022-01-20</td>\n",
       "      <td>0.403704</td>\n",
       "      <td>0.423232</td>\n",
       "      <td>0.443098</td>\n",
       "      <td>0.440404</td>\n",
       "      <td>0.460943</td>\n",
       "      <td>0.480808</td>\n",
       "    </tr>\n",
       "    <tr>\n",
       "      <th>0</th>\n",
       "      <td>2022-01-26</td>\n",
       "      <td>0.395500</td>\n",
       "      <td>0.418500</td>\n",
       "      <td>0.440500</td>\n",
       "      <td>0.443500</td>\n",
       "      <td>0.467000</td>\n",
       "      <td>0.490000</td>\n",
       "    </tr>\n",
       "  </tbody>\n",
       "</table>\n",
       "</div>"
      ],
      "text/plain": [
       "         data    LulaLB     LulaM    LulaUB  DemaisLB   DemaisM  DemaisUB\n",
       "0  2021-11-04  0.385354  0.409091  0.433333  0.420202  0.443939  0.467172\n",
       "0  2021-11-06  0.395439  0.418244  0.441533  0.411936  0.435711  0.458515\n",
       "0  2021-11-19  0.387017  0.409812  0.432607  0.421705  0.445491  0.467790\n",
       "0  2021-11-20  0.381500  0.405500  0.429000  0.435500  0.459000  0.482000\n",
       "0  2021-11-24  0.376566  0.396768  0.417374  0.452121  0.473939  0.494141\n",
       "0  2021-11-29  0.386451  0.402591  0.418050  0.470789  0.486929  0.502842\n",
       "0  2021-12-05  0.384086  0.406680  0.427800  0.460216  0.482318  0.504912\n",
       "0  2021-12-09  0.376667  0.404167  0.433333  0.453333  0.483333  0.512500\n",
       "0  2021-12-11  0.385500  0.409000  0.432000  0.448500  0.471500  0.496000\n",
       "0  2021-12-13  0.382500  0.405000  0.428000  0.456000  0.480000  0.503500\n",
       "0  2021-12-13  0.391500  0.414500  0.438000  0.444000  0.467500  0.490500\n",
       "0  2021-12-16  0.410753  0.427675  0.445415  0.440768  0.457969  0.475437\n",
       "0  2021-12-16  0.397030  0.427723  0.459406  0.424752  0.457426  0.488119\n",
       "0  2021-12-21  0.401000  0.420667  0.441000  0.446000  0.466000  0.485667\n",
       "0  2022-01-09  0.402041  0.424490  0.447959  0.437755  0.461224  0.483673\n",
       "0  2022-01-12  0.393137  0.424510  0.456863  0.428431  0.459804  0.491176\n",
       "0  2022-01-13  0.396633  0.422896  0.450505  0.435017  0.462626  0.488889\n",
       "0  2022-01-20  0.403704  0.423232  0.443098  0.440404  0.460943  0.480808\n",
       "0  2022-01-26  0.395500  0.418500  0.440500  0.443500  0.467000  0.490000"
      ]
     },
     "execution_count": 73,
     "metadata": {},
     "output_type": "execute_result"
    }
   ],
   "source": [
    "df_results_weekly"
   ]
  },
  {
   "cell_type": "markdown",
   "metadata": {},
   "source": [
    "## MONTHLY"
   ]
  },
  {
   "cell_type": "code",
   "execution_count": 74,
   "metadata": {},
   "outputs": [
    {
     "name": "stdout",
     "output_type": "stream",
     "text": [
      ">>> observed = [6048.848 1507.332 7382.82 ]\n"
     ]
    },
    {
     "name": "stderr",
     "output_type": "stream",
     "text": [
      "Auto-assigning NUTS sampler...\n",
      "Initializing NUTS using jitter+adapt_diag...\n",
      "Multiprocess sampling (2 chains in 2 jobs)\n",
      "NUTS: [prior, random_walk]\n",
      "Sampling 2 chains for 2_000 tune and 2_000 draw iterations (4_000 + 4_000 draws total) took 7 seconds.\n"
     ]
    },
    {
     "data": {
      "application/vnd.jupyter.widget-view+json": {
       "model_id": "201d7786924e4689a33638b3ae6f99d7",
       "version_major": 2,
       "version_minor": 0
      },
      "text/plain": [
       "  0%|          | 0/50 [00:00<?, ?it/s]"
      ]
     },
     "metadata": {},
     "output_type": "display_data"
    },
    {
     "name": "stdout",
     "output_type": "stream",
     "text": [
      ">>> mes=2021_11, updaed_prior=[3054.74093377  767.85130405 3713.12008762],  qs=['0.0%', '0.0%', '0.0%'] <<<\n",
      "lula= [0.39418893 0.40536922 0.41648423]\n",
      "nulo= [0.09513289 0.10189462 0.10879025]\n",
      "demais= [0.48168809 0.49273616 0.50371561]\n",
      ">>> observed = [7356.516 1973.626 7586.858]\n"
     ]
    },
    {
     "name": "stderr",
     "output_type": "stream",
     "text": [
      "Auto-assigning NUTS sampler...\n",
      "Initializing NUTS using jitter+adapt_diag...\n",
      "Multiprocess sampling (2 chains in 2 jobs)\n",
      "NUTS: [prior, random_walk]\n",
      "Sampling 2 chains for 2_000 tune and 2_000 draw iterations (4_000 + 4_000 draws total) took 7 seconds.\n"
     ]
    },
    {
     "data": {
      "application/vnd.jupyter.widget-view+json": {
       "model_id": "c3d9216cbbe149be9a94984118ee8d1a",
       "version_major": 2,
       "version_minor": 0
      },
      "text/plain": [
       "  0%|          | 0/50 [00:00<?, ?it/s]"
      ]
     },
     "metadata": {},
     "output_type": "display_data"
    },
    {
     "name": "stdout",
     "output_type": "stream",
     "text": [
      ">>> mes=2021_12, updaed_prior=[3985.37246449 1057.18461694 4235.85382019],  qs=['0.2%', '0.3%', '0.3975%'] <<<\n",
      "lula= [0.41945019 0.42950044 0.43990541]\n",
      "nulo= [0.10747857 0.11398167 0.12048478]\n",
      "demais= [0.4462888  0.45651788 0.46639226]\n",
      ">>> observed = [3953. 1109. 4373.]\n"
     ]
    },
    {
     "name": "stderr",
     "output_type": "stream",
     "text": [
      "Auto-assigning NUTS sampler...\n",
      "Initializing NUTS using jitter+adapt_diag...\n",
      "Multiprocess sampling (2 chains in 2 jobs)\n",
      "NUTS: [prior, random_walk]\n",
      "Sampling 2 chains for 2_000 tune and 2_000 draw iterations (4_000 + 4_000 draws total) took 7 seconds.\n"
     ]
    },
    {
     "data": {
      "application/vnd.jupyter.widget-view+json": {
       "model_id": "0a79246c805f4a9c82453b383ab0b9fa",
       "version_major": 2,
       "version_minor": 0
      },
      "text/plain": [
       "  0%|          | 0/50 [00:00<?, ?it/s]"
      ]
     },
     "metadata": {},
     "output_type": "display_data"
    },
    {
     "name": "stdout",
     "output_type": "stream",
     "text": [
      ">>> mes=2022_01, updaed_prior=[2368.64023767  652.0417896  2586.3178673 ],  qs=['0.03%', '0.09%', '0.13749999999999998%'] <<<\n",
      "lula= [0.40975093 0.42257552 0.43550874]\n",
      "nulo= [0.10789613 0.11626921 0.12496025]\n",
      "demais= [0.44811871 0.46115527 0.47419184]\n"
     ]
    }
   ],
   "source": [
    "flat_prior = prior = np.array([420.0, 130.0, 450.0])\n",
    "\n",
    "df_by_mes = df.groupby(\"mes\").sum().reset_index()\n",
    "for obj in df_by_mes.itertuples():\n",
    "    observed = np.array([obj.LULA, obj.NULO, obj.OUTROS])\n",
    "    print(f\">>> observed = {observed}\")\n",
    "    model_m = build_model(prior, observed, rw_alpha_mult=1.0, rw_beta_mult=1.0)\n",
    "    trace_m, ppc_m = sampling(model_m)\n",
    "    posterior_m = ppc_m['current']\n",
    "    prior = dirichlet.mle(posterior_m/posterior_m.sum(axis=1).reshape(-1, 1))\n",
    "    qs = calc_prob_lula_win(model_m, trace_m, 50, ppc=ppc_m)\n",
    "    print(f\">>> mes={obj.mes}, updaed_prior={prior},  qs={[str(q)+'%' for q in qs]} <<<\")\n",
    "    post_prob = posterior_m/posterior_m.sum(axis=1).reshape(-1, 1)\n",
    "    print(f\"lula=\", np.quantile(post_prob[:, 0], q=HDI))\n",
    "    print(f\"nulo=\", np.quantile(post_prob[:, 1], q=HDI))\n",
    "    print(f\"demais=\", np.quantile(post_prob[:, 2], q=HDI))\n",
    "\n"
   ]
  },
  {
   "cell_type": "markdown",
   "metadata": {},
   "source": [
    "model = build_model(prior, observed, rw_alpha_mult=1.0, rw_beta_mult=1.0)\n",
    "\n",
    "\n",
    ">>> mes=2021_12, updaed_prior=[4010.21159264 1063.82999647 4263.9625701 ],  qs=['0.1925%', '0.26%', '0.33999999999999997%'] <<<\n",
    "lula= [0.4193896  0.42938221 0.43949305]\n",
    "nulo= [0.10747857 0.11392255 0.1205439 ]\n",
    "demais= [0.44670263 0.45651788 0.46668637]\n",
    ">>> mes=2022_01, updaed_prior=[1986.94630475  542.79884705 2077.89947253],  qs=['7.24%', '7.6%', '8.0175%'] <<<\n",
    "lula= [0.41708137 0.43120377 0.44559516]\n",
    "nulo= [0.10867518 0.11782112 0.12723605]\n",
    "demais= [0.43658373 0.45097512 0.46523201]"
   ]
  },
  {
   "cell_type": "code",
   "execution_count": 75,
   "metadata": {},
   "outputs": [
    {
     "data": {
      "text/html": [
       "<div>\n",
       "<style scoped>\n",
       "    .dataframe tbody tr th:only-of-type {\n",
       "        vertical-align: middle;\n",
       "    }\n",
       "\n",
       "    .dataframe tbody tr th {\n",
       "        vertical-align: top;\n",
       "    }\n",
       "\n",
       "    .dataframe thead th {\n",
       "        text-align: right;\n",
       "    }\n",
       "</style>\n",
       "<table border=\"1\" class=\"dataframe\">\n",
       "  <thead>\n",
       "    <tr style=\"text-align: right;\">\n",
       "      <th></th>\n",
       "      <th>mean</th>\n",
       "      <th>sd</th>\n",
       "      <th>hdi_3%</th>\n",
       "      <th>hdi_97%</th>\n",
       "      <th>mcse_mean</th>\n",
       "      <th>mcse_sd</th>\n",
       "      <th>ess_bulk</th>\n",
       "      <th>ess_tail</th>\n",
       "      <th>r_hat</th>\n",
       "    </tr>\n",
       "  </thead>\n",
       "  <tbody>\n",
       "    <tr>\n",
       "      <th>random_walk[0]</th>\n",
       "      <td>3953.093</td>\n",
       "      <td>56.614</td>\n",
       "      <td>3850.483</td>\n",
       "      <td>4064.055</td>\n",
       "      <td>0.958</td>\n",
       "      <td>0.677</td>\n",
       "      <td>3517.0</td>\n",
       "      <td>2882.0</td>\n",
       "      <td>1.0</td>\n",
       "    </tr>\n",
       "    <tr>\n",
       "      <th>random_walk[1]</th>\n",
       "      <td>1068.129</td>\n",
       "      <td>27.794</td>\n",
       "      <td>1016.884</td>\n",
       "      <td>1121.093</td>\n",
       "      <td>0.502</td>\n",
       "      <td>0.355</td>\n",
       "      <td>3070.0</td>\n",
       "      <td>2790.0</td>\n",
       "      <td>1.0</td>\n",
       "    </tr>\n",
       "    <tr>\n",
       "      <th>random_walk[2]</th>\n",
       "      <td>4258.251</td>\n",
       "      <td>59.169</td>\n",
       "      <td>4146.732</td>\n",
       "      <td>4367.766</td>\n",
       "      <td>0.984</td>\n",
       "      <td>0.696</td>\n",
       "      <td>3621.0</td>\n",
       "      <td>3111.0</td>\n",
       "      <td>1.0</td>\n",
       "    </tr>\n",
       "    <tr>\n",
       "      <th>prior[0]</th>\n",
       "      <td>0.422</td>\n",
       "      <td>0.004</td>\n",
       "      <td>0.415</td>\n",
       "      <td>0.431</td>\n",
       "      <td>0.000</td>\n",
       "      <td>0.000</td>\n",
       "      <td>3092.0</td>\n",
       "      <td>3111.0</td>\n",
       "      <td>1.0</td>\n",
       "    </tr>\n",
       "    <tr>\n",
       "      <th>prior[1]</th>\n",
       "      <td>0.116</td>\n",
       "      <td>0.003</td>\n",
       "      <td>0.112</td>\n",
       "      <td>0.122</td>\n",
       "      <td>0.000</td>\n",
       "      <td>0.000</td>\n",
       "      <td>2803.0</td>\n",
       "      <td>2866.0</td>\n",
       "      <td>1.0</td>\n",
       "    </tr>\n",
       "    <tr>\n",
       "      <th>prior[2]</th>\n",
       "      <td>0.461</td>\n",
       "      <td>0.004</td>\n",
       "      <td>0.453</td>\n",
       "      <td>0.469</td>\n",
       "      <td>0.000</td>\n",
       "      <td>0.000</td>\n",
       "      <td>4473.0</td>\n",
       "      <td>3329.0</td>\n",
       "      <td>1.0</td>\n",
       "    </tr>\n",
       "  </tbody>\n",
       "</table>\n",
       "</div>"
      ],
      "text/plain": [
       "                    mean      sd    hdi_3%   hdi_97%  mcse_mean  mcse_sd  \\\n",
       "random_walk[0]  3953.093  56.614  3850.483  4064.055      0.958    0.677   \n",
       "random_walk[1]  1068.129  27.794  1016.884  1121.093      0.502    0.355   \n",
       "random_walk[2]  4258.251  59.169  4146.732  4367.766      0.984    0.696   \n",
       "prior[0]           0.422   0.004     0.415     0.431      0.000    0.000   \n",
       "prior[1]           0.116   0.003     0.112     0.122      0.000    0.000   \n",
       "prior[2]           0.461   0.004     0.453     0.469      0.000    0.000   \n",
       "\n",
       "                ess_bulk  ess_tail  r_hat  \n",
       "random_walk[0]    3517.0    2882.0    1.0  \n",
       "random_walk[1]    3070.0    2790.0    1.0  \n",
       "random_walk[2]    3621.0    3111.0    1.0  \n",
       "prior[0]          3092.0    3111.0    1.0  \n",
       "prior[1]          2803.0    2866.0    1.0  \n",
       "prior[2]          4473.0    3329.0    1.0  "
      ]
     },
     "execution_count": 75,
     "metadata": {},
     "output_type": "execute_result"
    }
   ],
   "source": [
    "az.summary(trace_m)"
   ]
  },
  {
   "cell_type": "code",
   "execution_count": 76,
   "metadata": {},
   "outputs": [
    {
     "data": {
      "image/png": "[encoded data removed]",
      "text/plain": [
       "<Figure size 1490.4x331.2 with 3 Axes>"
      ]
     },
     "metadata": {
      "needs_background": "light"
     },
     "output_type": "display_data"
    }
   ],
   "source": [
    "lula_m = ppc_m['current'][:,0] / ppc_m['current'].sum(axis=1) * 100.00\n",
    "nulo_m = ppc_m['current'][:,1] / ppc_m['current'].sum(axis=1) * 100.00\n",
    "demais_m = ppc_m['current'][:,2] / ppc_m['current'].sum(axis=1) * 100.00\n",
    "post_pred = {'Lula': lula_m, 'Demais': demais_m, 'Nulo/Branco':nulo_m}\n",
    "az.plot_posterior(post_pred);"
   ]
  },
  {
   "cell_type": "code",
   "execution_count": 77,
   "metadata": {},
   "outputs": [
    {
     "data": {
      "image/png": "[encoded data removed]",
      "text/plain": [
       "<Figure size 1000x500 with 1 Axes>"
      ]
     },
     "metadata": {
      "needs_background": "light"
     },
     "output_type": "display_data"
    }
   ],
   "source": [
    "fig, ax = plt.subplots(figsize=(10, 5), dpi=100)\n",
    "# ax.set_xlim(40, 50)\n",
    "sns.kdeplot(data=post_pred, ax=ax, palette=['red','black','yellow'], linewidth=2.5, gridsize=500);"
   ]
  },
  {
   "cell_type": "code",
   "execution_count": 78,
   "metadata": {},
   "outputs": [
    {
     "data": {
      "text/plain": [
       "0.0008"
      ]
     },
     "execution_count": 78,
     "metadata": {},
     "output_type": "execute_result"
    }
   ],
   "source": [
    "(post_pred['Lula'] > post_pred['Demais']).mean()"
   ]
  },
  {
   "cell_type": "code",
   "execution_count": null,
   "metadata": {},
   "outputs": [],
   "source": []
  },
  {
   "cell_type": "markdown",
   "metadata": {},
   "source": [
    "## Playground"
   ]
  },
  {
   "cell_type": "code",
   "execution_count": 79,
   "metadata": {},
   "outputs": [
    {
     "data": {
      "text/plain": [
       "0.32736042300928847"
      ]
     },
     "execution_count": 79,
     "metadata": {},
     "output_type": "execute_result"
    }
   ],
   "source": [
    "import math\n",
    "1 - stats.norm.cdf(0, loc=-1, scale=math.sqrt(5))"
   ]
  },
  {
   "cell_type": "code",
   "execution_count": 80,
   "metadata": {},
   "outputs": [],
   "source": [
    "import scipy as sp\n",
    "true_p = sp.stats.dirichlet(6.0 * np.array([0.45, 0.3, 0.15, 0.9, 0.01])).rvs(size=10)\n",
    "observed = np.vstack([sp.stats.multinomial(n=50, p=p_i).rvs() for p_i in true_p])\n",
    "\n"
   ]
  },
  {
   "cell_type": "code",
   "execution_count": 81,
   "metadata": {},
   "outputs": [
    {
     "data": {
      "text/plain": [
       "array([50, 50, 50, 50, 50, 50, 50, 50, 50, 50])"
      ]
     },
     "execution_count": 81,
     "metadata": {},
     "output_type": "execute_result"
    }
   ],
   "source": [
    "observed.sum(axis=1)"
   ]
  },
  {
   "cell_type": "code",
   "execution_count": 82,
   "metadata": {},
   "outputs": [
    {
     "data": {
      "text/html": [
       "<script src=\"https://cdnjs.cloudflare.com/ajax/libs/require.js/2.3.6/require.min.js\" integrity=\"sha512-c3Nl8+7g4LMSTdrm621y7kf9v3SDPnhxLNhcjFJbKECVnmZHTdo+IRO05sNLTH/D3vA6u1X32ehoLC7WFVdheg==\" crossorigin=\"anonymous\"></script>"
      ],
      "text/plain": [
       "<IPython.core.display.HTML object>"
      ]
     },
     "metadata": {},
     "output_type": "display_data"
    }
   ],
   "source": [
    "import ipywidgets as widgets\n",
    "from ipywidgets import interact\n",
    "from datetime import datetime\n",
    "import plotly.io as pio\n",
    "# Default is plotly_mimetype+notebook, but jekyll fails to parse plotly_mimetype.\n",
    "pio.renderers.default = 'notebook_connected'\n",
    "\n",
    "# Inject the missing require.js dependency.\n",
    "from IPython.display import display, HTML\n",
    "js = '<script src=\"https://cdnjs.cloudflare.com/ajax/libs/require.js/2.3.6/require.min.js\" integrity=\"sha512-c3Nl8+7g4LMSTdrm621y7kf9v3SDPnhxLNhcjFJbKECVnmZHTdo+IRO05sNLTH/D3vA6u1X32ehoLC7WFVdheg==\" crossorigin=\"anonymous\"></script>'\n",
    "display(HTML(js))\n",
    "import plotly.express as px\n",
    "\n",
    "# df_gm = px.data.gapminder()\n",
    "# px.scatter(df_gm, x=\"gdpPercap\", y=\"lifeExp\", animation_frame=\"year\", animation_group=\"country\",\n",
    "#            size=\"pop\", color=\"continent\", hover_name=\"country\",\n",
    "#            log_x=True, size_max=55, range_x=[100,100000], range_y=[25,90])\n"
   ]
  },
  {
   "cell_type": "code",
   "execution_count": 83,
   "metadata": {},
   "outputs": [],
   "source": [
    "# hide_input\n",
    "# This cell is required for the export to HTML to work.\n"
   ]
  },
  {
   "cell_type": "code",
   "execution_count": 84,
   "metadata": {},
   "outputs": [
    {
     "name": "stdout",
     "output_type": "stream",
     "text": [
      "[[0.51061213 0.10232741 0.38706046]\n",
      " [0.3951909  0.054262   0.5505471 ]\n",
      " [0.37102092 0.14799003 0.48098905]\n",
      " [0.48886284 0.09279697 0.4183402 ]]\n"
     ]
    }
   ],
   "source": [
    "observed_prior = np.array([7356., 1973., 7578.])\n",
    "prior = []\n",
    "N = 4000\n",
    "for it in range(N):\n",
    "    b = stats.beta.rvs(a=5, b=1, size=3)\n",
    "    # print(b)\n",
    "    # print(observed_prior * b)\n",
    "    diric = stats.dirichlet.rvs(observed_prior * b,)\n",
    "    # print(diric[0])\n",
    "    prior.append(diric[0])\n",
    "prior = np.array(prior)\n",
    "print(prior[:4])"
   ]
  },
  {
   "cell_type": "code",
   "execution_count": 85,
   "metadata": {},
   "outputs": [
    {
     "name": "stdout",
     "output_type": "stream",
     "text": [
      "0.43625\n",
      "(4000, 3)\n"
     ]
    }
   ],
   "source": [
    "\n",
    "print((prior[:,0] > prior[:,2]).mean())\n",
    "print(prior.shape)\n"
   ]
  },
  {
   "cell_type": "code",
   "execution_count": 86,
   "metadata": {},
   "outputs": [],
   "source": [
    "posterior = []\n",
    "for it in range(N):\n",
    "    mn = stats.multinomial.rvs(n=3000, p=[1340/3000, 370/3000, 1290/3000])\n",
    "    posterior.append(mn * prior[it])\n",
    "posterior = np.array(posterior)\n",
    "\n"
   ]
  },
  {
   "cell_type": "code",
   "execution_count": 87,
   "metadata": {},
   "outputs": [
    {
     "name": "stdout",
     "output_type": "stream",
     "text": [
      "[1223.86606598 1260.74042882 1163.06695847 ... 1221.37582506 1198.07889137\n",
      " 1212.00685358]\n",
      "[682.68842437 525.99908766 493.82883863 615.47831307 662.51134272\n",
      " 568.16216448 648.00904949 631.91822695 649.72775083 568.436377  ]\n",
      "[504.3397744  714.61014042 609.89411632 550.53569895 511.09244206\n",
      " 595.79518669 551.73292491 511.77325016 549.32855419 582.70392125]\n"
     ]
    }
   ],
   "source": [
    "post = posterior#/posterior.sum(axis=1).reshape(4000,1)\n",
    "print(post.sum(axis=1))\n",
    "print(post[:10, 0])\n",
    "print(post[:10, 2])"
   ]
  },
  {
   "cell_type": "code",
   "execution_count": 88,
   "metadata": {},
   "outputs": [
    {
     "name": "stdout",
     "output_type": "stream",
     "text": [
      "0.51975\n"
     ]
    }
   ],
   "source": [
    "lula = post[:, 0]\n",
    "others = post[:, 2]\n",
    "print((lula > others).mean())"
   ]
  },
  {
   "cell_type": "code",
   "execution_count": 89,
   "metadata": {},
   "outputs": [],
   "source": [
    "simul = []\n",
    "for it in range(N):\n",
    "    idx = np.random.choice(N,1)[0]\n",
    "    #print(idx)\n",
    "    #print(post[idx])\n",
    "    dir2 = stats.dirichlet.rvs(post[idx])[0]\n",
    "    simul.append(dir2)\n",
    "dir2 = np.array(simul)"
   ]
  },
  {
   "cell_type": "code",
   "execution_count": 90,
   "metadata": {},
   "outputs": [
    {
     "data": {
      "text/plain": [
       "array([[0.55432095, 0.04579972, 0.39987933],\n",
       "       [0.48832295, 0.03328908, 0.47838797],\n",
       "       [0.47799335, 0.03523928, 0.48676737],\n",
       "       ...,\n",
       "       [0.511237  , 0.03498016, 0.45378284],\n",
       "       [0.52941967, 0.03348722, 0.43709311],\n",
       "       [0.52231374, 0.02157467, 0.45611159]])"
      ]
     },
     "execution_count": 90,
     "metadata": {},
     "output_type": "execute_result"
    }
   ],
   "source": [
    "dir2"
   ]
  },
  {
   "cell_type": "code",
   "execution_count": 91,
   "metadata": {},
   "outputs": [
    {
     "name": "stdout",
     "output_type": "stream",
     "text": [
      "0.504\n"
     ]
    }
   ],
   "source": [
    "lula = dir2[:, 0]\n",
    "others = dir2[:, 2]\n",
    "print((lula > others).mean())"
   ]
  },
  {
   "cell_type": "code",
   "execution_count": 92,
   "metadata": {},
   "outputs": [
    {
     "data": {
      "text/plain": [
       "array([0, 1, 2, 3, 4, 5, 6, 7, 8, 9])"
      ]
     },
     "execution_count": 92,
     "metadata": {},
     "output_type": "execute_result"
    }
   ],
   "source": [
    "np.arange(10)"
   ]
  },
  {
   "cell_type": "code",
   "execution_count": 93,
   "metadata": {},
   "outputs": [
    {
     "data": {
      "text/plain": [
       "array([0.  , 0.01, 0.02, 0.03, 0.04, 0.05, 0.06, 0.07, 0.08, 0.09, 0.1 ,\n",
       "       0.11, 0.12, 0.13, 0.14, 0.15, 0.16, 0.17, 0.18, 0.19, 0.2 , 0.21,\n",
       "       0.22, 0.23, 0.24, 0.25, 0.26, 0.27, 0.28, 0.29, 0.3 , 0.31, 0.32,\n",
       "       0.33, 0.34, 0.35, 0.36, 0.37, 0.38, 0.39, 0.4 , 0.41, 0.42, 0.43,\n",
       "       0.44, 0.45, 0.46, 0.47, 0.48, 0.49, 0.5 , 0.51, 0.52, 0.53, 0.54,\n",
       "       0.55, 0.56, 0.57, 0.58, 0.59, 0.6 , 0.61, 0.62, 0.63, 0.64, 0.65,\n",
       "       0.66, 0.67, 0.68, 0.69, 0.7 , 0.71, 0.72, 0.73, 0.74, 0.75, 0.76,\n",
       "       0.77, 0.78, 0.79, 0.8 , 0.81, 0.82, 0.83, 0.84, 0.85, 0.86, 0.87,\n",
       "       0.88, 0.89, 0.9 , 0.91, 0.92, 0.93, 0.94, 0.95, 0.96, 0.97, 0.98,\n",
       "       0.99, 1.  ])"
      ]
     },
     "execution_count": 93,
     "metadata": {},
     "output_type": "execute_result"
    }
   ],
   "source": [
    "np.linspace(0,1, 101)"
   ]
  },
  {
   "cell_type": "code",
   "execution_count": 94,
   "metadata": {},
   "outputs": [],
   "source": [
    "x = np.arange(5,10)"
   ]
  },
  {
   "cell_type": "code",
   "execution_count": 95,
   "metadata": {},
   "outputs": [
    {
     "data": {
      "text/plain": [
       "array([ 0,  5,  6,  7,  8,  9, 14])"
      ]
     },
     "execution_count": 95,
     "metadata": {},
     "output_type": "execute_result"
    }
   ],
   "source": [
    "np.concatenate([[x[0] - 5], x, [x[-1] + 5]])"
   ]
  },
  {
   "cell_type": "code",
   "execution_count": 96,
   "metadata": {},
   "outputs": [
    {
     "data": {
      "text/plain": [
       "0.017892270211835426"
      ]
     },
     "execution_count": 96,
     "metadata": {},
     "output_type": "execute_result"
    }
   ],
   "source": [
    "1.96 * np.sqrt((0.5**2)/3000)"
   ]
  },
  {
   "cell_type": "code",
   "execution_count": 97,
   "metadata": {},
   "outputs": [
    {
     "data": {
      "text/plain": [
       "0.009443124835048826"
      ]
     },
     "execution_count": 97,
     "metadata": {},
     "output_type": "execute_result"
    }
   ],
   "source": [
    "1./(1./0.01789 + 1./0.0200)"
   ]
  },
  {
   "cell_type": "code",
   "execution_count": 98,
   "metadata": {},
   "outputs": [
    {
     "data": {
      "text/plain": [
       "0.01"
      ]
     },
     "execution_count": 98,
     "metadata": {},
     "output_type": "execute_result"
    }
   ],
   "source": [
    "1/100"
   ]
  },
  {
   "cell_type": "code",
   "execution_count": 99,
   "metadata": {},
   "outputs": [
    {
     "data": {
      "text/plain": [
       "0.009443124835048826"
      ]
     },
     "execution_count": 99,
     "metadata": {},
     "output_type": "execute_result"
    }
   ],
   "source": [
    "1/(1./0.01789 + 1./0.0200)"
   ]
  },
  {
   "cell_type": "code",
   "execution_count": 100,
   "metadata": {},
   "outputs": [
    {
     "data": {
      "text/plain": [
       "(50.0, 28.577380332470412)"
      ]
     },
     "execution_count": 100,
     "metadata": {},
     "output_type": "execute_result"
    }
   ],
   "source": [
    "X = np.arange(1, 100)\n",
    "X.mean(), X.std()"
   ]
  },
  {
   "cell_type": "code",
   "execution_count": 101,
   "metadata": {},
   "outputs": [
    {
     "name": "stdout",
     "output_type": "stream",
     "text": [
      "20.39453534909155 4.421935907014502\n"
     ]
    },
    {
     "data": {
      "text/plain": [
       "<matplotlib.collections.PathCollection at 0x7fd98adfe8e0>"
      ]
     },
     "execution_count": 101,
     "metadata": {},
     "output_type": "execute_result"
    },
    {
     "data": {
      "image/png": "[encoded data removed]",
      "text/plain": [
       "<Figure size 432x288 with 1 Axes>"
      ]
     },
     "metadata": {
      "needs_background": "light"
     },
     "output_type": "display_data"
    }
   ],
   "source": [
    "Y = 12*(np.sin(X/50) + 1) + np.random.normal(0, 2, X.size)\n",
    "print(Y.mean(), Y.std())\n",
    "plt.scatter(X, Y)"
   ]
  },
  {
   "cell_type": "code",
   "execution_count": 102,
   "metadata": {},
   "outputs": [
    {
     "name": "stderr",
     "output_type": "stream",
     "text": [
      "Auto-assigning NUTS sampler...\n",
      "Initializing NUTS using jitter+adapt_diag...\n",
      "Multiprocess sampling (2 chains in 2 jobs)\n",
      "NUTS: [grw]\n"
     ]
    },
    {
     "data": {
      "text/html": [
       "\n",
       "    <div>\n",
       "        <style>\n",
       "            /* Turns off some styling */\n",
       "            progress {\n",
       "                /* gets rid of default border in Firefox and Opera. */\n",
       "                border: none;\n",
       "                /* Needs to be in here for Safari polyfill so background images work as expected. */\n",
       "                background-size: auto;\n",
       "            }\n",
       "            .progress-bar-interrupted, .progress-bar-interrupted::-webkit-progress-bar {\n",
       "                background: #F44336;\n",
       "            }\n",
       "        </style>\n",
       "      <progress value='4000' class='' max='4000' style='width:300px; height:20px; vertical-align: middle;'></progress>\n",
       "      100.00% [4000/4000 00:25<00:00 Sampling 2 chains, 0 divergences]\n",
       "    </div>\n",
       "    "
      ],
      "text/plain": [
       "<IPython.core.display.HTML object>"
      ]
     },
     "metadata": {},
     "output_type": "display_data"
    },
    {
     "name": "stderr",
     "output_type": "stream",
     "text": [
      "Sampling 2 chains for 1_000 tune and 1_000 draw iterations (2_000 + 2_000 draws total) took 26 seconds.\n"
     ]
    },
    {
     "data": {
      "image/png": "[encoded data removed]",
      "text/plain": [
       "<Figure size 864x144 with 2 Axes>"
      ]
     },
     "metadata": {
      "needs_background": "light"
     },
     "output_type": "display_data"
    }
   ],
   "source": [
    "with pm.Model() as grw:\n",
    "    grw = pm.GaussianRandomWalk('grw', mu=0, sd=0.5, shape=X.size)\n",
    "    \n",
    "    observed = pm.Normal('observed', mu=grw, sigma=Y.std(), observed=Y)\n",
    "    \n",
    "    trace = pm.sample(1000, tune=1000, progressbar=True, \n",
    "                          return_inferencedata=True)\n",
    "    summary = az.summary(trace) # used below\n",
    "    az.plot_trace(trace)  \n"
   ]
  },
  {
   "cell_type": "code",
   "execution_count": 103,
   "metadata": {},
   "outputs": [
    {
     "data": {
      "text/html": [
       "<div><svg style=\"position: absolute; width: 0; height: 0; overflow: hidden\">\n",
       "<defs>\n",
       "<symbol id=\"icon-database\" viewBox=\"0 0 32 32\">\n",
       "<path d=\"M16 0c-8.837 0-16 2.239-16 5v4c0 2.761 7.163 5 16 5s16-2.239 16-5v-4c0-2.761-7.163-5-16-5z\"></path>\n",
       "<path d=\"M16 17c-8.837 0-16-2.239-16-5v6c0 2.761 7.163 5 16 5s16-2.239 16-5v-6c0 2.761-7.163 5-16 5z\"></path>\n",
       "<path d=\"M16 26c-8.837 0-16-2.239-16-5v6c0 2.761 7.163 5 16 5s16-2.239 16-5v-6c0 2.761-7.163 5-16 5z\"></path>\n",
       "</symbol>\n",
       "<symbol id=\"icon-file-text2\" viewBox=\"0 0 32 32\">\n",
       "<path d=\"M28.681 7.159c-0.694-0.947-1.662-2.053-2.724-3.116s-2.169-2.030-3.116-2.724c-1.612-1.182-2.393-1.319-2.841-1.319h-15.5c-1.378 0-2.5 1.121-2.5 2.5v27c0 1.378 1.122 2.5 2.5 2.5h23c1.378 0 2.5-1.122 2.5-2.5v-19.5c0-0.448-0.137-1.23-1.319-2.841zM24.543 5.457c0.959 0.959 1.712 1.825 2.268 2.543h-4.811v-4.811c0.718 0.556 1.584 1.309 2.543 2.268zM28 29.5c0 0.271-0.229 0.5-0.5 0.5h-23c-0.271 0-0.5-0.229-0.5-0.5v-27c0-0.271 0.229-0.5 0.5-0.5 0 0 15.499-0 15.5 0v7c0 0.552 0.448 1 1 1h7v19.5z\"></path>\n",
       "<path d=\"M23 26h-14c-0.552 0-1-0.448-1-1s0.448-1 1-1h14c0.552 0 1 0.448 1 1s-0.448 1-1 1z\"></path>\n",
       "<path d=\"M23 22h-14c-0.552 0-1-0.448-1-1s0.448-1 1-1h14c0.552 0 1 0.448 1 1s-0.448 1-1 1z\"></path>\n",
       "<path d=\"M23 18h-14c-0.552 0-1-0.448-1-1s0.448-1 1-1h14c0.552 0 1 0.448 1 1s-0.448 1-1 1z\"></path>\n",
       "</symbol>\n",
       "</defs>\n",
       "</svg>\n",
       "<style>/* CSS stylesheet for displaying xarray objects in jupyterlab.\n",
       " *\n",
       " */\n",
       "\n",
       ":root {\n",
       "  --xr-font-color0: var(--jp-content-font-color0, rgba(0, 0, 0, 1));\n",
       "  --xr-font-color2: var(--jp-content-font-color2, rgba(0, 0, 0, 0.54));\n",
       "  --xr-font-color3: var(--jp-content-font-color3, rgba(0, 0, 0, 0.38));\n",
       "  --xr-border-color: var(--jp-border-color2, #e0e0e0);\n",
       "  --xr-disabled-color: var(--jp-layout-color3, #bdbdbd);\n",
       "  --xr-background-color: var(--jp-layout-color0, white);\n",
       "  --xr-background-color-row-even: var(--jp-layout-color1, white);\n",
       "  --xr-background-color-row-odd: var(--jp-layout-color2, #eeeeee);\n",
       "}\n",
       "\n",
       "html[theme=dark],\n",
       "body.vscode-dark {\n",
       "  --xr-font-color0: rgba(255, 255, 255, 1);\n",
       "  --xr-font-color2: rgba(255, 255, 255, 0.54);\n",
       "  --xr-font-color3: rgba(255, 255, 255, 0.38);\n",
       "  --xr-border-color: #1F1F1F;\n",
       "  --xr-disabled-color: #515151;\n",
       "  --xr-background-color: #111111;\n",
       "  --xr-background-color-row-even: #111111;\n",
       "  --xr-background-color-row-odd: #313131;\n",
       "}\n",
       "\n",
       ".xr-wrap {\n",
       "  display: block;\n",
       "  min-width: 300px;\n",
       "  max-width: 700px;\n",
       "}\n",
       "\n",
       ".xr-text-repr-fallback {\n",
       "  /* fallback to plain text repr when CSS is not injected (untrusted notebook) */\n",
       "  display: none;\n",
       "}\n",
       "\n",
       ".xr-header {\n",
       "  padding-top: 6px;\n",
       "  padding-bottom: 6px;\n",
       "  margin-bottom: 4px;\n",
       "  border-bottom: solid 1px var(--xr-border-color);\n",
       "}\n",
       "\n",
       ".xr-header > div,\n",
       ".xr-header > ul {\n",
       "  display: inline;\n",
       "  margin-top: 0;\n",
       "  margin-bottom: 0;\n",
       "}\n",
       "\n",
       ".xr-obj-type,\n",
       ".xr-array-name {\n",
       "  margin-left: 2px;\n",
       "  margin-right: 10px;\n",
       "}\n",
       "\n",
       ".xr-obj-type {\n",
       "  color: var(--xr-font-color2);\n",
       "}\n",
       "\n",
       ".xr-sections {\n",
       "  padding-left: 0 !important;\n",
       "  display: grid;\n",
       "  grid-template-columns: 150px auto auto 1fr 20px 20px;\n",
       "}\n",
       "\n",
       ".xr-section-item {\n",
       "  display: contents;\n",
       "}\n",
       "\n",
       ".xr-section-item input {\n",
       "  display: none;\n",
       "}\n",
       "\n",
       ".xr-section-item input + label {\n",
       "  color: var(--xr-disabled-color);\n",
       "}\n",
       "\n",
       ".xr-section-item input:enabled + label {\n",
       "  cursor: pointer;\n",
       "  color: var(--xr-font-color2);\n",
       "}\n",
       "\n",
       ".xr-section-item input:enabled + label:hover {\n",
       "  color: var(--xr-font-color0);\n",
       "}\n",
       "\n",
       ".xr-section-summary {\n",
       "  grid-column: 1;\n",
       "  color: var(--xr-font-color2);\n",
       "  font-weight: 500;\n",
       "}\n",
       "\n",
       ".xr-section-summary > span {\n",
       "  display: inline-block;\n",
       "  padding-left: 0.5em;\n",
       "}\n",
       "\n",
       ".xr-section-summary-in:disabled + label {\n",
       "  color: var(--xr-font-color2);\n",
       "}\n",
       "\n",
       ".xr-section-summary-in + label:before {\n",
       "  display: inline-block;\n",
       "  content: '►';\n",
       "  font-size: 11px;\n",
       "  width: 15px;\n",
       "  text-align: center;\n",
       "}\n",
       "\n",
       ".xr-section-summary-in:disabled + label:before {\n",
       "  color: var(--xr-disabled-color);\n",
       "}\n",
       "\n",
       ".xr-section-summary-in:checked + label:before {\n",
       "  content: '▼';\n",
       "}\n",
       "\n",
       ".xr-section-summary-in:checked + label > span {\n",
       "  display: none;\n",
       "}\n",
       "\n",
       ".xr-section-summary,\n",
       ".xr-section-inline-details {\n",
       "  padding-top: 4px;\n",
       "  padding-bottom: 4px;\n",
       "}\n",
       "\n",
       ".xr-section-inline-details {\n",
       "  grid-column: 2 / -1;\n",
       "}\n",
       "\n",
       ".xr-section-details {\n",
       "  display: none;\n",
       "  grid-column: 1 / -1;\n",
       "  margin-bottom: 5px;\n",
       "}\n",
       "\n",
       ".xr-section-summary-in:checked ~ .xr-section-details {\n",
       "  display: contents;\n",
       "}\n",
       "\n",
       ".xr-array-wrap {\n",
       "  grid-column: 1 / -1;\n",
       "  display: grid;\n",
       "  grid-template-columns: 20px auto;\n",
       "}\n",
       "\n",
       ".xr-array-wrap > label {\n",
       "  grid-column: 1;\n",
       "  vertical-align: top;\n",
       "}\n",
       "\n",
       ".xr-preview {\n",
       "  color: var(--xr-font-color3);\n",
       "}\n",
       "\n",
       ".xr-array-preview,\n",
       ".xr-array-data {\n",
       "  padding: 0 5px !important;\n",
       "  grid-column: 2;\n",
       "}\n",
       "\n",
       ".xr-array-data,\n",
       ".xr-array-in:checked ~ .xr-array-preview {\n",
       "  display: none;\n",
       "}\n",
       "\n",
       ".xr-array-in:checked ~ .xr-array-data,\n",
       ".xr-array-preview {\n",
       "  display: inline-block;\n",
       "}\n",
       "\n",
       ".xr-dim-list {\n",
       "  display: inline-block !important;\n",
       "  list-style: none;\n",
       "  padding: 0 !important;\n",
       "  margin: 0;\n",
       "}\n",
       "\n",
       ".xr-dim-list li {\n",
       "  display: inline-block;\n",
       "  padding: 0;\n",
       "  margin: 0;\n",
       "}\n",
       "\n",
       ".xr-dim-list:before {\n",
       "  content: '(';\n",
       "}\n",
       "\n",
       ".xr-dim-list:after {\n",
       "  content: ')';\n",
       "}\n",
       "\n",
       ".xr-dim-list li:not(:last-child):after {\n",
       "  content: ',';\n",
       "  padding-right: 5px;\n",
       "}\n",
       "\n",
       ".xr-has-index {\n",
       "  font-weight: bold;\n",
       "}\n",
       "\n",
       ".xr-var-list,\n",
       ".xr-var-item {\n",
       "  display: contents;\n",
       "}\n",
       "\n",
       ".xr-var-item > div,\n",
       ".xr-var-item label,\n",
       ".xr-var-item > .xr-var-name span {\n",
       "  background-color: var(--xr-background-color-row-even);\n",
       "  margin-bottom: 0;\n",
       "}\n",
       "\n",
       ".xr-var-item > .xr-var-name:hover span {\n",
       "  padding-right: 5px;\n",
       "}\n",
       "\n",
       ".xr-var-list > li:nth-child(odd) > div,\n",
       ".xr-var-list > li:nth-child(odd) > label,\n",
       ".xr-var-list > li:nth-child(odd) > .xr-var-name span {\n",
       "  background-color: var(--xr-background-color-row-odd);\n",
       "}\n",
       "\n",
       ".xr-var-name {\n",
       "  grid-column: 1;\n",
       "}\n",
       "\n",
       ".xr-var-dims {\n",
       "  grid-column: 2;\n",
       "}\n",
       "\n",
       ".xr-var-dtype {\n",
       "  grid-column: 3;\n",
       "  text-align: right;\n",
       "  color: var(--xr-font-color2);\n",
       "}\n",
       "\n",
       ".xr-var-preview {\n",
       "  grid-column: 4;\n",
       "}\n",
       "\n",
       ".xr-var-name,\n",
       ".xr-var-dims,\n",
       ".xr-var-dtype,\n",
       ".xr-preview,\n",
       ".xr-attrs dt {\n",
       "  white-space: nowrap;\n",
       "  overflow: hidden;\n",
       "  text-overflow: ellipsis;\n",
       "  padding-right: 10px;\n",
       "}\n",
       "\n",
       ".xr-var-name:hover,\n",
       ".xr-var-dims:hover,\n",
       ".xr-var-dtype:hover,\n",
       ".xr-attrs dt:hover {\n",
       "  overflow: visible;\n",
       "  width: auto;\n",
       "  z-index: 1;\n",
       "}\n",
       "\n",
       ".xr-var-attrs,\n",
       ".xr-var-data {\n",
       "  display: none;\n",
       "  background-color: var(--xr-background-color) !important;\n",
       "  padding-bottom: 5px !important;\n",
       "}\n",
       "\n",
       ".xr-var-attrs-in:checked ~ .xr-var-attrs,\n",
       ".xr-var-data-in:checked ~ .xr-var-data {\n",
       "  display: block;\n",
       "}\n",
       "\n",
       ".xr-var-data > table {\n",
       "  float: right;\n",
       "}\n",
       "\n",
       ".xr-var-name span,\n",
       ".xr-var-data,\n",
       ".xr-attrs {\n",
       "  padding-left: 25px !important;\n",
       "}\n",
       "\n",
       ".xr-attrs,\n",
       ".xr-var-attrs,\n",
       ".xr-var-data {\n",
       "  grid-column: 1 / -1;\n",
       "}\n",
       "\n",
       "dl.xr-attrs {\n",
       "  padding: 0;\n",
       "  margin: 0;\n",
       "  display: grid;\n",
       "  grid-template-columns: 125px auto;\n",
       "}\n",
       "\n",
       ".xr-attrs dt,\n",
       ".xr-attrs dd {\n",
       "  padding: 0;\n",
       "  margin: 0;\n",
       "  float: left;\n",
       "  padding-right: 10px;\n",
       "  width: auto;\n",
       "}\n",
       "\n",
       ".xr-attrs dt {\n",
       "  font-weight: normal;\n",
       "  grid-column: 1;\n",
       "}\n",
       "\n",
       ".xr-attrs dt:hover span {\n",
       "  display: inline-block;\n",
       "  background: var(--xr-background-color);\n",
       "  padding-right: 10px;\n",
       "}\n",
       "\n",
       ".xr-attrs dd {\n",
       "  grid-column: 2;\n",
       "  white-space: pre-wrap;\n",
       "  word-break: break-all;\n",
       "}\n",
       "\n",
       ".xr-icon-database,\n",
       ".xr-icon-file-text2 {\n",
       "  display: inline-block;\n",
       "  vertical-align: middle;\n",
       "  width: 1em;\n",
       "  height: 1.5em !important;\n",
       "  stroke-width: 0;\n",
       "  stroke: currentColor;\n",
       "  fill: currentColor;\n",
       "}\n",
       "</style><pre class='xr-text-repr-fallback'>&lt;xarray.DataArray &#x27;grw&#x27; (grw_dim_0: 99)&gt;\n",
       "array([13.43649353, 13.42616556, 13.4225122 , 13.46460091, 13.55031981,\n",
       "       13.63518278, 13.70380914, 13.77179822, 13.88000141, 14.00966734,\n",
       "       14.17242639, 14.39612188, 14.64789593, 14.90144233, 15.16628483,\n",
       "       15.4570348 , 15.76418916, 16.07820885, 16.40025629, 16.67418878,\n",
       "       16.90028282, 17.08507992, 17.26508605, 17.43599697, 17.5862444 ,\n",
       "       17.77015222, 17.94854217, 18.11735426, 18.29162675, 18.46029584,\n",
       "       18.65809631, 18.88730419, 19.10490989, 19.30054234, 19.51475448,\n",
       "       19.70630359, 19.87510022, 20.01252309, 20.1547198 , 20.29527061,\n",
       "       20.39623235, 20.49237039, 20.63380369, 20.77347195, 20.9362429 ,\n",
       "       21.10518427, 21.28574   , 21.47057832, 21.65784698, 21.84983884,\n",
       "       22.02557364, 22.1736855 , 22.31796035, 22.48404186, 22.62899428,\n",
       "       22.73145466, 22.79900582, 22.82885265, 22.86191451, 22.89712747,\n",
       "       22.93971991, 22.99692436, 23.03486297, 23.08261995, 23.12411774,\n",
       "       23.18140818, 23.26194612, 23.36783384, 23.4649037 , 23.55034071,\n",
       "       23.63820511, 23.68587677, 23.70253075, 23.76384584, 23.77609556,\n",
       "       23.79989992, 23.78657825, 23.79078797, 23.82318982, 23.85175309,\n",
       "       23.87746818, 23.8670398 , 23.83262033, 23.82054965, 23.81568928,\n",
       "       23.807648  , 23.7785671 , 23.74307363, 23.67096811, 23.5936479 ,\n",
       "       23.48399214, 23.41467047, 23.36404905, 23.37099697, 23.41187665,\n",
       "       23.48305858, 23.53305319, 23.56576134, 23.57678903])\n",
       "Coordinates:\n",
       "  * grw_dim_0  (grw_dim_0) int64 0 1 2 3 4 5 6 7 8 ... 91 92 93 94 95 96 97 98</pre><div class='xr-wrap' hidden><div class='xr-header'><div class='xr-obj-type'>xarray.DataArray</div><div class='xr-array-name'>'grw'</div><ul class='xr-dim-list'><li><span class='xr-has-index'>grw_dim_0</span>: 99</li></ul></div><ul class='xr-sections'><li class='xr-section-item'><div class='xr-array-wrap'><input id='section-b53d8f33-20f3-45cb-8d98-0087686eb267' class='xr-array-in' type='checkbox' checked><label for='section-b53d8f33-20f3-45cb-8d98-0087686eb267' title='Show/hide data repr'><svg class='icon xr-icon-database'><use xlink:href='#icon-database'></use></svg></label><div class='xr-array-preview xr-preview'><span>13.44 13.43 13.42 13.46 13.55 13.64 ... 23.41 23.48 23.53 23.57 23.58</span></div><div class='xr-array-data'><pre>array([13.43649353, 13.42616556, 13.4225122 , 13.46460091, 13.55031981,\n",
       "       13.63518278, 13.70380914, 13.77179822, 13.88000141, 14.00966734,\n",
       "       14.17242639, 14.39612188, 14.64789593, 14.90144233, 15.16628483,\n",
       "       15.4570348 , 15.76418916, 16.07820885, 16.40025629, 16.67418878,\n",
       "       16.90028282, 17.08507992, 17.26508605, 17.43599697, 17.5862444 ,\n",
       "       17.77015222, 17.94854217, 18.11735426, 18.29162675, 18.46029584,\n",
       "       18.65809631, 18.88730419, 19.10490989, 19.30054234, 19.51475448,\n",
       "       19.70630359, 19.87510022, 20.01252309, 20.1547198 , 20.29527061,\n",
       "       20.39623235, 20.49237039, 20.63380369, 20.77347195, 20.9362429 ,\n",
       "       21.10518427, 21.28574   , 21.47057832, 21.65784698, 21.84983884,\n",
       "       22.02557364, 22.1736855 , 22.31796035, 22.48404186, 22.62899428,\n",
       "       22.73145466, 22.79900582, 22.82885265, 22.86191451, 22.89712747,\n",
       "       22.93971991, 22.99692436, 23.03486297, 23.08261995, 23.12411774,\n",
       "       23.18140818, 23.26194612, 23.36783384, 23.4649037 , 23.55034071,\n",
       "       23.63820511, 23.68587677, 23.70253075, 23.76384584, 23.77609556,\n",
       "       23.79989992, 23.78657825, 23.79078797, 23.82318982, 23.85175309,\n",
       "       23.87746818, 23.8670398 , 23.83262033, 23.82054965, 23.81568928,\n",
       "       23.807648  , 23.7785671 , 23.74307363, 23.67096811, 23.5936479 ,\n",
       "       23.48399214, 23.41467047, 23.36404905, 23.37099697, 23.41187665,\n",
       "       23.48305858, 23.53305319, 23.56576134, 23.57678903])</pre></div></div></li><li class='xr-section-item'><input id='section-aa46392e-31d9-484d-9cd3-54540cf4963c' class='xr-section-summary-in' type='checkbox'  checked><label for='section-aa46392e-31d9-484d-9cd3-54540cf4963c' class='xr-section-summary' >Coordinates: <span>(1)</span></label><div class='xr-section-inline-details'></div><div class='xr-section-details'><ul class='xr-var-list'><li class='xr-var-item'><div class='xr-var-name'><span class='xr-has-index'>grw_dim_0</span></div><div class='xr-var-dims'>(grw_dim_0)</div><div class='xr-var-dtype'>int64</div><div class='xr-var-preview xr-preview'>0 1 2 3 4 5 6 ... 93 94 95 96 97 98</div><input id='attrs-1e0a4fa4-d833-4dfe-b556-8081d9800ab8' class='xr-var-attrs-in' type='checkbox' disabled><label for='attrs-1e0a4fa4-d833-4dfe-b556-8081d9800ab8' title='Show/Hide attributes'><svg class='icon xr-icon-file-text2'><use xlink:href='#icon-file-text2'></use></svg></label><input id='data-ed035dc8-20e8-4f43-b477-6e8cc0711d67' class='xr-var-data-in' type='checkbox'><label for='data-ed035dc8-20e8-4f43-b477-6e8cc0711d67' title='Show/Hide data repr'><svg class='icon xr-icon-database'><use xlink:href='#icon-database'></use></svg></label><div class='xr-var-attrs'><dl class='xr-attrs'></dl></div><div class='xr-var-data'><pre>array([ 0,  1,  2,  3,  4,  5,  6,  7,  8,  9, 10, 11, 12, 13, 14, 15, 16, 17,\n",
       "       18, 19, 20, 21, 22, 23, 24, 25, 26, 27, 28, 29, 30, 31, 32, 33, 34, 35,\n",
       "       36, 37, 38, 39, 40, 41, 42, 43, 44, 45, 46, 47, 48, 49, 50, 51, 52, 53,\n",
       "       54, 55, 56, 57, 58, 59, 60, 61, 62, 63, 64, 65, 66, 67, 68, 69, 70, 71,\n",
       "       72, 73, 74, 75, 76, 77, 78, 79, 80, 81, 82, 83, 84, 85, 86, 87, 88, 89,\n",
       "       90, 91, 92, 93, 94, 95, 96, 97, 98])</pre></div></li></ul></div></li><li class='xr-section-item'><input id='section-f040917b-0629-4c2e-9cf4-f5cd3a3d5fea' class='xr-section-summary-in' type='checkbox' disabled ><label for='section-f040917b-0629-4c2e-9cf4-f5cd3a3d5fea' class='xr-section-summary'  title='Expand/collapse section'>Attributes: <span>(0)</span></label><div class='xr-section-inline-details'></div><div class='xr-section-details'><dl class='xr-attrs'></dl></div></li></ul></div></div>"
      ],
      "text/plain": [
       "<xarray.DataArray 'grw' (grw_dim_0: 99)>\n",
       "array([13.43649353, 13.42616556, 13.4225122 , 13.46460091, 13.55031981,\n",
       "       13.63518278, 13.70380914, 13.77179822, 13.88000141, 14.00966734,\n",
       "       14.17242639, 14.39612188, 14.64789593, 14.90144233, 15.16628483,\n",
       "       15.4570348 , 15.76418916, 16.07820885, 16.40025629, 16.67418878,\n",
       "       16.90028282, 17.08507992, 17.26508605, 17.43599697, 17.5862444 ,\n",
       "       17.77015222, 17.94854217, 18.11735426, 18.29162675, 18.46029584,\n",
       "       18.65809631, 18.88730419, 19.10490989, 19.30054234, 19.51475448,\n",
       "       19.70630359, 19.87510022, 20.01252309, 20.1547198 , 20.29527061,\n",
       "       20.39623235, 20.49237039, 20.63380369, 20.77347195, 20.9362429 ,\n",
       "       21.10518427, 21.28574   , 21.47057832, 21.65784698, 21.84983884,\n",
       "       22.02557364, 22.1736855 , 22.31796035, 22.48404186, 22.62899428,\n",
       "       22.73145466, 22.79900582, 22.82885265, 22.86191451, 22.89712747,\n",
       "       22.93971991, 22.99692436, 23.03486297, 23.08261995, 23.12411774,\n",
       "       23.18140818, 23.26194612, 23.36783384, 23.4649037 , 23.55034071,\n",
       "       23.63820511, 23.68587677, 23.70253075, 23.76384584, 23.77609556,\n",
       "       23.79989992, 23.78657825, 23.79078797, 23.82318982, 23.85175309,\n",
       "       23.87746818, 23.8670398 , 23.83262033, 23.82054965, 23.81568928,\n",
       "       23.807648  , 23.7785671 , 23.74307363, 23.67096811, 23.5936479 ,\n",
       "       23.48399214, 23.41467047, 23.36404905, 23.37099697, 23.41187665,\n",
       "       23.48305858, 23.53305319, 23.56576134, 23.57678903])\n",
       "Coordinates:\n",
       "  * grw_dim_0  (grw_dim_0) int64 0 1 2 3 4 5 6 7 8 ... 91 92 93 94 95 96 97 98"
      ]
     },
     "execution_count": 103,
     "metadata": {},
     "output_type": "execute_result"
    }
   ],
   "source": [
    "trace.posterior.grw.mean(axis=0).mean(axis=0)"
   ]
  },
  {
   "cell_type": "code",
   "execution_count": 104,
   "metadata": {},
   "outputs": [
    {
     "data": {
      "text/plain": [
       "[<matplotlib.lines.Line2D at 0x7fd9890d1d30>]"
      ]
     },
     "execution_count": 104,
     "metadata": {},
     "output_type": "execute_result"
    },
    {
     "data": {
      "image/png": "[encoded data removed]",
      "text/plain": [
       "<Figure size 432x288 with 1 Axes>"
      ]
     },
     "metadata": {
      "needs_background": "light"
     },
     "output_type": "display_data"
    }
   ],
   "source": [
    "plt.scatter(X, Y)\n",
    "plt.plot(X, trace.posterior.grw.mean(axis=0).mean(axis=0))"
   ]
  },
  {
   "cell_type": "code",
   "execution_count": 105,
   "metadata": {},
   "outputs": [
    {
     "data": {
      "text/plain": [
       "(1000, 99)"
      ]
     },
     "execution_count": 105,
     "metadata": {},
     "output_type": "execute_result"
    }
   ],
   "source": [
    "# az.summary(trace)\n",
    "trace.posterior.grw.mean(axis=0).shape"
   ]
  },
  {
   "cell_type": "code",
   "execution_count": 106,
   "metadata": {},
   "outputs": [],
   "source": [
    "qs = np.quantile(trace.posterior.grw.mean(axis=0), q=[0.025, 0.5, 0.975], axis=0)\n"
   ]
  },
  {
   "cell_type": "code",
   "execution_count": 107,
   "metadata": {},
   "outputs": [
    {
     "data": {
      "text/plain": [
       "<matplotlib.collections.PolyCollection at 0x7fd989bf23a0>"
      ]
     },
     "execution_count": 107,
     "metadata": {},
     "output_type": "execute_result"
    },
    {
     "data": {
      "image/png": "[encoded data removed]",
      "text/plain": [
       "<Figure size 432x288 with 1 Axes>"
      ]
     },
     "metadata": {
      "needs_background": "light"
     },
     "output_type": "display_data"
    }
   ],
   "source": [
    "plt.scatter(X, Y)\n",
    "plt.plot(X, qs[1])\n",
    "plt.fill_between(x=X,y1=qs[0], y2=qs[2], alpha=0.3)"
   ]
  },
  {
   "cell_type": "code",
   "execution_count": 108,
   "metadata": {},
   "outputs": [
    {
     "data": {
      "text/plain": [
       "(19, 7)"
      ]
     },
     "execution_count": 108,
     "metadata": {},
     "output_type": "execute_result"
    }
   ],
   "source": [
    "df.shape"
   ]
  },
  {
   "cell_type": "code",
   "execution_count": 153,
   "metadata": {},
   "outputs": [],
   "source": [
    "YL = raw_df.query(\"partido == 'PT' \")[\"percentual\"]\n",
    "YL = YL.append(to_append=pd.Series([42, 36.9]))\n",
    "#YL = YL.append(to_append=pd.Series([np.nan]*10))\n",
    "\n",
    "XL = np.arange(YL.size)\n",
    "# XL = df_results_weekly.data\n",
    "# YL = YL.append(to_append=pd.Series([42]))\n",
    "# YL[10:13]=np.nan"
   ]
  },
  {
   "cell_type": "code",
   "execution_count": 162,
   "metadata": {},
   "outputs": [
    {
     "name": "stderr",
     "output_type": "stream",
     "text": [
      "Auto-assigning NUTS sampler...\n",
      "Initializing NUTS using jitter+adapt_diag...\n",
      "Multiprocess sampling (2 chains in 2 jobs)\n",
      "NUTS: [grw]\n"
     ]
    },
    {
     "data": {
      "text/html": [
       "\n",
       "    <div>\n",
       "        <style>\n",
       "            /* Turns off some styling */\n",
       "            progress {\n",
       "                /* gets rid of default border in Firefox and Opera. */\n",
       "                border: none;\n",
       "                /* Needs to be in here for Safari polyfill so background images work as expected. */\n",
       "                background-size: auto;\n",
       "            }\n",
       "            .progress-bar-interrupted, .progress-bar-interrupted::-webkit-progress-bar {\n",
       "                background: #F44336;\n",
       "            }\n",
       "        </style>\n",
       "      <progress value='3000' class='' max='3000' style='width:300px; height:20px; vertical-align: middle;'></progress>\n",
       "      100.00% [3000/3000 00:02<00:00 Sampling 2 chains, 0 divergences]\n",
       "    </div>\n",
       "    "
      ],
      "text/plain": [
       "<IPython.core.display.HTML object>"
      ]
     },
     "metadata": {},
     "output_type": "display_data"
    },
    {
     "name": "stderr",
     "output_type": "stream",
     "text": [
      "Sampling 2 chains for 500 tune and 1_000 draw iterations (1_000 + 2_000 draws total) took 3 seconds.\n"
     ]
    },
    {
     "data": {
      "image/png": "[encoded data removed]",
      "text/plain": [
       "<Figure size 864x144 with 2 Axes>"
      ]
     },
     "metadata": {
      "needs_background": "light"
     },
     "output_type": "display_data"
    }
   ],
   "source": [
    "with pm.Model() as grw:\n",
    "    \n",
    "    grw = pm.GaussianRandomWalk('grw', mu=0, sd=2.0, shape=XL.size)\n",
    "    \n",
    "    observed = pm.Normal('observed', mu=grw, sigma=YL.std(), observed=YL)\n",
    "    \n",
    "    trace = pm.sample(1000, tune=500, progressbar=True, \n",
    "                          return_inferencedata=True)\n",
    "    summary = az.summary(trace) # used below\n",
    "    az.plot_trace(trace)  \n"
   ]
  },
  {
   "cell_type": "code",
   "execution_count": 163,
   "metadata": {},
   "outputs": [
    {
     "name": "stdout",
     "output_type": "stream",
     "text": [
      "   data_pesquisa       LULA         LB          M         UB\n",
      "0     2021-11-04  44.444444  38.466307  42.066401  46.033083\n",
      "1     2021-11-06  48.000000  38.552986  41.821774  44.925552\n",
      "2     2021-11-19  34.900000  37.471761  40.105271  43.161514\n",
      "3     2021-11-20  37.000000  36.930973  39.624158  42.354933\n",
      "4     2021-11-24  34.343434  36.786958  39.615549  42.447322\n",
      "5     2021-11-29  42.800000  37.895652  40.740281  43.625312\n",
      "6     2021-12-05  46.000000  38.477736  41.434028  44.442660\n",
      "7     2021-12-09  37.000000  38.250816  41.245015  44.336199\n",
      "8     2021-12-11  42.800000  38.924618  41.869392  44.699384\n",
      "9     2021-12-13  42.950000  39.773636  42.856911  45.670932\n",
      "10    2021-12-16  45.782178  40.722140  43.594411  46.641604\n",
      "11    2021-12-21  40.000000  39.793505  42.762276  45.685466\n",
      "12    2022-01-09  45.918367  39.879712  42.860944  45.983699\n",
      "13    2022-01-12  43.137255  39.364131  42.458643  45.380658\n",
      "14    2022-01-13  41.414141  38.701078  41.681894  44.720361\n",
      "15    2022-01-20  42.000000  37.803210  41.112357  44.412896\n",
      "16    2022-01-26  36.900000  36.858510  40.480115  44.238046\n"
     ]
    },
    {
     "data": {
      "text/plain": [
       "<matplotlib.collections.PolyCollection at 0x7fd98add58e0>"
      ]
     },
     "execution_count": 163,
     "metadata": {},
     "output_type": "execute_result"
    },
    {
     "data": {
      "image/png": "[encoded data removed]",
      "text/plain": [
       "<Figure size 1440x576 with 1 Axes>"
      ]
     },
     "metadata": {
      "needs_background": "light"
     },
     "output_type": "display_data"
    }
   ],
   "source": [
    "qs = np.quantile(trace.posterior.grw.mean(axis=0), q=[0.025, 0.5, 0.975], axis=0)\n",
    "# print(qs)\n",
    "df_rand_walk = pd.DataFrame({'data_pesquisa': df.data_pesquisa, 'LULA': 100.0 * df.LULA/df.TOTAL, 'LB': qs[0], 'M':qs[1], 'UB':qs[2]})\n",
    "# print(df_rand_walk)\n",
    "table_rw = df_rand_walk.groupby('data_pesquisa').mean().reset_index(col_level=1).copy()\n",
    "table_rw.columns = table_rw.columns.to_flat_index()\n",
    "print(table_rw)\n",
    "\n",
    "plt.figure(figsize=(20,8))\n",
    "plt.ylim(30, 55)\n",
    "\n",
    "plt.scatter(table_rw.data_pesquisa, table_rw.LULA)\n",
    "plt.plot(table_rw.data_pesquisa, table_rw.M)\n",
    "plt.fill_between(x=table_rw.data_pesquisa, y1=table_rw.LB, y2=table_rw.UB, alpha=0.3)"
   ]
  },
  {
   "cell_type": "code",
   "execution_count": 169,
   "metadata": {},
   "outputs": [
    {
     "data": {
      "text/html": [
       "<div>\n",
       "<style scoped>\n",
       "    .dataframe tbody tr th:only-of-type {\n",
       "        vertical-align: middle;\n",
       "    }\n",
       "\n",
       "    .dataframe tbody tr th {\n",
       "        vertical-align: top;\n",
       "    }\n",
       "\n",
       "    .dataframe thead th {\n",
       "        text-align: right;\n",
       "    }\n",
       "</style>\n",
       "<table border=\"1\" class=\"dataframe\">\n",
       "  <thead>\n",
       "    <tr style=\"text-align: right;\">\n",
       "      <th></th>\n",
       "      <th>data</th>\n",
       "      <th>LulaLB</th>\n",
       "      <th>LulaM</th>\n",
       "      <th>LulaUB</th>\n",
       "      <th>DemaisLB</th>\n",
       "      <th>DemaisM</th>\n",
       "      <th>DemaisUB</th>\n",
       "      <th>LULA</th>\n",
       "      <th>DEMAIS</th>\n",
       "      <th>TOTAL</th>\n",
       "    </tr>\n",
       "  </thead>\n",
       "  <tbody>\n",
       "    <tr>\n",
       "      <th>0</th>\n",
       "      <td>2021-11-04</td>\n",
       "      <td>0.385354</td>\n",
       "      <td>0.409091</td>\n",
       "      <td>0.433333</td>\n",
       "      <td>0.420202</td>\n",
       "      <td>0.443939</td>\n",
       "      <td>0.467172</td>\n",
       "      <td>880.000</td>\n",
       "      <td>660.000</td>\n",
       "      <td>1980.0</td>\n",
       "    </tr>\n",
       "    <tr>\n",
       "      <th>0</th>\n",
       "      <td>2021-11-06</td>\n",
       "      <td>0.395439</td>\n",
       "      <td>0.418244</td>\n",
       "      <td>0.441533</td>\n",
       "      <td>0.411936</td>\n",
       "      <td>0.435711</td>\n",
       "      <td>0.458515</td>\n",
       "      <td>990.240</td>\n",
       "      <td>783.940</td>\n",
       "      <td>2063.0</td>\n",
       "    </tr>\n",
       "    <tr>\n",
       "      <th>0</th>\n",
       "      <td>2021-11-19</td>\n",
       "      <td>0.387017</td>\n",
       "      <td>0.409812</td>\n",
       "      <td>0.432607</td>\n",
       "      <td>0.421705</td>\n",
       "      <td>0.445491</td>\n",
       "      <td>0.467790</td>\n",
       "      <td>704.980</td>\n",
       "      <td>1044.340</td>\n",
       "      <td>2020.0</td>\n",
       "    </tr>\n",
       "    <tr>\n",
       "      <th>0</th>\n",
       "      <td>2021-11-20</td>\n",
       "      <td>0.381500</td>\n",
       "      <td>0.405500</td>\n",
       "      <td>0.429000</td>\n",
       "      <td>0.435500</td>\n",
       "      <td>0.459000</td>\n",
       "      <td>0.482000</td>\n",
       "      <td>740.000</td>\n",
       "      <td>1118.000</td>\n",
       "      <td>2000.0</td>\n",
       "    </tr>\n",
       "    <tr>\n",
       "      <th>0</th>\n",
       "      <td>2021-11-24</td>\n",
       "      <td>0.376566</td>\n",
       "      <td>0.396768</td>\n",
       "      <td>0.417374</td>\n",
       "      <td>0.452121</td>\n",
       "      <td>0.473939</td>\n",
       "      <td>0.494141</td>\n",
       "      <td>850.000</td>\n",
       "      <td>1400.000</td>\n",
       "      <td>2475.0</td>\n",
       "    </tr>\n",
       "    <tr>\n",
       "      <th>0</th>\n",
       "      <td>2021-11-29</td>\n",
       "      <td>0.386451</td>\n",
       "      <td>0.402591</td>\n",
       "      <td>0.418050</td>\n",
       "      <td>0.470789</td>\n",
       "      <td>0.486929</td>\n",
       "      <td>0.502842</td>\n",
       "      <td>1883.628</td>\n",
       "      <td>2376.540</td>\n",
       "      <td>4401.0</td>\n",
       "    </tr>\n",
       "    <tr>\n",
       "      <th>0</th>\n",
       "      <td>2021-12-05</td>\n",
       "      <td>0.384086</td>\n",
       "      <td>0.406680</td>\n",
       "      <td>0.427800</td>\n",
       "      <td>0.460216</td>\n",
       "      <td>0.482318</td>\n",
       "      <td>0.504912</td>\n",
       "      <td>937.020</td>\n",
       "      <td>855.540</td>\n",
       "      <td>2037.0</td>\n",
       "    </tr>\n",
       "    <tr>\n",
       "      <th>0</th>\n",
       "      <td>2021-12-09</td>\n",
       "      <td>0.376667</td>\n",
       "      <td>0.404167</td>\n",
       "      <td>0.433333</td>\n",
       "      <td>0.453333</td>\n",
       "      <td>0.483333</td>\n",
       "      <td>0.512500</td>\n",
       "      <td>444.000</td>\n",
       "      <td>600.000</td>\n",
       "      <td>1200.0</td>\n",
       "    </tr>\n",
       "    <tr>\n",
       "      <th>0</th>\n",
       "      <td>2021-12-11</td>\n",
       "      <td>0.385500</td>\n",
       "      <td>0.409000</td>\n",
       "      <td>0.432000</td>\n",
       "      <td>0.448500</td>\n",
       "      <td>0.471500</td>\n",
       "      <td>0.496000</td>\n",
       "      <td>856.856</td>\n",
       "      <td>838.838</td>\n",
       "      <td>2002.0</td>\n",
       "    </tr>\n",
       "    <tr>\n",
       "      <th>0</th>\n",
       "      <td>2021-12-13</td>\n",
       "      <td>0.382500</td>\n",
       "      <td>0.405000</td>\n",
       "      <td>0.428000</td>\n",
       "      <td>0.456000</td>\n",
       "      <td>0.480000</td>\n",
       "      <td>0.503500</td>\n",
       "      <td>758.000</td>\n",
       "      <td>1072.000</td>\n",
       "      <td>2000.0</td>\n",
       "    </tr>\n",
       "    <tr>\n",
       "      <th>0</th>\n",
       "      <td>2021-12-13</td>\n",
       "      <td>0.391500</td>\n",
       "      <td>0.414500</td>\n",
       "      <td>0.438000</td>\n",
       "      <td>0.444000</td>\n",
       "      <td>0.467500</td>\n",
       "      <td>0.490500</td>\n",
       "      <td>960.960</td>\n",
       "      <td>760.760</td>\n",
       "      <td>2002.0</td>\n",
       "    </tr>\n",
       "    <tr>\n",
       "      <th>0</th>\n",
       "      <td>2021-12-16</td>\n",
       "      <td>0.410753</td>\n",
       "      <td>0.427675</td>\n",
       "      <td>0.445415</td>\n",
       "      <td>0.440768</td>\n",
       "      <td>0.457969</td>\n",
       "      <td>0.475437</td>\n",
       "      <td>1759.680</td>\n",
       "      <td>1539.720</td>\n",
       "      <td>3666.0</td>\n",
       "    </tr>\n",
       "    <tr>\n",
       "      <th>0</th>\n",
       "      <td>2021-12-16</td>\n",
       "      <td>0.397030</td>\n",
       "      <td>0.427723</td>\n",
       "      <td>0.459406</td>\n",
       "      <td>0.424752</td>\n",
       "      <td>0.457426</td>\n",
       "      <td>0.488119</td>\n",
       "      <td>440.000</td>\n",
       "      <td>450.000</td>\n",
       "      <td>1010.0</td>\n",
       "    </tr>\n",
       "    <tr>\n",
       "      <th>0</th>\n",
       "      <td>2021-12-21</td>\n",
       "      <td>0.401000</td>\n",
       "      <td>0.420667</td>\n",
       "      <td>0.441000</td>\n",
       "      <td>0.446000</td>\n",
       "      <td>0.466000</td>\n",
       "      <td>0.485667</td>\n",
       "      <td>1200.000</td>\n",
       "      <td>1470.000</td>\n",
       "      <td>3000.0</td>\n",
       "    </tr>\n",
       "    <tr>\n",
       "      <th>0</th>\n",
       "      <td>2022-01-09</td>\n",
       "      <td>0.402041</td>\n",
       "      <td>0.424490</td>\n",
       "      <td>0.447959</td>\n",
       "      <td>0.437755</td>\n",
       "      <td>0.461224</td>\n",
       "      <td>0.483673</td>\n",
       "      <td>900.000</td>\n",
       "      <td>820.000</td>\n",
       "      <td>1960.0</td>\n",
       "    </tr>\n",
       "    <tr>\n",
       "      <th>0</th>\n",
       "      <td>2022-01-12</td>\n",
       "      <td>0.393137</td>\n",
       "      <td>0.424510</td>\n",
       "      <td>0.456863</td>\n",
       "      <td>0.428431</td>\n",
       "      <td>0.459804</td>\n",
       "      <td>0.491176</td>\n",
       "      <td>440.000</td>\n",
       "      <td>450.000</td>\n",
       "      <td>1020.0</td>\n",
       "    </tr>\n",
       "    <tr>\n",
       "      <th>0</th>\n",
       "      <td>2022-01-13</td>\n",
       "      <td>0.396633</td>\n",
       "      <td>0.422896</td>\n",
       "      <td>0.450505</td>\n",
       "      <td>0.435017</td>\n",
       "      <td>0.462626</td>\n",
       "      <td>0.488889</td>\n",
       "      <td>615.000</td>\n",
       "      <td>705.000</td>\n",
       "      <td>1485.0</td>\n",
       "    </tr>\n",
       "    <tr>\n",
       "      <th>0</th>\n",
       "      <td>2022-01-20</td>\n",
       "      <td>0.403704</td>\n",
       "      <td>0.423232</td>\n",
       "      <td>0.443098</td>\n",
       "      <td>0.440404</td>\n",
       "      <td>0.460943</td>\n",
       "      <td>0.480808</td>\n",
       "      <td>1260.000</td>\n",
       "      <td>1350.000</td>\n",
       "      <td>3000.0</td>\n",
       "    </tr>\n",
       "    <tr>\n",
       "      <th>0</th>\n",
       "      <td>2022-01-26</td>\n",
       "      <td>0.395500</td>\n",
       "      <td>0.418500</td>\n",
       "      <td>0.440500</td>\n",
       "      <td>0.443500</td>\n",
       "      <td>0.467000</td>\n",
       "      <td>0.490000</td>\n",
       "      <td>738.000</td>\n",
       "      <td>1048.000</td>\n",
       "      <td>2000.0</td>\n",
       "    </tr>\n",
       "  </tbody>\n",
       "</table>\n",
       "</div>"
      ],
      "text/plain": [
       "         data    LulaLB     LulaM    LulaUB  DemaisLB   DemaisM  DemaisUB  \\\n",
       "0  2021-11-04  0.385354  0.409091  0.433333  0.420202  0.443939  0.467172   \n",
       "0  2021-11-06  0.395439  0.418244  0.441533  0.411936  0.435711  0.458515   \n",
       "0  2021-11-19  0.387017  0.409812  0.432607  0.421705  0.445491  0.467790   \n",
       "0  2021-11-20  0.381500  0.405500  0.429000  0.435500  0.459000  0.482000   \n",
       "0  2021-11-24  0.376566  0.396768  0.417374  0.452121  0.473939  0.494141   \n",
       "0  2021-11-29  0.386451  0.402591  0.418050  0.470789  0.486929  0.502842   \n",
       "0  2021-12-05  0.384086  0.406680  0.427800  0.460216  0.482318  0.504912   \n",
       "0  2021-12-09  0.376667  0.404167  0.433333  0.453333  0.483333  0.512500   \n",
       "0  2021-12-11  0.385500  0.409000  0.432000  0.448500  0.471500  0.496000   \n",
       "0  2021-12-13  0.382500  0.405000  0.428000  0.456000  0.480000  0.503500   \n",
       "0  2021-12-13  0.391500  0.414500  0.438000  0.444000  0.467500  0.490500   \n",
       "0  2021-12-16  0.410753  0.427675  0.445415  0.440768  0.457969  0.475437   \n",
       "0  2021-12-16  0.397030  0.427723  0.459406  0.424752  0.457426  0.488119   \n",
       "0  2021-12-21  0.401000  0.420667  0.441000  0.446000  0.466000  0.485667   \n",
       "0  2022-01-09  0.402041  0.424490  0.447959  0.437755  0.461224  0.483673   \n",
       "0  2022-01-12  0.393137  0.424510  0.456863  0.428431  0.459804  0.491176   \n",
       "0  2022-01-13  0.396633  0.422896  0.450505  0.435017  0.462626  0.488889   \n",
       "0  2022-01-20  0.403704  0.423232  0.443098  0.440404  0.460943  0.480808   \n",
       "0  2022-01-26  0.395500  0.418500  0.440500  0.443500  0.467000  0.490000   \n",
       "\n",
       "       LULA    DEMAIS   TOTAL  \n",
       "0   880.000   660.000  1980.0  \n",
       "0   990.240   783.940  2063.0  \n",
       "0   704.980  1044.340  2020.0  \n",
       "0   740.000  1118.000  2000.0  \n",
       "0   850.000  1400.000  2475.0  \n",
       "0  1883.628  2376.540  4401.0  \n",
       "0   937.020   855.540  2037.0  \n",
       "0   444.000   600.000  1200.0  \n",
       "0   856.856   838.838  2002.0  \n",
       "0   758.000  1072.000  2000.0  \n",
       "0   960.960   760.760  2002.0  \n",
       "0  1759.680  1539.720  3666.0  \n",
       "0   440.000   450.000  1010.0  \n",
       "0  1200.000  1470.000  3000.0  \n",
       "0   900.000   820.000  1960.0  \n",
       "0   440.000   450.000  1020.0  \n",
       "0   615.000   705.000  1485.0  \n",
       "0  1260.000  1350.000  3000.0  \n",
       "0   738.000  1048.000  2000.0  "
      ]
     },
     "execution_count": 169,
     "metadata": {},
     "output_type": "execute_result"
    }
   ],
   "source": [
    "df_results_weekly['LULA'] = df.LULA.values\n",
    "df_results_weekly['DEMAIS'] = df.OUTROS.values\n",
    "df_results_weekly['TOTAL'] = df.TOTAL.values\n",
    "\n",
    "df_results_weekly"
   ]
  },
  {
   "cell_type": "code",
   "execution_count": 140,
   "metadata": {},
   "outputs": [],
   "source": [
    "# YL = YL/100.0\n",
    "# dfrw.data.values[-1]\n"
   ]
  },
  {
   "cell_type": "code",
   "execution_count": 181,
   "metadata": {},
   "outputs": [
    {
     "data": {
      "image/png": "[encoded data removed]",
      "text/plain": [
       "<Figure size 1440x576 with 1 Axes>"
      ]
     },
     "metadata": {
      "needs_background": "light"
     },
     "output_type": "display_data"
    }
   ],
   "source": [
    "dfrw = df_results_weekly.groupby('data').mean().reset_index(col_level=1).copy()\n",
    "dfrw.columns = dfrw.columns.to_flat_index()\n",
    "# print(dfrw)\n",
    "plt.figure(figsize=(20,8))\n",
    "plt.title(\"Eleições presidenciais 2022: Agregador das pesquisas\")\n",
    "plt.ylim(0.30, 0.55)\n",
    "plt.yticks(np.arange(0.30, 0.55, 0.01))\n",
    "\n",
    "plt.scatter(dfrw.data, dfrw.LULA/dfrw.TOTAL, color='red')\n",
    "plt.scatter(dfrw.data, dfrw[\"DEMAIS\"]/dfrw[\"TOTAL\"], color='gray')\n",
    "plt.plot(dfrw.data, dfrw.LulaM, color='red', label=\"Lula\")\n",
    "plt.fill_between(x=dfrw.data, y1=dfrw.LulaLB, y2=dfrw.LulaUB, alpha=0.2, color='red')\n",
    "plt.plot(dfrw.data, dfrw.DemaisM, color='gray', label=\"Demais\")\n",
    "plt.fill_between(x=dfrw.data, y1=dfrw.DemaisLB, y2=dfrw.DemaisUB, alpha=0.2, color='gray')\n",
    "\n",
    "plt.text(dfrw.data.values[-1], dfrw.LulaUB.values[-1]-.001, f'{dfrw.LulaUB.values[-1] * 100:.2f}%', color='red')\n",
    "plt.text(dfrw.data.values[-1], dfrw.LulaM.values[-1]-.001, f'{dfrw.LulaM.values[-1] * 100:.2f}%', color='red')\n",
    "plt.text(dfrw.data.values[-1], dfrw.LulaLB.values[-1]-.001, f'{dfrw.LulaLB.values[-1] * 100:.2f}%', color='red')\n",
    "\n",
    "plt.text(dfrw.data.values[-1], dfrw.DemaisUB.values[-1]-.001, f'{dfrw.DemaisUB.values[-1] * 100:.2f}%', color='gray')\n",
    "plt.text(dfrw.data.values[-1], dfrw.DemaisM.values[-1]-.001, f'{dfrw.DemaisM.values[-1] * 100:.2f}%', color='gray')\n",
    "plt.text(dfrw.data.values[-1], dfrw.DemaisLB.values[-1]-.001, f'{dfrw.DemaisLB.values[-1] * 100:.2f}%', color='gray')\n",
    "plt.legend(loc='lower right')\n",
    "plt.show()"
   ]
  },
  {
   "cell_type": "code",
   "execution_count": 142,
   "metadata": {},
   "outputs": [
    {
     "data": {
      "text/html": [
       "<div>\n",
       "<style scoped>\n",
       "    .dataframe tbody tr th:only-of-type {\n",
       "        vertical-align: middle;\n",
       "    }\n",
       "\n",
       "    .dataframe tbody tr th {\n",
       "        vertical-align: top;\n",
       "    }\n",
       "\n",
       "    .dataframe thead th {\n",
       "        text-align: right;\n",
       "    }\n",
       "</style>\n",
       "<table border=\"1\" class=\"dataframe\">\n",
       "  <thead>\n",
       "    <tr style=\"text-align: right;\">\n",
       "      <th></th>\n",
       "      <th>data_pesquisa</th>\n",
       "      <th>instituto</th>\n",
       "      <th>LULA</th>\n",
       "      <th>NULO</th>\n",
       "      <th>OUTROS</th>\n",
       "      <th>TOTAL</th>\n",
       "      <th>mes</th>\n",
       "    </tr>\n",
       "  </thead>\n",
       "  <tbody>\n",
       "    <tr>\n",
       "      <th>0</th>\n",
       "      <td>100</td>\n",
       "      <td>100</td>\n",
       "      <td>100.000</td>\n",
       "      <td>100.000</td>\n",
       "      <td>100.000</td>\n",
       "      <td>100.0</td>\n",
       "      <td>100</td>\n",
       "    </tr>\n",
       "    <tr>\n",
       "      <th>1</th>\n",
       "      <td>2021-11-04</td>\n",
       "      <td>Vox Populi</td>\n",
       "      <td>880.000</td>\n",
       "      <td>440.000</td>\n",
       "      <td>660.000</td>\n",
       "      <td>1980.0</td>\n",
       "      <td>2021_11</td>\n",
       "    </tr>\n",
       "    <tr>\n",
       "      <th>2</th>\n",
       "      <td>2021-11-06</td>\n",
       "      <td>Quaest</td>\n",
       "      <td>990.240</td>\n",
       "      <td>288.820</td>\n",
       "      <td>783.940</td>\n",
       "      <td>2063.0</td>\n",
       "      <td>2021_11</td>\n",
       "    </tr>\n",
       "    <tr>\n",
       "      <th>3</th>\n",
       "      <td>2021-11-19</td>\n",
       "      <td>Paraná Pesquisas</td>\n",
       "      <td>704.980</td>\n",
       "      <td>270.680</td>\n",
       "      <td>1044.340</td>\n",
       "      <td>2020.0</td>\n",
       "      <td>2021_11</td>\n",
       "    </tr>\n",
       "    <tr>\n",
       "      <th>4</th>\n",
       "      <td>2021-11-20</td>\n",
       "      <td>Futura</td>\n",
       "      <td>740.000</td>\n",
       "      <td>142.000</td>\n",
       "      <td>1118.000</td>\n",
       "      <td>2000.0</td>\n",
       "      <td>2021_11</td>\n",
       "    </tr>\n",
       "    <tr>\n",
       "      <th>5</th>\n",
       "      <td>2021-11-24</td>\n",
       "      <td>PoderData</td>\n",
       "      <td>850.000</td>\n",
       "      <td>225.000</td>\n",
       "      <td>1400.000</td>\n",
       "      <td>2475.0</td>\n",
       "      <td>2021_11</td>\n",
       "    </tr>\n",
       "    <tr>\n",
       "      <th>6</th>\n",
       "      <td>2021-11-29</td>\n",
       "      <td>Atlas</td>\n",
       "      <td>1883.628</td>\n",
       "      <td>140.832</td>\n",
       "      <td>2376.540</td>\n",
       "      <td>4401.0</td>\n",
       "      <td>2021_11</td>\n",
       "    </tr>\n",
       "    <tr>\n",
       "      <th>7</th>\n",
       "      <td>2021-12-05</td>\n",
       "      <td>Quaest</td>\n",
       "      <td>937.020</td>\n",
       "      <td>244.440</td>\n",
       "      <td>855.540</td>\n",
       "      <td>2037.0</td>\n",
       "      <td>2021_12</td>\n",
       "    </tr>\n",
       "    <tr>\n",
       "      <th>8</th>\n",
       "      <td>2021-12-09</td>\n",
       "      <td>Ideia Big Data</td>\n",
       "      <td>444.000</td>\n",
       "      <td>156.000</td>\n",
       "      <td>600.000</td>\n",
       "      <td>1200.0</td>\n",
       "      <td>2021_12</td>\n",
       "    </tr>\n",
       "    <tr>\n",
       "      <th>9</th>\n",
       "      <td>2021-12-11</td>\n",
       "      <td>MDA</td>\n",
       "      <td>856.856</td>\n",
       "      <td>306.306</td>\n",
       "      <td>838.838</td>\n",
       "      <td>2002.0</td>\n",
       "      <td>2021_12</td>\n",
       "    </tr>\n",
       "    <tr>\n",
       "      <th>10</th>\n",
       "      <td>2021-12-13</td>\n",
       "      <td>Futura</td>\n",
       "      <td>758.000</td>\n",
       "      <td>170.000</td>\n",
       "      <td>1072.000</td>\n",
       "      <td>2000.0</td>\n",
       "      <td>2021_12</td>\n",
       "    </tr>\n",
       "    <tr>\n",
       "      <th>11</th>\n",
       "      <td>2021-12-13</td>\n",
       "      <td>Ipec</td>\n",
       "      <td>960.960</td>\n",
       "      <td>280.280</td>\n",
       "      <td>760.760</td>\n",
       "      <td>2002.0</td>\n",
       "      <td>2021_12</td>\n",
       "    </tr>\n",
       "    <tr>\n",
       "      <th>12</th>\n",
       "      <td>2021-12-16</td>\n",
       "      <td>Datafolha</td>\n",
       "      <td>1759.680</td>\n",
       "      <td>366.600</td>\n",
       "      <td>1539.720</td>\n",
       "      <td>3666.0</td>\n",
       "      <td>2021_12</td>\n",
       "    </tr>\n",
       "    <tr>\n",
       "      <th>13</th>\n",
       "      <td>2021-12-16</td>\n",
       "      <td>Ipespe</td>\n",
       "      <td>440.000</td>\n",
       "      <td>120.000</td>\n",
       "      <td>450.000</td>\n",
       "      <td>1010.0</td>\n",
       "      <td>2021_12</td>\n",
       "    </tr>\n",
       "    <tr>\n",
       "      <th>14</th>\n",
       "      <td>2021-12-21</td>\n",
       "      <td>PoderData</td>\n",
       "      <td>1200.000</td>\n",
       "      <td>330.000</td>\n",
       "      <td>1470.000</td>\n",
       "      <td>3000.0</td>\n",
       "      <td>2021_12</td>\n",
       "    </tr>\n",
       "    <tr>\n",
       "      <th>15</th>\n",
       "      <td>2022-01-09</td>\n",
       "      <td>Quaest</td>\n",
       "      <td>900.000</td>\n",
       "      <td>240.000</td>\n",
       "      <td>820.000</td>\n",
       "      <td>1960.0</td>\n",
       "      <td>2022_01</td>\n",
       "    </tr>\n",
       "    <tr>\n",
       "      <th>16</th>\n",
       "      <td>2022-01-12</td>\n",
       "      <td>Ipespe</td>\n",
       "      <td>440.000</td>\n",
       "      <td>130.000</td>\n",
       "      <td>450.000</td>\n",
       "      <td>1020.0</td>\n",
       "      <td>2022_01</td>\n",
       "    </tr>\n",
       "    <tr>\n",
       "      <th>0</th>\n",
       "      <td>100</td>\n",
       "      <td>100</td>\n",
       "      <td>100.000</td>\n",
       "      <td>100.000</td>\n",
       "      <td>100.000</td>\n",
       "      <td>100.0</td>\n",
       "      <td>100</td>\n",
       "    </tr>\n",
       "    <tr>\n",
       "      <th>0</th>\n",
       "      <td>100</td>\n",
       "      <td>100</td>\n",
       "      <td>100.000</td>\n",
       "      <td>100.000</td>\n",
       "      <td>100.000</td>\n",
       "      <td>100.0</td>\n",
       "      <td>100</td>\n",
       "    </tr>\n",
       "  </tbody>\n",
       "</table>\n",
       "</div>"
      ],
      "text/plain": [
       "   data_pesquisa         instituto      LULA     NULO    OUTROS   TOTAL  \\\n",
       "0            100               100   100.000  100.000   100.000   100.0   \n",
       "1     2021-11-04        Vox Populi   880.000  440.000   660.000  1980.0   \n",
       "2     2021-11-06            Quaest   990.240  288.820   783.940  2063.0   \n",
       "3     2021-11-19  Paraná Pesquisas   704.980  270.680  1044.340  2020.0   \n",
       "4     2021-11-20            Futura   740.000  142.000  1118.000  2000.0   \n",
       "5     2021-11-24         PoderData   850.000  225.000  1400.000  2475.0   \n",
       "6     2021-11-29             Atlas  1883.628  140.832  2376.540  4401.0   \n",
       "7     2021-12-05            Quaest   937.020  244.440   855.540  2037.0   \n",
       "8     2021-12-09    Ideia Big Data   444.000  156.000   600.000  1200.0   \n",
       "9     2021-12-11               MDA   856.856  306.306   838.838  2002.0   \n",
       "10    2021-12-13            Futura   758.000  170.000  1072.000  2000.0   \n",
       "11    2021-12-13              Ipec   960.960  280.280   760.760  2002.0   \n",
       "12    2021-12-16         Datafolha  1759.680  366.600  1539.720  3666.0   \n",
       "13    2021-12-16            Ipespe   440.000  120.000   450.000  1010.0   \n",
       "14    2021-12-21         PoderData  1200.000  330.000  1470.000  3000.0   \n",
       "15    2022-01-09            Quaest   900.000  240.000   820.000  1960.0   \n",
       "16    2022-01-12            Ipespe   440.000  130.000   450.000  1020.0   \n",
       "0            100               100   100.000  100.000   100.000   100.0   \n",
       "0            100               100   100.000  100.000   100.000   100.0   \n",
       "\n",
       "        mes  \n",
       "0       100  \n",
       "1   2021_11  \n",
       "2   2021_11  \n",
       "3   2021_11  \n",
       "4   2021_11  \n",
       "5   2021_11  \n",
       "6   2021_11  \n",
       "7   2021_12  \n",
       "8   2021_12  \n",
       "9   2021_12  \n",
       "10  2021_12  \n",
       "11  2021_12  \n",
       "12  2021_12  \n",
       "13  2021_12  \n",
       "14  2021_12  \n",
       "15  2022_01  \n",
       "16  2022_01  \n",
       "0       100  \n",
       "0       100  "
      ]
     },
     "execution_count": 142,
     "metadata": {},
     "output_type": "execute_result"
    }
   ],
   "source": [
    "new_df = df.shift(1).copy()\n",
    "new_df.loc[0,:] = np.array([100,100,100,100,100,100,100])\n",
    "new_df\n"
   ]
  },
  {
   "cell_type": "markdown",
   "metadata": {},
   "source": [
    "## Modelo diário"
   ]
  },
  {
   "cell_type": "code",
   "execution_count": null,
   "metadata": {},
   "outputs": [],
   "source": []
  }
 ],
 "metadata": {
  "interpreter": {
   "hash": "037a033ce234ff666f14cbdf22ea40000c7774c5ff2d9a18fd075477cf956e1c"
  },
  "kernelspec": {
   "display_name": "Python 3.9.6 64-bit ('kaggle_env': conda)",
   "language": "python",
   "name": "python3"
  },
  "language_info": {
   "codemirror_mode": {
    "name": "ipython",
    "version": 3
   },
   "file_extension": ".py",
   "mimetype": "text/x-python",
   "name": "python",
   "nbconvert_exporter": "python",
   "pygments_lexer": "ipython3",
   "version": "3.9.6"
  },
  "orig_nbformat": 4
 },
 "nbformat": 4,
 "nbformat_minor": 2
}
