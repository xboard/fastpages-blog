{
 "cells": [
  {
   "cell_type": "markdown",
   "metadata": {},
   "source": [
    "# Collecting Brazil's 2022 presidential election polls data\n",
    "> A tutorial on how to collect, filter and prepare for analysis Brazil's 2022 presidential election polls data.\n",
    "\n",
    "- toc: true \n",
    "- badges: true\n",
    "- comments: true\n",
    "- categories: [data-science]\n",
    "- hide: false\n",
    "- search_exclude: false\n",
    "- image: images/chart-preview.png"
   ]
  },
  {
   "cell_type": "markdown",
   "metadata": {},
   "source": [
    "## Context\n",
    "\n",
    "This year [more than 146 million fellow Brazilian](https://www.tse.jus.br/eleitor/estatisticas-de-eleitorado/consulta-quantitativo) are going to choose our new President..."
   ]
  },
  {
   "cell_type": "markdown",
   "metadata": {},
   "source": [
    "## Data sources\n",
    "\n",
    "### Pool data\n",
    "- [Poder360 polls database](https://www.poder360.com.br/banco-de-dados/)\n",
    "### Voters statistics\n",
    "\n",
    "- [TSE: Voters statistics by Region](https://www.tse.jus.br/eleitor/estatisticas-de-eleitorado/consulta-quantitativo)\n",
    "- [TSE: Voters statistics by sex and age](https://www.tse.jus.br/eleitor/estatisticas-de-eleitorado/estatistica-do-eleitorado-por-sexo-e-faixa-etaria)\n",
    "\n",
    "### Dashboard\n",
    "- [App](https://chance-lula-ganhar-1o-turno.github.io/)\n",
    "- [Repositório: Chance de Lula ganhar no primeiro turno](https://github.com/chance-lula-ganhar-1o-turno)\n",
    "  "
   ]
  },
  {
   "cell_type": "markdown",
   "metadata": {},
   "source": [
    "## EDA"
   ]
  },
  {
   "cell_type": "markdown",
   "metadata": {},
   "source": [
    "### Importing libraries"
   ]
  },
  {
   "cell_type": "code",
   "execution_count": 1,
   "metadata": {},
   "outputs": [],
   "source": [
    "import pandas as pd\n",
    "import scipy.stats as stats\n",
    "import pymc3 as pm\n",
    "import arviz as az\n",
    "import matplotlib.pyplot as plt\n",
    "from pathlib import Path\n",
    "\n",
    "pd.set_option('display.max_columns', None)\n",
    "pd.set_option('display.max_rows', None)"
   ]
  },
  {
   "cell_type": "code",
   "execution_count": 2,
   "metadata": {},
   "outputs": [
    {
     "data": {
      "text/html": [
       "<div>\n",
       "<style scoped>\n",
       "    .dataframe tbody tr th:only-of-type {\n",
       "        vertical-align: middle;\n",
       "    }\n",
       "\n",
       "    .dataframe tbody tr th {\n",
       "        vertical-align: top;\n",
       "    }\n",
       "\n",
       "    .dataframe thead th {\n",
       "        text-align: right;\n",
       "    }\n",
       "</style>\n",
       "<table border=\"1\" class=\"dataframe\">\n",
       "  <thead>\n",
       "    <tr style=\"text-align: right;\">\n",
       "      <th></th>\n",
       "      <th>pesquisa_id</th>\n",
       "      <th>ano</th>\n",
       "      <th>unidades_federativas_id</th>\n",
       "      <th>cargos_id</th>\n",
       "      <th>tipo_id</th>\n",
       "      <th>turno</th>\n",
       "      <th>instituto_id</th>\n",
       "      <th>cenario_id</th>\n",
       "      <th>candidatos_id</th>\n",
       "      <th>condicao</th>\n",
       "      <th>percentual</th>\n",
       "      <th>margem_mais</th>\n",
       "      <th>margem_menos</th>\n",
       "      <th>num_registro</th>\n",
       "      <th>orgao_registro</th>\n",
       "      <th>qtd_entrevistas</th>\n",
       "      <th>partidos_id</th>\n",
       "      <th>cidade</th>\n",
       "    </tr>\n",
       "  </thead>\n",
       "  <tbody>\n",
       "    <tr>\n",
       "      <th>count</th>\n",
       "      <td>299.000000</td>\n",
       "      <td>299.0</td>\n",
       "      <td>299.0</td>\n",
       "      <td>299.0</td>\n",
       "      <td>299.0</td>\n",
       "      <td>299.000000</td>\n",
       "      <td>299.00000</td>\n",
       "      <td>299.000000</td>\n",
       "      <td>299.000000</td>\n",
       "      <td>299.000000</td>\n",
       "      <td>299.000000</td>\n",
       "      <td>299.000000</td>\n",
       "      <td>299.000000</td>\n",
       "      <td>0.0</td>\n",
       "      <td>0.0</td>\n",
       "      <td>299.000000</td>\n",
       "      <td>299.000000</td>\n",
       "      <td>0.0</td>\n",
       "    </tr>\n",
       "    <tr>\n",
       "      <th>mean</th>\n",
       "      <td>9761.675585</td>\n",
       "      <td>2022.0</td>\n",
       "      <td>6.0</td>\n",
       "      <td>3.0</td>\n",
       "      <td>2.0</td>\n",
       "      <td>1.434783</td>\n",
       "      <td>188.58194</td>\n",
       "      <td>24655.598662</td>\n",
       "      <td>1901.418060</td>\n",
       "      <td>0.341137</td>\n",
       "      <td>18.041137</td>\n",
       "      <td>2.408027</td>\n",
       "      <td>2.408027</td>\n",
       "      <td>NaN</td>\n",
       "      <td>NaN</td>\n",
       "      <td>2111.200669</td>\n",
       "      <td>16.956522</td>\n",
       "      <td>NaN</td>\n",
       "    </tr>\n",
       "    <tr>\n",
       "      <th>std</th>\n",
       "      <td>4.821488</td>\n",
       "      <td>0.0</td>\n",
       "      <td>0.0</td>\n",
       "      <td>0.0</td>\n",
       "      <td>0.0</td>\n",
       "      <td>0.496560</td>\n",
       "      <td>130.21952</td>\n",
       "      <td>30.562393</td>\n",
       "      <td>1890.381209</td>\n",
       "      <td>0.474886</td>\n",
       "      <td>17.174248</td>\n",
       "      <td>0.468543</td>\n",
       "      <td>0.468543</td>\n",
       "      <td>NaN</td>\n",
       "      <td>NaN</td>\n",
       "      <td>891.841771</td>\n",
       "      <td>16.514427</td>\n",
       "      <td>NaN</td>\n",
       "    </tr>\n",
       "    <tr>\n",
       "      <th>min</th>\n",
       "      <td>9755.000000</td>\n",
       "      <td>2022.0</td>\n",
       "      <td>6.0</td>\n",
       "      <td>3.0</td>\n",
       "      <td>2.0</td>\n",
       "      <td>1.000000</td>\n",
       "      <td>39.00000</td>\n",
       "      <td>24603.000000</td>\n",
       "      <td>209.000000</td>\n",
       "      <td>0.000000</td>\n",
       "      <td>0.000000</td>\n",
       "      <td>2.000000</td>\n",
       "      <td>2.000000</td>\n",
       "      <td>NaN</td>\n",
       "      <td>NaN</td>\n",
       "      <td>1000.000000</td>\n",
       "      <td>1.000000</td>\n",
       "      <td>NaN</td>\n",
       "    </tr>\n",
       "    <tr>\n",
       "      <th>25%</th>\n",
       "      <td>9758.000000</td>\n",
       "      <td>2022.0</td>\n",
       "      <td>6.0</td>\n",
       "      <td>3.0</td>\n",
       "      <td>2.0</td>\n",
       "      <td>1.000000</td>\n",
       "      <td>64.00000</td>\n",
       "      <td>24638.500000</td>\n",
       "      <td>706.000000</td>\n",
       "      <td>0.000000</td>\n",
       "      <td>3.000000</td>\n",
       "      <td>2.000000</td>\n",
       "      <td>2.000000</td>\n",
       "      <td>NaN</td>\n",
       "      <td>NaN</td>\n",
       "      <td>1200.000000</td>\n",
       "      <td>1.000000</td>\n",
       "      <td>NaN</td>\n",
       "    </tr>\n",
       "    <tr>\n",
       "      <th>50%</th>\n",
       "      <td>9761.000000</td>\n",
       "      <td>2022.0</td>\n",
       "      <td>6.0</td>\n",
       "      <td>3.0</td>\n",
       "      <td>2.0</td>\n",
       "      <td>1.000000</td>\n",
       "      <td>94.00000</td>\n",
       "      <td>24656.000000</td>\n",
       "      <td>973.000000</td>\n",
       "      <td>0.000000</td>\n",
       "      <td>10.000000</td>\n",
       "      <td>2.200000</td>\n",
       "      <td>2.200000</td>\n",
       "      <td>NaN</td>\n",
       "      <td>NaN</td>\n",
       "      <td>2002.000000</td>\n",
       "      <td>15.000000</td>\n",
       "      <td>NaN</td>\n",
       "    </tr>\n",
       "    <tr>\n",
       "      <th>75%</th>\n",
       "      <td>9766.000000</td>\n",
       "      <td>2022.0</td>\n",
       "      <td>6.0</td>\n",
       "      <td>3.0</td>\n",
       "      <td>2.0</td>\n",
       "      <td>2.000000</td>\n",
       "      <td>332.00000</td>\n",
       "      <td>24681.000000</td>\n",
       "      <td>1706.500000</td>\n",
       "      <td>1.000000</td>\n",
       "      <td>31.000000</td>\n",
       "      <td>3.000000</td>\n",
       "      <td>3.000000</td>\n",
       "      <td>NaN</td>\n",
       "      <td>NaN</td>\n",
       "      <td>3000.000000</td>\n",
       "      <td>33.000000</td>\n",
       "      <td>NaN</td>\n",
       "    </tr>\n",
       "    <tr>\n",
       "      <th>max</th>\n",
       "      <td>9769.000000</td>\n",
       "      <td>2022.0</td>\n",
       "      <td>6.0</td>\n",
       "      <td>3.0</td>\n",
       "      <td>2.0</td>\n",
       "      <td>2.000000</td>\n",
       "      <td>356.00000</td>\n",
       "      <td>24706.000000</td>\n",
       "      <td>6057.000000</td>\n",
       "      <td>1.000000</td>\n",
       "      <td>60.000000</td>\n",
       "      <td>3.200000</td>\n",
       "      <td>3.200000</td>\n",
       "      <td>NaN</td>\n",
       "      <td>NaN</td>\n",
       "      <td>3666.000000</td>\n",
       "      <td>62.000000</td>\n",
       "      <td>NaN</td>\n",
       "    </tr>\n",
       "  </tbody>\n",
       "</table>\n",
       "</div>"
      ],
      "text/plain": [
       "       pesquisa_id     ano  unidades_federativas_id  cargos_id  tipo_id  \\\n",
       "count   299.000000   299.0                    299.0      299.0    299.0   \n",
       "mean   9761.675585  2022.0                      6.0        3.0      2.0   \n",
       "std       4.821488     0.0                      0.0        0.0      0.0   \n",
       "min    9755.000000  2022.0                      6.0        3.0      2.0   \n",
       "25%    9758.000000  2022.0                      6.0        3.0      2.0   \n",
       "50%    9761.000000  2022.0                      6.0        3.0      2.0   \n",
       "75%    9766.000000  2022.0                      6.0        3.0      2.0   \n",
       "max    9769.000000  2022.0                      6.0        3.0      2.0   \n",
       "\n",
       "            turno  instituto_id    cenario_id  candidatos_id    condicao  \\\n",
       "count  299.000000     299.00000    299.000000     299.000000  299.000000   \n",
       "mean     1.434783     188.58194  24655.598662    1901.418060    0.341137   \n",
       "std      0.496560     130.21952     30.562393    1890.381209    0.474886   \n",
       "min      1.000000      39.00000  24603.000000     209.000000    0.000000   \n",
       "25%      1.000000      64.00000  24638.500000     706.000000    0.000000   \n",
       "50%      1.000000      94.00000  24656.000000     973.000000    0.000000   \n",
       "75%      2.000000     332.00000  24681.000000    1706.500000    1.000000   \n",
       "max      2.000000     356.00000  24706.000000    6057.000000    1.000000   \n",
       "\n",
       "       percentual  margem_mais  margem_menos  num_registro  orgao_registro  \\\n",
       "count  299.000000   299.000000    299.000000           0.0             0.0   \n",
       "mean    18.041137     2.408027      2.408027           NaN             NaN   \n",
       "std     17.174248     0.468543      0.468543           NaN             NaN   \n",
       "min      0.000000     2.000000      2.000000           NaN             NaN   \n",
       "25%      3.000000     2.000000      2.000000           NaN             NaN   \n",
       "50%     10.000000     2.200000      2.200000           NaN             NaN   \n",
       "75%     31.000000     3.000000      3.000000           NaN             NaN   \n",
       "max     60.000000     3.200000      3.200000           NaN             NaN   \n",
       "\n",
       "       qtd_entrevistas  partidos_id  cidade  \n",
       "count       299.000000   299.000000     0.0  \n",
       "mean       2111.200669    16.956522     NaN  \n",
       "std         891.841771    16.514427     NaN  \n",
       "min        1000.000000     1.000000     NaN  \n",
       "25%        1200.000000     1.000000     NaN  \n",
       "50%        2002.000000    15.000000     NaN  \n",
       "75%        3000.000000    33.000000     NaN  \n",
       "max        3666.000000    62.000000     NaN  "
      ]
     },
     "execution_count": 2,
     "metadata": {},
     "output_type": "execute_result"
    }
   ],
   "source": [
    "data_dir = Path('../assets/data/elections2022')\n",
    "november_df = pd.read_csv(data_dir / '2021_11.csv', sep=';')\n",
    "december_df = pd.read_csv(data_dir / '2021_12.csv', sep=';')\n",
    "december_df.describe()"
   ]
  },
  {
   "cell_type": "markdown",
   "metadata": {},
   "source": [
    "Lets filter our dataframe to have just the columns we will use."
   ]
  },
  {
   "cell_type": "code",
   "execution_count": 3,
   "metadata": {},
   "outputs": [],
   "source": [
    "columns_to_use = [\"pesquisa_id\", \"cenario_id\",\"turno\", \"partido\", \"candidato\", \"cenario_descricao\", \"instituto\", \"percentual\", \"data_referencia\", \"qtd_entrevistas\"]\n",
    "december_simple_df = december_df[columns_to_use].copy()\n",
    "november_simple_df = november_df[columns_to_use].copy()"
   ]
  },
  {
   "cell_type": "markdown",
   "metadata": {},
   "source": [
    "##### Getting invalid votes intentions (first turn).\n",
    "\n",
    "Grouped by `pesquisa_id`, `cenario_id` and `turno == 1`"
   ]
  },
  {
   "cell_type": "code",
   "execution_count": 4,
   "metadata": {},
   "outputs": [
    {
     "data": {
      "text/html": [
       "<div>\n",
       "<style scoped>\n",
       "    .dataframe tbody tr th:only-of-type {\n",
       "        vertical-align: middle;\n",
       "    }\n",
       "\n",
       "    .dataframe tbody tr th {\n",
       "        vertical-align: top;\n",
       "    }\n",
       "\n",
       "    .dataframe thead th {\n",
       "        text-align: right;\n",
       "    }\n",
       "</style>\n",
       "<table border=\"1\" class=\"dataframe\">\n",
       "  <thead>\n",
       "    <tr style=\"text-align: right;\">\n",
       "      <th></th>\n",
       "      <th>pesquisa_id</th>\n",
       "      <th>cenario_id</th>\n",
       "      <th>turno</th>\n",
       "      <th>partido</th>\n",
       "      <th>candidato</th>\n",
       "      <th>cenario_descricao</th>\n",
       "      <th>instituto</th>\n",
       "      <th>percentual</th>\n",
       "      <th>data_referencia</th>\n",
       "      <th>qtd_entrevistas</th>\n",
       "    </tr>\n",
       "  </thead>\n",
       "  <tbody>\n",
       "    <tr>\n",
       "      <th>0</th>\n",
       "      <td>9764</td>\n",
       "      <td>24661</td>\n",
       "      <td>1</td>\n",
       "      <td>NaN</td>\n",
       "      <td>branco / nulo / nenhum</td>\n",
       "      <td>cenário 1 - estimulado - 1º turno</td>\n",
       "      <td>Datafolha</td>\n",
       "      <td>8.0</td>\n",
       "      <td>13-16.dez.2021</td>\n",
       "      <td>3666</td>\n",
       "    </tr>\n",
       "    <tr>\n",
       "      <th>33</th>\n",
       "      <td>9764</td>\n",
       "      <td>24662</td>\n",
       "      <td>1</td>\n",
       "      <td>NaN</td>\n",
       "      <td>branco / nulo / nenhum</td>\n",
       "      <td>cenário 2 - estimulado - 1º turno</td>\n",
       "      <td>Datafolha</td>\n",
       "      <td>8.0</td>\n",
       "      <td>13-16.dez.2021</td>\n",
       "      <td>3666</td>\n",
       "    </tr>\n",
       "    <tr>\n",
       "      <th>34</th>\n",
       "      <td>9764</td>\n",
       "      <td>24662</td>\n",
       "      <td>1</td>\n",
       "      <td>NaN</td>\n",
       "      <td>não sabe</td>\n",
       "      <td>cenário 2 - estimulado - 1º turno</td>\n",
       "      <td>Datafolha</td>\n",
       "      <td>2.0</td>\n",
       "      <td>13-16.dez.2021</td>\n",
       "      <td>3666</td>\n",
       "    </tr>\n",
       "    <tr>\n",
       "      <th>41</th>\n",
       "      <td>9764</td>\n",
       "      <td>24661</td>\n",
       "      <td>1</td>\n",
       "      <td>NaN</td>\n",
       "      <td>não sabe</td>\n",
       "      <td>cenário 1 - estimulado - 1º turno</td>\n",
       "      <td>Datafolha</td>\n",
       "      <td>2.0</td>\n",
       "      <td>13-16.dez.2021</td>\n",
       "      <td>3666</td>\n",
       "    </tr>\n",
       "    <tr>\n",
       "      <th>48</th>\n",
       "      <td>9760</td>\n",
       "      <td>24647</td>\n",
       "      <td>1</td>\n",
       "      <td>NaN</td>\n",
       "      <td>nenhum / não sabe / não respondeu</td>\n",
       "      <td>cenário 1 - estimulado - 1º turno</td>\n",
       "      <td>Futura</td>\n",
       "      <td>3.7</td>\n",
       "      <td>7-13.dez.2021</td>\n",
       "      <td>2000</td>\n",
       "    </tr>\n",
       "    <tr>\n",
       "      <th>50</th>\n",
       "      <td>9760</td>\n",
       "      <td>24647</td>\n",
       "      <td>1</td>\n",
       "      <td>NaN</td>\n",
       "      <td>branco / nulo</td>\n",
       "      <td>cenário 1 - estimulado - 1º turno</td>\n",
       "      <td>Futura</td>\n",
       "      <td>4.8</td>\n",
       "      <td>7-13.dez.2021</td>\n",
       "      <td>2000</td>\n",
       "    </tr>\n",
       "    <tr>\n",
       "      <th>62</th>\n",
       "      <td>9760</td>\n",
       "      <td>24648</td>\n",
       "      <td>1</td>\n",
       "      <td>NaN</td>\n",
       "      <td>não sabe / não respondeu</td>\n",
       "      <td>cenário 2 - estimulado - 1º turno</td>\n",
       "      <td>Futura</td>\n",
       "      <td>3.2</td>\n",
       "      <td>7-13.dez.2021</td>\n",
       "      <td>2000</td>\n",
       "    </tr>\n",
       "    <tr>\n",
       "      <th>63</th>\n",
       "      <td>9760</td>\n",
       "      <td>24648</td>\n",
       "      <td>1</td>\n",
       "      <td>NaN</td>\n",
       "      <td>branco / nulo</td>\n",
       "      <td>cenário 2 - estimulado - 1º turno</td>\n",
       "      <td>Futura</td>\n",
       "      <td>7.7</td>\n",
       "      <td>7-13.dez.2021</td>\n",
       "      <td>2000</td>\n",
       "    </tr>\n",
       "    <tr>\n",
       "      <th>65</th>\n",
       "      <td>9760</td>\n",
       "      <td>24649</td>\n",
       "      <td>1</td>\n",
       "      <td>NaN</td>\n",
       "      <td>nenhum / não sabe / não respondeu</td>\n",
       "      <td>cenário 3 - estimulado - 1º turno</td>\n",
       "      <td>Futura</td>\n",
       "      <td>2.4</td>\n",
       "      <td>7-13.dez.2021</td>\n",
       "      <td>2000</td>\n",
       "    </tr>\n",
       "    <tr>\n",
       "      <th>66</th>\n",
       "      <td>9760</td>\n",
       "      <td>24649</td>\n",
       "      <td>1</td>\n",
       "      <td>NaN</td>\n",
       "      <td>branco / nulo</td>\n",
       "      <td>cenário 3 - estimulado - 1º turno</td>\n",
       "      <td>Futura</td>\n",
       "      <td>4.6</td>\n",
       "      <td>7-13.dez.2021</td>\n",
       "      <td>2000</td>\n",
       "    </tr>\n",
       "    <tr>\n",
       "      <th>71</th>\n",
       "      <td>9760</td>\n",
       "      <td>24650</td>\n",
       "      <td>1</td>\n",
       "      <td>NaN</td>\n",
       "      <td>indeciso / não sabe / não respondeu</td>\n",
       "      <td>cenário 4 - estimulado - 1º turno</td>\n",
       "      <td>Futura</td>\n",
       "      <td>2.4</td>\n",
       "      <td>7-13.dez.2021</td>\n",
       "      <td>2000</td>\n",
       "    </tr>\n",
       "    <tr>\n",
       "      <th>72</th>\n",
       "      <td>9760</td>\n",
       "      <td>24650</td>\n",
       "      <td>1</td>\n",
       "      <td>NaN</td>\n",
       "      <td>branco / nulo</td>\n",
       "      <td>cenário 4 - estimulado - 1º turno</td>\n",
       "      <td>Futura</td>\n",
       "      <td>5.5</td>\n",
       "      <td>7-13.dez.2021</td>\n",
       "      <td>2000</td>\n",
       "    </tr>\n",
       "    <tr>\n",
       "      <th>109</th>\n",
       "      <td>9758</td>\n",
       "      <td>24638</td>\n",
       "      <td>1</td>\n",
       "      <td>NaN</td>\n",
       "      <td>não sabe</td>\n",
       "      <td>cenário 3 - estimulado - 1º turno</td>\n",
       "      <td>Ideia Big Data</td>\n",
       "      <td>2.0</td>\n",
       "      <td>6-9.dez.2021</td>\n",
       "      <td>1200</td>\n",
       "    </tr>\n",
       "    <tr>\n",
       "      <th>113</th>\n",
       "      <td>9758</td>\n",
       "      <td>24638</td>\n",
       "      <td>1</td>\n",
       "      <td>NaN</td>\n",
       "      <td>branco / nulo / nenhum</td>\n",
       "      <td>cenário 3 - estimulado - 1º turno</td>\n",
       "      <td>Ideia Big Data</td>\n",
       "      <td>8.0</td>\n",
       "      <td>6-9.dez.2021</td>\n",
       "      <td>1200</td>\n",
       "    </tr>\n",
       "    <tr>\n",
       "      <th>119</th>\n",
       "      <td>9758</td>\n",
       "      <td>24639</td>\n",
       "      <td>1</td>\n",
       "      <td>NaN</td>\n",
       "      <td>branco / nulo / nenhum</td>\n",
       "      <td>cenário 4 - estimulado - 1º turno</td>\n",
       "      <td>Ideia Big Data</td>\n",
       "      <td>4.0</td>\n",
       "      <td>6-9.dez.2021</td>\n",
       "      <td>1200</td>\n",
       "    </tr>\n",
       "    <tr>\n",
       "      <th>120</th>\n",
       "      <td>9758</td>\n",
       "      <td>24639</td>\n",
       "      <td>1</td>\n",
       "      <td>NaN</td>\n",
       "      <td>não sabe</td>\n",
       "      <td>cenário 4 - estimulado - 1º turno</td>\n",
       "      <td>Ideia Big Data</td>\n",
       "      <td>2.0</td>\n",
       "      <td>6-9.dez.2021</td>\n",
       "      <td>1200</td>\n",
       "    </tr>\n",
       "    <tr>\n",
       "      <th>137</th>\n",
       "      <td>9758</td>\n",
       "      <td>24636</td>\n",
       "      <td>1</td>\n",
       "      <td>NaN</td>\n",
       "      <td>branco / nulo / nenhum</td>\n",
       "      <td>cenário 1 - estimulado - 1º turno</td>\n",
       "      <td>Ideia Big Data</td>\n",
       "      <td>10.0</td>\n",
       "      <td>6-9.dez.2021</td>\n",
       "      <td>1200</td>\n",
       "    </tr>\n",
       "    <tr>\n",
       "      <th>138</th>\n",
       "      <td>9758</td>\n",
       "      <td>24636</td>\n",
       "      <td>1</td>\n",
       "      <td>NaN</td>\n",
       "      <td>não sabe</td>\n",
       "      <td>cenário 1 - estimulado - 1º turno</td>\n",
       "      <td>Ideia Big Data</td>\n",
       "      <td>3.0</td>\n",
       "      <td>6-9.dez.2021</td>\n",
       "      <td>1200</td>\n",
       "    </tr>\n",
       "    <tr>\n",
       "      <th>139</th>\n",
       "      <td>9758</td>\n",
       "      <td>24637</td>\n",
       "      <td>1</td>\n",
       "      <td>NaN</td>\n",
       "      <td>branco / nulo / nenhum</td>\n",
       "      <td>cenário 2 - estimulado - 1º turno</td>\n",
       "      <td>Ideia Big Data</td>\n",
       "      <td>11.0</td>\n",
       "      <td>6-9.dez.2021</td>\n",
       "      <td>1200</td>\n",
       "    </tr>\n",
       "    <tr>\n",
       "      <th>140</th>\n",
       "      <td>9758</td>\n",
       "      <td>24637</td>\n",
       "      <td>1</td>\n",
       "      <td>NaN</td>\n",
       "      <td>não sabe</td>\n",
       "      <td>cenário 2 - estimulado - 1º turno</td>\n",
       "      <td>Ideia Big Data</td>\n",
       "      <td>3.0</td>\n",
       "      <td>6-9.dez.2021</td>\n",
       "      <td>1200</td>\n",
       "    </tr>\n",
       "  </tbody>\n",
       "</table>\n",
       "</div>"
      ],
      "text/plain": [
       "     pesquisa_id  cenario_id  turno partido  \\\n",
       "0           9764       24661      1     NaN   \n",
       "33          9764       24662      1     NaN   \n",
       "34          9764       24662      1     NaN   \n",
       "41          9764       24661      1     NaN   \n",
       "48          9760       24647      1     NaN   \n",
       "50          9760       24647      1     NaN   \n",
       "62          9760       24648      1     NaN   \n",
       "63          9760       24648      1     NaN   \n",
       "65          9760       24649      1     NaN   \n",
       "66          9760       24649      1     NaN   \n",
       "71          9760       24650      1     NaN   \n",
       "72          9760       24650      1     NaN   \n",
       "109         9758       24638      1     NaN   \n",
       "113         9758       24638      1     NaN   \n",
       "119         9758       24639      1     NaN   \n",
       "120         9758       24639      1     NaN   \n",
       "137         9758       24636      1     NaN   \n",
       "138         9758       24636      1     NaN   \n",
       "139         9758       24637      1     NaN   \n",
       "140         9758       24637      1     NaN   \n",
       "\n",
       "                               candidato                  cenario_descricao  \\\n",
       "0                 branco / nulo / nenhum  cenário 1 - estimulado - 1º turno   \n",
       "33                branco / nulo / nenhum  cenário 2 - estimulado - 1º turno   \n",
       "34                              não sabe  cenário 2 - estimulado - 1º turno   \n",
       "41                              não sabe  cenário 1 - estimulado - 1º turno   \n",
       "48     nenhum / não sabe / não respondeu  cenário 1 - estimulado - 1º turno   \n",
       "50                         branco / nulo  cenário 1 - estimulado - 1º turno   \n",
       "62              não sabe / não respondeu  cenário 2 - estimulado - 1º turno   \n",
       "63                         branco / nulo  cenário 2 - estimulado - 1º turno   \n",
       "65     nenhum / não sabe / não respondeu  cenário 3 - estimulado - 1º turno   \n",
       "66                         branco / nulo  cenário 3 - estimulado - 1º turno   \n",
       "71   indeciso / não sabe / não respondeu  cenário 4 - estimulado - 1º turno   \n",
       "72                         branco / nulo  cenário 4 - estimulado - 1º turno   \n",
       "109                             não sabe  cenário 3 - estimulado - 1º turno   \n",
       "113               branco / nulo / nenhum  cenário 3 - estimulado - 1º turno   \n",
       "119               branco / nulo / nenhum  cenário 4 - estimulado - 1º turno   \n",
       "120                             não sabe  cenário 4 - estimulado - 1º turno   \n",
       "137               branco / nulo / nenhum  cenário 1 - estimulado - 1º turno   \n",
       "138                             não sabe  cenário 1 - estimulado - 1º turno   \n",
       "139               branco / nulo / nenhum  cenário 2 - estimulado - 1º turno   \n",
       "140                             não sabe  cenário 2 - estimulado - 1º turno   \n",
       "\n",
       "          instituto  percentual data_referencia  qtd_entrevistas  \n",
       "0         Datafolha         8.0  13-16.dez.2021             3666  \n",
       "33        Datafolha         8.0  13-16.dez.2021             3666  \n",
       "34        Datafolha         2.0  13-16.dez.2021             3666  \n",
       "41        Datafolha         2.0  13-16.dez.2021             3666  \n",
       "48           Futura         3.7   7-13.dez.2021             2000  \n",
       "50           Futura         4.8   7-13.dez.2021             2000  \n",
       "62           Futura         3.2   7-13.dez.2021             2000  \n",
       "63           Futura         7.7   7-13.dez.2021             2000  \n",
       "65           Futura         2.4   7-13.dez.2021             2000  \n",
       "66           Futura         4.6   7-13.dez.2021             2000  \n",
       "71           Futura         2.4   7-13.dez.2021             2000  \n",
       "72           Futura         5.5   7-13.dez.2021             2000  \n",
       "109  Ideia Big Data         2.0    6-9.dez.2021             1200  \n",
       "113  Ideia Big Data         8.0    6-9.dez.2021             1200  \n",
       "119  Ideia Big Data         4.0    6-9.dez.2021             1200  \n",
       "120  Ideia Big Data         2.0    6-9.dez.2021             1200  \n",
       "137  Ideia Big Data        10.0    6-9.dez.2021             1200  \n",
       "138  Ideia Big Data         3.0    6-9.dez.2021             1200  \n",
       "139  Ideia Big Data        11.0    6-9.dez.2021             1200  \n",
       "140  Ideia Big Data         3.0    6-9.dez.2021             1200  "
      ]
     },
     "execution_count": 4,
     "metadata": {},
     "output_type": "execute_result"
    }
   ],
   "source": [
    "december_simple_df[(december_simple_df.turno==1) & (december_simple_df.partido.isna())].head(20)"
   ]
  },
  {
   "cell_type": "markdown",
   "metadata": {},
   "source": [
    "#### Lula vote intentions (first turn)\n"
   ]
  },
  {
   "cell_type": "code",
   "execution_count": 5,
   "metadata": {},
   "outputs": [
    {
     "data": {
      "text/html": [
       "<div>\n",
       "<style scoped>\n",
       "    .dataframe tbody tr th:only-of-type {\n",
       "        vertical-align: middle;\n",
       "    }\n",
       "\n",
       "    .dataframe tbody tr th {\n",
       "        vertical-align: top;\n",
       "    }\n",
       "\n",
       "    .dataframe thead th {\n",
       "        text-align: right;\n",
       "    }\n",
       "</style>\n",
       "<table border=\"1\" class=\"dataframe\">\n",
       "  <thead>\n",
       "    <tr style=\"text-align: right;\">\n",
       "      <th></th>\n",
       "      <th>pesquisa_id</th>\n",
       "      <th>cenario_id</th>\n",
       "      <th>turno</th>\n",
       "      <th>partido</th>\n",
       "      <th>candidato</th>\n",
       "      <th>cenario_descricao</th>\n",
       "      <th>instituto</th>\n",
       "      <th>percentual</th>\n",
       "      <th>data_referencia</th>\n",
       "      <th>qtd_entrevistas</th>\n",
       "    </tr>\n",
       "  </thead>\n",
       "  <tbody>\n",
       "    <tr>\n",
       "      <th>37</th>\n",
       "      <td>9764</td>\n",
       "      <td>24662</td>\n",
       "      <td>1</td>\n",
       "      <td>PT</td>\n",
       "      <td>Lula</td>\n",
       "      <td>cenário 2 - estimulado - 1º turno</td>\n",
       "      <td>Datafolha</td>\n",
       "      <td>47.0</td>\n",
       "      <td>13-16.dez.2021</td>\n",
       "      <td>3666</td>\n",
       "    </tr>\n",
       "    <tr>\n",
       "      <th>46</th>\n",
       "      <td>9764</td>\n",
       "      <td>24661</td>\n",
       "      <td>1</td>\n",
       "      <td>PT</td>\n",
       "      <td>Lula</td>\n",
       "      <td>cenário 1 - estimulado - 1º turno</td>\n",
       "      <td>Datafolha</td>\n",
       "      <td>48.0</td>\n",
       "      <td>13-16.dez.2021</td>\n",
       "      <td>3666</td>\n",
       "    </tr>\n",
       "    <tr>\n",
       "      <th>49</th>\n",
       "      <td>9760</td>\n",
       "      <td>24647</td>\n",
       "      <td>1</td>\n",
       "      <td>PT</td>\n",
       "      <td>Lula</td>\n",
       "      <td>cenário 1 - estimulado - 1º turno</td>\n",
       "      <td>Futura</td>\n",
       "      <td>37.9</td>\n",
       "      <td>7-13.dez.2021</td>\n",
       "      <td>2000</td>\n",
       "    </tr>\n",
       "    <tr>\n",
       "      <th>59</th>\n",
       "      <td>9760</td>\n",
       "      <td>24648</td>\n",
       "      <td>1</td>\n",
       "      <td>PT</td>\n",
       "      <td>Lula</td>\n",
       "      <td>cenário 2 - estimulado - 1º turno</td>\n",
       "      <td>Futura</td>\n",
       "      <td>39.4</td>\n",
       "      <td>7-13.dez.2021</td>\n",
       "      <td>2000</td>\n",
       "    </tr>\n",
       "    <tr>\n",
       "      <th>67</th>\n",
       "      <td>9760</td>\n",
       "      <td>24649</td>\n",
       "      <td>1</td>\n",
       "      <td>PT</td>\n",
       "      <td>Lula</td>\n",
       "      <td>cenário 3 - estimulado - 1º turno</td>\n",
       "      <td>Futura</td>\n",
       "      <td>42.4</td>\n",
       "      <td>7-13.dez.2021</td>\n",
       "      <td>2000</td>\n",
       "    </tr>\n",
       "    <tr>\n",
       "      <th>75</th>\n",
       "      <td>9760</td>\n",
       "      <td>24650</td>\n",
       "      <td>1</td>\n",
       "      <td>PT</td>\n",
       "      <td>Lula</td>\n",
       "      <td>cenário 4 - estimulado - 1º turno</td>\n",
       "      <td>Futura</td>\n",
       "      <td>43.8</td>\n",
       "      <td>7-13.dez.2021</td>\n",
       "      <td>2000</td>\n",
       "    </tr>\n",
       "    <tr>\n",
       "      <th>106</th>\n",
       "      <td>9758</td>\n",
       "      <td>24637</td>\n",
       "      <td>1</td>\n",
       "      <td>PT</td>\n",
       "      <td>Lula</td>\n",
       "      <td>cenário 2 - estimulado - 1º turno</td>\n",
       "      <td>Ideia Big Data</td>\n",
       "      <td>38.0</td>\n",
       "      <td>6-9.dez.2021</td>\n",
       "      <td>1200</td>\n",
       "    </tr>\n",
       "    <tr>\n",
       "      <th>110</th>\n",
       "      <td>9758</td>\n",
       "      <td>24638</td>\n",
       "      <td>1</td>\n",
       "      <td>PT</td>\n",
       "      <td>Lula</td>\n",
       "      <td>cenário 3 - estimulado - 1º turno</td>\n",
       "      <td>Ideia Big Data</td>\n",
       "      <td>38.0</td>\n",
       "      <td>6-9.dez.2021</td>\n",
       "      <td>1200</td>\n",
       "    </tr>\n",
       "    <tr>\n",
       "      <th>115</th>\n",
       "      <td>9758</td>\n",
       "      <td>24639</td>\n",
       "      <td>1</td>\n",
       "      <td>PT</td>\n",
       "      <td>Lula</td>\n",
       "      <td>cenário 4 - estimulado - 1º turno</td>\n",
       "      <td>Ideia Big Data</td>\n",
       "      <td>42.0</td>\n",
       "      <td>6-9.dez.2021</td>\n",
       "      <td>1200</td>\n",
       "    </tr>\n",
       "    <tr>\n",
       "      <th>128</th>\n",
       "      <td>9758</td>\n",
       "      <td>24636</td>\n",
       "      <td>1</td>\n",
       "      <td>PT</td>\n",
       "      <td>Lula</td>\n",
       "      <td>cenário 1 - estimulado - 1º turno</td>\n",
       "      <td>Ideia Big Data</td>\n",
       "      <td>37.0</td>\n",
       "      <td>6-9.dez.2021</td>\n",
       "      <td>1200</td>\n",
       "    </tr>\n",
       "    <tr>\n",
       "      <th>153</th>\n",
       "      <td>9761</td>\n",
       "      <td>24656</td>\n",
       "      <td>1</td>\n",
       "      <td>PT</td>\n",
       "      <td>Lula</td>\n",
       "      <td>cenário 1 - estimulado - 1º turno</td>\n",
       "      <td>Ipec</td>\n",
       "      <td>48.0</td>\n",
       "      <td>9-13.dez.2021</td>\n",
       "      <td>2002</td>\n",
       "    </tr>\n",
       "    <tr>\n",
       "      <th>161</th>\n",
       "      <td>9761</td>\n",
       "      <td>24657</td>\n",
       "      <td>1</td>\n",
       "      <td>PT</td>\n",
       "      <td>Lula</td>\n",
       "      <td>cenário 2 - estimulado - 1º turno</td>\n",
       "      <td>Ipec</td>\n",
       "      <td>49.0</td>\n",
       "      <td>9-13.dez.2021</td>\n",
       "      <td>2002</td>\n",
       "    </tr>\n",
       "    <tr>\n",
       "      <th>164</th>\n",
       "      <td>9769</td>\n",
       "      <td>24699</td>\n",
       "      <td>1</td>\n",
       "      <td>PT</td>\n",
       "      <td>Lula</td>\n",
       "      <td>cenário 1 - estimulado - 1º turno</td>\n",
       "      <td>Ipespe</td>\n",
       "      <td>44.0</td>\n",
       "      <td>14-16.dez.2021</td>\n",
       "      <td>1000</td>\n",
       "    </tr>\n",
       "    <tr>\n",
       "      <th>174</th>\n",
       "      <td>9769</td>\n",
       "      <td>24700</td>\n",
       "      <td>1</td>\n",
       "      <td>PT</td>\n",
       "      <td>Lula</td>\n",
       "      <td>cenário 2 - estimulado - 1º turno</td>\n",
       "      <td>Ipespe</td>\n",
       "      <td>43.0</td>\n",
       "      <td>14-16.dez.2021</td>\n",
       "      <td>1000</td>\n",
       "    </tr>\n",
       "    <tr>\n",
       "      <th>208</th>\n",
       "      <td>9762</td>\n",
       "      <td>24658</td>\n",
       "      <td>1</td>\n",
       "      <td>PT</td>\n",
       "      <td>Lula</td>\n",
       "      <td>cenário 1 - estimulado - 1º turno</td>\n",
       "      <td>MDA</td>\n",
       "      <td>42.8</td>\n",
       "      <td>9-11.dez.2021</td>\n",
       "      <td>2002</td>\n",
       "    </tr>\n",
       "    <tr>\n",
       "      <th>218</th>\n",
       "      <td>9768</td>\n",
       "      <td>24692</td>\n",
       "      <td>1</td>\n",
       "      <td>PT</td>\n",
       "      <td>Lula</td>\n",
       "      <td>cenário 1 - estimulado - 1º turno</td>\n",
       "      <td>PoderData</td>\n",
       "      <td>40.0</td>\n",
       "      <td>19-21.dez.2021</td>\n",
       "      <td>3000</td>\n",
       "    </tr>\n",
       "    <tr>\n",
       "      <th>254</th>\n",
       "      <td>9755</td>\n",
       "      <td>24606</td>\n",
       "      <td>1</td>\n",
       "      <td>PT</td>\n",
       "      <td>Lula</td>\n",
       "      <td>cenário 4 - estimulado - 1º turno</td>\n",
       "      <td>Quaest</td>\n",
       "      <td>47.0</td>\n",
       "      <td>2-5.dez.2021</td>\n",
       "      <td>2037</td>\n",
       "    </tr>\n",
       "    <tr>\n",
       "      <th>257</th>\n",
       "      <td>9755</td>\n",
       "      <td>24605</td>\n",
       "      <td>1</td>\n",
       "      <td>PT</td>\n",
       "      <td>Lula</td>\n",
       "      <td>cenário 3 - estimulado - 1º turno</td>\n",
       "      <td>Quaest</td>\n",
       "      <td>48.0</td>\n",
       "      <td>2-5.dez.2021</td>\n",
       "      <td>2037</td>\n",
       "    </tr>\n",
       "    <tr>\n",
       "      <th>263</th>\n",
       "      <td>9755</td>\n",
       "      <td>24604</td>\n",
       "      <td>1</td>\n",
       "      <td>PT</td>\n",
       "      <td>Lula</td>\n",
       "      <td>cenário 2 - estimulado - 1º turno</td>\n",
       "      <td>Quaest</td>\n",
       "      <td>46.0</td>\n",
       "      <td>2-5.dez.2021</td>\n",
       "      <td>2037</td>\n",
       "    </tr>\n",
       "    <tr>\n",
       "      <th>270</th>\n",
       "      <td>9755</td>\n",
       "      <td>24603</td>\n",
       "      <td>1</td>\n",
       "      <td>PT</td>\n",
       "      <td>Lula</td>\n",
       "      <td>cenário 1 - estimulado - 1º turno</td>\n",
       "      <td>Quaest</td>\n",
       "      <td>47.0</td>\n",
       "      <td>2-5.dez.2021</td>\n",
       "      <td>2037</td>\n",
       "    </tr>\n",
       "  </tbody>\n",
       "</table>\n",
       "</div>"
      ],
      "text/plain": [
       "     pesquisa_id  cenario_id  turno partido candidato  \\\n",
       "37          9764       24662      1      PT      Lula   \n",
       "46          9764       24661      1      PT      Lula   \n",
       "49          9760       24647      1      PT      Lula   \n",
       "59          9760       24648      1      PT      Lula   \n",
       "67          9760       24649      1      PT      Lula   \n",
       "75          9760       24650      1      PT      Lula   \n",
       "106         9758       24637      1      PT      Lula   \n",
       "110         9758       24638      1      PT      Lula   \n",
       "115         9758       24639      1      PT      Lula   \n",
       "128         9758       24636      1      PT      Lula   \n",
       "153         9761       24656      1      PT      Lula   \n",
       "161         9761       24657      1      PT      Lula   \n",
       "164         9769       24699      1      PT      Lula   \n",
       "174         9769       24700      1      PT      Lula   \n",
       "208         9762       24658      1      PT      Lula   \n",
       "218         9768       24692      1      PT      Lula   \n",
       "254         9755       24606      1      PT      Lula   \n",
       "257         9755       24605      1      PT      Lula   \n",
       "263         9755       24604      1      PT      Lula   \n",
       "270         9755       24603      1      PT      Lula   \n",
       "\n",
       "                     cenario_descricao       instituto  percentual  \\\n",
       "37   cenário 2 - estimulado - 1º turno       Datafolha        47.0   \n",
       "46   cenário 1 - estimulado - 1º turno       Datafolha        48.0   \n",
       "49   cenário 1 - estimulado - 1º turno          Futura        37.9   \n",
       "59   cenário 2 - estimulado - 1º turno          Futura        39.4   \n",
       "67   cenário 3 - estimulado - 1º turno          Futura        42.4   \n",
       "75   cenário 4 - estimulado - 1º turno          Futura        43.8   \n",
       "106  cenário 2 - estimulado - 1º turno  Ideia Big Data        38.0   \n",
       "110  cenário 3 - estimulado - 1º turno  Ideia Big Data        38.0   \n",
       "115  cenário 4 - estimulado - 1º turno  Ideia Big Data        42.0   \n",
       "128  cenário 1 - estimulado - 1º turno  Ideia Big Data        37.0   \n",
       "153  cenário 1 - estimulado - 1º turno            Ipec        48.0   \n",
       "161  cenário 2 - estimulado - 1º turno            Ipec        49.0   \n",
       "164  cenário 1 - estimulado - 1º turno          Ipespe        44.0   \n",
       "174  cenário 2 - estimulado - 1º turno          Ipespe        43.0   \n",
       "208  cenário 1 - estimulado - 1º turno             MDA        42.8   \n",
       "218  cenário 1 - estimulado - 1º turno       PoderData        40.0   \n",
       "254  cenário 4 - estimulado - 1º turno          Quaest        47.0   \n",
       "257  cenário 3 - estimulado - 1º turno          Quaest        48.0   \n",
       "263  cenário 2 - estimulado - 1º turno          Quaest        46.0   \n",
       "270  cenário 1 - estimulado - 1º turno          Quaest        47.0   \n",
       "\n",
       "    data_referencia  qtd_entrevistas  \n",
       "37   13-16.dez.2021             3666  \n",
       "46   13-16.dez.2021             3666  \n",
       "49    7-13.dez.2021             2000  \n",
       "59    7-13.dez.2021             2000  \n",
       "67    7-13.dez.2021             2000  \n",
       "75    7-13.dez.2021             2000  \n",
       "106    6-9.dez.2021             1200  \n",
       "110    6-9.dez.2021             1200  \n",
       "115    6-9.dez.2021             1200  \n",
       "128    6-9.dez.2021             1200  \n",
       "153   9-13.dez.2021             2002  \n",
       "161   9-13.dez.2021             2002  \n",
       "164  14-16.dez.2021             1000  \n",
       "174  14-16.dez.2021             1000  \n",
       "208   9-11.dez.2021             2002  \n",
       "218  19-21.dez.2021             3000  \n",
       "254    2-5.dez.2021             2037  \n",
       "257    2-5.dez.2021             2037  \n",
       "263    2-5.dez.2021             2037  \n",
       "270    2-5.dez.2021             2037  "
      ]
     },
     "execution_count": 5,
     "metadata": {},
     "output_type": "execute_result"
    }
   ],
   "source": [
    "december_simple_df[(december_simple_df.turno==1) & (december_simple_df.partido==\"PT\")].head(20)"
   ]
  },
  {
   "cell_type": "markdown",
   "metadata": {},
   "source": [
    "### Add qtdy\n",
    "$$qtd\\_mencoes = (percentual * qtd\\_entrevistas)\\div 100.00$$"
   ]
  },
  {
   "cell_type": "code",
   "execution_count": 6,
   "metadata": {},
   "outputs": [],
   "source": [
    "december_simple_df['qtd_mencoes'] = december_simple_df.percentual * december_simple_df.qtd_entrevistas / 100.0\n",
    "november_simple_df['qtd_mencoes'] = november_simple_df.percentual * november_simple_df.qtd_entrevistas / 100.0\n"
   ]
  },
  {
   "cell_type": "code",
   "execution_count": 82,
   "metadata": {},
   "outputs": [
    {
     "data": {
      "text/html": [
       "<div>\n",
       "<style scoped>\n",
       "    .dataframe tbody tr th:only-of-type {\n",
       "        vertical-align: middle;\n",
       "    }\n",
       "\n",
       "    .dataframe tbody tr th {\n",
       "        vertical-align: top;\n",
       "    }\n",
       "\n",
       "    .dataframe thead th {\n",
       "        text-align: right;\n",
       "    }\n",
       "</style>\n",
       "<table border=\"1\" class=\"dataframe\">\n",
       "  <thead>\n",
       "    <tr style=\"text-align: right;\">\n",
       "      <th></th>\n",
       "      <th>pesquisa_id</th>\n",
       "      <th>cenario_id</th>\n",
       "      <th>turno</th>\n",
       "      <th>partido</th>\n",
       "      <th>candidato</th>\n",
       "      <th>cenario_descricao</th>\n",
       "      <th>instituto</th>\n",
       "      <th>percentual</th>\n",
       "      <th>data_referencia</th>\n",
       "      <th>qtd_entrevistas</th>\n",
       "      <th>qtd_mencoes</th>\n",
       "    </tr>\n",
       "  </thead>\n",
       "  <tbody>\n",
       "    <tr>\n",
       "      <th>0</th>\n",
       "      <td>9750</td>\n",
       "      <td>24567</td>\n",
       "      <td>1</td>\n",
       "      <td>NaN</td>\n",
       "      <td>não sabe / não respondeu</td>\n",
       "      <td>cenário 1 - estimulado - 1º turno</td>\n",
       "      <td>Vox Populi</td>\n",
       "      <td>12.0</td>\n",
       "      <td>30.out-4.nov.2021</td>\n",
       "      <td>2000</td>\n",
       "      <td>240.000</td>\n",
       "    </tr>\n",
       "    <tr>\n",
       "      <th>1</th>\n",
       "      <td>9750</td>\n",
       "      <td>24567</td>\n",
       "      <td>1</td>\n",
       "      <td>NaN</td>\n",
       "      <td>branco / nulo / nenhum</td>\n",
       "      <td>cenário 1 - estimulado - 1º turno</td>\n",
       "      <td>Vox Populi</td>\n",
       "      <td>10.0</td>\n",
       "      <td>30.out-4.nov.2021</td>\n",
       "      <td>2000</td>\n",
       "      <td>200.000</td>\n",
       "    </tr>\n",
       "    <tr>\n",
       "      <th>28</th>\n",
       "      <td>9749</td>\n",
       "      <td>24559</td>\n",
       "      <td>1</td>\n",
       "      <td>NaN</td>\n",
       "      <td>branco / nulo / nenhum</td>\n",
       "      <td>cenário 1 - estimulado - 1º turno</td>\n",
       "      <td>Quaest</td>\n",
       "      <td>10.0</td>\n",
       "      <td>3-6.nov.2021</td>\n",
       "      <td>2063</td>\n",
       "      <td>206.300</td>\n",
       "    </tr>\n",
       "    <tr>\n",
       "      <th>29</th>\n",
       "      <td>9749</td>\n",
       "      <td>24559</td>\n",
       "      <td>1</td>\n",
       "      <td>NaN</td>\n",
       "      <td>indeciso</td>\n",
       "      <td>cenário 1 - estimulado - 1º turno</td>\n",
       "      <td>Quaest</td>\n",
       "      <td>4.0</td>\n",
       "      <td>3-6.nov.2021</td>\n",
       "      <td>2063</td>\n",
       "      <td>82.520</td>\n",
       "    </tr>\n",
       "    <tr>\n",
       "      <th>40</th>\n",
       "      <td>9751</td>\n",
       "      <td>24572</td>\n",
       "      <td>1</td>\n",
       "      <td>NaN</td>\n",
       "      <td>não sabe / não respondeu</td>\n",
       "      <td>cenário 1 - estimulado - 1º turno</td>\n",
       "      <td>Paraná Pesquisas</td>\n",
       "      <td>3.5</td>\n",
       "      <td>16-19.nov.2021</td>\n",
       "      <td>2020</td>\n",
       "      <td>70.700</td>\n",
       "    </tr>\n",
       "    <tr>\n",
       "      <th>41</th>\n",
       "      <td>9751</td>\n",
       "      <td>24572</td>\n",
       "      <td>1</td>\n",
       "      <td>NaN</td>\n",
       "      <td>branco / nulo / nenhum</td>\n",
       "      <td>cenário 1 - estimulado - 1º turno</td>\n",
       "      <td>Paraná Pesquisas</td>\n",
       "      <td>9.9</td>\n",
       "      <td>16-19.nov.2021</td>\n",
       "      <td>2020</td>\n",
       "      <td>199.980</td>\n",
       "    </tr>\n",
       "    <tr>\n",
       "      <th>78</th>\n",
       "      <td>9753</td>\n",
       "      <td>24583</td>\n",
       "      <td>1</td>\n",
       "      <td>NaN</td>\n",
       "      <td>branco / nulo</td>\n",
       "      <td>cenário 1 - estimulado - 1º turno</td>\n",
       "      <td>Futura</td>\n",
       "      <td>4.0</td>\n",
       "      <td>16-20.nov.2021</td>\n",
       "      <td>2000</td>\n",
       "      <td>80.000</td>\n",
       "    </tr>\n",
       "    <tr>\n",
       "      <th>79</th>\n",
       "      <td>9753</td>\n",
       "      <td>24583</td>\n",
       "      <td>1</td>\n",
       "      <td>NaN</td>\n",
       "      <td>indeciso / não sabe / não respondeu</td>\n",
       "      <td>cenário 1 - estimulado - 1º turno</td>\n",
       "      <td>Futura</td>\n",
       "      <td>3.6</td>\n",
       "      <td>16-20.nov.2021</td>\n",
       "      <td>2000</td>\n",
       "      <td>72.000</td>\n",
       "    </tr>\n",
       "    <tr>\n",
       "      <th>117</th>\n",
       "      <td>9752</td>\n",
       "      <td>24580</td>\n",
       "      <td>1</td>\n",
       "      <td>NaN</td>\n",
       "      <td>não sabe</td>\n",
       "      <td>cenário 1 - estimulado - 1º turno</td>\n",
       "      <td>PoderData</td>\n",
       "      <td>3.0</td>\n",
       "      <td>22-24.nov.2021</td>\n",
       "      <td>2500</td>\n",
       "      <td>75.000</td>\n",
       "    </tr>\n",
       "    <tr>\n",
       "      <th>118</th>\n",
       "      <td>9752</td>\n",
       "      <td>24580</td>\n",
       "      <td>1</td>\n",
       "      <td>NaN</td>\n",
       "      <td>branco / nulo</td>\n",
       "      <td>cenário 1 - estimulado - 1º turno</td>\n",
       "      <td>PoderData</td>\n",
       "      <td>6.0</td>\n",
       "      <td>22-24.nov.2021</td>\n",
       "      <td>2500</td>\n",
       "      <td>150.000</td>\n",
       "    </tr>\n",
       "    <tr>\n",
       "      <th>140</th>\n",
       "      <td>9754</td>\n",
       "      <td>24593</td>\n",
       "      <td>1</td>\n",
       "      <td>NaN</td>\n",
       "      <td>branco / nulo / não sabe / não respondeu</td>\n",
       "      <td>cenário 1 - estimulado - 1º turno</td>\n",
       "      <td>Atlas</td>\n",
       "      <td>3.2</td>\n",
       "      <td>27-29.nov.2021</td>\n",
       "      <td>4401</td>\n",
       "      <td>140.832</td>\n",
       "    </tr>\n",
       "  </tbody>\n",
       "</table>\n",
       "</div>"
      ],
      "text/plain": [
       "     pesquisa_id  cenario_id  turno partido  \\\n",
       "0           9750       24567      1     NaN   \n",
       "1           9750       24567      1     NaN   \n",
       "28          9749       24559      1     NaN   \n",
       "29          9749       24559      1     NaN   \n",
       "40          9751       24572      1     NaN   \n",
       "41          9751       24572      1     NaN   \n",
       "78          9753       24583      1     NaN   \n",
       "79          9753       24583      1     NaN   \n",
       "117         9752       24580      1     NaN   \n",
       "118         9752       24580      1     NaN   \n",
       "140         9754       24593      1     NaN   \n",
       "\n",
       "                                    candidato  \\\n",
       "0                    não sabe / não respondeu   \n",
       "1                      branco / nulo / nenhum   \n",
       "28                     branco / nulo / nenhum   \n",
       "29                                   indeciso   \n",
       "40                   não sabe / não respondeu   \n",
       "41                     branco / nulo / nenhum   \n",
       "78                              branco / nulo   \n",
       "79        indeciso / não sabe / não respondeu   \n",
       "117                                  não sabe   \n",
       "118                             branco / nulo   \n",
       "140  branco / nulo / não sabe / não respondeu   \n",
       "\n",
       "                     cenario_descricao         instituto  percentual  \\\n",
       "0    cenário 1 - estimulado - 1º turno        Vox Populi        12.0   \n",
       "1    cenário 1 - estimulado - 1º turno        Vox Populi        10.0   \n",
       "28   cenário 1 - estimulado - 1º turno            Quaest        10.0   \n",
       "29   cenário 1 - estimulado - 1º turno            Quaest         4.0   \n",
       "40   cenário 1 - estimulado - 1º turno  Paraná Pesquisas         3.5   \n",
       "41   cenário 1 - estimulado - 1º turno  Paraná Pesquisas         9.9   \n",
       "78   cenário 1 - estimulado - 1º turno            Futura         4.0   \n",
       "79   cenário 1 - estimulado - 1º turno            Futura         3.6   \n",
       "117  cenário 1 - estimulado - 1º turno         PoderData         3.0   \n",
       "118  cenário 1 - estimulado - 1º turno         PoderData         6.0   \n",
       "140  cenário 1 - estimulado - 1º turno             Atlas         3.2   \n",
       "\n",
       "       data_referencia  qtd_entrevistas  qtd_mencoes  \n",
       "0    30.out-4.nov.2021             2000      240.000  \n",
       "1    30.out-4.nov.2021             2000      200.000  \n",
       "28        3-6.nov.2021             2063      206.300  \n",
       "29        3-6.nov.2021             2063       82.520  \n",
       "40      16-19.nov.2021             2020       70.700  \n",
       "41      16-19.nov.2021             2020      199.980  \n",
       "78      16-20.nov.2021             2000       80.000  \n",
       "79      16-20.nov.2021             2000       72.000  \n",
       "117     22-24.nov.2021             2500       75.000  \n",
       "118     22-24.nov.2021             2500      150.000  \n",
       "140     27-29.nov.2021             4401      140.832  "
      ]
     },
     "execution_count": 82,
     "metadata": {},
     "output_type": "execute_result"
    }
   ],
   "source": [
    "november_simple_df[(november_simple_df.turno==1) & (november_simple_df.partido.isna()) & (november_simple_df.cenario_descricao.str.startswith('cenário 1'))]"
   ]
  },
  {
   "cell_type": "markdown",
   "metadata": {},
   "source": [
    "Prior Lula"
   ]
  },
  {
   "cell_type": "code",
   "execution_count": 104,
   "metadata": {},
   "outputs": [
    {
     "data": {
      "text/html": [
       "<div>\n",
       "<style scoped>\n",
       "    .dataframe tbody tr th:only-of-type {\n",
       "        vertical-align: middle;\n",
       "    }\n",
       "\n",
       "    .dataframe tbody tr th {\n",
       "        vertical-align: top;\n",
       "    }\n",
       "\n",
       "    .dataframe thead th {\n",
       "        text-align: right;\n",
       "    }\n",
       "</style>\n",
       "<table border=\"1\" class=\"dataframe\">\n",
       "  <thead>\n",
       "    <tr style=\"text-align: right;\">\n",
       "      <th></th>\n",
       "      <th>pesquisa_id</th>\n",
       "      <th>cenario_id</th>\n",
       "      <th>turno</th>\n",
       "      <th>partido</th>\n",
       "      <th>candidato</th>\n",
       "      <th>cenario_descricao</th>\n",
       "      <th>instituto</th>\n",
       "      <th>percentual</th>\n",
       "      <th>data_referencia</th>\n",
       "      <th>qtd_entrevistas</th>\n",
       "      <th>qtd_mencoes</th>\n",
       "    </tr>\n",
       "  </thead>\n",
       "  <tbody>\n",
       "    <tr>\n",
       "      <th>3</th>\n",
       "      <td>9750</td>\n",
       "      <td>24567</td>\n",
       "      <td>1</td>\n",
       "      <td>PT</td>\n",
       "      <td>Lula</td>\n",
       "      <td>cenário 1 - estimulado - 1º turno</td>\n",
       "      <td>Vox Populi</td>\n",
       "      <td>44.0</td>\n",
       "      <td>30.out-4.nov.2021</td>\n",
       "      <td>2000</td>\n",
       "      <td>880.000</td>\n",
       "    </tr>\n",
       "    <tr>\n",
       "      <th>21</th>\n",
       "      <td>9749</td>\n",
       "      <td>24559</td>\n",
       "      <td>1</td>\n",
       "      <td>PT</td>\n",
       "      <td>Lula</td>\n",
       "      <td>cenário 1 - estimulado - 1º turno</td>\n",
       "      <td>Quaest</td>\n",
       "      <td>48.0</td>\n",
       "      <td>3-6.nov.2021</td>\n",
       "      <td>2063</td>\n",
       "      <td>990.240</td>\n",
       "    </tr>\n",
       "    <tr>\n",
       "      <th>42</th>\n",
       "      <td>9751</td>\n",
       "      <td>24572</td>\n",
       "      <td>1</td>\n",
       "      <td>PT</td>\n",
       "      <td>Lula</td>\n",
       "      <td>cenário 1 - estimulado - 1º turno</td>\n",
       "      <td>Paraná Pesquisas</td>\n",
       "      <td>34.9</td>\n",
       "      <td>16-19.nov.2021</td>\n",
       "      <td>2020</td>\n",
       "      <td>704.980</td>\n",
       "    </tr>\n",
       "    <tr>\n",
       "      <th>80</th>\n",
       "      <td>9753</td>\n",
       "      <td>24583</td>\n",
       "      <td>1</td>\n",
       "      <td>PT</td>\n",
       "      <td>Lula</td>\n",
       "      <td>cenário 1 - estimulado - 1º turno</td>\n",
       "      <td>Futura</td>\n",
       "      <td>38.6</td>\n",
       "      <td>16-20.nov.2021</td>\n",
       "      <td>2000</td>\n",
       "      <td>772.000</td>\n",
       "    </tr>\n",
       "    <tr>\n",
       "      <th>116</th>\n",
       "      <td>9752</td>\n",
       "      <td>24580</td>\n",
       "      <td>1</td>\n",
       "      <td>PT</td>\n",
       "      <td>Lula</td>\n",
       "      <td>cenário 1 - estimulado - 1º turno</td>\n",
       "      <td>PoderData</td>\n",
       "      <td>34.0</td>\n",
       "      <td>22-24.nov.2021</td>\n",
       "      <td>2500</td>\n",
       "      <td>850.000</td>\n",
       "    </tr>\n",
       "    <tr>\n",
       "      <th>134</th>\n",
       "      <td>9754</td>\n",
       "      <td>24593</td>\n",
       "      <td>1</td>\n",
       "      <td>PT</td>\n",
       "      <td>Lula</td>\n",
       "      <td>cenário 1 - estimulado - 1º turno</td>\n",
       "      <td>Atlas</td>\n",
       "      <td>42.8</td>\n",
       "      <td>27-29.nov.2021</td>\n",
       "      <td>4401</td>\n",
       "      <td>1883.628</td>\n",
       "    </tr>\n",
       "  </tbody>\n",
       "</table>\n",
       "</div>"
      ],
      "text/plain": [
       "     pesquisa_id  cenario_id  turno partido candidato  \\\n",
       "3           9750       24567      1      PT      Lula   \n",
       "21          9749       24559      1      PT      Lula   \n",
       "42          9751       24572      1      PT      Lula   \n",
       "80          9753       24583      1      PT      Lula   \n",
       "116         9752       24580      1      PT      Lula   \n",
       "134         9754       24593      1      PT      Lula   \n",
       "\n",
       "                     cenario_descricao         instituto  percentual  \\\n",
       "3    cenário 1 - estimulado - 1º turno        Vox Populi        44.0   \n",
       "21   cenário 1 - estimulado - 1º turno            Quaest        48.0   \n",
       "42   cenário 1 - estimulado - 1º turno  Paraná Pesquisas        34.9   \n",
       "80   cenário 1 - estimulado - 1º turno            Futura        38.6   \n",
       "116  cenário 1 - estimulado - 1º turno         PoderData        34.0   \n",
       "134  cenário 1 - estimulado - 1º turno             Atlas        42.8   \n",
       "\n",
       "       data_referencia  qtd_entrevistas  qtd_mencoes  \n",
       "3    30.out-4.nov.2021             2000      880.000  \n",
       "21        3-6.nov.2021             2063      990.240  \n",
       "42      16-19.nov.2021             2020      704.980  \n",
       "80      16-20.nov.2021             2000      772.000  \n",
       "116     22-24.nov.2021             2500      850.000  \n",
       "134     27-29.nov.2021             4401     1883.628  "
      ]
     },
     "execution_count": 104,
     "metadata": {},
     "output_type": "execute_result"
    }
   ],
   "source": [
    "november_simple_df[(november_simple_df.turno==1) & (november_simple_df.partido==\"PT\") & (november_simple_df.cenario_descricao.str.startswith('cenário 1'))]#.sum(axis=0)"
   ]
  },
  {
   "cell_type": "markdown",
   "metadata": {},
   "source": [
    "Prior Brancos e Nulos"
   ]
  },
  {
   "cell_type": "code",
   "execution_count": 9,
   "metadata": {},
   "outputs": [
    {
     "data": {
      "text/plain": [
       "bn        1517.332\n",
       "total    14984.000\n",
       "dtype: float64"
      ]
     },
     "execution_count": 9,
     "metadata": {},
     "output_type": "execute_result"
    }
   ],
   "source": [
    "bn_df = november_simple_df[(november_simple_df.turno==1) & (november_simple_df.partido.isna()) & (november_simple_df.cenario_descricao.str.startswith('cenário 1'))]\n",
    "bn_df.groupby(['cenario_id']).agg(bn=('qtd_mencoes', 'sum'), total=('qtd_entrevistas', 'max')).sum(axis=0)"
   ]
  },
  {
   "cell_type": "markdown",
   "metadata": {},
   "source": [
    "Likelihood Lula"
   ]
  },
  {
   "cell_type": "code",
   "execution_count": 103,
   "metadata": {},
   "outputs": [
    {
     "data": {
      "text/html": [
       "<div>\n",
       "<style scoped>\n",
       "    .dataframe tbody tr th:only-of-type {\n",
       "        vertical-align: middle;\n",
       "    }\n",
       "\n",
       "    .dataframe tbody tr th {\n",
       "        vertical-align: top;\n",
       "    }\n",
       "\n",
       "    .dataframe thead th {\n",
       "        text-align: right;\n",
       "    }\n",
       "</style>\n",
       "<table border=\"1\" class=\"dataframe\">\n",
       "  <thead>\n",
       "    <tr style=\"text-align: right;\">\n",
       "      <th></th>\n",
       "      <th>pesquisa_id</th>\n",
       "      <th>cenario_id</th>\n",
       "      <th>turno</th>\n",
       "      <th>partido</th>\n",
       "      <th>candidato</th>\n",
       "      <th>cenario_descricao</th>\n",
       "      <th>instituto</th>\n",
       "      <th>percentual</th>\n",
       "      <th>data_referencia</th>\n",
       "      <th>qtd_entrevistas</th>\n",
       "      <th>qtd_mencoes</th>\n",
       "    </tr>\n",
       "  </thead>\n",
       "  <tbody>\n",
       "    <tr>\n",
       "      <th>46</th>\n",
       "      <td>9764</td>\n",
       "      <td>24661</td>\n",
       "      <td>1</td>\n",
       "      <td>PT</td>\n",
       "      <td>Lula</td>\n",
       "      <td>cenário 1 - estimulado - 1º turno</td>\n",
       "      <td>Datafolha</td>\n",
       "      <td>48.0</td>\n",
       "      <td>13-16.dez.2021</td>\n",
       "      <td>3666</td>\n",
       "      <td>1759.680</td>\n",
       "    </tr>\n",
       "    <tr>\n",
       "      <th>49</th>\n",
       "      <td>9760</td>\n",
       "      <td>24647</td>\n",
       "      <td>1</td>\n",
       "      <td>PT</td>\n",
       "      <td>Lula</td>\n",
       "      <td>cenário 1 - estimulado - 1º turno</td>\n",
       "      <td>Futura</td>\n",
       "      <td>37.9</td>\n",
       "      <td>7-13.dez.2021</td>\n",
       "      <td>2000</td>\n",
       "      <td>758.000</td>\n",
       "    </tr>\n",
       "    <tr>\n",
       "      <th>128</th>\n",
       "      <td>9758</td>\n",
       "      <td>24636</td>\n",
       "      <td>1</td>\n",
       "      <td>PT</td>\n",
       "      <td>Lula</td>\n",
       "      <td>cenário 1 - estimulado - 1º turno</td>\n",
       "      <td>Ideia Big Data</td>\n",
       "      <td>37.0</td>\n",
       "      <td>6-9.dez.2021</td>\n",
       "      <td>1200</td>\n",
       "      <td>444.000</td>\n",
       "    </tr>\n",
       "    <tr>\n",
       "      <th>153</th>\n",
       "      <td>9761</td>\n",
       "      <td>24656</td>\n",
       "      <td>1</td>\n",
       "      <td>PT</td>\n",
       "      <td>Lula</td>\n",
       "      <td>cenário 1 - estimulado - 1º turno</td>\n",
       "      <td>Ipec</td>\n",
       "      <td>48.0</td>\n",
       "      <td>9-13.dez.2021</td>\n",
       "      <td>2002</td>\n",
       "      <td>960.960</td>\n",
       "    </tr>\n",
       "    <tr>\n",
       "      <th>164</th>\n",
       "      <td>9769</td>\n",
       "      <td>24699</td>\n",
       "      <td>1</td>\n",
       "      <td>PT</td>\n",
       "      <td>Lula</td>\n",
       "      <td>cenário 1 - estimulado - 1º turno</td>\n",
       "      <td>Ipespe</td>\n",
       "      <td>44.0</td>\n",
       "      <td>14-16.dez.2021</td>\n",
       "      <td>1000</td>\n",
       "      <td>440.000</td>\n",
       "    </tr>\n",
       "    <tr>\n",
       "      <th>208</th>\n",
       "      <td>9762</td>\n",
       "      <td>24658</td>\n",
       "      <td>1</td>\n",
       "      <td>PT</td>\n",
       "      <td>Lula</td>\n",
       "      <td>cenário 1 - estimulado - 1º turno</td>\n",
       "      <td>MDA</td>\n",
       "      <td>42.8</td>\n",
       "      <td>9-11.dez.2021</td>\n",
       "      <td>2002</td>\n",
       "      <td>856.856</td>\n",
       "    </tr>\n",
       "    <tr>\n",
       "      <th>218</th>\n",
       "      <td>9768</td>\n",
       "      <td>24692</td>\n",
       "      <td>1</td>\n",
       "      <td>PT</td>\n",
       "      <td>Lula</td>\n",
       "      <td>cenário 1 - estimulado - 1º turno</td>\n",
       "      <td>PoderData</td>\n",
       "      <td>40.0</td>\n",
       "      <td>19-21.dez.2021</td>\n",
       "      <td>3000</td>\n",
       "      <td>1200.000</td>\n",
       "    </tr>\n",
       "    <tr>\n",
       "      <th>270</th>\n",
       "      <td>9755</td>\n",
       "      <td>24603</td>\n",
       "      <td>1</td>\n",
       "      <td>PT</td>\n",
       "      <td>Lula</td>\n",
       "      <td>cenário 1 - estimulado - 1º turno</td>\n",
       "      <td>Quaest</td>\n",
       "      <td>47.0</td>\n",
       "      <td>2-5.dez.2021</td>\n",
       "      <td>2037</td>\n",
       "      <td>957.390</td>\n",
       "    </tr>\n",
       "  </tbody>\n",
       "</table>\n",
       "</div>"
      ],
      "text/plain": [
       "     pesquisa_id  cenario_id  turno partido candidato  \\\n",
       "46          9764       24661      1      PT      Lula   \n",
       "49          9760       24647      1      PT      Lula   \n",
       "128         9758       24636      1      PT      Lula   \n",
       "153         9761       24656      1      PT      Lula   \n",
       "164         9769       24699      1      PT      Lula   \n",
       "208         9762       24658      1      PT      Lula   \n",
       "218         9768       24692      1      PT      Lula   \n",
       "270         9755       24603      1      PT      Lula   \n",
       "\n",
       "                     cenario_descricao       instituto  percentual  \\\n",
       "46   cenário 1 - estimulado - 1º turno       Datafolha        48.0   \n",
       "49   cenário 1 - estimulado - 1º turno          Futura        37.9   \n",
       "128  cenário 1 - estimulado - 1º turno  Ideia Big Data        37.0   \n",
       "153  cenário 1 - estimulado - 1º turno            Ipec        48.0   \n",
       "164  cenário 1 - estimulado - 1º turno          Ipespe        44.0   \n",
       "208  cenário 1 - estimulado - 1º turno             MDA        42.8   \n",
       "218  cenário 1 - estimulado - 1º turno       PoderData        40.0   \n",
       "270  cenário 1 - estimulado - 1º turno          Quaest        47.0   \n",
       "\n",
       "    data_referencia  qtd_entrevistas  qtd_mencoes  \n",
       "46   13-16.dez.2021             3666     1759.680  \n",
       "49    7-13.dez.2021             2000      758.000  \n",
       "128    6-9.dez.2021             1200      444.000  \n",
       "153   9-13.dez.2021             2002      960.960  \n",
       "164  14-16.dez.2021             1000      440.000  \n",
       "208   9-11.dez.2021             2002      856.856  \n",
       "218  19-21.dez.2021             3000     1200.000  \n",
       "270    2-5.dez.2021             2037      957.390  "
      ]
     },
     "execution_count": 103,
     "metadata": {},
     "output_type": "execute_result"
    }
   ],
   "source": [
    "december_simple_df[(december_simple_df.turno==1) & (december_simple_df.partido==\"PT\") & (december_simple_df.cenario_descricao.str.startswith('cenário 1'))]#.sum()"
   ]
  },
  {
   "cell_type": "markdown",
   "metadata": {},
   "source": [
    "Likelihodd brancos e nulos"
   ]
  },
  {
   "cell_type": "code",
   "execution_count": 11,
   "metadata": {},
   "outputs": [
    {
     "data": {
      "text/plain": [
       "bn        1953.256\n",
       "total    16907.000\n",
       "dtype: float64"
      ]
     },
     "execution_count": 11,
     "metadata": {},
     "output_type": "execute_result"
    }
   ],
   "source": [
    "bn_df = december_simple_df[(december_simple_df.turno==1) & (december_simple_df.partido.isna()) & (december_simple_df.cenario_descricao.str.startswith('cenário 1'))]\n",
    "bn_df.groupby(['cenario_id']).agg(bn=('qtd_mencoes', 'sum'), total=('qtd_entrevistas', 'max')).sum(axis=0)"
   ]
  },
  {
   "cell_type": "markdown",
   "metadata": {},
   "source": [
    "## Playing with the Dirichlet Multinomial"
   ]
  },
  {
   "cell_type": "code",
   "execution_count": 292,
   "metadata": {},
   "outputs": [],
   "source": [
    "with pm.Model() as dirichlet_model:\n",
    "    # november_prior = pm.Dirichlet(\n",
    "    #     \"november_prior\",\n",
    "    #     # Lula, BrancosNulosNaoSabem, Demais candidatos\n",
    "    #     # a=pd.array([6080, 1517, 7387]).astype(\"float32\")\n",
    "    #     # a=pd.array([1.0, 1.0, 1.0]).astype(\"float32\"),\n",
    "    # )\n",
    "    \n",
    "    unif = pm.Uniform(\"unif\", lower=2, upper=5)\n",
    "    \n",
    "    beta = pm.Beta(\"beta\", alpha=unif, beta=1)\n",
    "    \n",
    "    november_prior = pm.Dirichlet(\n",
    "        \"november_prior\",\n",
    "        # Lula, BrancosNulosNaoSabem, Demais candidatos\n",
    "        a=pd.array([6080, 1517, 7387]).astype(\"float32\") * beta,\n",
    "        # a=pd.array([1.0, 1.0, 1.0]).astype(\"float32\"),\n",
    "    )\n",
    "    \n",
    "    december_like = pm.Multinomial(\n",
    "        \"december_like\", n=16907//1 -  0, p=november_prior, observed=pd.array([7376//1, 1953//1, 7578//1])\n",
    "    )\n",
    "    "
   ]
  },
  {
   "cell_type": "code",
   "execution_count": 293,
   "metadata": {},
   "outputs": [
    {
     "name": "stderr",
     "output_type": "stream",
     "text": [
      "/tmp/ipykernel_1903678/3691293885.py:2: FutureWarning: In v4.0, pm.sample will return an `arviz.InferenceData` object instead of a `MultiTrace` by default. You can pass return_inferencedata=True or return_inferencedata=False to be safe and silence this warning.\n",
      "  dirichlet_trace = pm.sample(5000, chains=4) # 20K samples\n",
      "Auto-assigning NUTS sampler...\n",
      "Initializing NUTS using jitter+adapt_diag...\n",
      "Multiprocess sampling (4 chains in 2 jobs)\n",
      "NUTS: [november_prior, beta, unif]\n"
     ]
    },
    {
     "data": {
      "text/html": [
       "\n",
       "    <div>\n",
       "        <style>\n",
       "            /* Turns off some styling */\n",
       "            progress {\n",
       "                /* gets rid of default border in Firefox and Opera. */\n",
       "                border: none;\n",
       "                /* Needs to be in here for Safari polyfill so background images work as expected. */\n",
       "                background-size: auto;\n",
       "            }\n",
       "            .progress-bar-interrupted, .progress-bar-interrupted::-webkit-progress-bar {\n",
       "                background: #F44336;\n",
       "            }\n",
       "        </style>\n",
       "      <progress value='24000' class='' max='24000' style='width:300px; height:20px; vertical-align: middle;'></progress>\n",
       "      100.00% [24000/24000 00:23<00:00 Sampling 4 chains, 0 divergences]\n",
       "    </div>\n",
       "    "
      ],
      "text/plain": [
       "<IPython.core.display.HTML object>"
      ]
     },
     "metadata": {},
     "output_type": "display_data"
    },
    {
     "name": "stderr",
     "output_type": "stream",
     "text": [
      "Sampling 4 chains for 1_000 tune and 5_000 draw iterations (4_000 + 20_000 draws total) took 24 seconds.\n"
     ]
    },
    {
     "data": {
      "text/html": [
       "\n",
       "    <div>\n",
       "        <style>\n",
       "            /* Turns off some styling */\n",
       "            progress {\n",
       "                /* gets rid of default border in Firefox and Opera. */\n",
       "                border: none;\n",
       "                /* Needs to be in here for Safari polyfill so background images work as expected. */\n",
       "                background-size: auto;\n",
       "            }\n",
       "            .progress-bar-interrupted, .progress-bar-interrupted::-webkit-progress-bar {\n",
       "                background: #F44336;\n",
       "            }\n",
       "        </style>\n",
       "      <progress value='20000' class='' max='20000' style='width:300px; height:20px; vertical-align: middle;'></progress>\n",
       "      100.00% [20000/20000 00:16<00:00]\n",
       "    </div>\n",
       "    "
      ],
      "text/plain": [
       "<IPython.core.display.HTML object>"
      ]
     },
     "metadata": {},
     "output_type": "display_data"
    },
    {
     "data": {
      "image/png": "[encoded data removed]",
      "text/plain": [
       "<Figure size 864x432 with 6 Axes>"
      ]
     },
     "metadata": {
      "needs_background": "light"
     },
     "output_type": "display_data"
    }
   ],
   "source": [
    "with dirichlet_model:\n",
    "   dirichlet_trace = pm.sample(5000, chains=4) # 20K samples\n",
    "   ppc = pm.sample_posterior_predictive(\n",
    "        dirichlet_trace, random_seed=1777,\n",
    "   )\n",
    "   az.plot_trace(dirichlet_trace)"
   ]
  },
  {
   "cell_type": "code",
   "execution_count": 294,
   "metadata": {},
   "outputs": [
    {
     "name": "stdout",
     "output_type": "stream",
     "text": [
      "mean= [0.43470558 0.11480786 0.45048655]\n",
      "std= [0.00383869 0.00244288 0.00394327]\n"
     ]
    }
   ],
   "source": [
    "print(\"mean=\", dirichlet_trace.get_values(\"november_prior\").mean(axis=0))\n",
    "print(\"std=\", dirichlet_trace.get_values(\"november_prior\").std(axis=0))"
   ]
  },
  {
   "cell_type": "code",
   "execution_count": 295,
   "metadata": {},
   "outputs": [
    {
     "name": "stdout",
     "output_type": "stream",
     "text": [
      "Beta mean= 0.061351409806864356\n",
      "unif mean= 2.40141651641657\n"
     ]
    }
   ],
   "source": [
    "print(\"Beta mean=\", dirichlet_trace.get_values(\"beta\").mean(axis=0))\n",
    "print(\"unif mean=\", dirichlet_trace.get_values(\"unif\").mean(axis=0))"
   ]
  },
  {
   "cell_type": "code",
   "execution_count": 296,
   "metadata": {},
   "outputs": [
    {
     "name": "stdout",
     "output_type": "stream",
     "text": [
      "{'december_like': array([[7291., 2039., 7577.],\n",
      "       [7450., 1923., 7534.],\n",
      "       [7301., 1991., 7615.],\n",
      "       ...,\n",
      "       [7249., 2116., 7542.],\n",
      "       [7341., 1956., 7610.],\n",
      "       [7352., 1964., 7591.]])}\n"
     ]
    },
    {
     "data": {
      "text/plain": [
       "array([7349.7557, 1941.299 , 7615.9453])"
      ]
     },
     "execution_count": 296,
     "metadata": {},
     "output_type": "execute_result"
    }
   ],
   "source": [
    "print(ppc)\n",
    "ppc['december_like'].mean(axis=0)"
   ]
  },
  {
   "cell_type": "code",
   "execution_count": 297,
   "metadata": {},
   "outputs": [
    {
     "data": {
      "text/plain": [
       "((20000,), (20000,))"
      ]
     },
     "execution_count": 297,
     "metadata": {},
     "output_type": "execute_result"
    }
   ],
   "source": [
    "lula = ppc['december_like'][:, 0]\n",
    "demais = ppc['december_like'][:, 2]\n",
    "lula.shape,demais.shape"
   ]
  },
  {
   "cell_type": "code",
   "execution_count": 298,
   "metadata": {},
   "outputs": [
    {
     "data": {
      "text/plain": [
       "0.0641"
      ]
     },
     "execution_count": 298,
     "metadata": {},
     "output_type": "execute_result"
    }
   ],
   "source": [
    "(lula > demais).mean()"
   ]
  },
  {
   "cell_type": "markdown",
   "metadata": {},
   "source": [
    "# Dezembro"
   ]
  },
  {
   "cell_type": "code",
   "execution_count": 390,
   "metadata": {},
   "outputs": [
    {
     "name": "stdout",
     "output_type": "stream",
     "text": [
      "2000\n"
     ]
    }
   ],
   "source": [
    "TOTAL = 2_000\n",
    "current_observed = pd.array([int(TOTAL * 0.45), int(TOTAL * 0.14), int(TOTAL * 0.41)])\n",
    "print(current_observed.sum())\n",
    "                    \n",
    "with pm.Model() as dirichlet_model:\n",
    "    \n",
    "    # unif = pm.Uniform(\"unif\", lower=2, upper=5)\n",
    "    \n",
    "    beta = pm.Beta(\"beta\", alpha=4, beta=1)\n",
    "    \n",
    "    december_prior = pm.Dirichlet(\n",
    "        \"prior\",\n",
    "        # Lula, BrancosNulosNaoSabem, Demais candidatos\n",
    "        a=pd.array([7376, 1953, 7578]).astype(\"float32\") #* beta,\n",
    "        # a=pd.array([1.0, 1.0, 1.0]).astype(\"float32\"),\n",
    "    )\n",
    "    \n",
    "    january_like = pm.Multinomial(\n",
    "        \"like\", n=current_observed.sum(), p=december_prior, observed=current_observed\n",
    "    )\n",
    "    "
   ]
  },
  {
   "cell_type": "code",
   "execution_count": 438,
   "metadata": {},
   "outputs": [
    {
     "name": "stderr",
     "output_type": "stream",
     "text": [
      "/tmp/ipykernel_1903678/1181631091.py:2: FutureWarning: In v4.0, pm.sample will return an `arviz.InferenceData` object instead of a `MultiTrace` by default. You can pass return_inferencedata=True or return_inferencedata=False to be safe and silence this warning.\n",
      "  dirichlet_trace = pm.sample(5000, chains=2, progressbar=False) # 20K samples\n",
      "Auto-assigning NUTS sampler...\n",
      "Initializing NUTS using jitter+adapt_diag...\n",
      "Multiprocess sampling (2 chains in 2 jobs)\n",
      "NUTS: [prior, beta, unif]\n",
      "Sampling 2 chains for 1_000 tune and 5_000 draw iterations (2_000 + 10_000 draws total) took 10 seconds.\n"
     ]
    },
    {
     "data": {
      "text/html": [
       "\n",
       "    <div>\n",
       "        <style>\n",
       "            /* Turns off some styling */\n",
       "            progress {\n",
       "                /* gets rid of default border in Firefox and Opera. */\n",
       "                border: none;\n",
       "                /* Needs to be in here for Safari polyfill so background images work as expected. */\n",
       "                background-size: auto;\n",
       "            }\n",
       "            .progress-bar-interrupted, .progress-bar-interrupted::-webkit-progress-bar {\n",
       "                background: #F44336;\n",
       "            }\n",
       "        </style>\n",
       "      <progress value='10000' class='' max='10000' style='width:300px; height:20px; vertical-align: middle;'></progress>\n",
       "      100.00% [10000/10000 00:06<00:00]\n",
       "    </div>\n",
       "    "
      ],
      "text/plain": [
       "<IPython.core.display.HTML object>"
      ]
     },
     "metadata": {},
     "output_type": "display_data"
    },
    {
     "data": {
      "image/png": "[encoded data removed]",
      "text/plain": [
       "<Figure size 1152x432 with 6 Axes>"
      ]
     },
     "metadata": {
      "needs_background": "light"
     },
     "output_type": "display_data"
    }
   ],
   "source": [
    "with dirichlet_model:\n",
    "   dirichlet_trace = pm.sample(5000, chains=2, progressbar=False) # 20K samples\n",
    "   ppc = pm.sample_posterior_predictive(\n",
    "        dirichlet_trace, random_seed=1777,\n",
    "   )\n",
    "   az.plot_trace(dirichlet_trace, figsize=(16,6))\n",
    "   "
   ]
  },
  {
   "cell_type": "code",
   "execution_count": 439,
   "metadata": {},
   "outputs": [
    {
     "data": {
      "text/plain": [
       "<AxesSubplot:>"
      ]
     },
     "execution_count": 439,
     "metadata": {},
     "output_type": "execute_result"
    },
    {
     "data": {
      "image/png": "[encoded data removed]",
      "text/plain": [
       "<Figure size 432x288 with 1 Axes>"
      ]
     },
     "metadata": {
      "needs_background": "light"
     },
     "output_type": "display_data"
    }
   ],
   "source": [
    "#print(dirichlet_trace.get_values('prior'))\n",
    "# az.plot_forest(dirichlet_trace, combined=True, figsize=(12,8))\n",
    "az.plot_dist(dirichlet_trace['prior'][:,0], quantiles=[0.025, 0.975])"
   ]
  },
  {
   "cell_type": "code",
   "execution_count": 440,
   "metadata": {},
   "outputs": [
    {
     "name": "stderr",
     "output_type": "stream",
     "text": [
      "Got error No model on context stack. trying to find log_likelihood in translation.\n",
      "/mnt/home/regis/anaconda3/envs/kaggle_env/lib/python3.9/site-packages/arviz/data/io_pymc3_3x.py:98: FutureWarning: Using `from_pymc3` without the model will be deprecated in a future release. Not using the model will return less accurate and less useful results. Make sure you use the model argument or call from_pymc3 within a model context.\n",
      "  warnings.warn(\n"
     ]
    },
    {
     "data": {
      "text/plain": [
       "array([<AxesSubplot:title={'center':'94.0% HDI'}>], dtype=object)"
      ]
     },
     "execution_count": 440,
     "metadata": {},
     "output_type": "execute_result"
    },
    {
     "data": {
      "image/png": "[encoded data removed]",
      "text/plain": [
       "<Figure size 1152x144 with 1 Axes>"
      ]
     },
     "metadata": {
      "needs_background": "light"
     },
     "output_type": "display_data"
    }
   ],
   "source": [
    "az.plot_forest(dirichlet_trace, var_names='prior', filter_vars='like', figsize=(16,2))"
   ]
  },
  {
   "cell_type": "code",
   "execution_count": 441,
   "metadata": {},
   "outputs": [
    {
     "name": "stderr",
     "output_type": "stream",
     "text": [
      "Got error No model on context stack. trying to find log_likelihood in translation.\n",
      "/mnt/home/regis/anaconda3/envs/kaggle_env/lib/python3.9/site-packages/arviz/data/io_pymc3_3x.py:98: FutureWarning: Using `from_pymc3` without the model will be deprecated in a future release. Not using the model will return less accurate and less useful results. Make sure you use the model argument or call from_pymc3 within a model context.\n",
      "  warnings.warn(\n"
     ]
    },
    {
     "data": {
      "text/plain": [
       "array([<AxesSubplot:title={'center':'prior\\n0'}>,\n",
       "       <AxesSubplot:title={'center':'prior\\n1'}>,\n",
       "       <AxesSubplot:title={'center':'prior\\n2'}>], dtype=object)"
      ]
     },
     "execution_count": 441,
     "metadata": {},
     "output_type": "execute_result"
    },
    {
     "data": {
      "image/png": "[encoded data removed]",
      "text/plain": [
       "<Figure size 1152x432 with 3 Axes>"
      ]
     },
     "metadata": {
      "needs_background": "light"
     },
     "output_type": "display_data"
    }
   ],
   "source": [
    "#rope = {'prior':[{'rope': (0.435, 0.453)}]}\n",
    "az.plot_posterior(dirichlet_trace, var_names='prior', filter_vars='like', figsize=(16,6))"
   ]
  },
  {
   "cell_type": "code",
   "execution_count": null,
   "metadata": {},
   "outputs": [],
   "source": []
  },
  {
   "cell_type": "code",
   "execution_count": 443,
   "metadata": {},
   "outputs": [
    {
     "name": "stdout",
     "output_type": "stream",
     "text": [
      "prior mean= [0.43771903 0.11813402 0.44414696]\n",
      "prior std= [0.00359665 0.00233621 0.00360568]\n",
      "Beta mean= 0.7964310680353032\n",
      "unif mean= 3.495698508355063\n"
     ]
    }
   ],
   "source": [
    "print(\"prior mean=\", dirichlet_trace.get_values(\"prior\").mean(axis=0))\n",
    "print(\"prior std=\", dirichlet_trace.get_values(\"prior\").std(axis=0))\n",
    "print(\"Beta mean=\", dirichlet_trace.get_values(\"beta\").mean(axis=0))\n",
    "print(\"unif mean=\", dirichlet_trace.get_values(\"unif\").mean(axis=0))"
   ]
  },
  {
   "cell_type": "code",
   "execution_count": 444,
   "metadata": {},
   "outputs": [
    {
     "name": "stdout",
     "output_type": "stream",
     "text": [
      "(10000,) (10000,)\n",
      "Probabilidade de Lula vencer no primeiro turno é de: 0.3824\n"
     ]
    }
   ],
   "source": [
    "lula = ppc['like'][:, 0]\n",
    "demais = ppc['like'][:, 2]\n",
    "print(lula.shape,demais.shape)\n",
    "print(\"Probabilidade de Lula vencer no primeiro turno é de:\", (lula > demais).mean())"
   ]
  },
  {
   "cell_type": "markdown",
   "metadata": {},
   "source": [
    "## Playground"
   ]
  },
  {
   "cell_type": "markdown",
   "metadata": {},
   "source": [
    "### Dirichlet"
   ]
  },
  {
   "cell_type": "code",
   "execution_count": 485,
   "metadata": {},
   "outputs": [],
   "source": [
    "CONST = 1000 * 0.6\n",
    "with pm.Model() as test_dirichlet_model:\n",
    "    d = pm.Dirichlet(\"test_dirichlet\", a=pd.array([CONST, CONST, CONST]).astype(\"float32\"))\n",
    "    #test_dirichlet_trace = pm.sample(1000, chains=2, progressbar=True)\n",
    "    ppc = pm.sample_prior_predictive(samples=1000, random_seed=1777)"
   ]
  },
  {
   "cell_type": "code",
   "execution_count": 486,
   "metadata": {},
   "outputs": [
    {
     "name": "stdout",
     "output_type": "stream",
     "text": [
      "mean= [0.33315035 0.3327912  0.33405845]\n",
      "std= [0.01112768 0.01091933 0.01099878]\n"
     ]
    }
   ],
   "source": [
    "# az.plot_posterior(ppc, var_names=\"test_dirichlet\");\n",
    "\n",
    "print(\"mean=\",ppc['test_dirichlet'].mean(axis=0))\n",
    "print(\"std=\",ppc['test_dirichlet'].std(axis=0))\n"
   ]
  },
  {
   "cell_type": "code",
   "execution_count": 460,
   "metadata": {},
   "outputs": [
    {
     "name": "stdout",
     "output_type": "stream",
     "text": [
      "<MultiTrace: 2 chains, 1000 iterations, 2 variables>\n"
     ]
    }
   ],
   "source": []
  },
  {
   "cell_type": "markdown",
   "metadata": {},
   "source": [
    "## Distribuição da probabilidade de lula vencer no segundo turno."
   ]
  },
  {
   "cell_type": "code",
   "execution_count": 83,
   "metadata": {},
   "outputs": [
    {
     "data": {
      "text/html": [
       "<div>\n",
       "<style scoped>\n",
       "    .dataframe tbody tr th:only-of-type {\n",
       "        vertical-align: middle;\n",
       "    }\n",
       "\n",
       "    .dataframe tbody tr th {\n",
       "        vertical-align: top;\n",
       "    }\n",
       "\n",
       "    .dataframe thead th {\n",
       "        text-align: right;\n",
       "    }\n",
       "</style>\n",
       "<table border=\"1\" class=\"dataframe\">\n",
       "  <thead>\n",
       "    <tr style=\"text-align: right;\">\n",
       "      <th></th>\n",
       "      <th>pesquisa_id</th>\n",
       "      <th>cenario_id</th>\n",
       "      <th>turno</th>\n",
       "      <th>partido</th>\n",
       "      <th>candidato</th>\n",
       "      <th>cenario_descricao</th>\n",
       "      <th>instituto</th>\n",
       "      <th>percentual</th>\n",
       "      <th>data_referencia</th>\n",
       "      <th>qtd_entrevistas</th>\n",
       "      <th>qtd_mencoes</th>\n",
       "    </tr>\n",
       "  </thead>\n",
       "  <tbody>\n",
       "    <tr>\n",
       "      <th>0</th>\n",
       "      <td>9764</td>\n",
       "      <td>24661</td>\n",
       "      <td>1</td>\n",
       "      <td>NaN</td>\n",
       "      <td>branco / nulo / nenhum</td>\n",
       "      <td>cenário 1 - estimulado - 1º turno</td>\n",
       "      <td>Datafolha</td>\n",
       "      <td>8.0</td>\n",
       "      <td>13-16.dez.2021</td>\n",
       "      <td>3666</td>\n",
       "      <td>293.280</td>\n",
       "    </tr>\n",
       "    <tr>\n",
       "      <th>41</th>\n",
       "      <td>9764</td>\n",
       "      <td>24661</td>\n",
       "      <td>1</td>\n",
       "      <td>NaN</td>\n",
       "      <td>não sabe</td>\n",
       "      <td>cenário 1 - estimulado - 1º turno</td>\n",
       "      <td>Datafolha</td>\n",
       "      <td>2.0</td>\n",
       "      <td>13-16.dez.2021</td>\n",
       "      <td>3666</td>\n",
       "      <td>73.320</td>\n",
       "    </tr>\n",
       "    <tr>\n",
       "      <th>48</th>\n",
       "      <td>9760</td>\n",
       "      <td>24647</td>\n",
       "      <td>1</td>\n",
       "      <td>NaN</td>\n",
       "      <td>nenhum / não sabe / não respondeu</td>\n",
       "      <td>cenário 1 - estimulado - 1º turno</td>\n",
       "      <td>Futura</td>\n",
       "      <td>3.7</td>\n",
       "      <td>7-13.dez.2021</td>\n",
       "      <td>2000</td>\n",
       "      <td>74.000</td>\n",
       "    </tr>\n",
       "    <tr>\n",
       "      <th>50</th>\n",
       "      <td>9760</td>\n",
       "      <td>24647</td>\n",
       "      <td>1</td>\n",
       "      <td>NaN</td>\n",
       "      <td>branco / nulo</td>\n",
       "      <td>cenário 1 - estimulado - 1º turno</td>\n",
       "      <td>Futura</td>\n",
       "      <td>4.8</td>\n",
       "      <td>7-13.dez.2021</td>\n",
       "      <td>2000</td>\n",
       "      <td>96.000</td>\n",
       "    </tr>\n",
       "    <tr>\n",
       "      <th>137</th>\n",
       "      <td>9758</td>\n",
       "      <td>24636</td>\n",
       "      <td>1</td>\n",
       "      <td>NaN</td>\n",
       "      <td>branco / nulo / nenhum</td>\n",
       "      <td>cenário 1 - estimulado - 1º turno</td>\n",
       "      <td>Ideia Big Data</td>\n",
       "      <td>10.0</td>\n",
       "      <td>6-9.dez.2021</td>\n",
       "      <td>1200</td>\n",
       "      <td>120.000</td>\n",
       "    </tr>\n",
       "    <tr>\n",
       "      <th>138</th>\n",
       "      <td>9758</td>\n",
       "      <td>24636</td>\n",
       "      <td>1</td>\n",
       "      <td>NaN</td>\n",
       "      <td>não sabe</td>\n",
       "      <td>cenário 1 - estimulado - 1º turno</td>\n",
       "      <td>Ideia Big Data</td>\n",
       "      <td>3.0</td>\n",
       "      <td>6-9.dez.2021</td>\n",
       "      <td>1200</td>\n",
       "      <td>36.000</td>\n",
       "    </tr>\n",
       "    <tr>\n",
       "      <th>147</th>\n",
       "      <td>9761</td>\n",
       "      <td>24656</td>\n",
       "      <td>1</td>\n",
       "      <td>NaN</td>\n",
       "      <td>não sabe / não respondeu</td>\n",
       "      <td>cenário 1 - estimulado - 1º turno</td>\n",
       "      <td>Ipec</td>\n",
       "      <td>5.0</td>\n",
       "      <td>9-13.dez.2021</td>\n",
       "      <td>2002</td>\n",
       "      <td>100.100</td>\n",
       "    </tr>\n",
       "    <tr>\n",
       "      <th>148</th>\n",
       "      <td>9761</td>\n",
       "      <td>24656</td>\n",
       "      <td>1</td>\n",
       "      <td>NaN</td>\n",
       "      <td>branco / nulo</td>\n",
       "      <td>cenário 1 - estimulado - 1º turno</td>\n",
       "      <td>Ipec</td>\n",
       "      <td>9.0</td>\n",
       "      <td>9-13.dez.2021</td>\n",
       "      <td>2002</td>\n",
       "      <td>180.180</td>\n",
       "    </tr>\n",
       "    <tr>\n",
       "      <th>165</th>\n",
       "      <td>9769</td>\n",
       "      <td>24699</td>\n",
       "      <td>1</td>\n",
       "      <td>NaN</td>\n",
       "      <td>não sabe / não respondeu</td>\n",
       "      <td>cenário 1 - estimulado - 1º turno</td>\n",
       "      <td>Ipespe</td>\n",
       "      <td>3.0</td>\n",
       "      <td>14-16.dez.2021</td>\n",
       "      <td>1000</td>\n",
       "      <td>30.000</td>\n",
       "    </tr>\n",
       "    <tr>\n",
       "      <th>166</th>\n",
       "      <td>9769</td>\n",
       "      <td>24699</td>\n",
       "      <td>1</td>\n",
       "      <td>NaN</td>\n",
       "      <td>branco / nulo / nenhum</td>\n",
       "      <td>cenário 1 - estimulado - 1º turno</td>\n",
       "      <td>Ipespe</td>\n",
       "      <td>9.0</td>\n",
       "      <td>14-16.dez.2021</td>\n",
       "      <td>1000</td>\n",
       "      <td>90.000</td>\n",
       "    </tr>\n",
       "    <tr>\n",
       "      <th>203</th>\n",
       "      <td>9762</td>\n",
       "      <td>24658</td>\n",
       "      <td>1</td>\n",
       "      <td>NaN</td>\n",
       "      <td>branco / nulo</td>\n",
       "      <td>cenário 1 - estimulado - 1º turno</td>\n",
       "      <td>MDA</td>\n",
       "      <td>7.6</td>\n",
       "      <td>9-11.dez.2021</td>\n",
       "      <td>2002</td>\n",
       "      <td>152.152</td>\n",
       "    </tr>\n",
       "    <tr>\n",
       "      <th>207</th>\n",
       "      <td>9762</td>\n",
       "      <td>24658</td>\n",
       "      <td>1</td>\n",
       "      <td>NaN</td>\n",
       "      <td>indeciso</td>\n",
       "      <td>cenário 1 - estimulado - 1º turno</td>\n",
       "      <td>MDA</td>\n",
       "      <td>7.7</td>\n",
       "      <td>9-11.dez.2021</td>\n",
       "      <td>2002</td>\n",
       "      <td>154.154</td>\n",
       "    </tr>\n",
       "    <tr>\n",
       "      <th>219</th>\n",
       "      <td>9768</td>\n",
       "      <td>24692</td>\n",
       "      <td>1</td>\n",
       "      <td>NaN</td>\n",
       "      <td>branco / nulo</td>\n",
       "      <td>cenário 1 - estimulado - 1º turno</td>\n",
       "      <td>PoderData</td>\n",
       "      <td>5.0</td>\n",
       "      <td>19-21.dez.2021</td>\n",
       "      <td>3000</td>\n",
       "      <td>150.000</td>\n",
       "    </tr>\n",
       "    <tr>\n",
       "      <th>221</th>\n",
       "      <td>9768</td>\n",
       "      <td>24692</td>\n",
       "      <td>1</td>\n",
       "      <td>NaN</td>\n",
       "      <td>não sabe</td>\n",
       "      <td>cenário 1 - estimulado - 1º turno</td>\n",
       "      <td>PoderData</td>\n",
       "      <td>6.0</td>\n",
       "      <td>19-21.dez.2021</td>\n",
       "      <td>3000</td>\n",
       "      <td>180.000</td>\n",
       "    </tr>\n",
       "    <tr>\n",
       "      <th>272</th>\n",
       "      <td>9755</td>\n",
       "      <td>24603</td>\n",
       "      <td>1</td>\n",
       "      <td>NaN</td>\n",
       "      <td>branco / nulo / não votará</td>\n",
       "      <td>cenário 1 - estimulado - 1º turno</td>\n",
       "      <td>Quaest</td>\n",
       "      <td>7.0</td>\n",
       "      <td>2-5.dez.2021</td>\n",
       "      <td>2037</td>\n",
       "      <td>142.590</td>\n",
       "    </tr>\n",
       "    <tr>\n",
       "      <th>273</th>\n",
       "      <td>9755</td>\n",
       "      <td>24603</td>\n",
       "      <td>1</td>\n",
       "      <td>NaN</td>\n",
       "      <td>indeciso</td>\n",
       "      <td>cenário 1 - estimulado - 1º turno</td>\n",
       "      <td>Quaest</td>\n",
       "      <td>4.0</td>\n",
       "      <td>2-5.dez.2021</td>\n",
       "      <td>2037</td>\n",
       "      <td>81.480</td>\n",
       "    </tr>\n",
       "  </tbody>\n",
       "</table>\n",
       "</div>"
      ],
      "text/plain": [
       "     pesquisa_id  cenario_id  turno partido  \\\n",
       "0           9764       24661      1     NaN   \n",
       "41          9764       24661      1     NaN   \n",
       "48          9760       24647      1     NaN   \n",
       "50          9760       24647      1     NaN   \n",
       "137         9758       24636      1     NaN   \n",
       "138         9758       24636      1     NaN   \n",
       "147         9761       24656      1     NaN   \n",
       "148         9761       24656      1     NaN   \n",
       "165         9769       24699      1     NaN   \n",
       "166         9769       24699      1     NaN   \n",
       "203         9762       24658      1     NaN   \n",
       "207         9762       24658      1     NaN   \n",
       "219         9768       24692      1     NaN   \n",
       "221         9768       24692      1     NaN   \n",
       "272         9755       24603      1     NaN   \n",
       "273         9755       24603      1     NaN   \n",
       "\n",
       "                             candidato                  cenario_descricao  \\\n",
       "0               branco / nulo / nenhum  cenário 1 - estimulado - 1º turno   \n",
       "41                            não sabe  cenário 1 - estimulado - 1º turno   \n",
       "48   nenhum / não sabe / não respondeu  cenário 1 - estimulado - 1º turno   \n",
       "50                       branco / nulo  cenário 1 - estimulado - 1º turno   \n",
       "137             branco / nulo / nenhum  cenário 1 - estimulado - 1º turno   \n",
       "138                           não sabe  cenário 1 - estimulado - 1º turno   \n",
       "147           não sabe / não respondeu  cenário 1 - estimulado - 1º turno   \n",
       "148                      branco / nulo  cenário 1 - estimulado - 1º turno   \n",
       "165           não sabe / não respondeu  cenário 1 - estimulado - 1º turno   \n",
       "166             branco / nulo / nenhum  cenário 1 - estimulado - 1º turno   \n",
       "203                      branco / nulo  cenário 1 - estimulado - 1º turno   \n",
       "207                           indeciso  cenário 1 - estimulado - 1º turno   \n",
       "219                      branco / nulo  cenário 1 - estimulado - 1º turno   \n",
       "221                           não sabe  cenário 1 - estimulado - 1º turno   \n",
       "272         branco / nulo / não votará  cenário 1 - estimulado - 1º turno   \n",
       "273                           indeciso  cenário 1 - estimulado - 1º turno   \n",
       "\n",
       "          instituto  percentual data_referencia  qtd_entrevistas  qtd_mencoes  \n",
       "0         Datafolha         8.0  13-16.dez.2021             3666      293.280  \n",
       "41        Datafolha         2.0  13-16.dez.2021             3666       73.320  \n",
       "48           Futura         3.7   7-13.dez.2021             2000       74.000  \n",
       "50           Futura         4.8   7-13.dez.2021             2000       96.000  \n",
       "137  Ideia Big Data        10.0    6-9.dez.2021             1200      120.000  \n",
       "138  Ideia Big Data         3.0    6-9.dez.2021             1200       36.000  \n",
       "147            Ipec         5.0   9-13.dez.2021             2002      100.100  \n",
       "148            Ipec         9.0   9-13.dez.2021             2002      180.180  \n",
       "165          Ipespe         3.0  14-16.dez.2021             1000       30.000  \n",
       "166          Ipespe         9.0  14-16.dez.2021             1000       90.000  \n",
       "203             MDA         7.6   9-11.dez.2021             2002      152.152  \n",
       "207             MDA         7.7   9-11.dez.2021             2002      154.154  \n",
       "219       PoderData         5.0  19-21.dez.2021             3000      150.000  \n",
       "221       PoderData         6.0  19-21.dez.2021             3000      180.000  \n",
       "272          Quaest         7.0    2-5.dez.2021             2037      142.590  \n",
       "273          Quaest         4.0    2-5.dez.2021             2037       81.480  "
      ]
     },
     "execution_count": 83,
     "metadata": {},
     "output_type": "execute_result"
    }
   ],
   "source": [
    "december_simple_df[(december_simple_df.turno==1) & (december_simple_df.partido.isna()) & (december_simple_df.cenario_descricao.str.startswith('cenário 1'))]"
   ]
  },
  {
   "cell_type": "code",
   "execution_count": 22,
   "metadata": {},
   "outputs": [
    {
     "name": "stderr",
     "output_type": "stream",
     "text": [
      "/tmp/ipykernel_1903678/1724641766.py:4: FutureWarning: In v4.0, pm.sample will return an `arviz.InferenceData` object instead of a `MultiTrace` by default. You can pass return_inferencedata=True or return_inferencedata=False to be safe and silence this warning.\n",
      "  dirichlet_trace = pm.sample(5000) # 100K samples\n",
      "Auto-assigning NUTS sampler...\n",
      "Initializing NUTS using jitter+adapt_diag...\n",
      "Multiprocess sampling (2 chains in 2 jobs)\n",
      "NUTS: [november_prior]\n"
     ]
    },
    {
     "data": {
      "text/html": [
       "\n",
       "    <div>\n",
       "        <style>\n",
       "            /* Turns off some styling */\n",
       "            progress {\n",
       "                /* gets rid of default border in Firefox and Opera. */\n",
       "                border: none;\n",
       "                /* Needs to be in here for Safari polyfill so background images work as expected. */\n",
       "                background-size: auto;\n",
       "            }\n",
       "            .progress-bar-interrupted, .progress-bar-interrupted::-webkit-progress-bar {\n",
       "                background: #F44336;\n",
       "            }\n",
       "        </style>\n",
       "      <progress value='12000' class='' max='12000' style='width:300px; height:20px; vertical-align: middle;'></progress>\n",
       "      100.00% [12000/12000 00:17<00:00 Sampling 2 chains, 0 divergences]\n",
       "    </div>\n",
       "    "
      ],
      "text/plain": [
       "<IPython.core.display.HTML object>"
      ]
     },
     "metadata": {},
     "output_type": "display_data"
    },
    {
     "name": "stderr",
     "output_type": "stream",
     "text": [
      "Sampling 2 chains for 1_000 tune and 5_000 draw iterations (2_000 + 10_000 draws total) took 18 seconds.\n"
     ]
    },
    {
     "data": {
      "text/html": [
       "\n",
       "    <div>\n",
       "        <style>\n",
       "            /* Turns off some styling */\n",
       "            progress {\n",
       "                /* gets rid of default border in Firefox and Opera. */\n",
       "                border: none;\n",
       "                /* Needs to be in here for Safari polyfill so background images work as expected. */\n",
       "                background-size: auto;\n",
       "            }\n",
       "            .progress-bar-interrupted, .progress-bar-interrupted::-webkit-progress-bar {\n",
       "                background: #F44336;\n",
       "            }\n",
       "        </style>\n",
       "      <progress value='10000' class='' max='10000' style='width:300px; height:20px; vertical-align: middle;'></progress>\n",
       "      100.00% [10000/10000 00:17<00:00]\n",
       "    </div>\n",
       "    "
      ],
      "text/plain": [
       "<IPython.core.display.HTML object>"
      ]
     },
     "metadata": {},
     "output_type": "display_data"
    },
    {
     "name": "stderr",
     "output_type": "stream",
     "text": [
      "/tmp/ipykernel_1903678/1724641766.py:4: FutureWarning: In v4.0, pm.sample will return an `arviz.InferenceData` object instead of a `MultiTrace` by default. You can pass return_inferencedata=True or return_inferencedata=False to be safe and silence this warning.\n",
      "  dirichlet_trace = pm.sample(5000) # 100K samples\n",
      "Auto-assigning NUTS sampler...\n",
      "Initializing NUTS using jitter+adapt_diag...\n",
      "Multiprocess sampling (2 chains in 2 jobs)\n",
      "NUTS: [november_prior]\n"
     ]
    },
    {
     "data": {
      "text/html": [
       "\n",
       "    <div>\n",
       "        <style>\n",
       "            /* Turns off some styling */\n",
       "            progress {\n",
       "                /* gets rid of default border in Firefox and Opera. */\n",
       "                border: none;\n",
       "                /* Needs to be in here for Safari polyfill so background images work as expected. */\n",
       "                background-size: auto;\n",
       "            }\n",
       "            .progress-bar-interrupted, .progress-bar-interrupted::-webkit-progress-bar {\n",
       "                background: #F44336;\n",
       "            }\n",
       "        </style>\n",
       "      <progress value='12000' class='' max='12000' style='width:300px; height:20px; vertical-align: middle;'></progress>\n",
       "      100.00% [12000/12000 00:19<00:00 Sampling 2 chains, 0 divergences]\n",
       "    </div>\n",
       "    "
      ],
      "text/plain": [
       "<IPython.core.display.HTML object>"
      ]
     },
     "metadata": {},
     "output_type": "display_data"
    },
    {
     "name": "stderr",
     "output_type": "stream",
     "text": [
      "Sampling 2 chains for 1_000 tune and 5_000 draw iterations (2_000 + 10_000 draws total) took 20 seconds.\n",
      "The acceptance probability does not match the target. It is 0.8811296021497512, but should be close to 0.8. Try to increase the number of tuning steps.\n"
     ]
    },
    {
     "data": {
      "text/html": [
       "\n",
       "    <div>\n",
       "        <style>\n",
       "            /* Turns off some styling */\n",
       "            progress {\n",
       "                /* gets rid of default border in Firefox and Opera. */\n",
       "                border: none;\n",
       "                /* Needs to be in here for Safari polyfill so background images work as expected. */\n",
       "                background-size: auto;\n",
       "            }\n",
       "            .progress-bar-interrupted, .progress-bar-interrupted::-webkit-progress-bar {\n",
       "                background: #F44336;\n",
       "            }\n",
       "        </style>\n",
       "      <progress value='10000' class='' max='10000' style='width:300px; height:20px; vertical-align: middle;'></progress>\n",
       "      100.00% [10000/10000 00:15<00:00]\n",
       "    </div>\n",
       "    "
      ],
      "text/plain": [
       "<IPython.core.display.HTML object>"
      ]
     },
     "metadata": {},
     "output_type": "display_data"
    },
    {
     "name": "stderr",
     "output_type": "stream",
     "text": [
      "/tmp/ipykernel_1903678/1724641766.py:4: FutureWarning: In v4.0, pm.sample will return an `arviz.InferenceData` object instead of a `MultiTrace` by default. You can pass return_inferencedata=True or return_inferencedata=False to be safe and silence this warning.\n",
      "  dirichlet_trace = pm.sample(5000) # 100K samples\n",
      "Auto-assigning NUTS sampler...\n",
      "Initializing NUTS using jitter+adapt_diag...\n",
      "Multiprocess sampling (2 chains in 2 jobs)\n",
      "NUTS: [november_prior]\n"
     ]
    },
    {
     "data": {
      "text/html": [
       "\n",
       "    <div>\n",
       "        <style>\n",
       "            /* Turns off some styling */\n",
       "            progress {\n",
       "                /* gets rid of default border in Firefox and Opera. */\n",
       "                border: none;\n",
       "                /* Needs to be in here for Safari polyfill so background images work as expected. */\n",
       "                background-size: auto;\n",
       "            }\n",
       "            .progress-bar-interrupted, .progress-bar-interrupted::-webkit-progress-bar {\n",
       "                background: #F44336;\n",
       "            }\n",
       "        </style>\n",
       "      <progress value='12000' class='' max='12000' style='width:300px; height:20px; vertical-align: middle;'></progress>\n",
       "      100.00% [12000/12000 00:22<00:00 Sampling 2 chains, 0 divergences]\n",
       "    </div>\n",
       "    "
      ],
      "text/plain": [
       "<IPython.core.display.HTML object>"
      ]
     },
     "metadata": {},
     "output_type": "display_data"
    },
    {
     "name": "stderr",
     "output_type": "stream",
     "text": [
      "Sampling 2 chains for 1_000 tune and 5_000 draw iterations (2_000 + 10_000 draws total) took 22 seconds.\n"
     ]
    },
    {
     "data": {
      "text/html": [
       "\n",
       "    <div>\n",
       "        <style>\n",
       "            /* Turns off some styling */\n",
       "            progress {\n",
       "                /* gets rid of default border in Firefox and Opera. */\n",
       "                border: none;\n",
       "                /* Needs to be in here for Safari polyfill so background images work as expected. */\n",
       "                background-size: auto;\n",
       "            }\n",
       "            .progress-bar-interrupted, .progress-bar-interrupted::-webkit-progress-bar {\n",
       "                background: #F44336;\n",
       "            }\n",
       "        </style>\n",
       "      <progress value='10000' class='' max='10000' style='width:300px; height:20px; vertical-align: middle;'></progress>\n",
       "      100.00% [10000/10000 00:15<00:00]\n",
       "    </div>\n",
       "    "
      ],
      "text/plain": [
       "<IPython.core.display.HTML object>"
      ]
     },
     "metadata": {},
     "output_type": "display_data"
    },
    {
     "name": "stderr",
     "output_type": "stream",
     "text": [
      "/tmp/ipykernel_1903678/1724641766.py:4: FutureWarning: In v4.0, pm.sample will return an `arviz.InferenceData` object instead of a `MultiTrace` by default. You can pass return_inferencedata=True or return_inferencedata=False to be safe and silence this warning.\n",
      "  dirichlet_trace = pm.sample(5000) # 100K samples\n",
      "Auto-assigning NUTS sampler...\n",
      "Initializing NUTS using jitter+adapt_diag...\n",
      "Multiprocess sampling (2 chains in 2 jobs)\n",
      "NUTS: [november_prior]\n"
     ]
    },
    {
     "data": {
      "text/html": [
       "\n",
       "    <div>\n",
       "        <style>\n",
       "            /* Turns off some styling */\n",
       "            progress {\n",
       "                /* gets rid of default border in Firefox and Opera. */\n",
       "                border: none;\n",
       "                /* Needs to be in here for Safari polyfill so background images work as expected. */\n",
       "                background-size: auto;\n",
       "            }\n",
       "            .progress-bar-interrupted, .progress-bar-interrupted::-webkit-progress-bar {\n",
       "                background: #F44336;\n",
       "            }\n",
       "        </style>\n",
       "      <progress value='12000' class='' max='12000' style='width:300px; height:20px; vertical-align: middle;'></progress>\n",
       "      100.00% [12000/12000 00:18<00:00 Sampling 2 chains, 0 divergences]\n",
       "    </div>\n",
       "    "
      ],
      "text/plain": [
       "<IPython.core.display.HTML object>"
      ]
     },
     "metadata": {},
     "output_type": "display_data"
    },
    {
     "name": "stderr",
     "output_type": "stream",
     "text": [
      "Sampling 2 chains for 1_000 tune and 5_000 draw iterations (2_000 + 10_000 draws total) took 19 seconds.\n",
      "The acceptance probability does not match the target. It is 0.8887629174168021, but should be close to 0.8. Try to increase the number of tuning steps.\n"
     ]
    },
    {
     "data": {
      "text/html": [
       "\n",
       "    <div>\n",
       "        <style>\n",
       "            /* Turns off some styling */\n",
       "            progress {\n",
       "                /* gets rid of default border in Firefox and Opera. */\n",
       "                border: none;\n",
       "                /* Needs to be in here for Safari polyfill so background images work as expected. */\n",
       "                background-size: auto;\n",
       "            }\n",
       "            .progress-bar-interrupted, .progress-bar-interrupted::-webkit-progress-bar {\n",
       "                background: #F44336;\n",
       "            }\n",
       "        </style>\n",
       "      <progress value='10000' class='' max='10000' style='width:300px; height:20px; vertical-align: middle;'></progress>\n",
       "      100.00% [10000/10000 00:14<00:00]\n",
       "    </div>\n",
       "    "
      ],
      "text/plain": [
       "<IPython.core.display.HTML object>"
      ]
     },
     "metadata": {},
     "output_type": "display_data"
    },
    {
     "name": "stderr",
     "output_type": "stream",
     "text": [
      "/tmp/ipykernel_1903678/1724641766.py:4: FutureWarning: In v4.0, pm.sample will return an `arviz.InferenceData` object instead of a `MultiTrace` by default. You can pass return_inferencedata=True or return_inferencedata=False to be safe and silence this warning.\n",
      "  dirichlet_trace = pm.sample(5000) # 100K samples\n",
      "Auto-assigning NUTS sampler...\n",
      "Initializing NUTS using jitter+adapt_diag...\n",
      "Multiprocess sampling (2 chains in 2 jobs)\n",
      "NUTS: [november_prior]\n"
     ]
    },
    {
     "data": {
      "text/html": [
       "\n",
       "    <div>\n",
       "        <style>\n",
       "            /* Turns off some styling */\n",
       "            progress {\n",
       "                /* gets rid of default border in Firefox and Opera. */\n",
       "                border: none;\n",
       "                /* Needs to be in here for Safari polyfill so background images work as expected. */\n",
       "                background-size: auto;\n",
       "            }\n",
       "            .progress-bar-interrupted, .progress-bar-interrupted::-webkit-progress-bar {\n",
       "                background: #F44336;\n",
       "            }\n",
       "        </style>\n",
       "      <progress value='12000' class='' max='12000' style='width:300px; height:20px; vertical-align: middle;'></progress>\n",
       "      100.00% [12000/12000 00:15<00:00 Sampling 2 chains, 0 divergences]\n",
       "    </div>\n",
       "    "
      ],
      "text/plain": [
       "<IPython.core.display.HTML object>"
      ]
     },
     "metadata": {},
     "output_type": "display_data"
    },
    {
     "name": "stderr",
     "output_type": "stream",
     "text": [
      "Sampling 2 chains for 1_000 tune and 5_000 draw iterations (2_000 + 10_000 draws total) took 15 seconds.\n"
     ]
    },
    {
     "data": {
      "text/html": [
       "\n",
       "    <div>\n",
       "        <style>\n",
       "            /* Turns off some styling */\n",
       "            progress {\n",
       "                /* gets rid of default border in Firefox and Opera. */\n",
       "                border: none;\n",
       "                /* Needs to be in here for Safari polyfill so background images work as expected. */\n",
       "                background-size: auto;\n",
       "            }\n",
       "            .progress-bar-interrupted, .progress-bar-interrupted::-webkit-progress-bar {\n",
       "                background: #F44336;\n",
       "            }\n",
       "        </style>\n",
       "      <progress value='10000' class='' max='10000' style='width:300px; height:20px; vertical-align: middle;'></progress>\n",
       "      100.00% [10000/10000 00:10<00:00]\n",
       "    </div>\n",
       "    "
      ],
      "text/plain": [
       "<IPython.core.display.HTML object>"
      ]
     },
     "metadata": {},
     "output_type": "display_data"
    },
    {
     "name": "stderr",
     "output_type": "stream",
     "text": [
      "/tmp/ipykernel_1903678/1724641766.py:4: FutureWarning: In v4.0, pm.sample will return an `arviz.InferenceData` object instead of a `MultiTrace` by default. You can pass return_inferencedata=True or return_inferencedata=False to be safe and silence this warning.\n",
      "  dirichlet_trace = pm.sample(5000) # 100K samples\n",
      "Auto-assigning NUTS sampler...\n",
      "Initializing NUTS using jitter+adapt_diag...\n",
      "Multiprocess sampling (2 chains in 2 jobs)\n",
      "NUTS: [november_prior]\n"
     ]
    },
    {
     "data": {
      "text/html": [
       "\n",
       "    <div>\n",
       "        <style>\n",
       "            /* Turns off some styling */\n",
       "            progress {\n",
       "                /* gets rid of default border in Firefox and Opera. */\n",
       "                border: none;\n",
       "                /* Needs to be in here for Safari polyfill so background images work as expected. */\n",
       "                background-size: auto;\n",
       "            }\n",
       "            .progress-bar-interrupted, .progress-bar-interrupted::-webkit-progress-bar {\n",
       "                background: #F44336;\n",
       "            }\n",
       "        </style>\n",
       "      <progress value='12000' class='' max='12000' style='width:300px; height:20px; vertical-align: middle;'></progress>\n",
       "      100.00% [12000/12000 00:12<00:00 Sampling 2 chains, 0 divergences]\n",
       "    </div>\n",
       "    "
      ],
      "text/plain": [
       "<IPython.core.display.HTML object>"
      ]
     },
     "metadata": {},
     "output_type": "display_data"
    },
    {
     "name": "stderr",
     "output_type": "stream",
     "text": [
      "Sampling 2 chains for 1_000 tune and 5_000 draw iterations (2_000 + 10_000 draws total) took 12 seconds.\n"
     ]
    },
    {
     "data": {
      "text/html": [
       "\n",
       "    <div>\n",
       "        <style>\n",
       "            /* Turns off some styling */\n",
       "            progress {\n",
       "                /* gets rid of default border in Firefox and Opera. */\n",
       "                border: none;\n",
       "                /* Needs to be in here for Safari polyfill so background images work as expected. */\n",
       "                background-size: auto;\n",
       "            }\n",
       "            .progress-bar-interrupted, .progress-bar-interrupted::-webkit-progress-bar {\n",
       "                background: #F44336;\n",
       "            }\n",
       "        </style>\n",
       "      <progress value='10000' class='' max='10000' style='width:300px; height:20px; vertical-align: middle;'></progress>\n",
       "      100.00% [10000/10000 00:11<00:00]\n",
       "    </div>\n",
       "    "
      ],
      "text/plain": [
       "<IPython.core.display.HTML object>"
      ]
     },
     "metadata": {},
     "output_type": "display_data"
    },
    {
     "name": "stderr",
     "output_type": "stream",
     "text": [
      "/tmp/ipykernel_1903678/1724641766.py:4: FutureWarning: In v4.0, pm.sample will return an `arviz.InferenceData` object instead of a `MultiTrace` by default. You can pass return_inferencedata=True or return_inferencedata=False to be safe and silence this warning.\n",
      "  dirichlet_trace = pm.sample(5000) # 100K samples\n",
      "Auto-assigning NUTS sampler...\n",
      "Initializing NUTS using jitter+adapt_diag...\n",
      "Multiprocess sampling (2 chains in 2 jobs)\n",
      "NUTS: [november_prior]\n"
     ]
    },
    {
     "data": {
      "text/html": [
       "\n",
       "    <div>\n",
       "        <style>\n",
       "            /* Turns off some styling */\n",
       "            progress {\n",
       "                /* gets rid of default border in Firefox and Opera. */\n",
       "                border: none;\n",
       "                /* Needs to be in here for Safari polyfill so background images work as expected. */\n",
       "                background-size: auto;\n",
       "            }\n",
       "            .progress-bar-interrupted, .progress-bar-interrupted::-webkit-progress-bar {\n",
       "                background: #F44336;\n",
       "            }\n",
       "        </style>\n",
       "      <progress value='12000' class='' max='12000' style='width:300px; height:20px; vertical-align: middle;'></progress>\n",
       "      100.00% [12000/12000 00:13<00:00 Sampling 2 chains, 0 divergences]\n",
       "    </div>\n",
       "    "
      ],
      "text/plain": [
       "<IPython.core.display.HTML object>"
      ]
     },
     "metadata": {},
     "output_type": "display_data"
    },
    {
     "name": "stderr",
     "output_type": "stream",
     "text": [
      "Sampling 2 chains for 1_000 tune and 5_000 draw iterations (2_000 + 10_000 draws total) took 14 seconds.\n"
     ]
    },
    {
     "data": {
      "text/html": [
       "\n",
       "    <div>\n",
       "        <style>\n",
       "            /* Turns off some styling */\n",
       "            progress {\n",
       "                /* gets rid of default border in Firefox and Opera. */\n",
       "                border: none;\n",
       "                /* Needs to be in here for Safari polyfill so background images work as expected. */\n",
       "                background-size: auto;\n",
       "            }\n",
       "            .progress-bar-interrupted, .progress-bar-interrupted::-webkit-progress-bar {\n",
       "                background: #F44336;\n",
       "            }\n",
       "        </style>\n",
       "      <progress value='10000' class='' max='10000' style='width:300px; height:20px; vertical-align: middle;'></progress>\n",
       "      100.00% [10000/10000 00:11<00:00]\n",
       "    </div>\n",
       "    "
      ],
      "text/plain": [
       "<IPython.core.display.HTML object>"
      ]
     },
     "metadata": {},
     "output_type": "display_data"
    },
    {
     "name": "stderr",
     "output_type": "stream",
     "text": [
      "/tmp/ipykernel_1903678/1724641766.py:4: FutureWarning: In v4.0, pm.sample will return an `arviz.InferenceData` object instead of a `MultiTrace` by default. You can pass return_inferencedata=True or return_inferencedata=False to be safe and silence this warning.\n",
      "  dirichlet_trace = pm.sample(5000) # 100K samples\n",
      "Auto-assigning NUTS sampler...\n",
      "Initializing NUTS using jitter+adapt_diag...\n",
      "Multiprocess sampling (2 chains in 2 jobs)\n",
      "NUTS: [november_prior]\n"
     ]
    },
    {
     "data": {
      "text/html": [
       "\n",
       "    <div>\n",
       "        <style>\n",
       "            /* Turns off some styling */\n",
       "            progress {\n",
       "                /* gets rid of default border in Firefox and Opera. */\n",
       "                border: none;\n",
       "                /* Needs to be in here for Safari polyfill so background images work as expected. */\n",
       "                background-size: auto;\n",
       "            }\n",
       "            .progress-bar-interrupted, .progress-bar-interrupted::-webkit-progress-bar {\n",
       "                background: #F44336;\n",
       "            }\n",
       "        </style>\n",
       "      <progress value='12000' class='' max='12000' style='width:300px; height:20px; vertical-align: middle;'></progress>\n",
       "      100.00% [12000/12000 00:13<00:00 Sampling 2 chains, 0 divergences]\n",
       "    </div>\n",
       "    "
      ],
      "text/plain": [
       "<IPython.core.display.HTML object>"
      ]
     },
     "metadata": {},
     "output_type": "display_data"
    },
    {
     "name": "stderr",
     "output_type": "stream",
     "text": [
      "Sampling 2 chains for 1_000 tune and 5_000 draw iterations (2_000 + 10_000 draws total) took 13 seconds.\n",
      "The acceptance probability does not match the target. It is 0.8811296021497512, but should be close to 0.8. Try to increase the number of tuning steps.\n"
     ]
    },
    {
     "data": {
      "text/html": [
       "\n",
       "    <div>\n",
       "        <style>\n",
       "            /* Turns off some styling */\n",
       "            progress {\n",
       "                /* gets rid of default border in Firefox and Opera. */\n",
       "                border: none;\n",
       "                /* Needs to be in here for Safari polyfill so background images work as expected. */\n",
       "                background-size: auto;\n",
       "            }\n",
       "            .progress-bar-interrupted, .progress-bar-interrupted::-webkit-progress-bar {\n",
       "                background: #F44336;\n",
       "            }\n",
       "        </style>\n",
       "      <progress value='10000' class='' max='10000' style='width:300px; height:20px; vertical-align: middle;'></progress>\n",
       "      100.00% [10000/10000 00:10<00:00]\n",
       "    </div>\n",
       "    "
      ],
      "text/plain": [
       "<IPython.core.display.HTML object>"
      ]
     },
     "metadata": {},
     "output_type": "display_data"
    },
    {
     "name": "stderr",
     "output_type": "stream",
     "text": [
      "/tmp/ipykernel_1903678/1724641766.py:4: FutureWarning: In v4.0, pm.sample will return an `arviz.InferenceData` object instead of a `MultiTrace` by default. You can pass return_inferencedata=True or return_inferencedata=False to be safe and silence this warning.\n",
      "  dirichlet_trace = pm.sample(5000) # 100K samples\n",
      "Auto-assigning NUTS sampler...\n",
      "Initializing NUTS using jitter+adapt_diag...\n",
      "Multiprocess sampling (2 chains in 2 jobs)\n",
      "NUTS: [november_prior]\n"
     ]
    },
    {
     "data": {
      "text/html": [
       "\n",
       "    <div>\n",
       "        <style>\n",
       "            /* Turns off some styling */\n",
       "            progress {\n",
       "                /* gets rid of default border in Firefox and Opera. */\n",
       "                border: none;\n",
       "                /* Needs to be in here for Safari polyfill so background images work as expected. */\n",
       "                background-size: auto;\n",
       "            }\n",
       "            .progress-bar-interrupted, .progress-bar-interrupted::-webkit-progress-bar {\n",
       "                background: #F44336;\n",
       "            }\n",
       "        </style>\n",
       "      <progress value='12000' class='' max='12000' style='width:300px; height:20px; vertical-align: middle;'></progress>\n",
       "      100.00% [12000/12000 00:12<00:00 Sampling 2 chains, 0 divergences]\n",
       "    </div>\n",
       "    "
      ],
      "text/plain": [
       "<IPython.core.display.HTML object>"
      ]
     },
     "metadata": {},
     "output_type": "display_data"
    },
    {
     "name": "stderr",
     "output_type": "stream",
     "text": [
      "Sampling 2 chains for 1_000 tune and 5_000 draw iterations (2_000 + 10_000 draws total) took 12 seconds.\n"
     ]
    },
    {
     "data": {
      "text/html": [
       "\n",
       "    <div>\n",
       "        <style>\n",
       "            /* Turns off some styling */\n",
       "            progress {\n",
       "                /* gets rid of default border in Firefox and Opera. */\n",
       "                border: none;\n",
       "                /* Needs to be in here for Safari polyfill so background images work as expected. */\n",
       "                background-size: auto;\n",
       "            }\n",
       "            .progress-bar-interrupted, .progress-bar-interrupted::-webkit-progress-bar {\n",
       "                background: #F44336;\n",
       "            }\n",
       "        </style>\n",
       "      <progress value='10000' class='' max='10000' style='width:300px; height:20px; vertical-align: middle;'></progress>\n",
       "      100.00% [10000/10000 00:10<00:00]\n",
       "    </div>\n",
       "    "
      ],
      "text/plain": [
       "<IPython.core.display.HTML object>"
      ]
     },
     "metadata": {},
     "output_type": "display_data"
    },
    {
     "name": "stderr",
     "output_type": "stream",
     "text": [
      "/tmp/ipykernel_1903678/1724641766.py:4: FutureWarning: In v4.0, pm.sample will return an `arviz.InferenceData` object instead of a `MultiTrace` by default. You can pass return_inferencedata=True or return_inferencedata=False to be safe and silence this warning.\n",
      "  dirichlet_trace = pm.sample(5000) # 100K samples\n",
      "Auto-assigning NUTS sampler...\n",
      "Initializing NUTS using jitter+adapt_diag...\n",
      "Multiprocess sampling (2 chains in 2 jobs)\n",
      "NUTS: [november_prior]\n"
     ]
    },
    {
     "data": {
      "text/html": [
       "\n",
       "    <div>\n",
       "        <style>\n",
       "            /* Turns off some styling */\n",
       "            progress {\n",
       "                /* gets rid of default border in Firefox and Opera. */\n",
       "                border: none;\n",
       "                /* Needs to be in here for Safari polyfill so background images work as expected. */\n",
       "                background-size: auto;\n",
       "            }\n",
       "            .progress-bar-interrupted, .progress-bar-interrupted::-webkit-progress-bar {\n",
       "                background: #F44336;\n",
       "            }\n",
       "        </style>\n",
       "      <progress value='12000' class='' max='12000' style='width:300px; height:20px; vertical-align: middle;'></progress>\n",
       "      100.00% [12000/12000 00:13<00:00 Sampling 2 chains, 0 divergences]\n",
       "    </div>\n",
       "    "
      ],
      "text/plain": [
       "<IPython.core.display.HTML object>"
      ]
     },
     "metadata": {},
     "output_type": "display_data"
    },
    {
     "name": "stderr",
     "output_type": "stream",
     "text": [
      "Sampling 2 chains for 1_000 tune and 5_000 draw iterations (2_000 + 10_000 draws total) took 13 seconds.\n",
      "The acceptance probability does not match the target. It is 0.8887629174168021, but should be close to 0.8. Try to increase the number of tuning steps.\n"
     ]
    },
    {
     "data": {
      "text/html": [
       "\n",
       "    <div>\n",
       "        <style>\n",
       "            /* Turns off some styling */\n",
       "            progress {\n",
       "                /* gets rid of default border in Firefox and Opera. */\n",
       "                border: none;\n",
       "                /* Needs to be in here for Safari polyfill so background images work as expected. */\n",
       "                background-size: auto;\n",
       "            }\n",
       "            .progress-bar-interrupted, .progress-bar-interrupted::-webkit-progress-bar {\n",
       "                background: #F44336;\n",
       "            }\n",
       "        </style>\n",
       "      <progress value='10000' class='' max='10000' style='width:300px; height:20px; vertical-align: middle;'></progress>\n",
       "      100.00% [10000/10000 00:11<00:00]\n",
       "    </div>\n",
       "    "
      ],
      "text/plain": [
       "<IPython.core.display.HTML object>"
      ]
     },
     "metadata": {},
     "output_type": "display_data"
    },
    {
     "name": "stderr",
     "output_type": "stream",
     "text": [
      "/tmp/ipykernel_1903678/1724641766.py:4: FutureWarning: In v4.0, pm.sample will return an `arviz.InferenceData` object instead of a `MultiTrace` by default. You can pass return_inferencedata=True or return_inferencedata=False to be safe and silence this warning.\n",
      "  dirichlet_trace = pm.sample(5000) # 100K samples\n",
      "Auto-assigning NUTS sampler...\n",
      "Initializing NUTS using jitter+adapt_diag...\n",
      "Multiprocess sampling (2 chains in 2 jobs)\n",
      "NUTS: [november_prior]\n"
     ]
    },
    {
     "data": {
      "text/html": [
       "\n",
       "    <div>\n",
       "        <style>\n",
       "            /* Turns off some styling */\n",
       "            progress {\n",
       "                /* gets rid of default border in Firefox and Opera. */\n",
       "                border: none;\n",
       "                /* Needs to be in here for Safari polyfill so background images work as expected. */\n",
       "                background-size: auto;\n",
       "            }\n",
       "            .progress-bar-interrupted, .progress-bar-interrupted::-webkit-progress-bar {\n",
       "                background: #F44336;\n",
       "            }\n",
       "        </style>\n",
       "      <progress value='12000' class='' max='12000' style='width:300px; height:20px; vertical-align: middle;'></progress>\n",
       "      100.00% [12000/12000 00:12<00:00 Sampling 2 chains, 0 divergences]\n",
       "    </div>\n",
       "    "
      ],
      "text/plain": [
       "<IPython.core.display.HTML object>"
      ]
     },
     "metadata": {},
     "output_type": "display_data"
    },
    {
     "name": "stderr",
     "output_type": "stream",
     "text": [
      "Sampling 2 chains for 1_000 tune and 5_000 draw iterations (2_000 + 10_000 draws total) took 12 seconds.\n"
     ]
    },
    {
     "data": {
      "text/html": [
       "\n",
       "    <div>\n",
       "        <style>\n",
       "            /* Turns off some styling */\n",
       "            progress {\n",
       "                /* gets rid of default border in Firefox and Opera. */\n",
       "                border: none;\n",
       "                /* Needs to be in here for Safari polyfill so background images work as expected. */\n",
       "                background-size: auto;\n",
       "            }\n",
       "            .progress-bar-interrupted, .progress-bar-interrupted::-webkit-progress-bar {\n",
       "                background: #F44336;\n",
       "            }\n",
       "        </style>\n",
       "      <progress value='10000' class='' max='10000' style='width:300px; height:20px; vertical-align: middle;'></progress>\n",
       "      100.00% [10000/10000 00:10<00:00]\n",
       "    </div>\n",
       "    "
      ],
      "text/plain": [
       "<IPython.core.display.HTML object>"
      ]
     },
     "metadata": {},
     "output_type": "display_data"
    },
    {
     "name": "stderr",
     "output_type": "stream",
     "text": [
      "/tmp/ipykernel_1903678/1724641766.py:4: FutureWarning: In v4.0, pm.sample will return an `arviz.InferenceData` object instead of a `MultiTrace` by default. You can pass return_inferencedata=True or return_inferencedata=False to be safe and silence this warning.\n",
      "  dirichlet_trace = pm.sample(5000) # 100K samples\n",
      "Auto-assigning NUTS sampler...\n",
      "Initializing NUTS using jitter+adapt_diag...\n",
      "Multiprocess sampling (2 chains in 2 jobs)\n",
      "NUTS: [november_prior]\n"
     ]
    },
    {
     "data": {
      "text/html": [
       "\n",
       "    <div>\n",
       "        <style>\n",
       "            /* Turns off some styling */\n",
       "            progress {\n",
       "                /* gets rid of default border in Firefox and Opera. */\n",
       "                border: none;\n",
       "                /* Needs to be in here for Safari polyfill so background images work as expected. */\n",
       "                background-size: auto;\n",
       "            }\n",
       "            .progress-bar-interrupted, .progress-bar-interrupted::-webkit-progress-bar {\n",
       "                background: #F44336;\n",
       "            }\n",
       "        </style>\n",
       "      <progress value='12000' class='' max='12000' style='width:300px; height:20px; vertical-align: middle;'></progress>\n",
       "      100.00% [12000/12000 00:13<00:00 Sampling 2 chains, 0 divergences]\n",
       "    </div>\n",
       "    "
      ],
      "text/plain": [
       "<IPython.core.display.HTML object>"
      ]
     },
     "metadata": {},
     "output_type": "display_data"
    },
    {
     "name": "stderr",
     "output_type": "stream",
     "text": [
      "Sampling 2 chains for 1_000 tune and 5_000 draw iterations (2_000 + 10_000 draws total) took 14 seconds.\n"
     ]
    },
    {
     "data": {
      "text/html": [
       "\n",
       "    <div>\n",
       "        <style>\n",
       "            /* Turns off some styling */\n",
       "            progress {\n",
       "                /* gets rid of default border in Firefox and Opera. */\n",
       "                border: none;\n",
       "                /* Needs to be in here for Safari polyfill so background images work as expected. */\n",
       "                background-size: auto;\n",
       "            }\n",
       "            .progress-bar-interrupted, .progress-bar-interrupted::-webkit-progress-bar {\n",
       "                background: #F44336;\n",
       "            }\n",
       "        </style>\n",
       "      <progress value='10000' class='' max='10000' style='width:300px; height:20px; vertical-align: middle;'></progress>\n",
       "      100.00% [10000/10000 00:11<00:00]\n",
       "    </div>\n",
       "    "
      ],
      "text/plain": [
       "<IPython.core.display.HTML object>"
      ]
     },
     "metadata": {},
     "output_type": "display_data"
    },
    {
     "name": "stderr",
     "output_type": "stream",
     "text": [
      "/tmp/ipykernel_1903678/1724641766.py:4: FutureWarning: In v4.0, pm.sample will return an `arviz.InferenceData` object instead of a `MultiTrace` by default. You can pass return_inferencedata=True or return_inferencedata=False to be safe and silence this warning.\n",
      "  dirichlet_trace = pm.sample(5000) # 100K samples\n",
      "Auto-assigning NUTS sampler...\n",
      "Initializing NUTS using jitter+adapt_diag...\n",
      "Multiprocess sampling (2 chains in 2 jobs)\n",
      "NUTS: [november_prior]\n"
     ]
    },
    {
     "data": {
      "text/html": [
       "\n",
       "    <div>\n",
       "        <style>\n",
       "            /* Turns off some styling */\n",
       "            progress {\n",
       "                /* gets rid of default border in Firefox and Opera. */\n",
       "                border: none;\n",
       "                /* Needs to be in here for Safari polyfill so background images work as expected. */\n",
       "                background-size: auto;\n",
       "            }\n",
       "            .progress-bar-interrupted, .progress-bar-interrupted::-webkit-progress-bar {\n",
       "                background: #F44336;\n",
       "            }\n",
       "        </style>\n",
       "      <progress value='12000' class='' max='12000' style='width:300px; height:20px; vertical-align: middle;'></progress>\n",
       "      100.00% [12000/12000 00:12<00:00 Sampling 2 chains, 0 divergences]\n",
       "    </div>\n",
       "    "
      ],
      "text/plain": [
       "<IPython.core.display.HTML object>"
      ]
     },
     "metadata": {},
     "output_type": "display_data"
    },
    {
     "name": "stderr",
     "output_type": "stream",
     "text": [
      "Sampling 2 chains for 1_000 tune and 5_000 draw iterations (2_000 + 10_000 draws total) took 13 seconds.\n"
     ]
    },
    {
     "data": {
      "text/html": [
       "\n",
       "    <div>\n",
       "        <style>\n",
       "            /* Turns off some styling */\n",
       "            progress {\n",
       "                /* gets rid of default border in Firefox and Opera. */\n",
       "                border: none;\n",
       "                /* Needs to be in here for Safari polyfill so background images work as expected. */\n",
       "                background-size: auto;\n",
       "            }\n",
       "            .progress-bar-interrupted, .progress-bar-interrupted::-webkit-progress-bar {\n",
       "                background: #F44336;\n",
       "            }\n",
       "        </style>\n",
       "      <progress value='10000' class='' max='10000' style='width:300px; height:20px; vertical-align: middle;'></progress>\n",
       "      100.00% [10000/10000 00:09<00:00]\n",
       "    </div>\n",
       "    "
      ],
      "text/plain": [
       "<IPython.core.display.HTML object>"
      ]
     },
     "metadata": {},
     "output_type": "display_data"
    },
    {
     "name": "stderr",
     "output_type": "stream",
     "text": [
      "/tmp/ipykernel_1903678/1724641766.py:4: FutureWarning: In v4.0, pm.sample will return an `arviz.InferenceData` object instead of a `MultiTrace` by default. You can pass return_inferencedata=True or return_inferencedata=False to be safe and silence this warning.\n",
      "  dirichlet_trace = pm.sample(5000) # 100K samples\n",
      "Auto-assigning NUTS sampler...\n",
      "Initializing NUTS using jitter+adapt_diag...\n",
      "Multiprocess sampling (2 chains in 2 jobs)\n",
      "NUTS: [november_prior]\n"
     ]
    },
    {
     "data": {
      "text/html": [
       "\n",
       "    <div>\n",
       "        <style>\n",
       "            /* Turns off some styling */\n",
       "            progress {\n",
       "                /* gets rid of default border in Firefox and Opera. */\n",
       "                border: none;\n",
       "                /* Needs to be in here for Safari polyfill so background images work as expected. */\n",
       "                background-size: auto;\n",
       "            }\n",
       "            .progress-bar-interrupted, .progress-bar-interrupted::-webkit-progress-bar {\n",
       "                background: #F44336;\n",
       "            }\n",
       "        </style>\n",
       "      <progress value='12000' class='' max='12000' style='width:300px; height:20px; vertical-align: middle;'></progress>\n",
       "      100.00% [12000/12000 00:09<00:00 Sampling 2 chains, 0 divergences]\n",
       "    </div>\n",
       "    "
      ],
      "text/plain": [
       "<IPython.core.display.HTML object>"
      ]
     },
     "metadata": {},
     "output_type": "display_data"
    },
    {
     "name": "stderr",
     "output_type": "stream",
     "text": [
      "Sampling 2 chains for 1_000 tune and 5_000 draw iterations (2_000 + 10_000 draws total) took 10 seconds.\n",
      "The acceptance probability does not match the target. It is 0.8811296021497512, but should be close to 0.8. Try to increase the number of tuning steps.\n"
     ]
    },
    {
     "data": {
      "text/html": [
       "\n",
       "    <div>\n",
       "        <style>\n",
       "            /* Turns off some styling */\n",
       "            progress {\n",
       "                /* gets rid of default border in Firefox and Opera. */\n",
       "                border: none;\n",
       "                /* Needs to be in here for Safari polyfill so background images work as expected. */\n",
       "                background-size: auto;\n",
       "            }\n",
       "            .progress-bar-interrupted, .progress-bar-interrupted::-webkit-progress-bar {\n",
       "                background: #F44336;\n",
       "            }\n",
       "        </style>\n",
       "      <progress value='10000' class='' max='10000' style='width:300px; height:20px; vertical-align: middle;'></progress>\n",
       "      100.00% [10000/10000 00:07<00:00]\n",
       "    </div>\n",
       "    "
      ],
      "text/plain": [
       "<IPython.core.display.HTML object>"
      ]
     },
     "metadata": {},
     "output_type": "display_data"
    },
    {
     "name": "stderr",
     "output_type": "stream",
     "text": [
      "/tmp/ipykernel_1903678/1724641766.py:4: FutureWarning: In v4.0, pm.sample will return an `arviz.InferenceData` object instead of a `MultiTrace` by default. You can pass return_inferencedata=True or return_inferencedata=False to be safe and silence this warning.\n",
      "  dirichlet_trace = pm.sample(5000) # 100K samples\n",
      "Auto-assigning NUTS sampler...\n",
      "Initializing NUTS using jitter+adapt_diag...\n",
      "Multiprocess sampling (2 chains in 2 jobs)\n",
      "NUTS: [november_prior]\n"
     ]
    },
    {
     "data": {
      "text/html": [
       "\n",
       "    <div>\n",
       "        <style>\n",
       "            /* Turns off some styling */\n",
       "            progress {\n",
       "                /* gets rid of default border in Firefox and Opera. */\n",
       "                border: none;\n",
       "                /* Needs to be in here for Safari polyfill so background images work as expected. */\n",
       "                background-size: auto;\n",
       "            }\n",
       "            .progress-bar-interrupted, .progress-bar-interrupted::-webkit-progress-bar {\n",
       "                background: #F44336;\n",
       "            }\n",
       "        </style>\n",
       "      <progress value='12000' class='' max='12000' style='width:300px; height:20px; vertical-align: middle;'></progress>\n",
       "      100.00% [12000/12000 00:08<00:00 Sampling 2 chains, 0 divergences]\n",
       "    </div>\n",
       "    "
      ],
      "text/plain": [
       "<IPython.core.display.HTML object>"
      ]
     },
     "metadata": {},
     "output_type": "display_data"
    },
    {
     "name": "stderr",
     "output_type": "stream",
     "text": [
      "Sampling 2 chains for 1_000 tune and 5_000 draw iterations (2_000 + 10_000 draws total) took 9 seconds.\n"
     ]
    },
    {
     "data": {
      "text/html": [
       "\n",
       "    <div>\n",
       "        <style>\n",
       "            /* Turns off some styling */\n",
       "            progress {\n",
       "                /* gets rid of default border in Firefox and Opera. */\n",
       "                border: none;\n",
       "                /* Needs to be in here for Safari polyfill so background images work as expected. */\n",
       "                background-size: auto;\n",
       "            }\n",
       "            .progress-bar-interrupted, .progress-bar-interrupted::-webkit-progress-bar {\n",
       "                background: #F44336;\n",
       "            }\n",
       "        </style>\n",
       "      <progress value='10000' class='' max='10000' style='width:300px; height:20px; vertical-align: middle;'></progress>\n",
       "      100.00% [10000/10000 00:07<00:00]\n",
       "    </div>\n",
       "    "
      ],
      "text/plain": [
       "<IPython.core.display.HTML object>"
      ]
     },
     "metadata": {},
     "output_type": "display_data"
    },
    {
     "name": "stderr",
     "output_type": "stream",
     "text": [
      "/tmp/ipykernel_1903678/1724641766.py:4: FutureWarning: In v4.0, pm.sample will return an `arviz.InferenceData` object instead of a `MultiTrace` by default. You can pass return_inferencedata=True or return_inferencedata=False to be safe and silence this warning.\n",
      "  dirichlet_trace = pm.sample(5000) # 100K samples\n",
      "Auto-assigning NUTS sampler...\n",
      "Initializing NUTS using jitter+adapt_diag...\n",
      "Multiprocess sampling (2 chains in 2 jobs)\n",
      "NUTS: [november_prior]\n"
     ]
    },
    {
     "data": {
      "text/html": [
       "\n",
       "    <div>\n",
       "        <style>\n",
       "            /* Turns off some styling */\n",
       "            progress {\n",
       "                /* gets rid of default border in Firefox and Opera. */\n",
       "                border: none;\n",
       "                /* Needs to be in here for Safari polyfill so background images work as expected. */\n",
       "                background-size: auto;\n",
       "            }\n",
       "            .progress-bar-interrupted, .progress-bar-interrupted::-webkit-progress-bar {\n",
       "                background: #F44336;\n",
       "            }\n",
       "        </style>\n",
       "      <progress value='12000' class='' max='12000' style='width:300px; height:20px; vertical-align: middle;'></progress>\n",
       "      100.00% [12000/12000 00:07<00:00 Sampling 2 chains, 0 divergences]\n",
       "    </div>\n",
       "    "
      ],
      "text/plain": [
       "<IPython.core.display.HTML object>"
      ]
     },
     "metadata": {},
     "output_type": "display_data"
    },
    {
     "name": "stderr",
     "output_type": "stream",
     "text": [
      "Sampling 2 chains for 1_000 tune and 5_000 draw iterations (2_000 + 10_000 draws total) took 8 seconds.\n",
      "The acceptance probability does not match the target. It is 0.8887629174168021, but should be close to 0.8. Try to increase the number of tuning steps.\n"
     ]
    },
    {
     "data": {
      "text/html": [
       "\n",
       "    <div>\n",
       "        <style>\n",
       "            /* Turns off some styling */\n",
       "            progress {\n",
       "                /* gets rid of default border in Firefox and Opera. */\n",
       "                border: none;\n",
       "                /* Needs to be in here for Safari polyfill so background images work as expected. */\n",
       "                background-size: auto;\n",
       "            }\n",
       "            .progress-bar-interrupted, .progress-bar-interrupted::-webkit-progress-bar {\n",
       "                background: #F44336;\n",
       "            }\n",
       "        </style>\n",
       "      <progress value='10000' class='' max='10000' style='width:300px; height:20px; vertical-align: middle;'></progress>\n",
       "      100.00% [10000/10000 00:07<00:00]\n",
       "    </div>\n",
       "    "
      ],
      "text/plain": [
       "<IPython.core.display.HTML object>"
      ]
     },
     "metadata": {},
     "output_type": "display_data"
    },
    {
     "name": "stderr",
     "output_type": "stream",
     "text": [
      "/tmp/ipykernel_1903678/1724641766.py:4: FutureWarning: In v4.0, pm.sample will return an `arviz.InferenceData` object instead of a `MultiTrace` by default. You can pass return_inferencedata=True or return_inferencedata=False to be safe and silence this warning.\n",
      "  dirichlet_trace = pm.sample(5000) # 100K samples\n",
      "Auto-assigning NUTS sampler...\n",
      "Initializing NUTS using jitter+adapt_diag...\n",
      "Multiprocess sampling (2 chains in 2 jobs)\n",
      "NUTS: [november_prior]\n"
     ]
    },
    {
     "data": {
      "text/html": [
       "\n",
       "    <div>\n",
       "        <style>\n",
       "            /* Turns off some styling */\n",
       "            progress {\n",
       "                /* gets rid of default border in Firefox and Opera. */\n",
       "                border: none;\n",
       "                /* Needs to be in here for Safari polyfill so background images work as expected. */\n",
       "                background-size: auto;\n",
       "            }\n",
       "            .progress-bar-interrupted, .progress-bar-interrupted::-webkit-progress-bar {\n",
       "                background: #F44336;\n",
       "            }\n",
       "        </style>\n",
       "      <progress value='12000' class='' max='12000' style='width:300px; height:20px; vertical-align: middle;'></progress>\n",
       "      100.00% [12000/12000 00:07<00:00 Sampling 2 chains, 0 divergences]\n",
       "    </div>\n",
       "    "
      ],
      "text/plain": [
       "<IPython.core.display.HTML object>"
      ]
     },
     "metadata": {},
     "output_type": "display_data"
    },
    {
     "name": "stderr",
     "output_type": "stream",
     "text": [
      "Sampling 2 chains for 1_000 tune and 5_000 draw iterations (2_000 + 10_000 draws total) took 8 seconds.\n"
     ]
    },
    {
     "data": {
      "text/html": [
       "\n",
       "    <div>\n",
       "        <style>\n",
       "            /* Turns off some styling */\n",
       "            progress {\n",
       "                /* gets rid of default border in Firefox and Opera. */\n",
       "                border: none;\n",
       "                /* Needs to be in here for Safari polyfill so background images work as expected. */\n",
       "                background-size: auto;\n",
       "            }\n",
       "            .progress-bar-interrupted, .progress-bar-interrupted::-webkit-progress-bar {\n",
       "                background: #F44336;\n",
       "            }\n",
       "        </style>\n",
       "      <progress value='10000' class='' max='10000' style='width:300px; height:20px; vertical-align: middle;'></progress>\n",
       "      100.00% [10000/10000 00:07<00:00]\n",
       "    </div>\n",
       "    "
      ],
      "text/plain": [
       "<IPython.core.display.HTML object>"
      ]
     },
     "metadata": {},
     "output_type": "display_data"
    },
    {
     "name": "stderr",
     "output_type": "stream",
     "text": [
      "/tmp/ipykernel_1903678/1724641766.py:4: FutureWarning: In v4.0, pm.sample will return an `arviz.InferenceData` object instead of a `MultiTrace` by default. You can pass return_inferencedata=True or return_inferencedata=False to be safe and silence this warning.\n",
      "  dirichlet_trace = pm.sample(5000) # 100K samples\n",
      "Auto-assigning NUTS sampler...\n",
      "Initializing NUTS using jitter+adapt_diag...\n",
      "Multiprocess sampling (2 chains in 2 jobs)\n",
      "NUTS: [november_prior]\n"
     ]
    },
    {
     "data": {
      "text/html": [
       "\n",
       "    <div>\n",
       "        <style>\n",
       "            /* Turns off some styling */\n",
       "            progress {\n",
       "                /* gets rid of default border in Firefox and Opera. */\n",
       "                border: none;\n",
       "                /* Needs to be in here for Safari polyfill so background images work as expected. */\n",
       "                background-size: auto;\n",
       "            }\n",
       "            .progress-bar-interrupted, .progress-bar-interrupted::-webkit-progress-bar {\n",
       "                background: #F44336;\n",
       "            }\n",
       "        </style>\n",
       "      <progress value='12000' class='' max='12000' style='width:300px; height:20px; vertical-align: middle;'></progress>\n",
       "      100.00% [12000/12000 00:07<00:00 Sampling 2 chains, 0 divergences]\n",
       "    </div>\n",
       "    "
      ],
      "text/plain": [
       "<IPython.core.display.HTML object>"
      ]
     },
     "metadata": {},
     "output_type": "display_data"
    },
    {
     "name": "stderr",
     "output_type": "stream",
     "text": [
      "Sampling 2 chains for 1_000 tune and 5_000 draw iterations (2_000 + 10_000 draws total) took 8 seconds.\n"
     ]
    },
    {
     "data": {
      "text/html": [
       "\n",
       "    <div>\n",
       "        <style>\n",
       "            /* Turns off some styling */\n",
       "            progress {\n",
       "                /* gets rid of default border in Firefox and Opera. */\n",
       "                border: none;\n",
       "                /* Needs to be in here for Safari polyfill so background images work as expected. */\n",
       "                background-size: auto;\n",
       "            }\n",
       "            .progress-bar-interrupted, .progress-bar-interrupted::-webkit-progress-bar {\n",
       "                background: #F44336;\n",
       "            }\n",
       "        </style>\n",
       "      <progress value='10000' class='' max='10000' style='width:300px; height:20px; vertical-align: middle;'></progress>\n",
       "      100.00% [10000/10000 00:07<00:00]\n",
       "    </div>\n",
       "    "
      ],
      "text/plain": [
       "<IPython.core.display.HTML object>"
      ]
     },
     "metadata": {},
     "output_type": "display_data"
    },
    {
     "name": "stderr",
     "output_type": "stream",
     "text": [
      "/tmp/ipykernel_1903678/1724641766.py:4: FutureWarning: In v4.0, pm.sample will return an `arviz.InferenceData` object instead of a `MultiTrace` by default. You can pass return_inferencedata=True or return_inferencedata=False to be safe and silence this warning.\n",
      "  dirichlet_trace = pm.sample(5000) # 100K samples\n",
      "Auto-assigning NUTS sampler...\n",
      "Initializing NUTS using jitter+adapt_diag...\n",
      "Multiprocess sampling (2 chains in 2 jobs)\n",
      "NUTS: [november_prior]\n"
     ]
    },
    {
     "data": {
      "text/html": [
       "\n",
       "    <div>\n",
       "        <style>\n",
       "            /* Turns off some styling */\n",
       "            progress {\n",
       "                /* gets rid of default border in Firefox and Opera. */\n",
       "                border: none;\n",
       "                /* Needs to be in here for Safari polyfill so background images work as expected. */\n",
       "                background-size: auto;\n",
       "            }\n",
       "            .progress-bar-interrupted, .progress-bar-interrupted::-webkit-progress-bar {\n",
       "                background: #F44336;\n",
       "            }\n",
       "        </style>\n",
       "      <progress value='12000' class='' max='12000' style='width:300px; height:20px; vertical-align: middle;'></progress>\n",
       "      100.00% [12000/12000 00:07<00:00 Sampling 2 chains, 0 divergences]\n",
       "    </div>\n",
       "    "
      ],
      "text/plain": [
       "<IPython.core.display.HTML object>"
      ]
     },
     "metadata": {},
     "output_type": "display_data"
    },
    {
     "name": "stderr",
     "output_type": "stream",
     "text": [
      "Sampling 2 chains for 1_000 tune and 5_000 draw iterations (2_000 + 10_000 draws total) took 7 seconds.\n"
     ]
    },
    {
     "data": {
      "text/html": [
       "\n",
       "    <div>\n",
       "        <style>\n",
       "            /* Turns off some styling */\n",
       "            progress {\n",
       "                /* gets rid of default border in Firefox and Opera. */\n",
       "                border: none;\n",
       "                /* Needs to be in here for Safari polyfill so background images work as expected. */\n",
       "                background-size: auto;\n",
       "            }\n",
       "            .progress-bar-interrupted, .progress-bar-interrupted::-webkit-progress-bar {\n",
       "                background: #F44336;\n",
       "            }\n",
       "        </style>\n",
       "      <progress value='10000' class='' max='10000' style='width:300px; height:20px; vertical-align: middle;'></progress>\n",
       "      100.00% [10000/10000 00:07<00:00]\n",
       "    </div>\n",
       "    "
      ],
      "text/plain": [
       "<IPython.core.display.HTML object>"
      ]
     },
     "metadata": {},
     "output_type": "display_data"
    },
    {
     "name": "stderr",
     "output_type": "stream",
     "text": [
      "/tmp/ipykernel_1903678/1724641766.py:4: FutureWarning: In v4.0, pm.sample will return an `arviz.InferenceData` object instead of a `MultiTrace` by default. You can pass return_inferencedata=True or return_inferencedata=False to be safe and silence this warning.\n",
      "  dirichlet_trace = pm.sample(5000) # 100K samples\n",
      "Auto-assigning NUTS sampler...\n",
      "Initializing NUTS using jitter+adapt_diag...\n",
      "Multiprocess sampling (2 chains in 2 jobs)\n",
      "NUTS: [november_prior]\n"
     ]
    },
    {
     "data": {
      "text/html": [
       "\n",
       "    <div>\n",
       "        <style>\n",
       "            /* Turns off some styling */\n",
       "            progress {\n",
       "                /* gets rid of default border in Firefox and Opera. */\n",
       "                border: none;\n",
       "                /* Needs to be in here for Safari polyfill so background images work as expected. */\n",
       "                background-size: auto;\n",
       "            }\n",
       "            .progress-bar-interrupted, .progress-bar-interrupted::-webkit-progress-bar {\n",
       "                background: #F44336;\n",
       "            }\n",
       "        </style>\n",
       "      <progress value='12000' class='' max='12000' style='width:300px; height:20px; vertical-align: middle;'></progress>\n",
       "      100.00% [12000/12000 00:07<00:00 Sampling 2 chains, 0 divergences]\n",
       "    </div>\n",
       "    "
      ],
      "text/plain": [
       "<IPython.core.display.HTML object>"
      ]
     },
     "metadata": {},
     "output_type": "display_data"
    },
    {
     "name": "stderr",
     "output_type": "stream",
     "text": [
      "Sampling 2 chains for 1_000 tune and 5_000 draw iterations (2_000 + 10_000 draws total) took 8 seconds.\n",
      "The acceptance probability does not match the target. It is 0.8811296021497512, but should be close to 0.8. Try to increase the number of tuning steps.\n"
     ]
    },
    {
     "data": {
      "text/html": [
       "\n",
       "    <div>\n",
       "        <style>\n",
       "            /* Turns off some styling */\n",
       "            progress {\n",
       "                /* gets rid of default border in Firefox and Opera. */\n",
       "                border: none;\n",
       "                /* Needs to be in here for Safari polyfill so background images work as expected. */\n",
       "                background-size: auto;\n",
       "            }\n",
       "            .progress-bar-interrupted, .progress-bar-interrupted::-webkit-progress-bar {\n",
       "                background: #F44336;\n",
       "            }\n",
       "        </style>\n",
       "      <progress value='10000' class='' max='10000' style='width:300px; height:20px; vertical-align: middle;'></progress>\n",
       "      100.00% [10000/10000 00:07<00:00]\n",
       "    </div>\n",
       "    "
      ],
      "text/plain": [
       "<IPython.core.display.HTML object>"
      ]
     },
     "metadata": {},
     "output_type": "display_data"
    },
    {
     "name": "stderr",
     "output_type": "stream",
     "text": [
      "/tmp/ipykernel_1903678/1724641766.py:4: FutureWarning: In v4.0, pm.sample will return an `arviz.InferenceData` object instead of a `MultiTrace` by default. You can pass return_inferencedata=True or return_inferencedata=False to be safe and silence this warning.\n",
      "  dirichlet_trace = pm.sample(5000) # 100K samples\n",
      "Auto-assigning NUTS sampler...\n",
      "Initializing NUTS using jitter+adapt_diag...\n",
      "Multiprocess sampling (2 chains in 2 jobs)\n",
      "NUTS: [november_prior]\n"
     ]
    },
    {
     "data": {
      "text/html": [
       "\n",
       "    <div>\n",
       "        <style>\n",
       "            /* Turns off some styling */\n",
       "            progress {\n",
       "                /* gets rid of default border in Firefox and Opera. */\n",
       "                border: none;\n",
       "                /* Needs to be in here for Safari polyfill so background images work as expected. */\n",
       "                background-size: auto;\n",
       "            }\n",
       "            .progress-bar-interrupted, .progress-bar-interrupted::-webkit-progress-bar {\n",
       "                background: #F44336;\n",
       "            }\n",
       "        </style>\n",
       "      <progress value='12000' class='' max='12000' style='width:300px; height:20px; vertical-align: middle;'></progress>\n",
       "      100.00% [12000/12000 00:07<00:00 Sampling 2 chains, 0 divergences]\n",
       "    </div>\n",
       "    "
      ],
      "text/plain": [
       "<IPython.core.display.HTML object>"
      ]
     },
     "metadata": {},
     "output_type": "display_data"
    },
    {
     "name": "stderr",
     "output_type": "stream",
     "text": [
      "Sampling 2 chains for 1_000 tune and 5_000 draw iterations (2_000 + 10_000 draws total) took 8 seconds.\n"
     ]
    },
    {
     "data": {
      "text/html": [
       "\n",
       "    <div>\n",
       "        <style>\n",
       "            /* Turns off some styling */\n",
       "            progress {\n",
       "                /* gets rid of default border in Firefox and Opera. */\n",
       "                border: none;\n",
       "                /* Needs to be in here for Safari polyfill so background images work as expected. */\n",
       "                background-size: auto;\n",
       "            }\n",
       "            .progress-bar-interrupted, .progress-bar-interrupted::-webkit-progress-bar {\n",
       "                background: #F44336;\n",
       "            }\n",
       "        </style>\n",
       "      <progress value='10000' class='' max='10000' style='width:300px; height:20px; vertical-align: middle;'></progress>\n",
       "      100.00% [10000/10000 00:07<00:00]\n",
       "    </div>\n",
       "    "
      ],
      "text/plain": [
       "<IPython.core.display.HTML object>"
      ]
     },
     "metadata": {},
     "output_type": "display_data"
    },
    {
     "name": "stderr",
     "output_type": "stream",
     "text": [
      "/tmp/ipykernel_1903678/1724641766.py:4: FutureWarning: In v4.0, pm.sample will return an `arviz.InferenceData` object instead of a `MultiTrace` by default. You can pass return_inferencedata=True or return_inferencedata=False to be safe and silence this warning.\n",
      "  dirichlet_trace = pm.sample(5000) # 100K samples\n",
      "Auto-assigning NUTS sampler...\n",
      "Initializing NUTS using jitter+adapt_diag...\n",
      "Multiprocess sampling (2 chains in 2 jobs)\n",
      "NUTS: [november_prior]\n"
     ]
    },
    {
     "data": {
      "text/html": [
       "\n",
       "    <div>\n",
       "        <style>\n",
       "            /* Turns off some styling */\n",
       "            progress {\n",
       "                /* gets rid of default border in Firefox and Opera. */\n",
       "                border: none;\n",
       "                /* Needs to be in here for Safari polyfill so background images work as expected. */\n",
       "                background-size: auto;\n",
       "            }\n",
       "            .progress-bar-interrupted, .progress-bar-interrupted::-webkit-progress-bar {\n",
       "                background: #F44336;\n",
       "            }\n",
       "        </style>\n",
       "      <progress value='12000' class='' max='12000' style='width:300px; height:20px; vertical-align: middle;'></progress>\n",
       "      100.00% [12000/12000 00:07<00:00 Sampling 2 chains, 0 divergences]\n",
       "    </div>\n",
       "    "
      ],
      "text/plain": [
       "<IPython.core.display.HTML object>"
      ]
     },
     "metadata": {},
     "output_type": "display_data"
    },
    {
     "name": "stderr",
     "output_type": "stream",
     "text": [
      "Sampling 2 chains for 1_000 tune and 5_000 draw iterations (2_000 + 10_000 draws total) took 8 seconds.\n",
      "The acceptance probability does not match the target. It is 0.8887629174168021, but should be close to 0.8. Try to increase the number of tuning steps.\n"
     ]
    },
    {
     "data": {
      "text/html": [
       "\n",
       "    <div>\n",
       "        <style>\n",
       "            /* Turns off some styling */\n",
       "            progress {\n",
       "                /* gets rid of default border in Firefox and Opera. */\n",
       "                border: none;\n",
       "                /* Needs to be in here for Safari polyfill so background images work as expected. */\n",
       "                background-size: auto;\n",
       "            }\n",
       "            .progress-bar-interrupted, .progress-bar-interrupted::-webkit-progress-bar {\n",
       "                background: #F44336;\n",
       "            }\n",
       "        </style>\n",
       "      <progress value='10000' class='' max='10000' style='width:300px; height:20px; vertical-align: middle;'></progress>\n",
       "      100.00% [10000/10000 00:07<00:00]\n",
       "    </div>\n",
       "    "
      ],
      "text/plain": [
       "<IPython.core.display.HTML object>"
      ]
     },
     "metadata": {},
     "output_type": "display_data"
    },
    {
     "name": "stderr",
     "output_type": "stream",
     "text": [
      "/tmp/ipykernel_1903678/1724641766.py:4: FutureWarning: In v4.0, pm.sample will return an `arviz.InferenceData` object instead of a `MultiTrace` by default. You can pass return_inferencedata=True or return_inferencedata=False to be safe and silence this warning.\n",
      "  dirichlet_trace = pm.sample(5000) # 100K samples\n",
      "Auto-assigning NUTS sampler...\n",
      "Initializing NUTS using jitter+adapt_diag...\n",
      "Multiprocess sampling (2 chains in 2 jobs)\n",
      "NUTS: [november_prior]\n"
     ]
    },
    {
     "data": {
      "text/html": [
       "\n",
       "    <div>\n",
       "        <style>\n",
       "            /* Turns off some styling */\n",
       "            progress {\n",
       "                /* gets rid of default border in Firefox and Opera. */\n",
       "                border: none;\n",
       "                /* Needs to be in here for Safari polyfill so background images work as expected. */\n",
       "                background-size: auto;\n",
       "            }\n",
       "            .progress-bar-interrupted, .progress-bar-interrupted::-webkit-progress-bar {\n",
       "                background: #F44336;\n",
       "            }\n",
       "        </style>\n",
       "      <progress value='12000' class='' max='12000' style='width:300px; height:20px; vertical-align: middle;'></progress>\n",
       "      100.00% [12000/12000 00:07<00:00 Sampling 2 chains, 0 divergences]\n",
       "    </div>\n",
       "    "
      ],
      "text/plain": [
       "<IPython.core.display.HTML object>"
      ]
     },
     "metadata": {},
     "output_type": "display_data"
    },
    {
     "name": "stderr",
     "output_type": "stream",
     "text": [
      "Sampling 2 chains for 1_000 tune and 5_000 draw iterations (2_000 + 10_000 draws total) took 8 seconds.\n"
     ]
    },
    {
     "data": {
      "text/html": [
       "\n",
       "    <div>\n",
       "        <style>\n",
       "            /* Turns off some styling */\n",
       "            progress {\n",
       "                /* gets rid of default border in Firefox and Opera. */\n",
       "                border: none;\n",
       "                /* Needs to be in here for Safari polyfill so background images work as expected. */\n",
       "                background-size: auto;\n",
       "            }\n",
       "            .progress-bar-interrupted, .progress-bar-interrupted::-webkit-progress-bar {\n",
       "                background: #F44336;\n",
       "            }\n",
       "        </style>\n",
       "      <progress value='10000' class='' max='10000' style='width:300px; height:20px; vertical-align: middle;'></progress>\n",
       "      100.00% [10000/10000 00:07<00:00]\n",
       "    </div>\n",
       "    "
      ],
      "text/plain": [
       "<IPython.core.display.HTML object>"
      ]
     },
     "metadata": {},
     "output_type": "display_data"
    },
    {
     "name": "stderr",
     "output_type": "stream",
     "text": [
      "/tmp/ipykernel_1903678/1724641766.py:4: FutureWarning: In v4.0, pm.sample will return an `arviz.InferenceData` object instead of a `MultiTrace` by default. You can pass return_inferencedata=True or return_inferencedata=False to be safe and silence this warning.\n",
      "  dirichlet_trace = pm.sample(5000) # 100K samples\n",
      "Auto-assigning NUTS sampler...\n",
      "Initializing NUTS using jitter+adapt_diag...\n",
      "Multiprocess sampling (2 chains in 2 jobs)\n",
      "NUTS: [november_prior]\n"
     ]
    },
    {
     "data": {
      "text/html": [
       "\n",
       "    <div>\n",
       "        <style>\n",
       "            /* Turns off some styling */\n",
       "            progress {\n",
       "                /* gets rid of default border in Firefox and Opera. */\n",
       "                border: none;\n",
       "                /* Needs to be in here for Safari polyfill so background images work as expected. */\n",
       "                background-size: auto;\n",
       "            }\n",
       "            .progress-bar-interrupted, .progress-bar-interrupted::-webkit-progress-bar {\n",
       "                background: #F44336;\n",
       "            }\n",
       "        </style>\n",
       "      <progress value='12000' class='' max='12000' style='width:300px; height:20px; vertical-align: middle;'></progress>\n",
       "      100.00% [12000/12000 00:07<00:00 Sampling 2 chains, 0 divergences]\n",
       "    </div>\n",
       "    "
      ],
      "text/plain": [
       "<IPython.core.display.HTML object>"
      ]
     },
     "metadata": {},
     "output_type": "display_data"
    },
    {
     "name": "stderr",
     "output_type": "stream",
     "text": [
      "Sampling 2 chains for 1_000 tune and 5_000 draw iterations (2_000 + 10_000 draws total) took 7 seconds.\n"
     ]
    },
    {
     "data": {
      "text/html": [
       "\n",
       "    <div>\n",
       "        <style>\n",
       "            /* Turns off some styling */\n",
       "            progress {\n",
       "                /* gets rid of default border in Firefox and Opera. */\n",
       "                border: none;\n",
       "                /* Needs to be in here for Safari polyfill so background images work as expected. */\n",
       "                background-size: auto;\n",
       "            }\n",
       "            .progress-bar-interrupted, .progress-bar-interrupted::-webkit-progress-bar {\n",
       "                background: #F44336;\n",
       "            }\n",
       "        </style>\n",
       "      <progress value='10000' class='' max='10000' style='width:300px; height:20px; vertical-align: middle;'></progress>\n",
       "      100.00% [10000/10000 00:07<00:00]\n",
       "    </div>\n",
       "    "
      ],
      "text/plain": [
       "<IPython.core.display.HTML object>"
      ]
     },
     "metadata": {},
     "output_type": "display_data"
    },
    {
     "name": "stderr",
     "output_type": "stream",
     "text": [
      "/tmp/ipykernel_1903678/1724641766.py:4: FutureWarning: In v4.0, pm.sample will return an `arviz.InferenceData` object instead of a `MultiTrace` by default. You can pass return_inferencedata=True or return_inferencedata=False to be safe and silence this warning.\n",
      "  dirichlet_trace = pm.sample(5000) # 100K samples\n",
      "Auto-assigning NUTS sampler...\n",
      "Initializing NUTS using jitter+adapt_diag...\n",
      "Multiprocess sampling (2 chains in 2 jobs)\n",
      "NUTS: [november_prior]\n"
     ]
    },
    {
     "data": {
      "text/html": [
       "\n",
       "    <div>\n",
       "        <style>\n",
       "            /* Turns off some styling */\n",
       "            progress {\n",
       "                /* gets rid of default border in Firefox and Opera. */\n",
       "                border: none;\n",
       "                /* Needs to be in here for Safari polyfill so background images work as expected. */\n",
       "                background-size: auto;\n",
       "            }\n",
       "            .progress-bar-interrupted, .progress-bar-interrupted::-webkit-progress-bar {\n",
       "                background: #F44336;\n",
       "            }\n",
       "        </style>\n",
       "      <progress value='12000' class='' max='12000' style='width:300px; height:20px; vertical-align: middle;'></progress>\n",
       "      100.00% [12000/12000 00:07<00:00 Sampling 2 chains, 0 divergences]\n",
       "    </div>\n",
       "    "
      ],
      "text/plain": [
       "<IPython.core.display.HTML object>"
      ]
     },
     "metadata": {},
     "output_type": "display_data"
    },
    {
     "name": "stderr",
     "output_type": "stream",
     "text": [
      "Sampling 2 chains for 1_000 tune and 5_000 draw iterations (2_000 + 10_000 draws total) took 8 seconds.\n"
     ]
    },
    {
     "data": {
      "text/html": [
       "\n",
       "    <div>\n",
       "        <style>\n",
       "            /* Turns off some styling */\n",
       "            progress {\n",
       "                /* gets rid of default border in Firefox and Opera. */\n",
       "                border: none;\n",
       "                /* Needs to be in here for Safari polyfill so background images work as expected. */\n",
       "                background-size: auto;\n",
       "            }\n",
       "            .progress-bar-interrupted, .progress-bar-interrupted::-webkit-progress-bar {\n",
       "                background: #F44336;\n",
       "            }\n",
       "        </style>\n",
       "      <progress value='10000' class='' max='10000' style='width:300px; height:20px; vertical-align: middle;'></progress>\n",
       "      100.00% [10000/10000 00:07<00:00]\n",
       "    </div>\n",
       "    "
      ],
      "text/plain": [
       "<IPython.core.display.HTML object>"
      ]
     },
     "metadata": {},
     "output_type": "display_data"
    },
    {
     "name": "stderr",
     "output_type": "stream",
     "text": [
      "/tmp/ipykernel_1903678/1724641766.py:4: FutureWarning: In v4.0, pm.sample will return an `arviz.InferenceData` object instead of a `MultiTrace` by default. You can pass return_inferencedata=True or return_inferencedata=False to be safe and silence this warning.\n",
      "  dirichlet_trace = pm.sample(5000) # 100K samples\n",
      "Auto-assigning NUTS sampler...\n",
      "Initializing NUTS using jitter+adapt_diag...\n",
      "Multiprocess sampling (2 chains in 2 jobs)\n",
      "NUTS: [november_prior]\n"
     ]
    },
    {
     "data": {
      "text/html": [
       "\n",
       "    <div>\n",
       "        <style>\n",
       "            /* Turns off some styling */\n",
       "            progress {\n",
       "                /* gets rid of default border in Firefox and Opera. */\n",
       "                border: none;\n",
       "                /* Needs to be in here for Safari polyfill so background images work as expected. */\n",
       "                background-size: auto;\n",
       "            }\n",
       "            .progress-bar-interrupted, .progress-bar-interrupted::-webkit-progress-bar {\n",
       "                background: #F44336;\n",
       "            }\n",
       "        </style>\n",
       "      <progress value='12000' class='' max='12000' style='width:300px; height:20px; vertical-align: middle;'></progress>\n",
       "      100.00% [12000/12000 00:08<00:00 Sampling 2 chains, 0 divergences]\n",
       "    </div>\n",
       "    "
      ],
      "text/plain": [
       "<IPython.core.display.HTML object>"
      ]
     },
     "metadata": {},
     "output_type": "display_data"
    },
    {
     "name": "stderr",
     "output_type": "stream",
     "text": [
      "Sampling 2 chains for 1_000 tune and 5_000 draw iterations (2_000 + 10_000 draws total) took 8 seconds.\n",
      "The acceptance probability does not match the target. It is 0.8811296021497512, but should be close to 0.8. Try to increase the number of tuning steps.\n"
     ]
    },
    {
     "data": {
      "text/html": [
       "\n",
       "    <div>\n",
       "        <style>\n",
       "            /* Turns off some styling */\n",
       "            progress {\n",
       "                /* gets rid of default border in Firefox and Opera. */\n",
       "                border: none;\n",
       "                /* Needs to be in here for Safari polyfill so background images work as expected. */\n",
       "                background-size: auto;\n",
       "            }\n",
       "            .progress-bar-interrupted, .progress-bar-interrupted::-webkit-progress-bar {\n",
       "                background: #F44336;\n",
       "            }\n",
       "        </style>\n",
       "      <progress value='10000' class='' max='10000' style='width:300px; height:20px; vertical-align: middle;'></progress>\n",
       "      100.00% [10000/10000 00:08<00:00]\n",
       "    </div>\n",
       "    "
      ],
      "text/plain": [
       "<IPython.core.display.HTML object>"
      ]
     },
     "metadata": {},
     "output_type": "display_data"
    },
    {
     "name": "stderr",
     "output_type": "stream",
     "text": [
      "/tmp/ipykernel_1903678/1724641766.py:4: FutureWarning: In v4.0, pm.sample will return an `arviz.InferenceData` object instead of a `MultiTrace` by default. You can pass return_inferencedata=True or return_inferencedata=False to be safe and silence this warning.\n",
      "  dirichlet_trace = pm.sample(5000) # 100K samples\n",
      "Auto-assigning NUTS sampler...\n",
      "Initializing NUTS using jitter+adapt_diag...\n",
      "Multiprocess sampling (2 chains in 2 jobs)\n",
      "NUTS: [november_prior]\n"
     ]
    },
    {
     "data": {
      "text/html": [
       "\n",
       "    <div>\n",
       "        <style>\n",
       "            /* Turns off some styling */\n",
       "            progress {\n",
       "                /* gets rid of default border in Firefox and Opera. */\n",
       "                border: none;\n",
       "                /* Needs to be in here for Safari polyfill so background images work as expected. */\n",
       "                background-size: auto;\n",
       "            }\n",
       "            .progress-bar-interrupted, .progress-bar-interrupted::-webkit-progress-bar {\n",
       "                background: #F44336;\n",
       "            }\n",
       "        </style>\n",
       "      <progress value='12000' class='' max='12000' style='width:300px; height:20px; vertical-align: middle;'></progress>\n",
       "      100.00% [12000/12000 00:09<00:00 Sampling 2 chains, 0 divergences]\n",
       "    </div>\n",
       "    "
      ],
      "text/plain": [
       "<IPython.core.display.HTML object>"
      ]
     },
     "metadata": {},
     "output_type": "display_data"
    },
    {
     "name": "stderr",
     "output_type": "stream",
     "text": [
      "Sampling 2 chains for 1_000 tune and 5_000 draw iterations (2_000 + 10_000 draws total) took 10 seconds.\n"
     ]
    },
    {
     "data": {
      "text/html": [
       "\n",
       "    <div>\n",
       "        <style>\n",
       "            /* Turns off some styling */\n",
       "            progress {\n",
       "                /* gets rid of default border in Firefox and Opera. */\n",
       "                border: none;\n",
       "                /* Needs to be in here for Safari polyfill so background images work as expected. */\n",
       "                background-size: auto;\n",
       "            }\n",
       "            .progress-bar-interrupted, .progress-bar-interrupted::-webkit-progress-bar {\n",
       "                background: #F44336;\n",
       "            }\n",
       "        </style>\n",
       "      <progress value='10000' class='' max='10000' style='width:300px; height:20px; vertical-align: middle;'></progress>\n",
       "      100.00% [10000/10000 00:08<00:00]\n",
       "    </div>\n",
       "    "
      ],
      "text/plain": [
       "<IPython.core.display.HTML object>"
      ]
     },
     "metadata": {},
     "output_type": "display_data"
    },
    {
     "name": "stderr",
     "output_type": "stream",
     "text": [
      "/tmp/ipykernel_1903678/1724641766.py:4: FutureWarning: In v4.0, pm.sample will return an `arviz.InferenceData` object instead of a `MultiTrace` by default. You can pass return_inferencedata=True or return_inferencedata=False to be safe and silence this warning.\n",
      "  dirichlet_trace = pm.sample(5000) # 100K samples\n",
      "Auto-assigning NUTS sampler...\n",
      "Initializing NUTS using jitter+adapt_diag...\n",
      "Multiprocess sampling (2 chains in 2 jobs)\n",
      "NUTS: [november_prior]\n"
     ]
    },
    {
     "data": {
      "text/html": [
       "\n",
       "    <div>\n",
       "        <style>\n",
       "            /* Turns off some styling */\n",
       "            progress {\n",
       "                /* gets rid of default border in Firefox and Opera. */\n",
       "                border: none;\n",
       "                /* Needs to be in here for Safari polyfill so background images work as expected. */\n",
       "                background-size: auto;\n",
       "            }\n",
       "            .progress-bar-interrupted, .progress-bar-interrupted::-webkit-progress-bar {\n",
       "                background: #F44336;\n",
       "            }\n",
       "        </style>\n",
       "      <progress value='12000' class='' max='12000' style='width:300px; height:20px; vertical-align: middle;'></progress>\n",
       "      100.00% [12000/12000 00:09<00:00 Sampling 2 chains, 0 divergences]\n",
       "    </div>\n",
       "    "
      ],
      "text/plain": [
       "<IPython.core.display.HTML object>"
      ]
     },
     "metadata": {},
     "output_type": "display_data"
    },
    {
     "name": "stderr",
     "output_type": "stream",
     "text": [
      "Sampling 2 chains for 1_000 tune and 5_000 draw iterations (2_000 + 10_000 draws total) took 9 seconds.\n",
      "The acceptance probability does not match the target. It is 0.8887629174168021, but should be close to 0.8. Try to increase the number of tuning steps.\n"
     ]
    },
    {
     "data": {
      "text/html": [
       "\n",
       "    <div>\n",
       "        <style>\n",
       "            /* Turns off some styling */\n",
       "            progress {\n",
       "                /* gets rid of default border in Firefox and Opera. */\n",
       "                border: none;\n",
       "                /* Needs to be in here for Safari polyfill so background images work as expected. */\n",
       "                background-size: auto;\n",
       "            }\n",
       "            .progress-bar-interrupted, .progress-bar-interrupted::-webkit-progress-bar {\n",
       "                background: #F44336;\n",
       "            }\n",
       "        </style>\n",
       "      <progress value='10000' class='' max='10000' style='width:300px; height:20px; vertical-align: middle;'></progress>\n",
       "      100.00% [10000/10000 00:07<00:00]\n",
       "    </div>\n",
       "    "
      ],
      "text/plain": [
       "<IPython.core.display.HTML object>"
      ]
     },
     "metadata": {},
     "output_type": "display_data"
    },
    {
     "name": "stderr",
     "output_type": "stream",
     "text": [
      "/tmp/ipykernel_1903678/1724641766.py:4: FutureWarning: In v4.0, pm.sample will return an `arviz.InferenceData` object instead of a `MultiTrace` by default. You can pass return_inferencedata=True or return_inferencedata=False to be safe and silence this warning.\n",
      "  dirichlet_trace = pm.sample(5000) # 100K samples\n",
      "Auto-assigning NUTS sampler...\n",
      "Initializing NUTS using jitter+adapt_diag...\n",
      "Multiprocess sampling (2 chains in 2 jobs)\n",
      "NUTS: [november_prior]\n"
     ]
    },
    {
     "data": {
      "text/html": [
       "\n",
       "    <div>\n",
       "        <style>\n",
       "            /* Turns off some styling */\n",
       "            progress {\n",
       "                /* gets rid of default border in Firefox and Opera. */\n",
       "                border: none;\n",
       "                /* Needs to be in here for Safari polyfill so background images work as expected. */\n",
       "                background-size: auto;\n",
       "            }\n",
       "            .progress-bar-interrupted, .progress-bar-interrupted::-webkit-progress-bar {\n",
       "                background: #F44336;\n",
       "            }\n",
       "        </style>\n",
       "      <progress value='12000' class='' max='12000' style='width:300px; height:20px; vertical-align: middle;'></progress>\n",
       "      100.00% [12000/12000 00:08<00:00 Sampling 2 chains, 0 divergences]\n",
       "    </div>\n",
       "    "
      ],
      "text/plain": [
       "<IPython.core.display.HTML object>"
      ]
     },
     "metadata": {},
     "output_type": "display_data"
    },
    {
     "name": "stderr",
     "output_type": "stream",
     "text": [
      "Sampling 2 chains for 1_000 tune and 5_000 draw iterations (2_000 + 10_000 draws total) took 8 seconds.\n"
     ]
    },
    {
     "data": {
      "text/html": [
       "\n",
       "    <div>\n",
       "        <style>\n",
       "            /* Turns off some styling */\n",
       "            progress {\n",
       "                /* gets rid of default border in Firefox and Opera. */\n",
       "                border: none;\n",
       "                /* Needs to be in here for Safari polyfill so background images work as expected. */\n",
       "                background-size: auto;\n",
       "            }\n",
       "            .progress-bar-interrupted, .progress-bar-interrupted::-webkit-progress-bar {\n",
       "                background: #F44336;\n",
       "            }\n",
       "        </style>\n",
       "      <progress value='10000' class='' max='10000' style='width:300px; height:20px; vertical-align: middle;'></progress>\n",
       "      100.00% [10000/10000 00:07<00:00]\n",
       "    </div>\n",
       "    "
      ],
      "text/plain": [
       "<IPython.core.display.HTML object>"
      ]
     },
     "metadata": {},
     "output_type": "display_data"
    },
    {
     "name": "stderr",
     "output_type": "stream",
     "text": [
      "/tmp/ipykernel_1903678/1724641766.py:4: FutureWarning: In v4.0, pm.sample will return an `arviz.InferenceData` object instead of a `MultiTrace` by default. You can pass return_inferencedata=True or return_inferencedata=False to be safe and silence this warning.\n",
      "  dirichlet_trace = pm.sample(5000) # 100K samples\n",
      "Auto-assigning NUTS sampler...\n",
      "Initializing NUTS using jitter+adapt_diag...\n",
      "Multiprocess sampling (2 chains in 2 jobs)\n",
      "NUTS: [november_prior]\n"
     ]
    },
    {
     "data": {
      "text/html": [
       "\n",
       "    <div>\n",
       "        <style>\n",
       "            /* Turns off some styling */\n",
       "            progress {\n",
       "                /* gets rid of default border in Firefox and Opera. */\n",
       "                border: none;\n",
       "                /* Needs to be in here for Safari polyfill so background images work as expected. */\n",
       "                background-size: auto;\n",
       "            }\n",
       "            .progress-bar-interrupted, .progress-bar-interrupted::-webkit-progress-bar {\n",
       "                background: #F44336;\n",
       "            }\n",
       "        </style>\n",
       "      <progress value='12000' class='' max='12000' style='width:300px; height:20px; vertical-align: middle;'></progress>\n",
       "      100.00% [12000/12000 00:07<00:00 Sampling 2 chains, 0 divergences]\n",
       "    </div>\n",
       "    "
      ],
      "text/plain": [
       "<IPython.core.display.HTML object>"
      ]
     },
     "metadata": {},
     "output_type": "display_data"
    },
    {
     "name": "stderr",
     "output_type": "stream",
     "text": [
      "Sampling 2 chains for 1_000 tune and 5_000 draw iterations (2_000 + 10_000 draws total) took 8 seconds.\n"
     ]
    },
    {
     "data": {
      "text/html": [
       "\n",
       "    <div>\n",
       "        <style>\n",
       "            /* Turns off some styling */\n",
       "            progress {\n",
       "                /* gets rid of default border in Firefox and Opera. */\n",
       "                border: none;\n",
       "                /* Needs to be in here for Safari polyfill so background images work as expected. */\n",
       "                background-size: auto;\n",
       "            }\n",
       "            .progress-bar-interrupted, .progress-bar-interrupted::-webkit-progress-bar {\n",
       "                background: #F44336;\n",
       "            }\n",
       "        </style>\n",
       "      <progress value='10000' class='' max='10000' style='width:300px; height:20px; vertical-align: middle;'></progress>\n",
       "      100.00% [10000/10000 00:07<00:00]\n",
       "    </div>\n",
       "    "
      ],
      "text/plain": [
       "<IPython.core.display.HTML object>"
      ]
     },
     "metadata": {},
     "output_type": "display_data"
    }
   ],
   "source": [
    "# probs = []\n",
    "# for x in range(30):\n",
    "#     with dirichlet_model:\n",
    "#         dirichlet_trace = pm.sample(5000) # 100K samples\n",
    "#         ppc = pm.sample_posterior_predictive(\n",
    "#                 dirichlet_trace, random_seed=777,\n",
    "#         )\n",
    "#     lula = ppc['december_like'][:, 0]\n",
    "#     demais = ppc['december_like'][:, 2]\n",
    "#     probs.append((lula > demais).mean())"
   ]
  },
  {
   "cell_type": "code",
   "execution_count": 23,
   "metadata": {},
   "outputs": [
    {
     "name": "stderr",
     "output_type": "stream",
     "text": [
      "/tmp/ipykernel_1903678/697546233.py:1: FutureWarning: The pandas.np module is deprecated and will be removed from pandas in a future version. Import numpy directly instead\n",
      "  pd.np.mean(probs), pd.np.std(probs)\n"
     ]
    },
    {
     "data": {
      "text/plain": [
       "(0.12026666666666667, 0.0029044027881055963)"
      ]
     },
     "execution_count": 23,
     "metadata": {},
     "output_type": "execute_result"
    }
   ],
   "source": [
    "pd.np.mean(probs), pd.np.std(probs)"
   ]
  },
  {
   "cell_type": "code",
   "execution_count": null,
   "metadata": {},
   "outputs": [],
   "source": []
  }
 ],
 "metadata": {
  "interpreter": {
   "hash": "037a033ce234ff666f14cbdf22ea40000c7774c5ff2d9a18fd075477cf956e1c"
  },
  "kernelspec": {
   "display_name": "Python 3.9.6 64-bit ('kaggle_env': conda)",
   "language": "python",
   "name": "python3"
  },
  "language_info": {
   "codemirror_mode": {
    "name": "ipython",
    "version": 3
   },
   "file_extension": ".py",
   "mimetype": "text/x-python",
   "name": "python",
   "nbconvert_exporter": "python",
   "pygments_lexer": "ipython3",
   "version": "3.9.6"
  },
  "orig_nbformat": 4
 },
 "nbformat": 4,
 "nbformat_minor": 2
}
