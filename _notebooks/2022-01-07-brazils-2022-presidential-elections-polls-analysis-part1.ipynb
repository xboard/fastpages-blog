{
 "cells": [
  {
   "cell_type": "markdown",
   "metadata": {},
   "source": [
    "# Collecting Brazil's 2022 presidential election polls data\n",
    "> A tutorial on how to collect, filter and prepare for analysis Brazil's 2022 presidential election polls data.\n",
    "\n",
    "- toc: true \n",
    "- badges: true\n",
    "- comments: true\n",
    "- categories: [data-science]\n",
    "- hide: false\n",
    "- search_exclude: false\n",
    "- image: images/chart-preview.png"
   ]
  },
  {
   "cell_type": "markdown",
   "metadata": {},
   "source": [
    "## Context\n",
    "\n",
    "This year [more than 146 million fellow Brazilian](https://www.tse.jus.br/eleitor/estatisticas-de-eleitorado/consulta-quantitativo) are going to choose our new President..."
   ]
  },
  {
   "cell_type": "markdown",
   "metadata": {},
   "source": [
    "## Data sources\n",
    "\n",
    "### Pool data\n",
    "- [Poder360 polls database](https://www.poder360.com.br/banco-de-dados/)\n",
    "### Voters statistics\n",
    "\n",
    "- [TSE: Voters statistics by Region](https://www.tse.jus.br/eleitor/estatisticas-de-eleitorado/consulta-quantitativo)\n",
    "- [TSE: Voters statistics by sex and age](https://www.tse.jus.br/eleitor/estatisticas-de-eleitorado/estatistica-do-eleitorado-por-sexo-e-faixa-etaria)\n",
    "\n",
    "### Dashboard\n",
    "- [App](https://chance-lula-ganhar-1o-turno.github.io/)\n",
    "- [Repositório: Chance de Lula ganhar no primeiro turno](https://github.com/chance-lula-ganhar-1o-turno)\n",
    "  "
   ]
  },
  {
   "cell_type": "markdown",
   "metadata": {},
   "source": [
    "## Analysis"
   ]
  },
  {
   "cell_type": "markdown",
   "metadata": {},
   "source": [
    "### Importing libraries"
   ]
  },
  {
   "cell_type": "code",
   "execution_count": 7,
   "metadata": {},
   "outputs": [],
   "source": [
    "import numpy as np\n",
    "import scipy.stats as stats\n",
    "import pandas as pd\n",
    "import pymc3 as pm\n",
    "import arviz as az\n",
    "import matplotlib.pyplot as plt\n",
    "import seaborn as sns\n",
    "import dirichlet\n",
    "from pathlib import Path\n",
    "from tqdm.notebook import tqdm\n",
    "\n",
    "pd.set_option('display.max_columns', None)\n",
    "pd.set_option('display.max_rows', None)"
   ]
  },
  {
   "cell_type": "markdown",
   "metadata": {},
   "source": [
    "## Load and transform data"
   ]
  },
  {
   "cell_type": "code",
   "execution_count": 8,
   "metadata": {},
   "outputs": [],
   "source": [
    "#noshow \n",
    "columns_to_use = [\"pesquisa_id\", \"cenario_id\", \"turno\", \"partido\",\n",
    "                  \"candidato\", \"cenario_descricao\", \"instituto\",\n",
    "                  \"percentual\", \"data_pesquisa\", \"qtd_entrevistas\",\n",
    "                  \"qtd_mencoes\",\"grupo\"]\n",
    "\n",
    "HDI = [0.025, 0.5, 0.975] # quantiles"
   ]
  },
  {
   "cell_type": "code",
   "execution_count": 9,
   "metadata": {},
   "outputs": [],
   "source": [
    "def enrich_and_filter(df: pd.DataFrame) ->pd.DataFrame:\n",
    "    df['qtd_mencoes'] = df.percentual * df.qtd_entrevistas / 100.0\n",
    "    df['grupo'] = 'OUTROS'\n",
    "    df.loc[(df.partido == 'PT'), 'grupo'] = 'LULA'\n",
    "    df.loc[(df.partido.isna()), 'grupo'] = 'NULO'\n",
    "\n",
    "    return df[columns_to_use]"
   ]
  },
  {
   "cell_type": "code",
   "execution_count": 10,
   "metadata": {},
   "outputs": [
    {
     "name": "stdout",
     "output_type": "stream",
     "text": [
      "../assets/data/elections2022/20220121.csv\n"
     ]
    }
   ],
   "source": [
    "def get_most_recent_file() -> Path:\n",
    "    data_dir = Path('../assets/data/elections2022/')\n",
    "    return sorted(data_dir.glob('2022*.csv'))[-1]\n",
    "print(get_most_recent_file())"
   ]
  },
  {
   "cell_type": "code",
   "execution_count": 11,
   "metadata": {},
   "outputs": [],
   "source": [
    "def get_most_recent_df() -> pd.DataFrame:\n",
    "    return enrich_and_filter(pd.read_csv(get_most_recent_file(),\n",
    "                                         sep=',',\n",
    "                                         parse_dates=True,\n",
    "                                         dayfirst=True)\n",
    "                             )\n"
   ]
  },
  {
   "cell_type": "code",
   "execution_count": 12,
   "metadata": {},
   "outputs": [
    {
     "data": {
      "text/html": [
       "<div>\n",
       "<style scoped>\n",
       "    .dataframe tbody tr th:only-of-type {\n",
       "        vertical-align: middle;\n",
       "    }\n",
       "\n",
       "    .dataframe tbody tr th {\n",
       "        vertical-align: top;\n",
       "    }\n",
       "\n",
       "    .dataframe thead th {\n",
       "        text-align: right;\n",
       "    }\n",
       "</style>\n",
       "<table border=\"1\" class=\"dataframe\">\n",
       "  <thead>\n",
       "    <tr style=\"text-align: right;\">\n",
       "      <th></th>\n",
       "      <th>pesquisa_id</th>\n",
       "      <th>cenario_id</th>\n",
       "      <th>turno</th>\n",
       "      <th>partido</th>\n",
       "      <th>candidato</th>\n",
       "      <th>cenario_descricao</th>\n",
       "      <th>instituto</th>\n",
       "      <th>percentual</th>\n",
       "      <th>data_pesquisa</th>\n",
       "      <th>qtd_entrevistas</th>\n",
       "      <th>qtd_mencoes</th>\n",
       "      <th>grupo</th>\n",
       "    </tr>\n",
       "  </thead>\n",
       "  <tbody>\n",
       "    <tr>\n",
       "      <th>0</th>\n",
       "      <td>9750</td>\n",
       "      <td>24567</td>\n",
       "      <td>1</td>\n",
       "      <td>NaN</td>\n",
       "      <td>não sabe / não respondeu</td>\n",
       "      <td>cenário 1 - estimulado - 1º turno</td>\n",
       "      <td>Vox Populi</td>\n",
       "      <td>12.0</td>\n",
       "      <td>2021-11-04</td>\n",
       "      <td>2000</td>\n",
       "      <td>240.0</td>\n",
       "      <td>NULO</td>\n",
       "    </tr>\n",
       "    <tr>\n",
       "      <th>1</th>\n",
       "      <td>9750</td>\n",
       "      <td>24567</td>\n",
       "      <td>1</td>\n",
       "      <td>NaN</td>\n",
       "      <td>branco / nulo / nenhum</td>\n",
       "      <td>cenário 1 - estimulado - 1º turno</td>\n",
       "      <td>Vox Populi</td>\n",
       "      <td>10.0</td>\n",
       "      <td>2021-11-04</td>\n",
       "      <td>2000</td>\n",
       "      <td>200.0</td>\n",
       "      <td>NULO</td>\n",
       "    </tr>\n",
       "    <tr>\n",
       "      <th>2</th>\n",
       "      <td>9750</td>\n",
       "      <td>24567</td>\n",
       "      <td>1</td>\n",
       "      <td>PSD</td>\n",
       "      <td>Rodrigo Pacheco</td>\n",
       "      <td>cenário 1 - estimulado - 1º turno</td>\n",
       "      <td>Vox Populi</td>\n",
       "      <td>0.0</td>\n",
       "      <td>2021-11-04</td>\n",
       "      <td>2000</td>\n",
       "      <td>0.0</td>\n",
       "      <td>OUTROS</td>\n",
       "    </tr>\n",
       "    <tr>\n",
       "      <th>3</th>\n",
       "      <td>9750</td>\n",
       "      <td>24567</td>\n",
       "      <td>1</td>\n",
       "      <td>PT</td>\n",
       "      <td>Lula</td>\n",
       "      <td>cenário 1 - estimulado - 1º turno</td>\n",
       "      <td>Vox Populi</td>\n",
       "      <td>44.0</td>\n",
       "      <td>2021-11-04</td>\n",
       "      <td>2000</td>\n",
       "      <td>880.0</td>\n",
       "      <td>LULA</td>\n",
       "    </tr>\n",
       "    <tr>\n",
       "      <th>4</th>\n",
       "      <td>9750</td>\n",
       "      <td>24567</td>\n",
       "      <td>1</td>\n",
       "      <td>sem partido</td>\n",
       "      <td>Bolsonaro</td>\n",
       "      <td>cenário 1 - estimulado - 1º turno</td>\n",
       "      <td>Vox Populi</td>\n",
       "      <td>21.0</td>\n",
       "      <td>2021-11-04</td>\n",
       "      <td>2000</td>\n",
       "      <td>420.0</td>\n",
       "      <td>OUTROS</td>\n",
       "    </tr>\n",
       "  </tbody>\n",
       "</table>\n",
       "</div>"
      ],
      "text/plain": [
       "   pesquisa_id  cenario_id  turno      partido                 candidato  \\\n",
       "0         9750       24567      1          NaN  não sabe / não respondeu   \n",
       "1         9750       24567      1          NaN    branco / nulo / nenhum   \n",
       "2         9750       24567      1          PSD           Rodrigo Pacheco   \n",
       "3         9750       24567      1           PT                      Lula   \n",
       "4         9750       24567      1  sem partido                 Bolsonaro   \n",
       "\n",
       "                   cenario_descricao   instituto  percentual data_pesquisa  \\\n",
       "0  cenário 1 - estimulado - 1º turno  Vox Populi        12.0    2021-11-04   \n",
       "1  cenário 1 - estimulado - 1º turno  Vox Populi        10.0    2021-11-04   \n",
       "2  cenário 1 - estimulado - 1º turno  Vox Populi         0.0    2021-11-04   \n",
       "3  cenário 1 - estimulado - 1º turno  Vox Populi        44.0    2021-11-04   \n",
       "4  cenário 1 - estimulado - 1º turno  Vox Populi        21.0    2021-11-04   \n",
       "\n",
       "   qtd_entrevistas  qtd_mencoes   grupo  \n",
       "0             2000        240.0    NULO  \n",
       "1             2000        200.0    NULO  \n",
       "2             2000          0.0  OUTROS  \n",
       "3             2000        880.0    LULA  \n",
       "4             2000        420.0  OUTROS  "
      ]
     },
     "execution_count": 12,
     "metadata": {},
     "output_type": "execute_result"
    }
   ],
   "source": [
    "raw_df = get_most_recent_df()\n",
    "raw_df.head()"
   ]
  },
  {
   "cell_type": "code",
   "execution_count": 13,
   "metadata": {},
   "outputs": [],
   "source": [
    "def prepare_df(raw_df: pd.DataFrame) -> pd.DataFrame:\n",
    "    table_df = raw_df.pivot_table(values=['qtd_mencoes'],\n",
    "                        index=['data_pesquisa', 'instituto'],\n",
    "                        columns=['grupo'],\n",
    "                        aggfunc=np.sum)\n",
    "    table2 = table_df.reset_index(col_level=1).copy()\n",
    "    table2.columns = [a[1] for a in table2.columns.to_flat_index()]\n",
    "    table2[\"TOTAL\"] = table2['LULA'] + table2['NULO'] + table2['OUTROS']\n",
    "    table2[\"mes\"] = pd.to_datetime(table2['data_pesquisa']).dt.strftime('%Y_%m')\n",
    "    return table2"
   ]
  },
  {
   "cell_type": "code",
   "execution_count": 14,
   "metadata": {},
   "outputs": [
    {
     "data": {
      "text/html": [
       "<div>\n",
       "<style scoped>\n",
       "    .dataframe tbody tr th:only-of-type {\n",
       "        vertical-align: middle;\n",
       "    }\n",
       "\n",
       "    .dataframe tbody tr th {\n",
       "        vertical-align: top;\n",
       "    }\n",
       "\n",
       "    .dataframe thead th {\n",
       "        text-align: right;\n",
       "    }\n",
       "</style>\n",
       "<table border=\"1\" class=\"dataframe\">\n",
       "  <thead>\n",
       "    <tr style=\"text-align: right;\">\n",
       "      <th></th>\n",
       "      <th>data_pesquisa</th>\n",
       "      <th>instituto</th>\n",
       "      <th>LULA</th>\n",
       "      <th>NULO</th>\n",
       "      <th>OUTROS</th>\n",
       "      <th>TOTAL</th>\n",
       "      <th>mes</th>\n",
       "    </tr>\n",
       "  </thead>\n",
       "  <tbody>\n",
       "    <tr>\n",
       "      <th>0</th>\n",
       "      <td>2021-11-04</td>\n",
       "      <td>Vox Populi</td>\n",
       "      <td>880.000</td>\n",
       "      <td>440.000</td>\n",
       "      <td>660.000</td>\n",
       "      <td>1980.0</td>\n",
       "      <td>2021_11</td>\n",
       "    </tr>\n",
       "    <tr>\n",
       "      <th>1</th>\n",
       "      <td>2021-11-06</td>\n",
       "      <td>Quaest</td>\n",
       "      <td>990.240</td>\n",
       "      <td>288.820</td>\n",
       "      <td>783.940</td>\n",
       "      <td>2063.0</td>\n",
       "      <td>2021_11</td>\n",
       "    </tr>\n",
       "    <tr>\n",
       "      <th>2</th>\n",
       "      <td>2021-11-19</td>\n",
       "      <td>Paraná Pesquisas</td>\n",
       "      <td>704.980</td>\n",
       "      <td>270.680</td>\n",
       "      <td>1044.340</td>\n",
       "      <td>2020.0</td>\n",
       "      <td>2021_11</td>\n",
       "    </tr>\n",
       "    <tr>\n",
       "      <th>3</th>\n",
       "      <td>2021-11-20</td>\n",
       "      <td>Futura</td>\n",
       "      <td>740.000</td>\n",
       "      <td>142.000</td>\n",
       "      <td>1118.000</td>\n",
       "      <td>2000.0</td>\n",
       "      <td>2021_11</td>\n",
       "    </tr>\n",
       "    <tr>\n",
       "      <th>4</th>\n",
       "      <td>2021-11-24</td>\n",
       "      <td>PoderData</td>\n",
       "      <td>850.000</td>\n",
       "      <td>225.000</td>\n",
       "      <td>1400.000</td>\n",
       "      <td>2475.0</td>\n",
       "      <td>2021_11</td>\n",
       "    </tr>\n",
       "    <tr>\n",
       "      <th>5</th>\n",
       "      <td>2021-11-29</td>\n",
       "      <td>Atlas</td>\n",
       "      <td>1883.628</td>\n",
       "      <td>140.832</td>\n",
       "      <td>2376.540</td>\n",
       "      <td>4401.0</td>\n",
       "      <td>2021_11</td>\n",
       "    </tr>\n",
       "    <tr>\n",
       "      <th>6</th>\n",
       "      <td>2021-12-05</td>\n",
       "      <td>Quaest</td>\n",
       "      <td>937.020</td>\n",
       "      <td>244.440</td>\n",
       "      <td>855.540</td>\n",
       "      <td>2037.0</td>\n",
       "      <td>2021_12</td>\n",
       "    </tr>\n",
       "    <tr>\n",
       "      <th>7</th>\n",
       "      <td>2021-12-09</td>\n",
       "      <td>Ideia Big Data</td>\n",
       "      <td>444.000</td>\n",
       "      <td>156.000</td>\n",
       "      <td>600.000</td>\n",
       "      <td>1200.0</td>\n",
       "      <td>2021_12</td>\n",
       "    </tr>\n",
       "    <tr>\n",
       "      <th>8</th>\n",
       "      <td>2021-12-11</td>\n",
       "      <td>MDA</td>\n",
       "      <td>856.856</td>\n",
       "      <td>306.306</td>\n",
       "      <td>838.838</td>\n",
       "      <td>2002.0</td>\n",
       "      <td>2021_12</td>\n",
       "    </tr>\n",
       "    <tr>\n",
       "      <th>9</th>\n",
       "      <td>2021-12-13</td>\n",
       "      <td>Futura</td>\n",
       "      <td>758.000</td>\n",
       "      <td>170.000</td>\n",
       "      <td>1072.000</td>\n",
       "      <td>2000.0</td>\n",
       "      <td>2021_12</td>\n",
       "    </tr>\n",
       "    <tr>\n",
       "      <th>10</th>\n",
       "      <td>2021-12-13</td>\n",
       "      <td>Ipec</td>\n",
       "      <td>960.960</td>\n",
       "      <td>280.280</td>\n",
       "      <td>760.760</td>\n",
       "      <td>2002.0</td>\n",
       "      <td>2021_12</td>\n",
       "    </tr>\n",
       "    <tr>\n",
       "      <th>11</th>\n",
       "      <td>2021-12-16</td>\n",
       "      <td>Datafolha</td>\n",
       "      <td>1759.680</td>\n",
       "      <td>366.600</td>\n",
       "      <td>1539.720</td>\n",
       "      <td>3666.0</td>\n",
       "      <td>2021_12</td>\n",
       "    </tr>\n",
       "    <tr>\n",
       "      <th>12</th>\n",
       "      <td>2021-12-16</td>\n",
       "      <td>Ipespe</td>\n",
       "      <td>440.000</td>\n",
       "      <td>120.000</td>\n",
       "      <td>450.000</td>\n",
       "      <td>1010.0</td>\n",
       "      <td>2021_12</td>\n",
       "    </tr>\n",
       "    <tr>\n",
       "      <th>13</th>\n",
       "      <td>2021-12-21</td>\n",
       "      <td>PoderData</td>\n",
       "      <td>1200.000</td>\n",
       "      <td>330.000</td>\n",
       "      <td>1470.000</td>\n",
       "      <td>3000.0</td>\n",
       "      <td>2021_12</td>\n",
       "    </tr>\n",
       "    <tr>\n",
       "      <th>14</th>\n",
       "      <td>2022-01-09</td>\n",
       "      <td>Quaest</td>\n",
       "      <td>900.000</td>\n",
       "      <td>240.000</td>\n",
       "      <td>820.000</td>\n",
       "      <td>1960.0</td>\n",
       "      <td>2022_01</td>\n",
       "    </tr>\n",
       "    <tr>\n",
       "      <th>15</th>\n",
       "      <td>2022-01-12</td>\n",
       "      <td>Ipespe</td>\n",
       "      <td>440.000</td>\n",
       "      <td>130.000</td>\n",
       "      <td>450.000</td>\n",
       "      <td>1020.0</td>\n",
       "      <td>2022_01</td>\n",
       "    </tr>\n",
       "    <tr>\n",
       "      <th>16</th>\n",
       "      <td>2022-01-13</td>\n",
       "      <td>Ideia Big Data</td>\n",
       "      <td>615.000</td>\n",
       "      <td>165.000</td>\n",
       "      <td>705.000</td>\n",
       "      <td>1485.0</td>\n",
       "      <td>2022_01</td>\n",
       "    </tr>\n",
       "  </tbody>\n",
       "</table>\n",
       "</div>"
      ],
      "text/plain": [
       "   data_pesquisa         instituto      LULA     NULO    OUTROS   TOTAL  \\\n",
       "0     2021-11-04        Vox Populi   880.000  440.000   660.000  1980.0   \n",
       "1     2021-11-06            Quaest   990.240  288.820   783.940  2063.0   \n",
       "2     2021-11-19  Paraná Pesquisas   704.980  270.680  1044.340  2020.0   \n",
       "3     2021-11-20            Futura   740.000  142.000  1118.000  2000.0   \n",
       "4     2021-11-24         PoderData   850.000  225.000  1400.000  2475.0   \n",
       "5     2021-11-29             Atlas  1883.628  140.832  2376.540  4401.0   \n",
       "6     2021-12-05            Quaest   937.020  244.440   855.540  2037.0   \n",
       "7     2021-12-09    Ideia Big Data   444.000  156.000   600.000  1200.0   \n",
       "8     2021-12-11               MDA   856.856  306.306   838.838  2002.0   \n",
       "9     2021-12-13            Futura   758.000  170.000  1072.000  2000.0   \n",
       "10    2021-12-13              Ipec   960.960  280.280   760.760  2002.0   \n",
       "11    2021-12-16         Datafolha  1759.680  366.600  1539.720  3666.0   \n",
       "12    2021-12-16            Ipespe   440.000  120.000   450.000  1010.0   \n",
       "13    2021-12-21         PoderData  1200.000  330.000  1470.000  3000.0   \n",
       "14    2022-01-09            Quaest   900.000  240.000   820.000  1960.0   \n",
       "15    2022-01-12            Ipespe   440.000  130.000   450.000  1020.0   \n",
       "16    2022-01-13    Ideia Big Data   615.000  165.000   705.000  1485.0   \n",
       "\n",
       "        mes  \n",
       "0   2021_11  \n",
       "1   2021_11  \n",
       "2   2021_11  \n",
       "3   2021_11  \n",
       "4   2021_11  \n",
       "5   2021_11  \n",
       "6   2021_12  \n",
       "7   2021_12  \n",
       "8   2021_12  \n",
       "9   2021_12  \n",
       "10  2021_12  \n",
       "11  2021_12  \n",
       "12  2021_12  \n",
       "13  2021_12  \n",
       "14  2022_01  \n",
       "15  2022_01  \n",
       "16  2022_01  "
      ]
     },
     "execution_count": 14,
     "metadata": {},
     "output_type": "execute_result"
    }
   ],
   "source": [
    "df = prepare_df(raw_df)\n",
    "df"
   ]
  },
  {
   "cell_type": "code",
   "execution_count": 15,
   "metadata": {},
   "outputs": [
    {
     "data": {
      "text/plain": [
       "7.5"
      ]
     },
     "execution_count": 15,
     "metadata": {},
     "output_type": "execute_result"
    }
   ],
   "source": [
    "def simulate_prob_freq(concentration: np.array, iters=10_000, N=100_000) -> float:\n",
    "    priors = stats.dirichlet.rvs(concentration, iters)\n",
    "    cnt = 0\n",
    "    for i in range(iters):\n",
    "        votes = stats.multinomial(n=100_000, p = priors[i]).rvs()[0]\n",
    "        if votes[0] > votes[2]:\n",
    "            cnt += 1\n",
    "    return cnt/iters * 100\n",
    "simulate_prob_freq(np.array([723, 186, 780]))\n",
    "#stats.multinomial(n=100_000, p = np.array([0.45, 0.11, 0.44])).rvs()"
   ]
  },
  {
   "cell_type": "code",
   "execution_count": 16,
   "metadata": {},
   "outputs": [
    {
     "name": "stdout",
     "output_type": "stream",
     "text": [
      "2021-11-04 [38.88888889 27.77777778 33.33333333] 74.58\n",
      "2021-11-06 [43.44444444 20.88888889 35.66666667] 80.93\n",
      "2021-11-19 [39.17222222 17.14444444 43.68333333] 31.430000000000003\n",
      "2021-11-20 [38.08611111 12.12222222 49.79166667] 10.39\n",
      "2021-11-24 [36.21477273 10.60656566 53.17866162] 3.42\n",
      "2021-11-29 [39.50738636  6.90328283 53.58933081] 6.69\n",
      "2021-12-05 [42.75369318  9.45164141 47.7946654 ] 29.21\n",
      "2021-12-09 [39.87684659 11.22582071 48.8973327 ] 16.74\n",
      "2021-12-11 [41.3384233  13.26291035 45.39866635] 33.39\n",
      "2021-12-13 [39.61921165 10.88145518 49.49933318] 15.559999999999999\n",
      "2021-12-13 [43.80960582 12.44072759 43.74966659] 50.9\n",
      "2021-12-16 [45.90480291 11.22036379 42.87483329] 62.17\n",
      "2021-12-16 [44.73457967 11.55077596 43.71464437] 53.6\n",
      "2021-12-21 [42.36728984 11.27538798 46.35732218] 33.67\n",
      "2022-01-09 [44.14282859 11.76014297 44.09702844] 49.66\n",
      "2022-01-12 [43.64004175 12.2526205  44.10733775] 47.339999999999996\n",
      "2022-01-13 [42.52709158 11.68186581 45.79104261] 36.26\n"
     ]
    }
   ],
   "source": [
    "def run_prob_weekly(simulate_prob):\n",
    "    prior = np.array([1,1,1])\n",
    "    posterior = np.array([0,0,0])\n",
    "    for obj in df.itertuples():\n",
    "        like = np.array([obj.LULA, obj.NULO, obj.OUTROS])\n",
    "        posterior = prior * 50/prior.sum() + like * 50/like.sum()\n",
    "        print(obj.data_pesquisa, posterior, simulate_prob(posterior))\n",
    "        prior = posterior\n",
    "\n",
    "run_prob_weekly(simulate_prob_freq)"
   ]
  },
  {
   "cell_type": "code",
   "execution_count": 17,
   "metadata": {},
   "outputs": [
    {
     "data": {
      "text/html": [
       "<div>\n",
       "<style scoped>\n",
       "    .dataframe tbody tr th:only-of-type {\n",
       "        vertical-align: middle;\n",
       "    }\n",
       "\n",
       "    .dataframe tbody tr th {\n",
       "        vertical-align: top;\n",
       "    }\n",
       "\n",
       "    .dataframe thead th {\n",
       "        text-align: right;\n",
       "    }\n",
       "</style>\n",
       "<table border=\"1\" class=\"dataframe\">\n",
       "  <thead>\n",
       "    <tr style=\"text-align: right;\">\n",
       "      <th></th>\n",
       "      <th>mes</th>\n",
       "      <th>LULA</th>\n",
       "      <th>NULO</th>\n",
       "      <th>OUTROS</th>\n",
       "      <th>TOTAL</th>\n",
       "    </tr>\n",
       "  </thead>\n",
       "  <tbody>\n",
       "    <tr>\n",
       "      <th>0</th>\n",
       "      <td>2021_11</td>\n",
       "      <td>6048.848</td>\n",
       "      <td>1507.332</td>\n",
       "      <td>7382.820</td>\n",
       "      <td>14939.0</td>\n",
       "    </tr>\n",
       "    <tr>\n",
       "      <th>1</th>\n",
       "      <td>2021_12</td>\n",
       "      <td>7356.516</td>\n",
       "      <td>1973.626</td>\n",
       "      <td>7586.858</td>\n",
       "      <td>16917.0</td>\n",
       "    </tr>\n",
       "    <tr>\n",
       "      <th>2</th>\n",
       "      <td>2022_01</td>\n",
       "      <td>1955.000</td>\n",
       "      <td>535.000</td>\n",
       "      <td>1975.000</td>\n",
       "      <td>4465.0</td>\n",
       "    </tr>\n",
       "  </tbody>\n",
       "</table>\n",
       "</div>"
      ],
      "text/plain": [
       "       mes      LULA      NULO    OUTROS    TOTAL\n",
       "0  2021_11  6048.848  1507.332  7382.820  14939.0\n",
       "1  2021_12  7356.516  1973.626  7586.858  16917.0\n",
       "2  2022_01  1955.000   535.000  1975.000   4465.0"
      ]
     },
     "execution_count": 17,
     "metadata": {},
     "output_type": "execute_result"
    }
   ],
   "source": [
    "mes = df.groupby(\"mes\").sum().reset_index()\n",
    "mes"
   ]
  },
  {
   "cell_type": "code",
   "execution_count": 18,
   "metadata": {},
   "outputs": [
    {
     "name": "stdout",
     "output_type": "stream",
     "text": [
      "2021_11 [369.11823638 217.11622822 413.7655354 ] 5.25\n",
      "2021_12 [401.98880431 166.8907381  431.1204576 ] 15.28\n",
      "2022_01 [419.91937416 143.35578338 436.72484246] 28.27\n"
     ]
    }
   ],
   "source": [
    "def run_prob_monthly(simulate_prob):\n",
    "    prior = np.array([1,1,1])\n",
    "    posterior = np.array([0,0,0])\n",
    "    df_by_mes = df.groupby(\"mes\").sum().reset_index()\n",
    "    for obj in df_by_mes.itertuples():\n",
    "        # print(obj)\n",
    "        like = np.array([obj.LULA, obj.NULO, obj.OUTROS])\n",
    "        posterior = prior * 500/prior.sum() + like * 500/like.sum()\n",
    "        print(obj.mes, posterior, simulate_prob(posterior))\n",
    "        prior = posterior\n",
    "run_prob_monthly(simulate_prob_freq)"
   ]
  },
  {
   "cell_type": "code",
   "execution_count": 19,
   "metadata": {},
   "outputs": [
    {
     "data": {
      "image/svg+xml": "<?xml version=\"1.0\" encoding=\"UTF-8\" standalone=\"no\"?>\n<!DOCTYPE svg PUBLIC \"-//W3C//DTD SVG 1.1//EN\"\n \"http://www.w3.org/Graphics/SVG/1.1/DTD/svg11.dtd\">\n<!-- Generated by graphviz version 2.49.0 (20210829.0051)\n -->\n<!-- Pages: 1 -->\n<svg width=\"162pt\" height=\"249pt\"\n viewBox=\"0.00 0.00 162.00 248.91\" xmlns=\"http://www.w3.org/2000/svg\" xmlns:xlink=\"http://www.w3.org/1999/xlink\">\n<g id=\"graph0\" class=\"graph\" transform=\"scale(1 1) rotate(0) translate(4 244.91)\">\n<polygon fill=\"white\" stroke=\"transparent\" points=\"-4,4 -4,-244.91 158,-244.91 158,4 -4,4\"/>\n<g id=\"clust1\" class=\"cluster\">\n<title>cluster3</title>\n<path fill=\"none\" stroke=\"black\" d=\"M20,-8C20,-8 134,-8 134,-8 140,-8 146,-14 146,-20 146,-20 146,-220.91 146,-220.91 146,-226.91 140,-232.91 134,-232.91 134,-232.91 20,-232.91 20,-232.91 14,-232.91 8,-226.91 8,-220.91 8,-220.91 8,-20 8,-20 8,-14 14,-8 20,-8\"/>\n<text text-anchor=\"middle\" x=\"134.5\" y=\"-15.8\" font-family=\"Times,serif\" font-size=\"14.00\">3</text>\n</g>\n<!-- prior -->\n<g id=\"node1\" class=\"node\">\n<title>prior</title>\n<ellipse fill=\"none\" stroke=\"black\" cx=\"77\" cy=\"-187.43\" rx=\"45.92\" ry=\"37.45\"/>\n<text text-anchor=\"middle\" x=\"77\" y=\"-198.73\" font-family=\"Times,serif\" font-size=\"14.00\">prior</text>\n<text text-anchor=\"middle\" x=\"77\" y=\"-183.73\" font-family=\"Times,serif\" font-size=\"14.00\">~</text>\n<text text-anchor=\"middle\" x=\"77\" y=\"-168.73\" font-family=\"Times,serif\" font-size=\"14.00\">Dirichlet</text>\n</g>\n<!-- current -->\n<g id=\"node2\" class=\"node\">\n<title>current</title>\n<ellipse fill=\"lightgrey\" stroke=\"black\" cx=\"77\" cy=\"-76.48\" rx=\"60.62\" ry=\"37.45\"/>\n<text text-anchor=\"middle\" x=\"77\" y=\"-87.78\" font-family=\"Times,serif\" font-size=\"14.00\">current</text>\n<text text-anchor=\"middle\" x=\"77\" y=\"-72.78\" font-family=\"Times,serif\" font-size=\"14.00\">~</text>\n<text text-anchor=\"middle\" x=\"77\" y=\"-57.78\" font-family=\"Times,serif\" font-size=\"14.00\">Multinomial</text>\n</g>\n<!-- prior&#45;&gt;current -->\n<g id=\"edge1\" class=\"edge\">\n<title>prior&#45;&gt;current</title>\n<path fill=\"none\" stroke=\"black\" d=\"M77,-149.85C77,-141.67 77,-132.89 77,-124.37\"/>\n<polygon fill=\"black\" stroke=\"black\" points=\"80.5,-124.15 77,-114.15 73.5,-124.15 80.5,-124.15\"/>\n</g>\n</g>\n</svg>\n",
      "text/plain": [
       "<graphviz.dot.Digraph at 0x7f1ff3687a90>"
      ]
     },
     "execution_count": 19,
     "metadata": {},
     "output_type": "execute_result"
    }
   ],
   "source": [
    "def build_model(prior, observed) -> pm.Model:\n",
    "    observed = observed.astype(\"int32\")\n",
    "    with pm.Model() as dirichlet_model:\n",
    "        # beta = pm.Beta(\"beta\", alpha=8, beta=1)\n",
    "        beta = 1.0\n",
    "        previous_month_prior = pm.Dirichlet(\n",
    "            \"prior\", a=prior, shape=(3,),\n",
    "        )\n",
    "\n",
    "        pm.Multinomial(\n",
    "            \"current\", n=observed.sum(), p=(previous_month_prior * beta), observed=observed, shape=(3,)\n",
    "        )\n",
    "    \n",
    "    return dirichlet_model\n",
    "model = build_model(np.ones(3), np.ones(3))\n",
    "pm.model_to_graphviz(model)"
   ]
  },
  {
   "cell_type": "code",
   "execution_count": 20,
   "metadata": {},
   "outputs": [],
   "source": [
    "\n",
    "def sampling(model: pm.Model, samples=2000, chains=2):\n",
    "    with model:\n",
    "        dirichlet_trace = pm.sample(samples, tune=2000, chains=chains, return_inferencedata=True, progressbar=False)\n",
    "        ppc = pm.fast_sample_posterior_predictive(dirichlet_trace, 5000)\n",
    "    return dirichlet_trace , ppc\n",
    "\n",
    "def calc_prob_lula_win(model, trace, niter=30, ppc=None):\n",
    "    simul = []\n",
    "    if ppc:\n",
    "        lula = ppc['current'][:, 0]\n",
    "        others = ppc['current'][:, 2]\n",
    "        simul.append((lula > others).mean() * 100.0)\n",
    "    for _ in tqdm(range(niter)):\n",
    "        with model:\n",
    "            ppc = pm.fast_sample_posterior_predictive(trace, 10000)\n",
    "        lula = ppc['current'][:, 0]\n",
    "        others = ppc['current'][:, 2]\n",
    "        simul.append((lula > others).mean() * 100.0)\n",
    "    simul = np.array(simul)\n",
    "    return np.quantile(simul, q=HDI)"
   ]
  },
  {
   "cell_type": "markdown",
   "metadata": {},
   "source": [
    "### Weekly update"
   ]
  },
  {
   "cell_type": "code",
   "execution_count": 21,
   "metadata": {},
   "outputs": [
    {
     "name": "stdout",
     "output_type": "stream",
     "text": [
      "   data_pesquisa         instituto      LULA     NULO    OUTROS   TOTAL  \\\n",
      "0     2021-11-04        Vox Populi   880.000  440.000   660.000  1980.0   \n",
      "1     2021-11-06            Quaest   990.240  288.820   783.940  2063.0   \n",
      "2     2021-11-19  Paraná Pesquisas   704.980  270.680  1044.340  2020.0   \n",
      "3     2021-11-20            Futura   740.000  142.000  1118.000  2000.0   \n",
      "4     2021-11-24         PoderData   850.000  225.000  1400.000  2475.0   \n",
      "5     2021-11-29             Atlas  1883.628  140.832  2376.540  4401.0   \n",
      "6     2021-12-05            Quaest   937.020  244.440   855.540  2037.0   \n",
      "7     2021-12-09    Ideia Big Data   444.000  156.000   600.000  1200.0   \n",
      "8     2021-12-11               MDA   856.856  306.306   838.838  2002.0   \n",
      "9     2021-12-13            Futura   758.000  170.000  1072.000  2000.0   \n",
      "10    2021-12-13              Ipec   960.960  280.280   760.760  2002.0   \n",
      "11    2021-12-16         Datafolha  1759.680  366.600  1539.720  3666.0   \n",
      "12    2021-12-16            Ipespe   440.000  120.000   450.000  1010.0   \n",
      "13    2021-12-21         PoderData  1200.000  330.000  1470.000  3000.0   \n",
      "14    2022-01-09            Quaest   900.000  240.000   820.000  1960.0   \n",
      "15    2022-01-12            Ipespe   440.000  130.000   450.000  1020.0   \n",
      "16    2022-01-13    Ideia Big Data   615.000  165.000   705.000  1485.0   \n",
      "0     2022-01-20         PoderData  1260.000  360.000  1350.000  3000.0   \n",
      "\n",
      "        mes  \n",
      "0   2021_11  \n",
      "1   2021_11  \n",
      "2   2021_11  \n",
      "3   2021_11  \n",
      "4   2021_11  \n",
      "5   2021_11  \n",
      "6   2021_12  \n",
      "7   2021_12  \n",
      "8   2021_12  \n",
      "9   2021_12  \n",
      "10  2021_12  \n",
      "11  2021_12  \n",
      "12  2021_12  \n",
      "13  2021_12  \n",
      "14  2022_01  \n",
      "15  2022_01  \n",
      "16  2022_01  \n",
      "0   2022_01  \n",
      ">>> observed = [880. 440. 660.]\n"
     ]
    },
    {
     "name": "stderr",
     "output_type": "stream",
     "text": [
      "Auto-assigning NUTS sampler...\n",
      "Initializing NUTS using jitter+adapt_diag...\n",
      "Multiprocess sampling (2 chains in 2 jobs)\n",
      "NUTS: [prior]\n",
      "Sampling 2 chains for 2_000 tune and 2_000 draw iterations (4_000 + 4_000 draws total) took 5 seconds.\n"
     ]
    },
    {
     "data": {
      "application/vnd.jupyter.widget-view+json": {
       "model_id": "23abaa45ab104c43b58ccbe9508ebe72",
       "version_major": 2,
       "version_minor": 0
      },
      "text/plain": [
       "  0%|          | 0/30 [00:00<?, ?it/s]"
      ]
     },
     "metadata": {},
     "output_type": "display_data"
    },
    {
     "name": "stdout",
     "output_type": "stream",
     "text": [
      ">>> data_pesquisa=2021-11-04, updaed_prior=[519.42033812 231.05402053 458.181055  ],  qs=[97.1075 97.32   97.54  ]% <<<\n",
      "lula= [0.4020202  0.42979798 0.45808081]\n",
      "nulo= [0.16919192 0.19090909 0.21363636]\n",
      "demais= [0.35251263 0.37929293 0.40606061]\n",
      ">>> observed = [990.24 288.82 783.94]\n"
     ]
    },
    {
     "name": "stderr",
     "output_type": "stream",
     "text": [
      "Auto-assigning NUTS sampler...\n",
      "Initializing NUTS using jitter+adapt_diag...\n",
      "Multiprocess sampling (2 chains in 2 jobs)\n",
      "NUTS: [prior]\n",
      "Sampling 2 chains for 2_000 tune and 2_000 draw iterations (4_000 + 4_000 draws total) took 9 seconds.\n",
      "The acceptance probability does not match the target. It is 0.8940038903182808, but should be close to 0.8. Try to increase the number of tuning steps.\n"
     ]
    },
    {
     "data": {
      "application/vnd.jupyter.widget-view+json": {
       "model_id": "7143a8b2a8144994b52dbbd364ee24ac",
       "version_major": 2,
       "version_minor": 0
      },
      "text/plain": [
       "  0%|          | 0/30 [00:00<?, ?it/s]"
      ]
     },
     "metadata": {},
     "output_type": "display_data"
    },
    {
     "name": "stdout",
     "output_type": "stream",
     "text": [
      ">>> data_pesquisa=2021-11-06, updaed_prior=[594.34194233 204.13748069 488.48458058],  qs=[99.8875 99.94   99.97  ]% <<<\n",
      "lula= [0.43521349 0.46191169 0.48908297]\n",
      "nulo= [0.13925279 0.15866084 0.1785541 ]\n",
      "demais= [0.35274139 0.37942746 0.40708394]\n",
      ">>> observed = [ 704.98  270.68 1044.34]\n"
     ]
    },
    {
     "name": "stderr",
     "output_type": "stream",
     "text": [
      "Auto-assigning NUTS sampler...\n",
      "Initializing NUTS using jitter+adapt_diag...\n",
      "Multiprocess sampling (2 chains in 2 jobs)\n",
      "NUTS: [prior]\n",
      "Sampling 2 chains for 2_000 tune and 2_000 draw iterations (4_000 + 4_000 draws total) took 7 seconds.\n"
     ]
    },
    {
     "data": {
      "application/vnd.jupyter.widget-view+json": {
       "model_id": "50a19edd57764f42b7ba07364d0c7126",
       "version_major": 2,
       "version_minor": 0
      },
      "text/plain": [
       "  0%|          | 0/30 [00:00<?, ?it/s]"
      ]
     },
     "metadata": {},
     "output_type": "display_data"
    },
    {
     "name": "stdout",
     "output_type": "stream",
     "text": [
      ">>> data_pesquisa=2021-11-19, updaed_prior=[485.8220075  177.35596125 573.6131063 ],  qs=[0.1975 0.32   0.4175]% <<<\n",
      "lula= [0.36570862 0.39296333 0.42021804]\n",
      "nulo= [0.12438057 0.1432111  0.16402379]\n",
      "demais= [0.43607532 0.46382557 0.49108028]\n",
      ">>> observed = [ 740.  142. 1118.]\n"
     ]
    },
    {
     "name": "stderr",
     "output_type": "stream",
     "text": [
      "Auto-assigning NUTS sampler...\n",
      "Initializing NUTS using jitter+adapt_diag...\n",
      "Multiprocess sampling (2 chains in 2 jobs)\n",
      "NUTS: [prior]\n",
      "Sampling 2 chains for 2_000 tune and 2_000 draw iterations (4_000 + 4_000 draws total) took 6 seconds.\n"
     ]
    },
    {
     "data": {
      "application/vnd.jupyter.widget-view+json": {
       "model_id": "17a0961fc79d4323bf0ad91e2ad87d42",
       "version_major": 2,
       "version_minor": 0
      },
      "text/plain": [
       "  0%|          | 0/30 [00:00<?, ?it/s]"
      ]
     },
     "metadata": {},
     "output_type": "display_data"
    },
    {
     "name": "stdout",
     "output_type": "stream",
     "text": [
      ">>> data_pesquisa=2021-11-20, updaed_prior=[456.96693492 118.4957194  631.13640877],  qs=[0. 0. 0.]% <<<\n",
      "lula= [0.351 0.379 0.406]\n",
      "nulo= [0.0815 0.0985 0.115 ]\n",
      "demais= [0.4945    0.5235    0.5510125]\n",
      ">>> observed = [ 850.  225. 1400.]\n"
     ]
    },
    {
     "name": "stderr",
     "output_type": "stream",
     "text": [
      "Auto-assigning NUTS sampler...\n",
      "Initializing NUTS using jitter+adapt_diag...\n",
      "Multiprocess sampling (2 chains in 2 jobs)\n",
      "NUTS: [prior]\n",
      "Sampling 2 chains for 2_000 tune and 2_000 draw iterations (4_000 + 4_000 draws total) took 5 seconds.\n",
      "The acceptance probability does not match the target. It is 0.8848508119736274, but should be close to 0.8. Try to increase the number of tuning steps.\n"
     ]
    },
    {
     "data": {
      "application/vnd.jupyter.widget-view+json": {
       "model_id": "6fef27f74b414e039786c5bceffe5efa",
       "version_major": 2,
       "version_minor": 0
      },
      "text/plain": [
       "  0%|          | 0/30 [00:00<?, ?it/s]"
      ]
     },
     "metadata": {},
     "output_type": "display_data"
    },
    {
     "name": "stdout",
     "output_type": "stream",
     "text": [
      ">>> data_pesquisa=2021-11-24, updaed_prior=[525.23162065 138.2172682  817.24622736],  qs=[0. 0. 0.]% <<<\n",
      "lula= [0.33050505 0.35474747 0.37979798]\n",
      "nulo= [0.07919192 0.09333333 0.10828283]\n",
      "demais= [0.52646465 0.55191919 0.57737374]\n",
      ">>> observed = [1883.628  140.832 2376.54 ]\n"
     ]
    },
    {
     "name": "stderr",
     "output_type": "stream",
     "text": [
      "Auto-assigning NUTS sampler...\n",
      "Initializing NUTS using jitter+adapt_diag...\n",
      "Multiprocess sampling (2 chains in 2 jobs)\n",
      "NUTS: [prior]\n",
      "Sampling 2 chains for 2_000 tune and 2_000 draw iterations (4_000 + 4_000 draws total) took 5 seconds.\n",
      "The acceptance probability does not match the target. It is 0.8809249205257212, but should be close to 0.8. Try to increase the number of tuning steps.\n",
      "The number of effective samples is smaller than 25% for some parameters.\n"
     ]
    },
    {
     "data": {
      "application/vnd.jupyter.widget-view+json": {
       "model_id": "8c75ad1e869744549b08b042a06aa39a",
       "version_major": 2,
       "version_minor": 0
      },
      "text/plain": [
       "  0%|          | 0/30 [00:00<?, ?it/s]"
      ]
     },
     "metadata": {},
     "output_type": "display_data"
    },
    {
     "name": "stdout",
     "output_type": "stream",
     "text": [
      ">>> data_pesquisa=2021-11-29, updaed_prior=[1043.39159452  120.12162115 1383.59267372],  qs=[0. 0. 0.]% <<<\n",
      "lula= [0.39077063 0.40963855 0.4287338 ]\n",
      "nulo= [0.0390998  0.04705615 0.05524551]\n",
      "demais= [0.52421005 0.5433053  0.5621789 ]\n",
      ">>> observed = [937.02 244.44 855.54]\n"
     ]
    },
    {
     "name": "stderr",
     "output_type": "stream",
     "text": [
      "Auto-assigning NUTS sampler...\n",
      "Initializing NUTS using jitter+adapt_diag...\n",
      "Multiprocess sampling (2 chains in 2 jobs)\n",
      "NUTS: [prior]\n",
      "Sampling 2 chains for 2_000 tune and 2_000 draw iterations (4_000 + 4_000 draws total) took 4 seconds.\n"
     ]
    },
    {
     "data": {
      "application/vnd.jupyter.widget-view+json": {
       "model_id": "57eaf4dac0084550af6def7136723372",
       "version_major": 2,
       "version_minor": 0
      },
      "text/plain": [
       "  0%|          | 0/30 [00:00<?, ?it/s]"
      ]
     },
     "metadata": {},
     "output_type": "display_data"
    },
    {
     "name": "stdout",
     "output_type": "stream",
     "text": [
      ">>> data_pesquisa=2021-12-05, updaed_prior=[614.22237662 112.98841399 694.03865128],  qs=[1.175 1.35  1.605]% <<<\n",
      "lula= [0.40667976 0.43222004 0.45726916]\n",
      "nulo= [0.06532417 0.07956778 0.09430255]\n",
      "demais= [0.46267191 0.48821218 0.51375246]\n",
      ">>> observed = [444. 156. 600.]\n"
     ]
    },
    {
     "name": "stderr",
     "output_type": "stream",
     "text": [
      "Auto-assigning NUTS sampler...\n",
      "Initializing NUTS using jitter+adapt_diag...\n",
      "Multiprocess sampling (2 chains in 2 jobs)\n",
      "NUTS: [prior]\n",
      "Sampling 2 chains for 2_000 tune and 2_000 draw iterations (4_000 + 4_000 draws total) took 4 seconds.\n"
     ]
    },
    {
     "data": {
      "application/vnd.jupyter.widget-view+json": {
       "model_id": "7ecace92f6a94eb6bee8c6bce845de17",
       "version_major": 2,
       "version_minor": 0
      },
      "text/plain": [
       "  0%|          | 0/30 [00:00<?, ?it/s]"
      ]
     },
     "metadata": {},
     "output_type": "display_data"
    },
    {
     "name": "stdout",
     "output_type": "stream",
     "text": [
      ">>> data_pesquisa=2021-12-09, updaed_prior=[335.19018135  85.54021699 410.11907938],  qs=[0.1725 0.25   0.3775]% <<<\n",
      "lula= [0.37       0.40333333 0.43666667]\n",
      "nulo= [0.08333333 0.1025     0.12416667]\n",
      "demais= [0.46083333 0.49333333 0.52585417]\n",
      ">>> observed = [856.856 306.306 838.838]\n"
     ]
    },
    {
     "name": "stderr",
     "output_type": "stream",
     "text": [
      "Auto-assigning NUTS sampler...\n",
      "Initializing NUTS using jitter+adapt_diag...\n",
      "Multiprocess sampling (2 chains in 2 jobs)\n",
      "NUTS: [prior]\n",
      "Sampling 2 chains for 2_000 tune and 2_000 draw iterations (4_000 + 4_000 draws total) took 4 seconds.\n"
     ]
    },
    {
     "data": {
      "application/vnd.jupyter.widget-view+json": {
       "model_id": "4dfe1149fa3246e48fc4d554783fb7e7",
       "version_major": 2,
       "version_minor": 0
      },
      "text/plain": [
       "  0%|          | 0/30 [00:00<?, ?it/s]"
      ]
     },
     "metadata": {},
     "output_type": "display_data"
    },
    {
     "name": "stdout",
     "output_type": "stream",
     "text": [
      ">>> data_pesquisa=2021-12-11, updaed_prior=[491.94282054 161.74259806 515.06125671],  qs=[21.435  22.47   22.9175]% <<<\n",
      "lula= [0.3925 0.421  0.4495]\n",
      "nulo= [0.119 0.138 0.159]\n",
      "demais= [0.413  0.4405 0.468 ]\n",
      ">>> observed = [ 758.  170. 1072.]\n"
     ]
    },
    {
     "name": "stderr",
     "output_type": "stream",
     "text": [
      "Auto-assigning NUTS sampler...\n",
      "Initializing NUTS using jitter+adapt_diag...\n",
      "Multiprocess sampling (2 chains in 2 jobs)\n",
      "NUTS: [prior]\n",
      "Sampling 2 chains for 2_000 tune and 2_000 draw iterations (4_000 + 4_000 draws total) took 5 seconds.\n"
     ]
    },
    {
     "data": {
      "application/vnd.jupyter.widget-view+json": {
       "model_id": "c9d3aad83dec43e69eea81e1844bea3b",
       "version_major": 2,
       "version_minor": 0
      },
      "text/plain": [
       "  0%|          | 0/30 [00:00<?, ?it/s]"
      ]
     },
     "metadata": {},
     "output_type": "display_data"
    },
    {
     "name": "stdout",
     "output_type": "stream",
     "text": [
      ">>> data_pesquisa=2021-12-13, updaed_prior=[476.70683517 126.30098827 604.85619572],  qs=[0.   0.   0.02]% <<<\n",
      "lula= [0.3675 0.3945 0.423 ]\n",
      "nulo= [0.0875 0.1045 0.1215]\n",
      "demais= [0.473  0.501  0.5295]\n",
      ">>> observed = [960.96 280.28 760.76]\n"
     ]
    },
    {
     "name": "stderr",
     "output_type": "stream",
     "text": [
      "Auto-assigning NUTS sampler...\n",
      "Initializing NUTS using jitter+adapt_diag...\n",
      "Multiprocess sampling (2 chains in 2 jobs)\n",
      "NUTS: [prior]\n",
      "Sampling 2 chains for 2_000 tune and 2_000 draw iterations (4_000 + 4_000 draws total) took 4 seconds.\n"
     ]
    },
    {
     "data": {
      "application/vnd.jupyter.widget-view+json": {
       "model_id": "ffef3062c3b8428a80ff687617189727",
       "version_major": 2,
       "version_minor": 0
      },
      "text/plain": [
       "  0%|          | 0/30 [00:00<?, ?it/s]"
      ]
     },
     "metadata": {},
     "output_type": "display_data"
    },
    {
     "name": "stdout",
     "output_type": "stream",
     "text": [
      ">>> data_pesquisa=2021-12-13, updaed_prior=[554.41524501 157.08000072 526.69168352],  qs=[79.1325 79.71   80.2525]% <<<\n",
      "lula= [0.42      0.448     0.4750125]\n",
      "nulo= [0.109  0.1265 0.1465]\n",
      "demais= [0.398  0.4255 0.453 ]\n",
      ">>> observed = [1759.68  366.6  1539.72]\n"
     ]
    },
    {
     "name": "stderr",
     "output_type": "stream",
     "text": [
      "Auto-assigning NUTS sampler...\n",
      "Initializing NUTS using jitter+adapt_diag...\n",
      "Multiprocess sampling (2 chains in 2 jobs)\n",
      "NUTS: [prior]\n",
      "Sampling 2 chains for 2_000 tune and 2_000 draw iterations (4_000 + 4_000 draws total) took 4 seconds.\n",
      "The acceptance probability does not match the target. It is 0.8838069563299985, but should be close to 0.8. Try to increase the number of tuning steps.\n"
     ]
    },
    {
     "data": {
      "application/vnd.jupyter.widget-view+json": {
       "model_id": "cb2c7dfa743c413faa8511cb3bbe1939",
       "version_major": 2,
       "version_minor": 0
      },
      "text/plain": [
       "  0%|          | 0/30 [00:00<?, ?it/s]"
      ]
     },
     "metadata": {},
     "output_type": "display_data"
    },
    {
     "name": "stdout",
     "output_type": "stream",
     "text": [
      ">>> data_pesquisa=2021-12-16, updaed_prior=[980.68143215 221.91939413 875.94490664],  qs=[99.1275 99.29   99.4325]% <<<\n",
      "lula= [0.45087336 0.47161572 0.49344978]\n",
      "nulo= [0.09334061 0.10671397 0.12063319]\n",
      "demais= [0.40010917 0.42139738 0.44186681]\n",
      ">>> observed = [440. 120. 450.]\n"
     ]
    },
    {
     "name": "stderr",
     "output_type": "stream",
     "text": [
      "Auto-assigning NUTS sampler...\n",
      "Initializing NUTS using jitter+adapt_diag...\n",
      "Multiprocess sampling (2 chains in 2 jobs)\n",
      "NUTS: [prior]\n",
      "Sampling 2 chains for 2_000 tune and 2_000 draw iterations (4_000 + 4_000 draws total) took 4 seconds.\n"
     ]
    },
    {
     "data": {
      "application/vnd.jupyter.widget-view+json": {
       "model_id": "75e5e15fcea74b2d8928cd0f4a26f299",
       "version_major": 2,
       "version_minor": 0
      },
      "text/plain": [
       "  0%|          | 0/30 [00:00<?, ?it/s]"
      ]
     },
     "metadata": {},
     "output_type": "display_data"
    },
    {
     "name": "stdout",
     "output_type": "stream",
     "text": [
      ">>> data_pesquisa=2021-12-16, updaed_prior=[342.21600935  82.59620453 319.82963692],  qs=[80.6525 81.46   82.17  ]% <<<\n",
      "lula= [0.42376238 0.45940594 0.4950495 ]\n",
      "nulo= [0.08910891 0.11089109 0.13465347]\n",
      "demais= [0.39405941 0.42970297 0.46435644]\n",
      ">>> observed = [1200.  330. 1470.]\n"
     ]
    },
    {
     "name": "stderr",
     "output_type": "stream",
     "text": [
      "Auto-assigning NUTS sampler...\n",
      "Initializing NUTS using jitter+adapt_diag...\n",
      "Multiprocess sampling (2 chains in 2 jobs)\n",
      "NUTS: [prior]\n",
      "Sampling 2 chains for 2_000 tune and 2_000 draw iterations (4_000 + 4_000 draws total) took 4 seconds.\n"
     ]
    },
    {
     "data": {
      "application/vnd.jupyter.widget-view+json": {
       "model_id": "5943d5e69174491ab5f61c37b38798ed",
       "version_major": 2,
       "version_minor": 0
      },
      "text/plain": [
       "  0%|          | 0/30 [00:00<?, ?it/s]"
      ]
     },
     "metadata": {},
     "output_type": "display_data"
    },
    {
     "name": "stdout",
     "output_type": "stream",
     "text": [
      ">>> data_pesquisa=2021-12-21, updaed_prior=[677.22752916 180.7376383  784.27127813],  qs=[0.1625 0.25   0.3125]% <<<\n",
      "lula= [0.388      0.41233333 0.436     ]\n",
      "nulo= [0.09533333 0.10966667 0.12533333]\n",
      "demais= [0.45333333 0.47766667 0.50166667]\n",
      ">>> observed = [900. 240. 820.]\n"
     ]
    },
    {
     "name": "stderr",
     "output_type": "stream",
     "text": [
      "Auto-assigning NUTS sampler...\n",
      "Initializing NUTS using jitter+adapt_diag...\n",
      "Multiprocess sampling (2 chains in 2 jobs)\n",
      "NUTS: [prior]\n",
      "Sampling 2 chains for 2_000 tune and 2_000 draw iterations (4_000 + 4_000 draws total) took 5 seconds.\n"
     ]
    },
    {
     "data": {
      "application/vnd.jupyter.widget-view+json": {
       "model_id": "4d5639110c1e481aa38b953ec188d315",
       "version_major": 2,
       "version_minor": 0
      },
      "text/plain": [
       "  0%|          | 0/30 [00:00<?, ?it/s]"
      ]
     },
     "metadata": {},
     "output_type": "display_data"
    },
    {
     "name": "stdout",
     "output_type": "stream",
     "text": [
      ">>> data_pesquisa=2022-01-09, updaed_prior=[553.72740883 147.90020092 563.67255394],  qs=[37.8    38.6    39.3475]% <<<\n",
      "lula= [0.40969388 0.4377551  0.46479592]\n",
      "nulo= [0.0994898  0.11683673 0.13469388]\n",
      "demais= [0.41887755 0.44540816 0.47346939]\n",
      ">>> observed = [440. 130. 450.]\n"
     ]
    },
    {
     "name": "stderr",
     "output_type": "stream",
     "text": [
      "Auto-assigning NUTS sampler...\n",
      "Initializing NUTS using jitter+adapt_diag...\n",
      "Multiprocess sampling (2 chains in 2 jobs)\n",
      "NUTS: [prior]\n",
      "Sampling 2 chains for 2_000 tune and 2_000 draw iterations (4_000 + 4_000 draws total) took 4 seconds.\n"
     ]
    },
    {
     "data": {
      "application/vnd.jupyter.widget-view+json": {
       "model_id": "50913d5493a546f19f3d39ea68e624fb",
       "version_major": 2,
       "version_minor": 0
      },
      "text/plain": [
       "  0%|          | 0/30 [00:00<?, ?it/s]"
      ]
     },
     "metadata": {},
     "output_type": "display_data"
    },
    {
     "name": "stdout",
     "output_type": "stream",
     "text": [
      ">>> data_pesquisa=2022-01-12, updaed_prior=[298.56151423  83.64214597 305.47818391],  qs=[37.9225 38.77   39.6025]% <<<\n",
      "lula= [0.39705882 0.43431373 0.47156863]\n",
      "nulo= [0.09901961 0.12156863 0.14607843]\n",
      "demais= [0.40686275 0.44411765 0.48137255]\n",
      ">>> observed = [615. 165. 705.]\n"
     ]
    },
    {
     "name": "stderr",
     "output_type": "stream",
     "text": [
      "Auto-assigning NUTS sampler...\n",
      "Initializing NUTS using jitter+adapt_diag...\n",
      "Multiprocess sampling (2 chains in 2 jobs)\n",
      "NUTS: [prior]\n",
      "Sampling 2 chains for 2_000 tune and 2_000 draw iterations (4_000 + 4_000 draws total) took 4 seconds.\n"
     ]
    },
    {
     "data": {
      "application/vnd.jupyter.widget-view+json": {
       "model_id": "c74612577fda4210b4cc5282003466f9",
       "version_major": 2,
       "version_minor": 0
      },
      "text/plain": [
       "  0%|          | 0/30 [00:00<?, ?it/s]"
      ]
     },
     "metadata": {},
     "output_type": "display_data"
    },
    {
     "name": "stdout",
     "output_type": "stream",
     "text": [
      ">>> data_pesquisa=2022-01-13, updaed_prior=[367.52428258 100.30483541 407.28515392],  qs=[7.095  7.64   8.0075]% <<<\n",
      "lula= [0.38653199 0.42020202 0.45252525]\n",
      "nulo= [0.09360269 0.11447811 0.13602694]\n",
      "demais= [0.43232323 0.46531987 0.4983165 ]\n",
      ">>> observed = [1260.  360. 1350.]\n"
     ]
    },
    {
     "name": "stderr",
     "output_type": "stream",
     "text": [
      "Auto-assigning NUTS sampler...\n",
      "Initializing NUTS using jitter+adapt_diag...\n",
      "Multiprocess sampling (2 chains in 2 jobs)\n",
      "NUTS: [prior]\n",
      "Sampling 2 chains for 2_000 tune and 2_000 draw iterations (4_000 + 4_000 draws total) took 4 seconds.\n"
     ]
    },
    {
     "data": {
      "application/vnd.jupyter.widget-view+json": {
       "model_id": "ba387e05ad9345a1928ec3b6d3a7ba2b",
       "version_major": 2,
       "version_minor": 0
      },
      "text/plain": [
       "  0%|          | 0/30 [00:00<?, ?it/s]"
      ]
     },
     "metadata": {},
     "output_type": "display_data"
    },
    {
     "name": "stdout",
     "output_type": "stream",
     "text": [
      ">>> data_pesquisa=2022-01-20, updaed_prior=[708.46831729 200.55839803 765.32681335],  qs=[6.4575 6.88   7.25  ]% <<<\n",
      "lula= [0.3996633  0.42323232 0.44747475]\n",
      "nulo= [0.1043771  0.11952862 0.13569024]\n",
      "demais= [0.43333333 0.45690236 0.48181818]\n"
     ]
    }
   ],
   "source": [
    "flat_prior = prior = np.array([400.0, 130.0, 470.0])\n",
    "\n",
    "df_by_mes = df.groupby(\"mes\").sum().reset_index()\n",
    "# for obj in df_by_mes.itertuples():\n",
    "df = df.append(pd.DataFrame({\"data_pesquisa\": [\"2022-01-20\"],\n",
    "                        \"mes\": [\"2022_01\"],\n",
    "                        \"LULA\":[1260],\n",
    "                        \"NULO\":[360],\n",
    "                        \"OUTROS\":[1350],\n",
    "                        \"TOTAL\": [3000],\n",
    "                        \"instituto\":[\"PoderData\"]}))\n",
    "print(df)\n",
    "for obj in df.itertuples():\n",
    "    observed = np.array([obj.LULA, obj.NULO, obj.OUTROS])\n",
    "    print(f\">>> observed = {observed}\")\n",
    "    model = build_model(prior, observed)\n",
    "    trace, ppc = sampling(model)\n",
    "    posterior = ppc['current']\n",
    "    # print(f\">>> posterior.shape={posterior.shape}\")\n",
    "    prior = dirichlet.mle(posterior/posterior.sum(axis=1).reshape(-1, 1))\n",
    "    # print('dirichlet.mle(posterior/posterior.sum(axis=1).reshape(-1, 1))=,', prior)\n",
    "    qs = calc_prob_lula_win(model, trace, ppc=ppc)\n",
    "    # print(f\">>> mes={obj.mes}, updaed_prior={prior},  qs={qs}% <<<\")\n",
    "    print(f\">>> data_pesquisa={obj.data_pesquisa}, updaed_prior={prior},  qs={qs}% <<<\");\n",
    "    post_prob = posterior/posterior.sum(axis=1).reshape(-1, 1)\n",
    "    print(f\"lula=\", np.quantile(post_prob[:, 0], q=HDI))\n",
    "    print(f\"nulo=\", np.quantile(post_prob[:, 1], q=HDI))\n",
    "    print(f\"demais=\", np.quantile(post_prob[:, 2], q=HDI))\n",
    "    "
   ]
  },
  {
   "cell_type": "code",
   "execution_count": 22,
   "metadata": {},
   "outputs": [
    {
     "name": "stdout",
     "output_type": "stream",
     "text": [
      "1 2 3\n"
     ]
    }
   ],
   "source": [
    "# az.plot_ppc(az.from_pymc3(posterior_predictive=ppc, model=model), figsize=(10,5));\n",
    "l = [1,2,3]\n",
    "print(*l)"
   ]
  },
  {
   "cell_type": "code",
   "execution_count": 23,
   "metadata": {},
   "outputs": [
    {
     "data": {
      "text/html": [
       "<div>\n",
       "<style scoped>\n",
       "    .dataframe tbody tr th:only-of-type {\n",
       "        vertical-align: middle;\n",
       "    }\n",
       "\n",
       "    .dataframe tbody tr th {\n",
       "        vertical-align: top;\n",
       "    }\n",
       "\n",
       "    .dataframe thead th {\n",
       "        text-align: right;\n",
       "    }\n",
       "</style>\n",
       "<table border=\"1\" class=\"dataframe\">\n",
       "  <thead>\n",
       "    <tr style=\"text-align: right;\">\n",
       "      <th></th>\n",
       "      <th>mean</th>\n",
       "      <th>sd</th>\n",
       "      <th>hdi_3%</th>\n",
       "      <th>hdi_97%</th>\n",
       "      <th>mcse_mean</th>\n",
       "      <th>mcse_sd</th>\n",
       "      <th>ess_bulk</th>\n",
       "      <th>ess_tail</th>\n",
       "      <th>r_hat</th>\n",
       "    </tr>\n",
       "  </thead>\n",
       "  <tbody>\n",
       "    <tr>\n",
       "      <th>prior[0]</th>\n",
       "      <td>0.423</td>\n",
       "      <td>0.008</td>\n",
       "      <td>0.409</td>\n",
       "      <td>0.439</td>\n",
       "      <td>0.0</td>\n",
       "      <td>0.0</td>\n",
       "      <td>1945.0</td>\n",
       "      <td>2134.0</td>\n",
       "      <td>1.0</td>\n",
       "    </tr>\n",
       "    <tr>\n",
       "      <th>prior[1]</th>\n",
       "      <td>0.120</td>\n",
       "      <td>0.005</td>\n",
       "      <td>0.110</td>\n",
       "      <td>0.130</td>\n",
       "      <td>0.0</td>\n",
       "      <td>0.0</td>\n",
       "      <td>1485.0</td>\n",
       "      <td>2336.0</td>\n",
       "      <td>1.0</td>\n",
       "    </tr>\n",
       "    <tr>\n",
       "      <th>prior[2]</th>\n",
       "      <td>0.457</td>\n",
       "      <td>0.008</td>\n",
       "      <td>0.442</td>\n",
       "      <td>0.472</td>\n",
       "      <td>0.0</td>\n",
       "      <td>0.0</td>\n",
       "      <td>2758.0</td>\n",
       "      <td>3125.0</td>\n",
       "      <td>1.0</td>\n",
       "    </tr>\n",
       "  </tbody>\n",
       "</table>\n",
       "</div>"
      ],
      "text/plain": [
       "           mean     sd  hdi_3%  hdi_97%  mcse_mean  mcse_sd  ess_bulk  \\\n",
       "prior[0]  0.423  0.008   0.409    0.439        0.0      0.0    1945.0   \n",
       "prior[1]  0.120  0.005   0.110    0.130        0.0      0.0    1485.0   \n",
       "prior[2]  0.457  0.008   0.442    0.472        0.0      0.0    2758.0   \n",
       "\n",
       "          ess_tail  r_hat  \n",
       "prior[0]    2134.0    1.0  \n",
       "prior[1]    2336.0    1.0  \n",
       "prior[2]    3125.0    1.0  "
      ]
     },
     "execution_count": 23,
     "metadata": {},
     "output_type": "execute_result"
    }
   ],
   "source": [
    "az.summary(trace)"
   ]
  },
  {
   "cell_type": "code",
   "execution_count": 24,
   "metadata": {},
   "outputs": [
    {
     "data": {
      "image/png": "[encoded data removed]",
      "text/plain": [
       "<Figure size 993.6x331.2 with 2 Axes>"
      ]
     },
     "metadata": {
      "needs_background": "light"
     },
     "output_type": "display_data"
    }
   ],
   "source": [
    "# fig, ax = plt.subplots(2, figsize=(10,6))\n",
    "lula = ppc['current'][:,0] / ppc['current'].sum(axis=1) * 100\n",
    "demais = ppc['current'][:,2] / ppc['current'].sum(axis=1) * 100\n",
    "az.plot_posterior({'Lula': lula, 'Demais': demais});\n",
    "#az.plot_posterior({}, ax=ax[1])"
   ]
  },
  {
   "cell_type": "code",
   "execution_count": 25,
   "metadata": {},
   "outputs": [
    {
     "data": {
      "text/plain": [
       "array([[0.17820303, 0.57677432, 0.24502264],\n",
       "       [0.19010246, 0.5866622 , 0.22323534],\n",
       "       [0.17823914, 0.57297348, 0.24878738],\n",
       "       ...,\n",
       "       [0.21723924, 0.61218479, 0.17057597],\n",
       "       [0.19052775, 0.62235303, 0.18711923],\n",
       "       [0.21965462, 0.5852267 , 0.19511868]])"
      ]
     },
     "execution_count": 25,
     "metadata": {},
     "output_type": "execute_result"
    }
   ],
   "source": [
    "a0 = np.array([100, 299, 100])\n",
    "D0 = np.random.dirichlet(a0, 1000)\n",
    "D0"
   ]
  },
  {
   "cell_type": "markdown",
   "metadata": {},
   "source": [
    "## MONTHLY"
   ]
  },
  {
   "cell_type": "code",
   "execution_count": 26,
   "metadata": {},
   "outputs": [
    {
     "name": "stdout",
     "output_type": "stream",
     "text": [
      ">>> observed = [6048.848 1507.332 7382.82 ]\n"
     ]
    },
    {
     "name": "stderr",
     "output_type": "stream",
     "text": [
      "Auto-assigning NUTS sampler...\n",
      "Initializing NUTS using jitter+adapt_diag...\n",
      "Multiprocess sampling (2 chains in 2 jobs)\n",
      "NUTS: [prior]\n",
      "Sampling 2 chains for 2_000 tune and 2_000 draw iterations (4_000 + 4_000 draws total) took 4 seconds.\n"
     ]
    },
    {
     "data": {
      "application/vnd.jupyter.widget-view+json": {
       "model_id": "ad61e30b691c4e22bcf05816123ea3fa",
       "version_major": 2,
       "version_minor": 0
      },
      "text/plain": [
       "  0%|          | 0/100 [00:00<?, ?it/s]"
      ]
     },
     "metadata": {},
     "output_type": "display_data"
    },
    {
     "name": "stdout",
     "output_type": "stream",
     "text": [
      ">>> mes=2021_11, updaed_prior=[3135.36825329  794.13571124 3796.78465527],  qs=['0.0%', '0.0%', '0.0%'] <<<\n",
      "lula= [0.39479146 0.40583785 0.41688425]\n",
      "nulo= [0.09593627 0.10276495 0.10959363]\n",
      "demais= [0.48041775 0.49133025 0.50257917]\n",
      ">>> observed = [7356.516 1973.626 7586.858]\n"
     ]
    },
    {
     "name": "stderr",
     "output_type": "stream",
     "text": [
      "Auto-assigning NUTS sampler...\n",
      "Initializing NUTS using jitter+adapt_diag...\n",
      "Multiprocess sampling (2 chains in 2 jobs)\n",
      "NUTS: [prior]\n",
      "Sampling 2 chains for 2_000 tune and 2_000 draw iterations (4_000 + 4_000 draws total) took 4 seconds.\n"
     ]
    },
    {
     "data": {
      "application/vnd.jupyter.widget-view+json": {
       "model_id": "254a578e4ba94dbbb80550caf169c837",
       "version_major": 2,
       "version_minor": 0
      },
      "text/plain": [
       "  0%|          | 0/100 [00:00<?, ?it/s]"
      ]
     },
     "metadata": {},
     "output_type": "display_data"
    },
    {
     "name": "stdout",
     "output_type": "stream",
     "text": [
      ">>> mes=2021_12, updaed_prior=[4263.47087861 1124.14318101 4625.87984094],  qs=['0.0%', '0.01%', '0.02%'] <<<\n",
      "lula= [0.41619864 0.42571682 0.43582767]\n",
      "nulo= [0.10605971 0.11226722 0.11841709]\n",
      "demais= [0.45214159 0.46204552 0.4714159 ]\n",
      ">>> observed = [3215.  895. 3325.]\n"
     ]
    },
    {
     "name": "stderr",
     "output_type": "stream",
     "text": [
      "Auto-assigning NUTS sampler...\n",
      "Initializing NUTS using jitter+adapt_diag...\n",
      "Multiprocess sampling (2 chains in 2 jobs)\n",
      "NUTS: [prior]\n",
      "Sampling 2 chains for 2_000 tune and 2_000 draw iterations (4_000 + 4_000 draws total) took 4 seconds.\n"
     ]
    },
    {
     "data": {
      "application/vnd.jupyter.widget-view+json": {
       "model_id": "0ff73d74d912463c990c8cdce3544dcf",
       "version_major": 2,
       "version_minor": 0
      },
      "text/plain": [
       "  0%|          | 0/100 [00:00<?, ?it/s]"
      ]
     },
     "metadata": {},
     "output_type": "display_data"
    },
    {
     "name": "stdout",
     "output_type": "stream",
     "text": [
      ">>> mes=2022_01, updaed_prior=[2268.5933464   612.58331321 2411.9674393 ],  qs=['1.5699999999999998%', '1.87%', '2.07%'] <<<\n",
      "lula= [0.41560188 0.42851379 0.44196369]\n",
      "nulo= [0.1071957  0.11566913 0.12441157]\n",
      "demais= [0.44263618 0.45568258 0.46872898]\n"
     ]
    }
   ],
   "source": [
    "flat_prior = prior = np.array([420.0, 130.0, 450.0])\n",
    "\n",
    "df_by_mes = df.groupby(\"mes\").sum().reset_index()\n",
    "for obj in df_by_mes.itertuples():\n",
    "    observed = np.array([obj.LULA, obj.NULO, obj.OUTROS])\n",
    "    print(f\">>> observed = {observed}\")\n",
    "    model = build_model(prior, observed)\n",
    "    trace, ppc = sampling(model)\n",
    "    posterior = ppc['current']\n",
    "    # print(f\">>> posterior.shape={posterior.shape}\")\n",
    "    prior = dirichlet.mle(posterior/posterior.sum(axis=1).reshape(-1, 1))\n",
    "    # print('dirichlet.mle(posterior/posterior.sum(axis=1).reshape(-1, 1))=,', prior)\n",
    "    qs = calc_prob_lula_win(model, trace, 100, ppc=ppc)\n",
    "    print(f\">>> mes={obj.mes}, updaed_prior={prior},  qs={[str(q)+'%' for q in qs]} <<<\")\n",
    "    # print(f\">>> data_pesquisa={obj.data_pesquisa}, updaed_prior={prior},  qs={qs}% <<<\");\n",
    "    post_prob = posterior/posterior.sum(axis=1).reshape(-1, 1)\n",
    "    print(f\"lula=\", np.quantile(post_prob[:, 0], q=HDI))\n",
    "    print(f\"nulo=\", np.quantile(post_prob[:, 1], q=HDI))\n",
    "    print(f\"demais=\", np.quantile(post_prob[:, 2], q=HDI))\n",
    "\n"
   ]
  },
  {
   "cell_type": "code",
   "execution_count": 27,
   "metadata": {},
   "outputs": [
    {
     "data": {
      "text/html": [
       "<div>\n",
       "<style scoped>\n",
       "    .dataframe tbody tr th:only-of-type {\n",
       "        vertical-align: middle;\n",
       "    }\n",
       "\n",
       "    .dataframe tbody tr th {\n",
       "        vertical-align: top;\n",
       "    }\n",
       "\n",
       "    .dataframe thead th {\n",
       "        text-align: right;\n",
       "    }\n",
       "</style>\n",
       "<table border=\"1\" class=\"dataframe\">\n",
       "  <thead>\n",
       "    <tr style=\"text-align: right;\">\n",
       "      <th></th>\n",
       "      <th>mean</th>\n",
       "      <th>sd</th>\n",
       "      <th>hdi_3%</th>\n",
       "      <th>hdi_97%</th>\n",
       "      <th>mcse_mean</th>\n",
       "      <th>mcse_sd</th>\n",
       "      <th>ess_bulk</th>\n",
       "      <th>ess_tail</th>\n",
       "      <th>r_hat</th>\n",
       "    </tr>\n",
       "  </thead>\n",
       "  <tbody>\n",
       "    <tr>\n",
       "      <th>prior[0]</th>\n",
       "      <td>0.429</td>\n",
       "      <td>0.004</td>\n",
       "      <td>0.422</td>\n",
       "      <td>0.436</td>\n",
       "      <td>0.0</td>\n",
       "      <td>0.0</td>\n",
       "      <td>1664.0</td>\n",
       "      <td>2434.0</td>\n",
       "      <td>1.0</td>\n",
       "    </tr>\n",
       "    <tr>\n",
       "      <th>prior[1]</th>\n",
       "      <td>0.116</td>\n",
       "      <td>0.002</td>\n",
       "      <td>0.111</td>\n",
       "      <td>0.120</td>\n",
       "      <td>0.0</td>\n",
       "      <td>0.0</td>\n",
       "      <td>1319.0</td>\n",
       "      <td>1645.0</td>\n",
       "      <td>1.0</td>\n",
       "    </tr>\n",
       "    <tr>\n",
       "      <th>prior[2]</th>\n",
       "      <td>0.456</td>\n",
       "      <td>0.004</td>\n",
       "      <td>0.448</td>\n",
       "      <td>0.462</td>\n",
       "      <td>0.0</td>\n",
       "      <td>0.0</td>\n",
       "      <td>2840.0</td>\n",
       "      <td>2847.0</td>\n",
       "      <td>1.0</td>\n",
       "    </tr>\n",
       "  </tbody>\n",
       "</table>\n",
       "</div>"
      ],
      "text/plain": [
       "           mean     sd  hdi_3%  hdi_97%  mcse_mean  mcse_sd  ess_bulk  \\\n",
       "prior[0]  0.429  0.004   0.422    0.436        0.0      0.0    1664.0   \n",
       "prior[1]  0.116  0.002   0.111    0.120        0.0      0.0    1319.0   \n",
       "prior[2]  0.456  0.004   0.448    0.462        0.0      0.0    2840.0   \n",
       "\n",
       "          ess_tail  r_hat  \n",
       "prior[0]    2434.0    1.0  \n",
       "prior[1]    1645.0    1.0  \n",
       "prior[2]    2847.0    1.0  "
      ]
     },
     "execution_count": 27,
     "metadata": {},
     "output_type": "execute_result"
    }
   ],
   "source": [
    "az.summary(trace)"
   ]
  },
  {
   "cell_type": "code",
   "execution_count": 28,
   "metadata": {},
   "outputs": [
    {
     "data": {
      "image/png": "[encoded data removed]",
      "text/plain": [
       "<Figure size 1490.4x331.2 with 3 Axes>"
      ]
     },
     "metadata": {
      "needs_background": "light"
     },
     "output_type": "display_data"
    }
   ],
   "source": [
    "lula = ppc['current'][:,0] / ppc['current'].sum(axis=1) * 100.00\n",
    "nulo = ppc['current'][:,1] / ppc['current'].sum(axis=1) * 100.00\n",
    "demais = ppc['current'][:,2] / ppc['current'].sum(axis=1) * 100.00\n",
    "az.plot_posterior({'Lula': lula, 'Demais': demais, 'Nulo/Branco':nulo});"
   ]
  },
  {
   "cell_type": "code",
   "execution_count": 29,
   "metadata": {},
   "outputs": [
    {
     "data": {
      "image/png": "[encoded data removed]",
      "text/plain": [
       "<Figure size 1000x500 with 1 Axes>"
      ]
     },
     "metadata": {
      "needs_background": "light"
     },
     "output_type": "display_data"
    }
   ],
   "source": [
    "fig, ax = plt.subplots(figsize=(10, 5), dpi=100)\n",
    "# ax.set_xlim(40, 50)\n",
    "post_pred = pd.DataFrame({'Lula': lula, 'Nulo': nulo, 'Demais': demais})\n",
    "sns.kdeplot(data=post_pred, ax=ax, palette=['red','yellow','black'], linewidth=2.5, gridsize=500);"
   ]
  },
  {
   "cell_type": "code",
   "execution_count": 30,
   "metadata": {},
   "outputs": [
    {
     "data": {
      "text/plain": [
       "0.015"
      ]
     },
     "execution_count": 30,
     "metadata": {},
     "output_type": "execute_result"
    }
   ],
   "source": [
    "(post_pred.Lula > post_pred.Demais).mean()"
   ]
  },
  {
   "cell_type": "markdown",
   "metadata": {},
   "source": [
    "## DEZEMBRO"
   ]
  },
  {
   "cell_type": "code",
   "execution_count": 31,
   "metadata": {},
   "outputs": [],
   "source": [
    "# NOVEMBER\n",
    "prior = pd.array([6049, 1508, 7382]).astype(\"float32\")\n",
    "# DECEMBER\n",
    "observed = pd.array([7376, 1953, 7578])\n",
    "                    \n",
    "with pm.Model() as dirichlet_model:\n",
    "        \n",
    "    beta = pm.Beta(\"beta\", alpha=4, beta=1)\n",
    "    \n",
    "    november_prior = pm.Dirichlet(\n",
    "        \"november_prior\",\n",
    "        # Lula, BrancosNulosNaoSabem, Demais candidatos\n",
    "        a=prior * beta,\n",
    "    )\n",
    "    \n",
    "    december_like = pm.Multinomial(\n",
    "        \"december_like\", n=observed.sum(), p=november_prior, observed=observed,\n",
    "    )\n",
    "    "
   ]
  },
  {
   "cell_type": "code",
   "execution_count": 32,
   "metadata": {},
   "outputs": [
    {
     "name": "stderr",
     "output_type": "stream",
     "text": [
      "Auto-assigning NUTS sampler...\n",
      "Initializing NUTS using jitter+adapt_diag...\n",
      "Multiprocess sampling (2 chains in 2 jobs)\n",
      "NUTS: [november_prior, beta]\n",
      "Sampling 2 chains for 1_000 tune and 5_000 draw iterations (2_000 + 10_000 draws total) took 8 seconds.\n"
     ]
    },
    {
     "data": {
      "text/html": [
       "\n",
       "    <div>\n",
       "        <style>\n",
       "            /* Turns off some styling */\n",
       "            progress {\n",
       "                /* gets rid of default border in Firefox and Opera. */\n",
       "                border: none;\n",
       "                /* Needs to be in here for Safari polyfill so background images work as expected. */\n",
       "                background-size: auto;\n",
       "            }\n",
       "            .progress-bar-interrupted, .progress-bar-interrupted::-webkit-progress-bar {\n",
       "                background: #F44336;\n",
       "            }\n",
       "        </style>\n",
       "      <progress value='10000' class='' max='10000' style='width:300px; height:20px; vertical-align: middle;'></progress>\n",
       "      100.00% [10000/10000 00:06<00:00]\n",
       "    </div>\n",
       "    "
      ],
      "text/plain": [
       "<IPython.core.display.HTML object>"
      ]
     },
     "metadata": {},
     "output_type": "display_data"
    },
    {
     "data": {
      "image/png": "[encoded data removed]",
      "text/plain": [
       "<Figure size 864x288 with 4 Axes>"
      ]
     },
     "metadata": {
      "needs_background": "light"
     },
     "output_type": "display_data"
    }
   ],
   "source": [
    "with dirichlet_model:\n",
    "   dirichlet_trace = pm.sample(5000, chains=2, return_inferencedata=False, cores=2, progressbar=False) # 20K samples\n",
    "   ppc = pm.sample_posterior_predictive(\n",
    "        dirichlet_trace, random_seed=1777,\n",
    "   )\n",
    "   az.plot_trace(dirichlet_trace)"
   ]
  },
  {
   "cell_type": "code",
   "execution_count": 33,
   "metadata": {},
   "outputs": [
    {
     "name": "stderr",
     "output_type": "stream",
     "text": [
      "Got error No model on context stack. trying to find log_likelihood in translation.\n",
      "/mnt/home/regis/anaconda3/envs/kaggle_env/lib/python3.9/site-packages/arviz/data/io_pymc3_3x.py:98: FutureWarning: Using `from_pymc3` without the model will be deprecated in a future release. Not using the model will return less accurate and less useful results. Make sure you use the model argument or call from_pymc3 within a model context.\n",
      "  warnings.warn(\n"
     ]
    },
    {
     "data": {
      "text/html": [
       "<div>\n",
       "<style scoped>\n",
       "    .dataframe tbody tr th:only-of-type {\n",
       "        vertical-align: middle;\n",
       "    }\n",
       "\n",
       "    .dataframe tbody tr th {\n",
       "        vertical-align: top;\n",
       "    }\n",
       "\n",
       "    .dataframe thead th {\n",
       "        text-align: right;\n",
       "    }\n",
       "</style>\n",
       "<table border=\"1\" class=\"dataframe\">\n",
       "  <thead>\n",
       "    <tr style=\"text-align: right;\">\n",
       "      <th></th>\n",
       "      <th>mean</th>\n",
       "      <th>sd</th>\n",
       "      <th>hdi_3%</th>\n",
       "      <th>hdi_97%</th>\n",
       "      <th>mcse_mean</th>\n",
       "      <th>mcse_sd</th>\n",
       "      <th>ess_bulk</th>\n",
       "      <th>ess_tail</th>\n",
       "      <th>r_hat</th>\n",
       "    </tr>\n",
       "  </thead>\n",
       "  <tbody>\n",
       "    <tr>\n",
       "      <th>beta</th>\n",
       "      <td>0.091</td>\n",
       "      <td>0.045</td>\n",
       "      <td>0.018</td>\n",
       "      <td>0.174</td>\n",
       "      <td>0.001</td>\n",
       "      <td>0.0</td>\n",
       "      <td>6405.0</td>\n",
       "      <td>5935.0</td>\n",
       "      <td>1.0</td>\n",
       "    </tr>\n",
       "    <tr>\n",
       "      <th>november_prior[0]</th>\n",
       "      <td>0.434</td>\n",
       "      <td>0.004</td>\n",
       "      <td>0.427</td>\n",
       "      <td>0.441</td>\n",
       "      <td>0.000</td>\n",
       "      <td>0.0</td>\n",
       "      <td>6678.0</td>\n",
       "      <td>7442.0</td>\n",
       "      <td>1.0</td>\n",
       "    </tr>\n",
       "    <tr>\n",
       "      <th>november_prior[1]</th>\n",
       "      <td>0.115</td>\n",
       "      <td>0.002</td>\n",
       "      <td>0.110</td>\n",
       "      <td>0.119</td>\n",
       "      <td>0.000</td>\n",
       "      <td>0.0</td>\n",
       "      <td>4539.0</td>\n",
       "      <td>5682.0</td>\n",
       "      <td>1.0</td>\n",
       "    </tr>\n",
       "    <tr>\n",
       "      <th>november_prior[2]</th>\n",
       "      <td>0.452</td>\n",
       "      <td>0.004</td>\n",
       "      <td>0.444</td>\n",
       "      <td>0.459</td>\n",
       "      <td>0.000</td>\n",
       "      <td>0.0</td>\n",
       "      <td>9239.0</td>\n",
       "      <td>8085.0</td>\n",
       "      <td>1.0</td>\n",
       "    </tr>\n",
       "  </tbody>\n",
       "</table>\n",
       "</div>"
      ],
      "text/plain": [
       "                    mean     sd  hdi_3%  hdi_97%  mcse_mean  mcse_sd  \\\n",
       "beta               0.091  0.045   0.018    0.174      0.001      0.0   \n",
       "november_prior[0]  0.434  0.004   0.427    0.441      0.000      0.0   \n",
       "november_prior[1]  0.115  0.002   0.110    0.119      0.000      0.0   \n",
       "november_prior[2]  0.452  0.004   0.444    0.459      0.000      0.0   \n",
       "\n",
       "                   ess_bulk  ess_tail  r_hat  \n",
       "beta                 6405.0    5935.0    1.0  \n",
       "november_prior[0]    6678.0    7442.0    1.0  \n",
       "november_prior[1]    4539.0    5682.0    1.0  \n",
       "november_prior[2]    9239.0    8085.0    1.0  "
      ]
     },
     "execution_count": 33,
     "metadata": {},
     "output_type": "execute_result"
    }
   ],
   "source": [
    "az.summary(dirichlet_trace)"
   ]
  },
  {
   "cell_type": "code",
   "execution_count": 34,
   "metadata": {},
   "outputs": [
    {
     "name": "stdout",
     "output_type": "stream",
     "text": [
      "{'december_like': array([[7476., 1993., 7438.],\n",
      "       [7323., 1937., 7647.],\n",
      "       [7343., 1848., 7716.],\n",
      "       ...,\n",
      "       [7377., 1976., 7554.],\n",
      "       [7214., 1970., 7723.],\n",
      "       [7430., 2124., 7353.]])}\n"
     ]
    },
    {
     "data": {
      "text/plain": [
       "array([7337.0841, 1936.9147, 7633.0012])"
      ]
     },
     "execution_count": 34,
     "metadata": {},
     "output_type": "execute_result"
    }
   ],
   "source": [
    "print(ppc)\n",
    "ppc['december_like'].mean(axis=0)"
   ]
  },
  {
   "cell_type": "code",
   "execution_count": 35,
   "metadata": {},
   "outputs": [
    {
     "data": {
      "text/plain": [
       "((10000,), (10000,))"
      ]
     },
     "execution_count": 35,
     "metadata": {},
     "output_type": "execute_result"
    }
   ],
   "source": [
    "lula = ppc['december_like'][:, 0]\n",
    "demais = ppc['december_like'][:, 2]\n",
    "lula.shape,demais.shape"
   ]
  },
  {
   "cell_type": "code",
   "execution_count": 36,
   "metadata": {},
   "outputs": [
    {
     "data": {
      "text/plain": [
       "0.0454"
      ]
     },
     "execution_count": 36,
     "metadata": {},
     "output_type": "execute_result"
    }
   ],
   "source": [
    "(lula > demais).mean()"
   ]
  },
  {
   "cell_type": "markdown",
   "metadata": {},
   "source": [
    "# Verifica conjugado"
   ]
  },
  {
   "cell_type": "code",
   "execution_count": 37,
   "metadata": {},
   "outputs": [
    {
     "name": "stderr",
     "output_type": "stream",
     "text": [
      "Auto-assigning NUTS sampler...\n",
      "Initializing NUTS using jitter+adapt_diag...\n",
      "Multiprocess sampling (2 chains in 2 jobs)\n",
      "NUTS: [prior]\n",
      "Sampling 2 chains for 1_000 tune and 5_000 draw iterations (2_000 + 10_000 draws total) took 6 seconds.\n"
     ]
    }
   ],
   "source": [
    "# NOVEMBER\n",
    "prior_data = pd.array([43, 11, 45]).astype(\"float32\")\n",
    "# DECEMBER\n",
    "observed = pd.array([46, 12, 41])\n",
    "                    \n",
    "with pm.Model() as m:\n",
    "        \n",
    "    prior = pm.Dirichlet(\"prior\", a=prior_data)\n",
    "    \n",
    "    pm.Multinomial(\"like\", n=observed.sum(), p=prior, observed=observed)\n",
    "    trace = pm.sample(5000, chains=2, return_inferencedata=True, cores=2, progressbar=False) # 20K samples"
   ]
  },
  {
   "cell_type": "code",
   "execution_count": 38,
   "metadata": {},
   "outputs": [
    {
     "data": {
      "text/html": [
       "<div>\n",
       "<style scoped>\n",
       "    .dataframe tbody tr th:only-of-type {\n",
       "        vertical-align: middle;\n",
       "    }\n",
       "\n",
       "    .dataframe tbody tr th {\n",
       "        vertical-align: top;\n",
       "    }\n",
       "\n",
       "    .dataframe thead th {\n",
       "        text-align: right;\n",
       "    }\n",
       "</style>\n",
       "<table border=\"1\" class=\"dataframe\">\n",
       "  <thead>\n",
       "    <tr style=\"text-align: right;\">\n",
       "      <th></th>\n",
       "      <th>mean</th>\n",
       "      <th>sd</th>\n",
       "      <th>hdi_3%</th>\n",
       "      <th>hdi_97%</th>\n",
       "      <th>mcse_mean</th>\n",
       "      <th>mcse_sd</th>\n",
       "      <th>ess_bulk</th>\n",
       "      <th>ess_tail</th>\n",
       "      <th>r_hat</th>\n",
       "    </tr>\n",
       "  </thead>\n",
       "  <tbody>\n",
       "    <tr>\n",
       "      <th>prior[0]</th>\n",
       "      <td>0.449</td>\n",
       "      <td>0.036</td>\n",
       "      <td>0.383</td>\n",
       "      <td>0.517</td>\n",
       "      <td>0.001</td>\n",
       "      <td>0.0</td>\n",
       "      <td>4759.0</td>\n",
       "      <td>5959.0</td>\n",
       "      <td>1.0</td>\n",
       "    </tr>\n",
       "    <tr>\n",
       "      <th>prior[1]</th>\n",
       "      <td>0.116</td>\n",
       "      <td>0.024</td>\n",
       "      <td>0.075</td>\n",
       "      <td>0.162</td>\n",
       "      <td>0.000</td>\n",
       "      <td>0.0</td>\n",
       "      <td>3685.0</td>\n",
       "      <td>4786.0</td>\n",
       "      <td>1.0</td>\n",
       "    </tr>\n",
       "    <tr>\n",
       "      <th>prior[2]</th>\n",
       "      <td>0.435</td>\n",
       "      <td>0.036</td>\n",
       "      <td>0.371</td>\n",
       "      <td>0.503</td>\n",
       "      <td>0.000</td>\n",
       "      <td>0.0</td>\n",
       "      <td>7832.0</td>\n",
       "      <td>6953.0</td>\n",
       "      <td>1.0</td>\n",
       "    </tr>\n",
       "  </tbody>\n",
       "</table>\n",
       "</div>"
      ],
      "text/plain": [
       "           mean     sd  hdi_3%  hdi_97%  mcse_mean  mcse_sd  ess_bulk  \\\n",
       "prior[0]  0.449  0.036   0.383    0.517      0.001      0.0    4759.0   \n",
       "prior[1]  0.116  0.024   0.075    0.162      0.000      0.0    3685.0   \n",
       "prior[2]  0.435  0.036   0.371    0.503      0.000      0.0    7832.0   \n",
       "\n",
       "          ess_tail  r_hat  \n",
       "prior[0]    5959.0    1.0  \n",
       "prior[1]    4786.0    1.0  \n",
       "prior[2]    6953.0    1.0  "
      ]
     },
     "execution_count": 38,
     "metadata": {},
     "output_type": "execute_result"
    }
   ],
   "source": [
    "az.summary(trace)"
   ]
  },
  {
   "cell_type": "code",
   "execution_count": 39,
   "metadata": {},
   "outputs": [
    {
     "name": "stderr",
     "output_type": "stream",
     "text": [
      "Auto-assigning NUTS sampler...\n",
      "Initializing NUTS using jitter+adapt_diag...\n",
      "Multiprocess sampling (2 chains in 2 jobs)\n",
      "NUTS: [prior]\n",
      "Sampling 2 chains for 2_000 tune and 5_000 draw iterations (4_000 + 10_000 draws total) took 7 seconds.\n"
     ]
    }
   ],
   "source": [
    "obs2 = prior_data + observed\n",
    "with pm.Model() as m2:\n",
    "        \n",
    "    prior = pm.Dirichlet(\"prior\", a=np.array([1.0, 1.0, 1.0]))\n",
    "    \n",
    "    pm.Multinomial(\"like\", n=obs2.sum(), p=prior, observed=obs2)\n",
    "    trace2 = pm.sample(5000, tune=2000, chains=2, return_inferencedata=True, cores=2, progressbar=False) # 20K samples"
   ]
  },
  {
   "cell_type": "code",
   "execution_count": 40,
   "metadata": {},
   "outputs": [
    {
     "data": {
      "text/html": [
       "<div>\n",
       "<style scoped>\n",
       "    .dataframe tbody tr th:only-of-type {\n",
       "        vertical-align: middle;\n",
       "    }\n",
       "\n",
       "    .dataframe tbody tr th {\n",
       "        vertical-align: top;\n",
       "    }\n",
       "\n",
       "    .dataframe thead th {\n",
       "        text-align: right;\n",
       "    }\n",
       "</style>\n",
       "<table border=\"1\" class=\"dataframe\">\n",
       "  <thead>\n",
       "    <tr style=\"text-align: right;\">\n",
       "      <th></th>\n",
       "      <th>mean</th>\n",
       "      <th>sd</th>\n",
       "      <th>hdi_3%</th>\n",
       "      <th>hdi_97%</th>\n",
       "      <th>mcse_mean</th>\n",
       "      <th>mcse_sd</th>\n",
       "      <th>ess_bulk</th>\n",
       "      <th>ess_tail</th>\n",
       "      <th>r_hat</th>\n",
       "    </tr>\n",
       "  </thead>\n",
       "  <tbody>\n",
       "    <tr>\n",
       "      <th>prior[0]</th>\n",
       "      <td>0.448</td>\n",
       "      <td>0.036</td>\n",
       "      <td>0.383</td>\n",
       "      <td>0.515</td>\n",
       "      <td>0.001</td>\n",
       "      <td>0.0</td>\n",
       "      <td>4534.0</td>\n",
       "      <td>5640.0</td>\n",
       "      <td>1.0</td>\n",
       "    </tr>\n",
       "    <tr>\n",
       "      <th>prior[1]</th>\n",
       "      <td>0.120</td>\n",
       "      <td>0.024</td>\n",
       "      <td>0.078</td>\n",
       "      <td>0.164</td>\n",
       "      <td>0.000</td>\n",
       "      <td>0.0</td>\n",
       "      <td>3371.0</td>\n",
       "      <td>4330.0</td>\n",
       "      <td>1.0</td>\n",
       "    </tr>\n",
       "    <tr>\n",
       "      <th>prior[2]</th>\n",
       "      <td>0.433</td>\n",
       "      <td>0.035</td>\n",
       "      <td>0.369</td>\n",
       "      <td>0.499</td>\n",
       "      <td>0.000</td>\n",
       "      <td>0.0</td>\n",
       "      <td>7513.0</td>\n",
       "      <td>7541.0</td>\n",
       "      <td>1.0</td>\n",
       "    </tr>\n",
       "  </tbody>\n",
       "</table>\n",
       "</div>"
      ],
      "text/plain": [
       "           mean     sd  hdi_3%  hdi_97%  mcse_mean  mcse_sd  ess_bulk  \\\n",
       "prior[0]  0.448  0.036   0.383    0.515      0.001      0.0    4534.0   \n",
       "prior[1]  0.120  0.024   0.078    0.164      0.000      0.0    3371.0   \n",
       "prior[2]  0.433  0.035   0.369    0.499      0.000      0.0    7513.0   \n",
       "\n",
       "          ess_tail  r_hat  \n",
       "prior[0]    5640.0    1.0  \n",
       "prior[1]    4330.0    1.0  \n",
       "prior[2]    7541.0    1.0  "
      ]
     },
     "execution_count": 40,
     "metadata": {},
     "output_type": "execute_result"
    }
   ],
   "source": [
    "az.summary(trace2)"
   ]
  },
  {
   "cell_type": "markdown",
   "metadata": {},
   "source": [
    "# Janeiro/Dezembro"
   ]
  },
  {
   "cell_type": "code",
   "execution_count": 41,
   "metadata": {},
   "outputs": [
    {
     "name": "stdout",
     "output_type": "stream",
     "text": [
      "4500\n"
     ]
    },
    {
     "data": {
      "image/svg+xml": "<?xml version=\"1.0\" encoding=\"UTF-8\" standalone=\"no\"?>\n<!DOCTYPE svg PUBLIC \"-//W3C//DTD SVG 1.1//EN\"\n \"http://www.w3.org/Graphics/SVG/1.1/DTD/svg11.dtd\">\n<!-- Generated by graphviz version 2.49.0 (20210829.0051)\n -->\n<!-- Pages: 1 -->\n<svg width=\"162pt\" height=\"344pt\"\n viewBox=\"0.00 0.00 162.00 343.86\" xmlns=\"http://www.w3.org/2000/svg\" xmlns:xlink=\"http://www.w3.org/1999/xlink\">\n<g id=\"graph0\" class=\"graph\" transform=\"scale(1 1) rotate(0) translate(4 339.86)\">\n<polygon fill=\"white\" stroke=\"transparent\" points=\"-4,4 -4,-339.86 158,-339.86 158,4 -4,4\"/>\n<g id=\"clust1\" class=\"cluster\">\n<title>cluster3</title>\n<path fill=\"none\" stroke=\"black\" d=\"M20,-8C20,-8 134,-8 134,-8 140,-8 146,-14 146,-20 146,-20 146,-220.91 146,-220.91 146,-226.91 140,-232.91 134,-232.91 134,-232.91 20,-232.91 20,-232.91 14,-232.91 8,-226.91 8,-220.91 8,-220.91 8,-20 8,-20 8,-14 14,-8 20,-8\"/>\n<text text-anchor=\"middle\" x=\"134.5\" y=\"-15.8\" font-family=\"Times,serif\" font-size=\"14.00\">3</text>\n</g>\n<!-- beta -->\n<g id=\"node1\" class=\"node\">\n<title>beta</title>\n<ellipse fill=\"none\" stroke=\"black\" cx=\"77\" cy=\"-298.38\" rx=\"28.98\" ry=\"37.45\"/>\n<text text-anchor=\"middle\" x=\"77\" y=\"-309.68\" font-family=\"Times,serif\" font-size=\"14.00\">beta</text>\n<text text-anchor=\"middle\" x=\"77\" y=\"-294.68\" font-family=\"Times,serif\" font-size=\"14.00\">~</text>\n<text text-anchor=\"middle\" x=\"77\" y=\"-279.68\" font-family=\"Times,serif\" font-size=\"14.00\">Beta</text>\n</g>\n<!-- prior -->\n<g id=\"node3\" class=\"node\">\n<title>prior</title>\n<ellipse fill=\"none\" stroke=\"black\" cx=\"77\" cy=\"-187.43\" rx=\"45.92\" ry=\"37.45\"/>\n<text text-anchor=\"middle\" x=\"77\" y=\"-198.73\" font-family=\"Times,serif\" font-size=\"14.00\">prior</text>\n<text text-anchor=\"middle\" x=\"77\" y=\"-183.73\" font-family=\"Times,serif\" font-size=\"14.00\">~</text>\n<text text-anchor=\"middle\" x=\"77\" y=\"-168.73\" font-family=\"Times,serif\" font-size=\"14.00\">Dirichlet</text>\n</g>\n<!-- beta&#45;&gt;prior -->\n<g id=\"edge1\" class=\"edge\">\n<title>beta&#45;&gt;prior</title>\n<path fill=\"none\" stroke=\"black\" d=\"M77,-260.8C77,-252.63 77,-243.85 77,-235.32\"/>\n<polygon fill=\"black\" stroke=\"black\" points=\"80.5,-235.1 77,-225.1 73.5,-235.1 80.5,-235.1\"/>\n</g>\n<!-- like -->\n<g id=\"node2\" class=\"node\">\n<title>like</title>\n<ellipse fill=\"lightgrey\" stroke=\"black\" cx=\"77\" cy=\"-76.48\" rx=\"60.62\" ry=\"37.45\"/>\n<text text-anchor=\"middle\" x=\"77\" y=\"-87.78\" font-family=\"Times,serif\" font-size=\"14.00\">like</text>\n<text text-anchor=\"middle\" x=\"77\" y=\"-72.78\" font-family=\"Times,serif\" font-size=\"14.00\">~</text>\n<text text-anchor=\"middle\" x=\"77\" y=\"-57.78\" font-family=\"Times,serif\" font-size=\"14.00\">Multinomial</text>\n</g>\n<!-- prior&#45;&gt;like -->\n<g id=\"edge2\" class=\"edge\">\n<title>prior&#45;&gt;like</title>\n<path fill=\"none\" stroke=\"black\" d=\"M77,-149.85C77,-141.67 77,-132.89 77,-124.37\"/>\n<polygon fill=\"black\" stroke=\"black\" points=\"80.5,-124.15 77,-114.15 73.5,-124.15 80.5,-124.15\"/>\n</g>\n</g>\n</svg>\n",
      "text/plain": [
       "<graphviz.dot.Digraph at 0x7f1fdf98b4c0>"
      ]
     },
     "execution_count": 41,
     "metadata": {},
     "output_type": "execute_result"
    }
   ],
   "source": [
    "import numpy as np\n",
    "\n",
    "T1 = 2_000 # \n",
    "T2 = 1_500 # EXAME/IDEIA\n",
    "T3 = 1_000 # XP/IPESPE\n",
    "# Mês atual: Lula, BrancosNulosNaoSabem, Demais candidatos\n",
    "current_observed = np.array([1955, 535, 2010])\n",
    "\n",
    "print(current_observed.sum())\n",
    "\n",
    "december_data = np.array([7356, 1973, 7578]).astype(\"float32\")\n",
    "\n",
    "with pm.Model() as dirichlet_model:\n",
    "    \n",
    "    beta = pm.Beta(\"beta\", alpha=6, beta=1)\n",
    "    \n",
    "    december_prior = pm.Dirichlet(\n",
    "        \"prior\",\n",
    "        # Mes anterior: Lula, BrancosNulosNaoSabem, Demais candidatos\n",
    "        a = december_data * beta,\n",
    "        # a = [1.0,1.0,1.0],\n",
    "        shape=(3,),\n",
    "    )\n",
    "    \n",
    "    january_like = pm.Multinomial(\n",
    "        \"like\", n=current_observed.sum(), p=december_prior, observed=current_observed, shape=(3,)\n",
    "    )\n",
    "pm.model_to_graphviz(dirichlet_model)    "
   ]
  },
  {
   "cell_type": "code",
   "execution_count": 42,
   "metadata": {},
   "outputs": [
    {
     "name": "stderr",
     "output_type": "stream",
     "text": [
      "Auto-assigning NUTS sampler...\n",
      "Initializing NUTS using jitter+adapt_diag...\n",
      "Multiprocess sampling (4 chains in 4 jobs)\n",
      "NUTS: [prior, beta]\n",
      "Sampling 4 chains for 1_000 tune and 5_000 draw iterations (4_000 + 20_000 draws total) took 16 seconds.\n"
     ]
    },
    {
     "data": {
      "text/html": [
       "\n",
       "    <div>\n",
       "        <style>\n",
       "            /* Turns off some styling */\n",
       "            progress {\n",
       "                /* gets rid of default border in Firefox and Opera. */\n",
       "                border: none;\n",
       "                /* Needs to be in here for Safari polyfill so background images work as expected. */\n",
       "                background-size: auto;\n",
       "            }\n",
       "            .progress-bar-interrupted, .progress-bar-interrupted::-webkit-progress-bar {\n",
       "                background: #F44336;\n",
       "            }\n",
       "        </style>\n",
       "      <progress value='20000' class='' max='20000' style='width:300px; height:20px; vertical-align: middle;'></progress>\n",
       "      100.00% [20000/20000 00:39<00:00]\n",
       "    </div>\n",
       "    "
      ],
      "text/plain": [
       "<IPython.core.display.HTML object>"
      ]
     },
     "metadata": {},
     "output_type": "display_data"
    },
    {
     "name": "stderr",
     "output_type": "stream",
     "text": [
      "/mnt/home/regis/anaconda3/envs/kaggle_env/lib/python3.9/site-packages/arviz/data/base.py:216: UserWarning: More chains (20000) than draws (3). Passed array should have shape (chains, draws, *shape)\n",
      "  warnings.warn(\n"
     ]
    },
    {
     "data": {
      "image/png": "[encoded data removed]",
      "text/plain": [
       "<Figure size 1584x576 with 4 Axes>"
      ]
     },
     "metadata": {
      "needs_background": "light"
     },
     "output_type": "display_data"
    }
   ],
   "source": [
    "with dirichlet_model:\n",
    "   dirichlet_trace = pm.sample(5000, chains=4, return_inferencedata=True, cores=4, progressbar=False) # 20K samples\n",
    "   ppc = pm.sample_posterior_predictive(\n",
    "        dirichlet_trace, random_seed=1777\n",
    "   )\n",
    "   az.plot_trace(dirichlet_trace, figsize=(22,8))\n",
    "   dirichlet_trace.extend(az.from_dict(posterior_predictive=ppc))"
   ]
  },
  {
   "cell_type": "code",
   "execution_count": 43,
   "metadata": {},
   "outputs": [
    {
     "data": {
      "text/html": [
       "<div>\n",
       "<style scoped>\n",
       "    .dataframe tbody tr th:only-of-type {\n",
       "        vertical-align: middle;\n",
       "    }\n",
       "\n",
       "    .dataframe tbody tr th {\n",
       "        vertical-align: top;\n",
       "    }\n",
       "\n",
       "    .dataframe thead th {\n",
       "        text-align: right;\n",
       "    }\n",
       "</style>\n",
       "<table border=\"1\" class=\"dataframe\">\n",
       "  <thead>\n",
       "    <tr style=\"text-align: right;\">\n",
       "      <th></th>\n",
       "      <th>mean</th>\n",
       "      <th>sd</th>\n",
       "      <th>hdi_3%</th>\n",
       "      <th>hdi_97%</th>\n",
       "      <th>mcse_mean</th>\n",
       "      <th>mcse_sd</th>\n",
       "      <th>ess_bulk</th>\n",
       "      <th>ess_tail</th>\n",
       "      <th>r_hat</th>\n",
       "    </tr>\n",
       "  </thead>\n",
       "  <tbody>\n",
       "    <tr>\n",
       "      <th>beta</th>\n",
       "      <td>0.862</td>\n",
       "      <td>0.121</td>\n",
       "      <td>0.637</td>\n",
       "      <td>1.000</td>\n",
       "      <td>0.001</td>\n",
       "      <td>0.001</td>\n",
       "      <td>11853.0</td>\n",
       "      <td>7906.0</td>\n",
       "      <td>1.0</td>\n",
       "    </tr>\n",
       "    <tr>\n",
       "      <th>prior[0]</th>\n",
       "      <td>0.435</td>\n",
       "      <td>0.004</td>\n",
       "      <td>0.428</td>\n",
       "      <td>0.442</td>\n",
       "      <td>0.000</td>\n",
       "      <td>0.000</td>\n",
       "      <td>11578.0</td>\n",
       "      <td>12902.0</td>\n",
       "      <td>1.0</td>\n",
       "    </tr>\n",
       "    <tr>\n",
       "      <th>prior[1]</th>\n",
       "      <td>0.117</td>\n",
       "      <td>0.002</td>\n",
       "      <td>0.113</td>\n",
       "      <td>0.122</td>\n",
       "      <td>0.000</td>\n",
       "      <td>0.000</td>\n",
       "      <td>8673.0</td>\n",
       "      <td>10996.0</td>\n",
       "      <td>1.0</td>\n",
       "    </tr>\n",
       "    <tr>\n",
       "      <th>prior[2]</th>\n",
       "      <td>0.448</td>\n",
       "      <td>0.004</td>\n",
       "      <td>0.441</td>\n",
       "      <td>0.455</td>\n",
       "      <td>0.000</td>\n",
       "      <td>0.000</td>\n",
       "      <td>22567.0</td>\n",
       "      <td>14657.0</td>\n",
       "      <td>1.0</td>\n",
       "    </tr>\n",
       "  </tbody>\n",
       "</table>\n",
       "</div>"
      ],
      "text/plain": [
       "           mean     sd  hdi_3%  hdi_97%  mcse_mean  mcse_sd  ess_bulk  \\\n",
       "beta      0.862  0.121   0.637    1.000      0.001    0.001   11853.0   \n",
       "prior[0]  0.435  0.004   0.428    0.442      0.000    0.000   11578.0   \n",
       "prior[1]  0.117  0.002   0.113    0.122      0.000    0.000    8673.0   \n",
       "prior[2]  0.448  0.004   0.441    0.455      0.000    0.000   22567.0   \n",
       "\n",
       "          ess_tail  r_hat  \n",
       "beta        7906.0    1.0  \n",
       "prior[0]   12902.0    1.0  \n",
       "prior[1]   10996.0    1.0  \n",
       "prior[2]   14657.0    1.0  "
      ]
     },
     "execution_count": 43,
     "metadata": {},
     "output_type": "execute_result"
    }
   ],
   "source": [
    "az.summary(dirichlet_trace)"
   ]
  },
  {
   "cell_type": "code",
   "execution_count": 44,
   "metadata": {},
   "outputs": [
    {
     "data": {
      "image/png": "[encoded data removed]",
      "text/plain": [
       "<Figure size 1987.2x331.2 with 4 Axes>"
      ]
     },
     "metadata": {
      "needs_background": "light"
     },
     "output_type": "display_data"
    }
   ],
   "source": [
    "az.plot_posterior(dirichlet_trace);"
   ]
  },
  {
   "cell_type": "code",
   "execution_count": 45,
   "metadata": {},
   "outputs": [
    {
     "data": {
      "text/plain": [
       "<AxesSubplot:>"
      ]
     },
     "execution_count": 45,
     "metadata": {},
     "output_type": "execute_result"
    },
    {
     "data": {
      "image/png": "[encoded data removed]",
      "text/plain": [
       "<Figure size 432x288 with 1 Axes>"
      ]
     },
     "metadata": {},
     "output_type": "display_data"
    }
   ],
   "source": [
    "az.plot_energy(dirichlet_trace)"
   ]
  },
  {
   "cell_type": "code",
   "execution_count": 46,
   "metadata": {},
   "outputs": [
    {
     "name": "stdout",
     "output_type": "stream",
     "text": [
      "(20000,) (20000,)\n",
      "Probabilidade de Lula vencer no primeiro turno é de: 20.79%\n"
     ]
    }
   ],
   "source": [
    "lula = ppc['like'][:, 0]\n",
    "demais = ppc['like'][:, 2]\n",
    "print(lula.shape,demais.shape)\n",
    "prob_lula = (lula > demais).mean() * 100.0\n",
    "print(f\"Probabilidade de Lula vencer no primeiro turno é de: {prob_lula:.2f}%\", )"
   ]
  },
  {
   "cell_type": "code",
   "execution_count": 47,
   "metadata": {},
   "outputs": [
    {
     "data": {
      "image/png": "[encoded data removed]",
      "text/plain": [
       "<Figure size 1000x500 with 1 Axes>"
      ]
     },
     "metadata": {
      "needs_background": "light"
     },
     "output_type": "display_data"
    }
   ],
   "source": [
    "# create figure and axes\n",
    "fig, ax = plt.subplots(figsize=(10, 5), dpi=100)\n",
    "ax.set_xlim(1800, 2200)\n",
    "sns.kdeplot(data=post_pred, ax=ax, palette=['red','yellow','black'], linewidth=2.5, gridsize=500);"
   ]
  },
  {
   "cell_type": "code",
   "execution_count": null,
   "metadata": {},
   "outputs": [],
   "source": []
  },
  {
   "cell_type": "markdown",
   "metadata": {},
   "source": [
    "## Playground"
   ]
  },
  {
   "cell_type": "code",
   "execution_count": 48,
   "metadata": {},
   "outputs": [
    {
     "data": {
      "text/plain": [
       "0.32736042300928847"
      ]
     },
     "execution_count": 48,
     "metadata": {},
     "output_type": "execute_result"
    }
   ],
   "source": [
    "import math\n",
    "1 - stats.norm.cdf(0, loc=-1, scale=math.sqrt(5))"
   ]
  },
  {
   "cell_type": "code",
   "execution_count": 49,
   "metadata": {},
   "outputs": [],
   "source": [
    "import scipy as sp\n",
    "true_p = sp.stats.dirichlet(6.0 * np.array([0.45, 0.3, 0.15, 0.9, 0.01])).rvs(size=10)\n",
    "observed = np.vstack([sp.stats.multinomial(n=50, p=p_i).rvs() for p_i in true_p])\n",
    "\n"
   ]
  },
  {
   "cell_type": "code",
   "execution_count": 50,
   "metadata": {},
   "outputs": [
    {
     "data": {
      "text/plain": [
       "array([50, 50, 50, 50, 50, 50, 50, 50, 50, 50])"
      ]
     },
     "execution_count": 50,
     "metadata": {},
     "output_type": "execute_result"
    }
   ],
   "source": [
    "observed.sum(axis=1)"
   ]
  },
  {
   "cell_type": "code",
   "execution_count": 51,
   "metadata": {},
   "outputs": [
    {
     "data": {
      "text/plain": [
       "4500"
      ]
     },
     "execution_count": 51,
     "metadata": {},
     "output_type": "execute_result"
    }
   ],
   "source": [
    "current_observed.sum(axis=0)"
   ]
  },
  {
   "cell_type": "code",
   "execution_count": 52,
   "metadata": {},
   "outputs": [
    {
     "ename": "AxisError",
     "evalue": "axis 1 is out of bounds for array of dimension 1",
     "output_type": "error",
     "traceback": [
      "\u001b[0;31m---------------------------------------------------------------------------\u001b[0m",
      "\u001b[0;31mAxisError\u001b[0m                                 Traceback (most recent call last)",
      "\u001b[0;32m/tmp/ipykernel_3297342/3244679980.py\u001b[0m in \u001b[0;36m<module>\u001b[0;34m\u001b[0m\n\u001b[0;32m----> 1\u001b[0;31m \u001b[0mcurrent_observed\u001b[0m\u001b[0;34m.\u001b[0m\u001b[0msum\u001b[0m\u001b[0;34m(\u001b[0m\u001b[0maxis\u001b[0m\u001b[0;34m=\u001b[0m\u001b[0;36m1\u001b[0m\u001b[0;34m)\u001b[0m\u001b[0;34m\u001b[0m\u001b[0;34m\u001b[0m\u001b[0m\n\u001b[0m",
      "\u001b[0;32m~/anaconda3/envs/kaggle_env/lib/python3.9/site-packages/numpy/core/_methods.py\u001b[0m in \u001b[0;36m_sum\u001b[0;34m(a, axis, dtype, out, keepdims, initial, where)\u001b[0m\n\u001b[1;32m     45\u001b[0m def _sum(a, axis=None, dtype=None, out=None, keepdims=False,\n\u001b[1;32m     46\u001b[0m          initial=_NoValue, where=True):\n\u001b[0;32m---> 47\u001b[0;31m     \u001b[0;32mreturn\u001b[0m \u001b[0mumr_sum\u001b[0m\u001b[0;34m(\u001b[0m\u001b[0ma\u001b[0m\u001b[0;34m,\u001b[0m \u001b[0maxis\u001b[0m\u001b[0;34m,\u001b[0m \u001b[0mdtype\u001b[0m\u001b[0;34m,\u001b[0m \u001b[0mout\u001b[0m\u001b[0;34m,\u001b[0m \u001b[0mkeepdims\u001b[0m\u001b[0;34m,\u001b[0m \u001b[0minitial\u001b[0m\u001b[0;34m,\u001b[0m \u001b[0mwhere\u001b[0m\u001b[0;34m)\u001b[0m\u001b[0;34m\u001b[0m\u001b[0;34m\u001b[0m\u001b[0m\n\u001b[0m\u001b[1;32m     48\u001b[0m \u001b[0;34m\u001b[0m\u001b[0m\n\u001b[1;32m     49\u001b[0m def _prod(a, axis=None, dtype=None, out=None, keepdims=False,\n",
      "\u001b[0;31mAxisError\u001b[0m: axis 1 is out of bounds for array of dimension 1"
     ]
    }
   ],
   "source": [
    "current_observed.sum(axis=1)"
   ]
  },
  {
   "cell_type": "code",
   "execution_count": null,
   "metadata": {},
   "outputs": [],
   "source": [
    "current_observed"
   ]
  },
  {
   "cell_type": "code",
   "execution_count": null,
   "metadata": {},
   "outputs": [],
   "source": [
    "import ipywidgets as widgets\n",
    "from ipywidgets import interact\n",
    "from datetime import datetime\n",
    "import plotly.io as pio\n",
    "# Default is plotly_mimetype+notebook, but jekyll fails to parse plotly_mimetype.\n",
    "pio.renderers.default = 'notebook_connected'\n",
    "\n",
    "# Inject the missing require.js dependency.\n",
    "from IPython.display import display, HTML\n",
    "js = '<script src=\"https://cdnjs.cloudflare.com/ajax/libs/require.js/2.3.6/require.min.js\" integrity=\"sha512-c3Nl8+7g4LMSTdrm621y7kf9v3SDPnhxLNhcjFJbKECVnmZHTdo+IRO05sNLTH/D3vA6u1X32ehoLC7WFVdheg==\" crossorigin=\"anonymous\"></script>'\n",
    "display(HTML(js))\n",
    "import plotly.express as px\n",
    "\n",
    "df = px.data.gapminder()\n",
    "px.scatter(df, x=\"gdpPercap\", y=\"lifeExp\", animation_frame=\"year\", animation_group=\"country\",\n",
    "           size=\"pop\", color=\"continent\", hover_name=\"country\",\n",
    "           log_x=True, size_max=55, range_x=[100,100000], range_y=[25,90])\n"
   ]
  },
  {
   "cell_type": "code",
   "execution_count": null,
   "metadata": {},
   "outputs": [],
   "source": [
    "# hide_input\n",
    "# This cell is required for the export to HTML to work.\n"
   ]
  },
  {
   "cell_type": "code",
   "execution_count": null,
   "metadata": {},
   "outputs": [],
   "source": [
    "observed_prior = np.array([7356., 1973., 7578.])\n",
    "prior = []\n",
    "N = 4000\n",
    "for it in range(N):\n",
    "    b = stats.beta.rvs(a=5, b=1, size=3)\n",
    "    # print(b)\n",
    "    # print(observed_prior * b)\n",
    "    diric = stats.dirichlet.rvs(observed_prior * b,)\n",
    "    # print(diric[0])\n",
    "    prior.append(diric[0])\n",
    "prior = np.array(prior)\n",
    "print(prior[:4])"
   ]
  },
  {
   "cell_type": "code",
   "execution_count": null,
   "metadata": {},
   "outputs": [],
   "source": [
    "\n",
    "print((prior[:,0] > prior[:,2]).mean())\n",
    "print(prior.shape)\n"
   ]
  },
  {
   "cell_type": "code",
   "execution_count": null,
   "metadata": {},
   "outputs": [],
   "source": [
    "posterior = []\n",
    "for it in range(N):\n",
    "    mn = stats.multinomial.rvs(n=3000, p=[1340/3000, 370/3000, 1290/3000])\n",
    "    posterior.append(mn * prior[it])\n",
    "posterior = np.array(posterior)\n",
    "\n"
   ]
  },
  {
   "cell_type": "code",
   "execution_count": null,
   "metadata": {},
   "outputs": [],
   "source": [
    "post = posterior#/posterior.sum(axis=1).reshape(4000,1)\n",
    "print(post.sum(axis=1))\n",
    "print(post[:10, 0])\n",
    "print(post[:10, 2])"
   ]
  },
  {
   "cell_type": "code",
   "execution_count": null,
   "metadata": {},
   "outputs": [],
   "source": [
    "lula = post[:, 0]\n",
    "others = post[:, 2]\n",
    "print((lula > others).mean())"
   ]
  },
  {
   "cell_type": "code",
   "execution_count": null,
   "metadata": {},
   "outputs": [],
   "source": [
    "simul = []\n",
    "for it in range(N):\n",
    "    idx = np.random.choice(N,1)[0]\n",
    "    #print(idx)\n",
    "    #print(post[idx])\n",
    "    dir2 = stats.dirichlet.rvs(post[idx])[0]\n",
    "    simul.append(dir2)\n",
    "dir2 = np.array(simul)"
   ]
  },
  {
   "cell_type": "code",
   "execution_count": null,
   "metadata": {},
   "outputs": [],
   "source": [
    "dir2"
   ]
  },
  {
   "cell_type": "code",
   "execution_count": null,
   "metadata": {},
   "outputs": [],
   "source": [
    "lula = dir2[:, 0]\n",
    "others = dir2[:, 2]\n",
    "print((lula > others).mean())"
   ]
  },
  {
   "cell_type": "code",
   "execution_count": null,
   "metadata": {},
   "outputs": [],
   "source": [
    "np.arange(10)"
   ]
  },
  {
   "cell_type": "code",
   "execution_count": null,
   "metadata": {},
   "outputs": [],
   "source": [
    "np.linspace(0,1, 101)"
   ]
  },
  {
   "cell_type": "code",
   "execution_count": null,
   "metadata": {},
   "outputs": [],
   "source": [
    "x = np.arange(5,10)"
   ]
  },
  {
   "cell_type": "code",
   "execution_count": null,
   "metadata": {},
   "outputs": [],
   "source": [
    "np.concatenate([[x[0] - 5], x, [x[-1] + 5]])"
   ]
  },
  {
   "cell_type": "code",
   "execution_count": 58,
   "metadata": {},
   "outputs": [
    {
     "data": {
      "text/plain": [
       "0.017892270211835426"
      ]
     },
     "execution_count": 58,
     "metadata": {},
     "output_type": "execute_result"
    }
   ],
   "source": [
    "1.96 * np.sqrt((0.5**2)/3000)"
   ]
  },
  {
   "cell_type": "code",
   "execution_count": 73,
   "metadata": {},
   "outputs": [
    {
     "data": {
      "text/plain": [
       "0.009443124835048826"
      ]
     },
     "execution_count": 73,
     "metadata": {},
     "output_type": "execute_result"
    }
   ],
   "source": [
    "1./(1./0.01789 + 1./0.0200)"
   ]
  },
  {
   "cell_type": "code",
   "execution_count": 64,
   "metadata": {},
   "outputs": [
    {
     "data": {
      "text/plain": [
       "0.01"
      ]
     },
     "execution_count": 64,
     "metadata": {},
     "output_type": "execute_result"
    }
   ],
   "source": [
    "1/100"
   ]
  },
  {
   "cell_type": "code",
   "execution_count": 71,
   "metadata": {},
   "outputs": [
    {
     "data": {
      "text/plain": [
       "0.009443124835048826"
      ]
     },
     "execution_count": 71,
     "metadata": {},
     "output_type": "execute_result"
    }
   ],
   "source": [
    "1/(1./0.01789 + 1./0.0200)"
   ]
  },
  {
   "cell_type": "code",
   "execution_count": null,
   "metadata": {},
   "outputs": [],
   "source": []
  }
 ],
 "metadata": {
  "interpreter": {
   "hash": "037a033ce234ff666f14cbdf22ea40000c7774c5ff2d9a18fd075477cf956e1c"
  },
  "kernelspec": {
   "display_name": "Python 3.9.6 64-bit ('kaggle_env': conda)",
   "language": "python",
   "name": "python3"
  },
  "language_info": {
   "codemirror_mode": {
    "name": "ipython",
    "version": 3
   },
   "file_extension": ".py",
   "mimetype": "text/x-python",
   "name": "python",
   "nbconvert_exporter": "python",
   "pygments_lexer": "ipython3",
   "version": "3.9.6"
  },
  "orig_nbformat": 4
 },
 "nbformat": 4,
 "nbformat_minor": 2
}
