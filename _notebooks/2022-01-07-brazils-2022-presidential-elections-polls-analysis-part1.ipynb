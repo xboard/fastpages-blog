{
 "cells": [
  {
   "cell_type": "markdown",
   "metadata": {},
   "source": [
    "# Collecting Brazil's 2022 presidential election polls data\n",
    "> A tutorial on how to collect, filter and prepare for analysis Brazil's 2022 presidential election polls data.\n",
    "\n",
    "- toc: true \n",
    "- badges: true\n",
    "- comments: true\n",
    "- categories: [data-science]\n",
    "- hide: false\n",
    "- search_exclude: false\n",
    "- image: images/chart-preview.png"
   ]
  },
  {
   "cell_type": "markdown",
   "metadata": {},
   "source": [
    "## Context\n",
    "\n",
    "This year [more than 146 million fellow Brazilian](https://www.tse.jus.br/eleitor/estatisticas-de-eleitorado/consulta-quantitativo) are going to choose our new President..."
   ]
  },
  {
   "cell_type": "markdown",
   "metadata": {},
   "source": [
    "## Data sources\n",
    "\n",
    "### Pool data\n",
    "- [Poder360 polls database](https://www.poder360.com.br/banco-de-dados/)\n",
    "### Voters statistics\n",
    "\n",
    "- [TSE: Voters statistics by Region](https://www.tse.jus.br/eleitor/estatisticas-de-eleitorado/consulta-quantitativo)\n",
    "- [TSE: Voters statistics by sex and age](https://www.tse.jus.br/eleitor/estatisticas-de-eleitorado/estatistica-do-eleitorado-por-sexo-e-faixa-etaria)\n",
    "\n",
    "### Dashboard\n",
    "- [App](https://chance-lula-ganhar-1o-turno.github.io/)\n",
    "- [Repositório: Chance de Lula ganhar no primeiro turno](https://github.com/chance-lula-ganhar-1o-turno)\n",
    "  "
   ]
  },
  {
   "cell_type": "markdown",
   "metadata": {},
   "source": [
    "## Analysis"
   ]
  },
  {
   "cell_type": "markdown",
   "metadata": {},
   "source": [
    "### Importing libraries"
   ]
  },
  {
   "cell_type": "code",
   "execution_count": 18,
   "metadata": {},
   "outputs": [],
   "source": [
    "import numpy as np\n",
    "import scipy.stats as stats\n",
    "import pandas as pd\n",
    "import pymc3 as pm\n",
    "import arviz as az\n",
    "import matplotlib.pyplot as plt\n",
    "import seaborn as sns\n",
    "import dirichlet\n",
    "from pathlib import Path\n",
    "from tqdm.notebook import tqdm\n",
    "\n",
    "pd.set_option('display.max_columns', None)\n",
    "pd.set_option('display.max_rows', None)"
   ]
  },
  {
   "cell_type": "markdown",
   "metadata": {},
   "source": [
    "## Load and transform data"
   ]
  },
  {
   "cell_type": "code",
   "execution_count": 2,
   "metadata": {},
   "outputs": [],
   "source": [
    "#noshow \n",
    "columns_to_use = [\"pesquisa_id\", \"cenario_id\", \"turno\", \"partido\",\n",
    "                  \"candidato\", \"cenario_descricao\", \"instituto\",\n",
    "                  \"percentual\", \"data_pesquisa\", \"qtd_entrevistas\",\n",
    "                  \"qtd_mencoes\",\"grupo\"]\n"
   ]
  },
  {
   "cell_type": "code",
   "execution_count": 3,
   "metadata": {},
   "outputs": [],
   "source": [
    "def enrich_and_filter(df: pd.DataFrame) ->pd.DataFrame:\n",
    "    df['qtd_mencoes'] = df.percentual * df.qtd_entrevistas / 100.0\n",
    "    df['grupo'] = 'OUTROS'\n",
    "    df.loc[(df.partido == 'PT'), 'grupo'] = 'LULA'\n",
    "    df.loc[(df.partido.isna()), 'grupo'] = 'NULO'\n",
    "\n",
    "    return df[columns_to_use]"
   ]
  },
  {
   "cell_type": "code",
   "execution_count": 4,
   "metadata": {},
   "outputs": [
    {
     "name": "stdout",
     "output_type": "stream",
     "text": [
      "../assets/data/elections2022/20220121.csv\n"
     ]
    }
   ],
   "source": [
    "def get_most_recent_file() -> Path:\n",
    "    data_dir = Path('../assets/data/elections2022/')\n",
    "    return sorted(data_dir.glob('2022*.csv'))[-1]\n",
    "print(get_most_recent_file())"
   ]
  },
  {
   "cell_type": "code",
   "execution_count": 5,
   "metadata": {},
   "outputs": [],
   "source": [
    "def get_most_recent_df() -> pd.DataFrame:\n",
    "    return enrich_and_filter(pd.read_csv(get_most_recent_file(),\n",
    "                                         sep=',',\n",
    "                                         parse_dates=True,\n",
    "                                         dayfirst=True)\n",
    "                             )\n"
   ]
  },
  {
   "cell_type": "code",
   "execution_count": 6,
   "metadata": {},
   "outputs": [
    {
     "data": {
      "text/html": [
       "<div>\n",
       "<style scoped>\n",
       "    .dataframe tbody tr th:only-of-type {\n",
       "        vertical-align: middle;\n",
       "    }\n",
       "\n",
       "    .dataframe tbody tr th {\n",
       "        vertical-align: top;\n",
       "    }\n",
       "\n",
       "    .dataframe thead th {\n",
       "        text-align: right;\n",
       "    }\n",
       "</style>\n",
       "<table border=\"1\" class=\"dataframe\">\n",
       "  <thead>\n",
       "    <tr style=\"text-align: right;\">\n",
       "      <th></th>\n",
       "      <th>pesquisa_id</th>\n",
       "      <th>cenario_id</th>\n",
       "      <th>turno</th>\n",
       "      <th>partido</th>\n",
       "      <th>candidato</th>\n",
       "      <th>cenario_descricao</th>\n",
       "      <th>instituto</th>\n",
       "      <th>percentual</th>\n",
       "      <th>data_pesquisa</th>\n",
       "      <th>qtd_entrevistas</th>\n",
       "      <th>qtd_mencoes</th>\n",
       "      <th>grupo</th>\n",
       "    </tr>\n",
       "  </thead>\n",
       "  <tbody>\n",
       "    <tr>\n",
       "      <th>0</th>\n",
       "      <td>9750</td>\n",
       "      <td>24567</td>\n",
       "      <td>1</td>\n",
       "      <td>NaN</td>\n",
       "      <td>não sabe / não respondeu</td>\n",
       "      <td>cenário 1 - estimulado - 1º turno</td>\n",
       "      <td>Vox Populi</td>\n",
       "      <td>12.0</td>\n",
       "      <td>2021-11-04</td>\n",
       "      <td>2000</td>\n",
       "      <td>240.0</td>\n",
       "      <td>NULO</td>\n",
       "    </tr>\n",
       "    <tr>\n",
       "      <th>1</th>\n",
       "      <td>9750</td>\n",
       "      <td>24567</td>\n",
       "      <td>1</td>\n",
       "      <td>NaN</td>\n",
       "      <td>branco / nulo / nenhum</td>\n",
       "      <td>cenário 1 - estimulado - 1º turno</td>\n",
       "      <td>Vox Populi</td>\n",
       "      <td>10.0</td>\n",
       "      <td>2021-11-04</td>\n",
       "      <td>2000</td>\n",
       "      <td>200.0</td>\n",
       "      <td>NULO</td>\n",
       "    </tr>\n",
       "    <tr>\n",
       "      <th>2</th>\n",
       "      <td>9750</td>\n",
       "      <td>24567</td>\n",
       "      <td>1</td>\n",
       "      <td>PSD</td>\n",
       "      <td>Rodrigo Pacheco</td>\n",
       "      <td>cenário 1 - estimulado - 1º turno</td>\n",
       "      <td>Vox Populi</td>\n",
       "      <td>0.0</td>\n",
       "      <td>2021-11-04</td>\n",
       "      <td>2000</td>\n",
       "      <td>0.0</td>\n",
       "      <td>OUTROS</td>\n",
       "    </tr>\n",
       "    <tr>\n",
       "      <th>3</th>\n",
       "      <td>9750</td>\n",
       "      <td>24567</td>\n",
       "      <td>1</td>\n",
       "      <td>PT</td>\n",
       "      <td>Lula</td>\n",
       "      <td>cenário 1 - estimulado - 1º turno</td>\n",
       "      <td>Vox Populi</td>\n",
       "      <td>44.0</td>\n",
       "      <td>2021-11-04</td>\n",
       "      <td>2000</td>\n",
       "      <td>880.0</td>\n",
       "      <td>LULA</td>\n",
       "    </tr>\n",
       "    <tr>\n",
       "      <th>4</th>\n",
       "      <td>9750</td>\n",
       "      <td>24567</td>\n",
       "      <td>1</td>\n",
       "      <td>sem partido</td>\n",
       "      <td>Bolsonaro</td>\n",
       "      <td>cenário 1 - estimulado - 1º turno</td>\n",
       "      <td>Vox Populi</td>\n",
       "      <td>21.0</td>\n",
       "      <td>2021-11-04</td>\n",
       "      <td>2000</td>\n",
       "      <td>420.0</td>\n",
       "      <td>OUTROS</td>\n",
       "    </tr>\n",
       "  </tbody>\n",
       "</table>\n",
       "</div>"
      ],
      "text/plain": [
       "   pesquisa_id  cenario_id  turno      partido                 candidato  \\\n",
       "0         9750       24567      1          NaN  não sabe / não respondeu   \n",
       "1         9750       24567      1          NaN    branco / nulo / nenhum   \n",
       "2         9750       24567      1          PSD           Rodrigo Pacheco   \n",
       "3         9750       24567      1           PT                      Lula   \n",
       "4         9750       24567      1  sem partido                 Bolsonaro   \n",
       "\n",
       "                   cenario_descricao   instituto  percentual data_pesquisa  \\\n",
       "0  cenário 1 - estimulado - 1º turno  Vox Populi        12.0    2021-11-04   \n",
       "1  cenário 1 - estimulado - 1º turno  Vox Populi        10.0    2021-11-04   \n",
       "2  cenário 1 - estimulado - 1º turno  Vox Populi         0.0    2021-11-04   \n",
       "3  cenário 1 - estimulado - 1º turno  Vox Populi        44.0    2021-11-04   \n",
       "4  cenário 1 - estimulado - 1º turno  Vox Populi        21.0    2021-11-04   \n",
       "\n",
       "   qtd_entrevistas  qtd_mencoes   grupo  \n",
       "0             2000        240.0    NULO  \n",
       "1             2000        200.0    NULO  \n",
       "2             2000          0.0  OUTROS  \n",
       "3             2000        880.0    LULA  \n",
       "4             2000        420.0  OUTROS  "
      ]
     },
     "execution_count": 6,
     "metadata": {},
     "output_type": "execute_result"
    }
   ],
   "source": [
    "raw_df = get_most_recent_df()\n",
    "raw_df.head()"
   ]
  },
  {
   "cell_type": "code",
   "execution_count": 7,
   "metadata": {},
   "outputs": [],
   "source": [
    "def prepare_df(raw_df: pd.DataFrame) -> pd.DataFrame:\n",
    "    table_df = raw_df.pivot_table(values=['qtd_mencoes'],\n",
    "                        index=['data_pesquisa', 'instituto'],\n",
    "                        columns=['grupo'],\n",
    "                        aggfunc=np.sum)\n",
    "    table2 = table_df.reset_index(col_level=1).copy()\n",
    "    table2.columns = [a[1] for a in table2.columns.to_flat_index()]\n",
    "    table2[\"TOTAL\"] = table2['LULA'] + table2['NULO'] + table2['OUTROS']\n",
    "    table2[\"mes\"] = pd.to_datetime(table2['data_pesquisa']).dt.strftime('%Y_%m')\n",
    "    return table2"
   ]
  },
  {
   "cell_type": "code",
   "execution_count": 8,
   "metadata": {},
   "outputs": [
    {
     "data": {
      "text/html": [
       "<div>\n",
       "<style scoped>\n",
       "    .dataframe tbody tr th:only-of-type {\n",
       "        vertical-align: middle;\n",
       "    }\n",
       "\n",
       "    .dataframe tbody tr th {\n",
       "        vertical-align: top;\n",
       "    }\n",
       "\n",
       "    .dataframe thead th {\n",
       "        text-align: right;\n",
       "    }\n",
       "</style>\n",
       "<table border=\"1\" class=\"dataframe\">\n",
       "  <thead>\n",
       "    <tr style=\"text-align: right;\">\n",
       "      <th></th>\n",
       "      <th>data_pesquisa</th>\n",
       "      <th>instituto</th>\n",
       "      <th>LULA</th>\n",
       "      <th>NULO</th>\n",
       "      <th>OUTROS</th>\n",
       "      <th>TOTAL</th>\n",
       "      <th>mes</th>\n",
       "    </tr>\n",
       "  </thead>\n",
       "  <tbody>\n",
       "    <tr>\n",
       "      <th>0</th>\n",
       "      <td>2021-11-04</td>\n",
       "      <td>Vox Populi</td>\n",
       "      <td>880.000</td>\n",
       "      <td>440.000</td>\n",
       "      <td>660.000</td>\n",
       "      <td>1980.0</td>\n",
       "      <td>2021_11</td>\n",
       "    </tr>\n",
       "    <tr>\n",
       "      <th>1</th>\n",
       "      <td>2021-11-06</td>\n",
       "      <td>Quaest</td>\n",
       "      <td>990.240</td>\n",
       "      <td>288.820</td>\n",
       "      <td>783.940</td>\n",
       "      <td>2063.0</td>\n",
       "      <td>2021_11</td>\n",
       "    </tr>\n",
       "    <tr>\n",
       "      <th>2</th>\n",
       "      <td>2021-11-19</td>\n",
       "      <td>Paraná Pesquisas</td>\n",
       "      <td>704.980</td>\n",
       "      <td>270.680</td>\n",
       "      <td>1044.340</td>\n",
       "      <td>2020.0</td>\n",
       "      <td>2021_11</td>\n",
       "    </tr>\n",
       "    <tr>\n",
       "      <th>3</th>\n",
       "      <td>2021-11-20</td>\n",
       "      <td>Futura</td>\n",
       "      <td>740.000</td>\n",
       "      <td>142.000</td>\n",
       "      <td>1118.000</td>\n",
       "      <td>2000.0</td>\n",
       "      <td>2021_11</td>\n",
       "    </tr>\n",
       "    <tr>\n",
       "      <th>4</th>\n",
       "      <td>2021-11-24</td>\n",
       "      <td>PoderData</td>\n",
       "      <td>850.000</td>\n",
       "      <td>225.000</td>\n",
       "      <td>1400.000</td>\n",
       "      <td>2475.0</td>\n",
       "      <td>2021_11</td>\n",
       "    </tr>\n",
       "    <tr>\n",
       "      <th>5</th>\n",
       "      <td>2021-11-29</td>\n",
       "      <td>Atlas</td>\n",
       "      <td>1883.628</td>\n",
       "      <td>140.832</td>\n",
       "      <td>2376.540</td>\n",
       "      <td>4401.0</td>\n",
       "      <td>2021_11</td>\n",
       "    </tr>\n",
       "    <tr>\n",
       "      <th>6</th>\n",
       "      <td>2021-12-05</td>\n",
       "      <td>Quaest</td>\n",
       "      <td>937.020</td>\n",
       "      <td>244.440</td>\n",
       "      <td>855.540</td>\n",
       "      <td>2037.0</td>\n",
       "      <td>2021_12</td>\n",
       "    </tr>\n",
       "    <tr>\n",
       "      <th>7</th>\n",
       "      <td>2021-12-09</td>\n",
       "      <td>Ideia Big Data</td>\n",
       "      <td>444.000</td>\n",
       "      <td>156.000</td>\n",
       "      <td>600.000</td>\n",
       "      <td>1200.0</td>\n",
       "      <td>2021_12</td>\n",
       "    </tr>\n",
       "    <tr>\n",
       "      <th>8</th>\n",
       "      <td>2021-12-11</td>\n",
       "      <td>MDA</td>\n",
       "      <td>856.856</td>\n",
       "      <td>306.306</td>\n",
       "      <td>838.838</td>\n",
       "      <td>2002.0</td>\n",
       "      <td>2021_12</td>\n",
       "    </tr>\n",
       "    <tr>\n",
       "      <th>9</th>\n",
       "      <td>2021-12-13</td>\n",
       "      <td>Futura</td>\n",
       "      <td>758.000</td>\n",
       "      <td>170.000</td>\n",
       "      <td>1072.000</td>\n",
       "      <td>2000.0</td>\n",
       "      <td>2021_12</td>\n",
       "    </tr>\n",
       "    <tr>\n",
       "      <th>10</th>\n",
       "      <td>2021-12-13</td>\n",
       "      <td>Ipec</td>\n",
       "      <td>960.960</td>\n",
       "      <td>280.280</td>\n",
       "      <td>760.760</td>\n",
       "      <td>2002.0</td>\n",
       "      <td>2021_12</td>\n",
       "    </tr>\n",
       "    <tr>\n",
       "      <th>11</th>\n",
       "      <td>2021-12-16</td>\n",
       "      <td>Datafolha</td>\n",
       "      <td>1759.680</td>\n",
       "      <td>366.600</td>\n",
       "      <td>1539.720</td>\n",
       "      <td>3666.0</td>\n",
       "      <td>2021_12</td>\n",
       "    </tr>\n",
       "    <tr>\n",
       "      <th>12</th>\n",
       "      <td>2021-12-16</td>\n",
       "      <td>Ipespe</td>\n",
       "      <td>440.000</td>\n",
       "      <td>120.000</td>\n",
       "      <td>450.000</td>\n",
       "      <td>1010.0</td>\n",
       "      <td>2021_12</td>\n",
       "    </tr>\n",
       "    <tr>\n",
       "      <th>13</th>\n",
       "      <td>2021-12-21</td>\n",
       "      <td>PoderData</td>\n",
       "      <td>1200.000</td>\n",
       "      <td>330.000</td>\n",
       "      <td>1470.000</td>\n",
       "      <td>3000.0</td>\n",
       "      <td>2021_12</td>\n",
       "    </tr>\n",
       "    <tr>\n",
       "      <th>14</th>\n",
       "      <td>2022-01-09</td>\n",
       "      <td>Quaest</td>\n",
       "      <td>900.000</td>\n",
       "      <td>240.000</td>\n",
       "      <td>820.000</td>\n",
       "      <td>1960.0</td>\n",
       "      <td>2022_01</td>\n",
       "    </tr>\n",
       "    <tr>\n",
       "      <th>15</th>\n",
       "      <td>2022-01-12</td>\n",
       "      <td>Ipespe</td>\n",
       "      <td>440.000</td>\n",
       "      <td>130.000</td>\n",
       "      <td>450.000</td>\n",
       "      <td>1020.0</td>\n",
       "      <td>2022_01</td>\n",
       "    </tr>\n",
       "    <tr>\n",
       "      <th>16</th>\n",
       "      <td>2022-01-13</td>\n",
       "      <td>Ideia Big Data</td>\n",
       "      <td>615.000</td>\n",
       "      <td>165.000</td>\n",
       "      <td>705.000</td>\n",
       "      <td>1485.0</td>\n",
       "      <td>2022_01</td>\n",
       "    </tr>\n",
       "  </tbody>\n",
       "</table>\n",
       "</div>"
      ],
      "text/plain": [
       "   data_pesquisa         instituto      LULA     NULO    OUTROS   TOTAL  \\\n",
       "0     2021-11-04        Vox Populi   880.000  440.000   660.000  1980.0   \n",
       "1     2021-11-06            Quaest   990.240  288.820   783.940  2063.0   \n",
       "2     2021-11-19  Paraná Pesquisas   704.980  270.680  1044.340  2020.0   \n",
       "3     2021-11-20            Futura   740.000  142.000  1118.000  2000.0   \n",
       "4     2021-11-24         PoderData   850.000  225.000  1400.000  2475.0   \n",
       "5     2021-11-29             Atlas  1883.628  140.832  2376.540  4401.0   \n",
       "6     2021-12-05            Quaest   937.020  244.440   855.540  2037.0   \n",
       "7     2021-12-09    Ideia Big Data   444.000  156.000   600.000  1200.0   \n",
       "8     2021-12-11               MDA   856.856  306.306   838.838  2002.0   \n",
       "9     2021-12-13            Futura   758.000  170.000  1072.000  2000.0   \n",
       "10    2021-12-13              Ipec   960.960  280.280   760.760  2002.0   \n",
       "11    2021-12-16         Datafolha  1759.680  366.600  1539.720  3666.0   \n",
       "12    2021-12-16            Ipespe   440.000  120.000   450.000  1010.0   \n",
       "13    2021-12-21         PoderData  1200.000  330.000  1470.000  3000.0   \n",
       "14    2022-01-09            Quaest   900.000  240.000   820.000  1960.0   \n",
       "15    2022-01-12            Ipespe   440.000  130.000   450.000  1020.0   \n",
       "16    2022-01-13    Ideia Big Data   615.000  165.000   705.000  1485.0   \n",
       "\n",
       "        mes  \n",
       "0   2021_11  \n",
       "1   2021_11  \n",
       "2   2021_11  \n",
       "3   2021_11  \n",
       "4   2021_11  \n",
       "5   2021_11  \n",
       "6   2021_12  \n",
       "7   2021_12  \n",
       "8   2021_12  \n",
       "9   2021_12  \n",
       "10  2021_12  \n",
       "11  2021_12  \n",
       "12  2021_12  \n",
       "13  2021_12  \n",
       "14  2022_01  \n",
       "15  2022_01  \n",
       "16  2022_01  "
      ]
     },
     "execution_count": 8,
     "metadata": {},
     "output_type": "execute_result"
    }
   ],
   "source": [
    "df = prepare_df(raw_df)\n",
    "df"
   ]
  },
  {
   "cell_type": "code",
   "execution_count": 9,
   "metadata": {},
   "outputs": [
    {
     "data": {
      "text/plain": [
       "7.380000000000001"
      ]
     },
     "execution_count": 9,
     "metadata": {},
     "output_type": "execute_result"
    }
   ],
   "source": [
    "def simulate_prob_freq(concentration: np.array, iters=10_000, N=100_000) -> float:\n",
    "    priors = stats.dirichlet.rvs(concentration, iters)\n",
    "    cnt = 0\n",
    "    for i in range(iters):\n",
    "        votes = stats.multinomial(n=100_000, p = priors[i]).rvs()[0]\n",
    "        if votes[0] > votes[2]:\n",
    "            cnt += 1\n",
    "    return cnt/iters * 100\n",
    "simulate_prob_freq(np.array([723, 186, 780]))\n",
    "#stats.multinomial(n=100_000, p = np.array([0.45, 0.11, 0.44])).rvs()"
   ]
  },
  {
   "cell_type": "code",
   "execution_count": 10,
   "metadata": {},
   "outputs": [
    {
     "name": "stdout",
     "output_type": "stream",
     "text": [
      "2021-11-04 [38.88888889 27.77777778 33.33333333] 74.27\n",
      "2021-11-06 [43.44444444 20.88888889 35.66666667] 81.44\n",
      "2021-11-19 [39.17222222 17.14444444 43.68333333] 30.65\n",
      "2021-11-20 [38.08611111 12.12222222 49.79166667] 10.040000000000001\n",
      "2021-11-24 [36.21477273 10.60656566 53.17866162] 3.49\n",
      "2021-11-29 [39.50738636  6.90328283 53.58933081] 7.380000000000001\n",
      "2021-12-05 [42.75369318  9.45164141 47.7946654 ] 29.42\n",
      "2021-12-09 [39.87684659 11.22582071 48.8973327 ] 17.169999999999998\n",
      "2021-12-11 [41.3384233  13.26291035 45.39866635] 33.040000000000006\n",
      "2021-12-13 [39.61921165 10.88145518 49.49933318] 14.399999999999999\n",
      "2021-12-13 [43.80960582 12.44072759 43.74966659] 50.28\n",
      "2021-12-16 [45.90480291 11.22036379 42.87483329] 62.17\n",
      "2021-12-16 [44.73457967 11.55077596 43.71464437] 54.42\n",
      "2021-12-21 [42.36728984 11.27538798 46.35732218] 32.73\n",
      "2022-01-09 [44.14282859 11.76014297 44.09702844] 49.51\n",
      "2022-01-12 [43.64004175 12.2526205  44.10733775] 47.870000000000005\n",
      "2022-01-13 [42.52709158 11.68186581 45.79104261] 35.839999999999996\n"
     ]
    }
   ],
   "source": [
    "def run_prob_weekly(simulate_prob):\n",
    "    prior = np.array([1,1,1])\n",
    "    posterior = np.array([0,0,0])\n",
    "    for obj in df.itertuples():\n",
    "        like = np.array([obj.LULA, obj.NULO, obj.OUTROS])\n",
    "        posterior = prior * 50/prior.sum() + like * 50/like.sum()\n",
    "        print(obj.data_pesquisa, posterior, simulate_prob(posterior))\n",
    "        prior = posterior\n",
    "\n",
    "run_prob_weekly(simulate_prob_freq)"
   ]
  },
  {
   "cell_type": "code",
   "execution_count": 11,
   "metadata": {},
   "outputs": [
    {
     "data": {
      "text/html": [
       "<div>\n",
       "<style scoped>\n",
       "    .dataframe tbody tr th:only-of-type {\n",
       "        vertical-align: middle;\n",
       "    }\n",
       "\n",
       "    .dataframe tbody tr th {\n",
       "        vertical-align: top;\n",
       "    }\n",
       "\n",
       "    .dataframe thead th {\n",
       "        text-align: right;\n",
       "    }\n",
       "</style>\n",
       "<table border=\"1\" class=\"dataframe\">\n",
       "  <thead>\n",
       "    <tr style=\"text-align: right;\">\n",
       "      <th></th>\n",
       "      <th>mes</th>\n",
       "      <th>LULA</th>\n",
       "      <th>NULO</th>\n",
       "      <th>OUTROS</th>\n",
       "      <th>TOTAL</th>\n",
       "    </tr>\n",
       "  </thead>\n",
       "  <tbody>\n",
       "    <tr>\n",
       "      <th>0</th>\n",
       "      <td>2021_11</td>\n",
       "      <td>6048.848</td>\n",
       "      <td>1507.332</td>\n",
       "      <td>7382.820</td>\n",
       "      <td>14939.0</td>\n",
       "    </tr>\n",
       "    <tr>\n",
       "      <th>1</th>\n",
       "      <td>2021_12</td>\n",
       "      <td>7356.516</td>\n",
       "      <td>1973.626</td>\n",
       "      <td>7586.858</td>\n",
       "      <td>16917.0</td>\n",
       "    </tr>\n",
       "    <tr>\n",
       "      <th>2</th>\n",
       "      <td>2022_01</td>\n",
       "      <td>1955.000</td>\n",
       "      <td>535.000</td>\n",
       "      <td>1975.000</td>\n",
       "      <td>4465.0</td>\n",
       "    </tr>\n",
       "  </tbody>\n",
       "</table>\n",
       "</div>"
      ],
      "text/plain": [
       "       mes      LULA      NULO    OUTROS    TOTAL\n",
       "0  2021_11  6048.848  1507.332  7382.820  14939.0\n",
       "1  2021_12  7356.516  1973.626  7586.858  16917.0\n",
       "2  2022_01  1955.000   535.000  1975.000   4465.0"
      ]
     },
     "execution_count": 11,
     "metadata": {},
     "output_type": "execute_result"
    }
   ],
   "source": [
    "mes = df.groupby(\"mes\").sum().reset_index()\n",
    "mes"
   ]
  },
  {
   "cell_type": "code",
   "execution_count": 12,
   "metadata": {},
   "outputs": [
    {
     "name": "stdout",
     "output_type": "stream",
     "text": [
      "2021_11 [369.11823638 217.11622822 413.7655354 ] 5.41\n",
      "2021_12 [401.98880431 166.8907381  431.1204576 ] 15.290000000000001\n",
      "2022_01 [419.91937416 143.35578338 436.72484246] 28.29\n"
     ]
    }
   ],
   "source": [
    "def run_prob_monthly(simulate_prob):\n",
    "    prior = np.array([1,1,1])\n",
    "    posterior = np.array([0,0,0])\n",
    "    df_by_mes = df.groupby(\"mes\").sum().reset_index()\n",
    "    for obj in df_by_mes.itertuples():\n",
    "        # print(obj)\n",
    "        like = np.array([obj.LULA, obj.NULO, obj.OUTROS])\n",
    "        posterior = prior * 500/prior.sum() + like * 500/like.sum()\n",
    "        print(obj.mes, posterior, simulate_prob(posterior))\n",
    "        prior = posterior\n",
    "run_prob_monthly(simulate_prob_freq)"
   ]
  },
  {
   "cell_type": "code",
   "execution_count": 13,
   "metadata": {},
   "outputs": [
    {
     "data": {
      "image/svg+xml": "<?xml version=\"1.0\" encoding=\"UTF-8\" standalone=\"no\"?>\n<!DOCTYPE svg PUBLIC \"-//W3C//DTD SVG 1.1//EN\"\n \"http://www.w3.org/Graphics/SVG/1.1/DTD/svg11.dtd\">\n<!-- Generated by graphviz version 2.49.0 (20210829.0051)\n -->\n<!-- Pages: 1 -->\n<svg width=\"220pt\" height=\"249pt\"\n viewBox=\"0.00 0.00 219.99 248.91\" xmlns=\"http://www.w3.org/2000/svg\" xmlns:xlink=\"http://www.w3.org/1999/xlink\">\n<g id=\"graph0\" class=\"graph\" transform=\"scale(1 1) rotate(0) translate(4 244.91)\">\n<polygon fill=\"white\" stroke=\"transparent\" points=\"-4,4 -4,-244.91 215.99,-244.91 215.99,4 -4,4\"/>\n<g id=\"clust1\" class=\"cluster\">\n<title>cluster3</title>\n<path fill=\"none\" stroke=\"black\" d=\"M77.99,-8C77.99,-8 191.99,-8 191.99,-8 197.99,-8 203.99,-14 203.99,-20 203.99,-20 203.99,-220.91 203.99,-220.91 203.99,-226.91 197.99,-232.91 191.99,-232.91 191.99,-232.91 77.99,-232.91 77.99,-232.91 71.99,-232.91 65.99,-226.91 65.99,-220.91 65.99,-220.91 65.99,-20 65.99,-20 65.99,-14 71.99,-8 77.99,-8\"/>\n<text text-anchor=\"middle\" x=\"192.49\" y=\"-15.8\" font-family=\"Times,serif\" font-size=\"14.00\">3</text>\n</g>\n<!-- beta -->\n<g id=\"node1\" class=\"node\">\n<title>beta</title>\n<ellipse fill=\"none\" stroke=\"black\" cx=\"28.99\" cy=\"-187.43\" rx=\"28.98\" ry=\"37.45\"/>\n<text text-anchor=\"middle\" x=\"28.99\" y=\"-198.73\" font-family=\"Times,serif\" font-size=\"14.00\">beta</text>\n<text text-anchor=\"middle\" x=\"28.99\" y=\"-183.73\" font-family=\"Times,serif\" font-size=\"14.00\">~</text>\n<text text-anchor=\"middle\" x=\"28.99\" y=\"-168.73\" font-family=\"Times,serif\" font-size=\"14.00\">Beta</text>\n</g>\n<!-- current -->\n<g id=\"node2\" class=\"node\">\n<title>current</title>\n<ellipse fill=\"lightgrey\" stroke=\"black\" cx=\"134.99\" cy=\"-76.48\" rx=\"60.62\" ry=\"37.45\"/>\n<text text-anchor=\"middle\" x=\"134.99\" y=\"-87.78\" font-family=\"Times,serif\" font-size=\"14.00\">current</text>\n<text text-anchor=\"middle\" x=\"134.99\" y=\"-72.78\" font-family=\"Times,serif\" font-size=\"14.00\">~</text>\n<text text-anchor=\"middle\" x=\"134.99\" y=\"-57.78\" font-family=\"Times,serif\" font-size=\"14.00\">Multinomial</text>\n</g>\n<!-- beta&#45;&gt;current -->\n<g id=\"edge1\" class=\"edge\">\n<title>beta&#45;&gt;current</title>\n<path fill=\"none\" stroke=\"black\" d=\"M50.82,-161.93C54.51,-157.9 58.34,-153.78 61.99,-149.95 72.82,-138.61 84.8,-126.53 95.87,-115.55\"/>\n<polygon fill=\"black\" stroke=\"black\" points=\"98.35,-118.02 103,-108.51 93.43,-113.05 98.35,-118.02\"/>\n</g>\n<!-- prior -->\n<g id=\"node3\" class=\"node\">\n<title>prior</title>\n<ellipse fill=\"none\" stroke=\"black\" cx=\"134.99\" cy=\"-187.43\" rx=\"45.92\" ry=\"37.45\"/>\n<text text-anchor=\"middle\" x=\"134.99\" y=\"-198.73\" font-family=\"Times,serif\" font-size=\"14.00\">prior</text>\n<text text-anchor=\"middle\" x=\"134.99\" y=\"-183.73\" font-family=\"Times,serif\" font-size=\"14.00\">~</text>\n<text text-anchor=\"middle\" x=\"134.99\" y=\"-168.73\" font-family=\"Times,serif\" font-size=\"14.00\">Dirichlet</text>\n</g>\n<!-- prior&#45;&gt;current -->\n<g id=\"edge2\" class=\"edge\">\n<title>prior&#45;&gt;current</title>\n<path fill=\"none\" stroke=\"black\" d=\"M134.99,-149.85C134.99,-141.67 134.99,-132.89 134.99,-124.37\"/>\n<polygon fill=\"black\" stroke=\"black\" points=\"138.49,-124.15 134.99,-114.15 131.49,-124.15 138.49,-124.15\"/>\n</g>\n</g>\n</svg>\n",
      "text/plain": [
       "<graphviz.dot.Digraph at 0x7f674eaea4f0>"
      ]
     },
     "execution_count": 13,
     "metadata": {},
     "output_type": "execute_result"
    }
   ],
   "source": [
    "def build_model(prior, observed) -> pm.Model:\n",
    "    observed = observed.astype(\"int32\")\n",
    "    with pm.Model() as dirichlet_model:\n",
    "        beta = pm.Beta(\"beta\", alpha=8, beta=1)\n",
    "        \n",
    "        previous_month_prior = pm.Dirichlet(\n",
    "            \"prior\", a=prior, shape=(3,),\n",
    "        )\n",
    "\n",
    "        pm.Multinomial(\n",
    "            \"current\", n=observed.sum(), p=(previous_month_prior * beta), observed=observed, shape=(3,)\n",
    "        )\n",
    "    \n",
    "    return dirichlet_model\n",
    "model = build_model(np.ones(3), np.ones(3))\n",
    "pm.model_to_graphviz(model)"
   ]
  },
  {
   "cell_type": "code",
   "execution_count": 14,
   "metadata": {},
   "outputs": [
    {
     "data": {
      "text/plain": [
       "[beta_logodds__ ~ TransformedDistribution,\n",
       " prior_stickbreaking__ ~ TransformedDistribution]"
      ]
     },
     "execution_count": 14,
     "metadata": {},
     "output_type": "execute_result"
    }
   ],
   "source": [
    "model.free_RVs"
   ]
  },
  {
   "cell_type": "code",
   "execution_count": 22,
   "metadata": {},
   "outputs": [],
   "source": [
    "\n",
    "def sampling(model: pm.Model, samples=2000, chains=2):\n",
    "    with model:\n",
    "        dirichlet_trace = pm.sample(samples, tune=2000, chains=chains, return_inferencedata=True, progressbar=False)\n",
    "        ppc = pm.fast_sample_posterior_predictive(dirichlet_trace, 5000)\n",
    "    return dirichlet_trace , ppc\n",
    "\n",
    "def calc_prob_lula_win(model, trace, niter=10, ppc=None):\n",
    "    simul = []\n",
    "    if ppc:\n",
    "        lula = ppc['current'][:, 0]\n",
    "        others = ppc['current'][:, 2]\n",
    "        simul.append((lula > others).mean() * 100.0)\n",
    "    for _ in tqdm(range(niter)):\n",
    "        with model:\n",
    "            ppc = pm.sample_posterior_predictive(trace, 1000, progressbar=False)\n",
    "        lula = ppc['current'][:, 0]\n",
    "        others = ppc['current'][:, 2]\n",
    "        simul.append((lula > others).mean() * 100.0)\n",
    "    simul = np.array(simul)\n",
    "    return np.quantile(values, q=[0.03, 0.5, 0.97])"
   ]
  },
  {
   "cell_type": "code",
   "execution_count": 23,
   "metadata": {},
   "outputs": [
    {
     "name": "stdout",
     "output_type": "stream",
     "text": [
      ">>> observed = [6048.848 1507.332 7382.82 ]\n"
     ]
    },
    {
     "name": "stderr",
     "output_type": "stream",
     "text": [
      "Auto-assigning NUTS sampler...\n",
      "Initializing NUTS using jitter+adapt_diag...\n",
      "Multiprocess sampling (2 chains in 2 jobs)\n",
      "NUTS: [prior, beta]\n",
      "Sampling 2 chains for 2_000 tune and 2_000 draw iterations (4_000 + 4_000 draws total) took 12 seconds.\n"
     ]
    },
    {
     "data": {
      "application/vnd.jupyter.widget-view+json": {
       "model_id": "4a6e737d8e2a42e1b585d8eb4870b4c4",
       "version_major": 2,
       "version_minor": 0
      },
      "text/plain": [
       "  0%|          | 0/10 [00:00<?, ?it/s]"
      ]
     },
     "metadata": {},
     "output_type": "display_data"
    },
    {
     "name": "stderr",
     "output_type": "stream",
     "text": [
      "/mnt/home/regis/anaconda3/envs/kaggle_env/lib/python3.9/site-packages/pymc3/sampling.py:1689: UserWarning: samples parameter is smaller than nchains times ndraws, some draws and/or chains may not be represented in the returned posterior predictive sample\n",
      "  warnings.warn(\n"
     ]
    },
    {
     "name": "stdout",
     "output_type": "stream",
     "text": [
      ">>>  2021_11 [3006.22524107  748.12756684 3667.94426952] (0.0, 0.0) % <<<\n",
      ">>> observed = [7356.516 1973.626 7586.858]\n"
     ]
    },
    {
     "name": "stderr",
     "output_type": "stream",
     "text": [
      "Auto-assigning NUTS sampler...\n",
      "Initializing NUTS using jitter+adapt_diag...\n",
      "Multiprocess sampling (2 chains in 2 jobs)\n",
      "NUTS: [prior, beta]\n",
      "Sampling 2 chains for 2_000 tune and 2_000 draw iterations (4_000 + 4_000 draws total) took 9 seconds.\n"
     ]
    },
    {
     "data": {
      "application/vnd.jupyter.widget-view+json": {
       "model_id": "df4e3acdb67440c08316b711d6d9ebde",
       "version_major": 2,
       "version_minor": 0
      },
      "text/plain": [
       "  0%|          | 0/10 [00:00<?, ?it/s]"
      ]
     },
     "metadata": {},
     "output_type": "display_data"
    },
    {
     "name": "stderr",
     "output_type": "stream",
     "text": [
      "/mnt/home/regis/anaconda3/envs/kaggle_env/lib/python3.9/site-packages/pymc3/sampling.py:1689: UserWarning: samples parameter is smaller than nchains times ndraws, some draws and/or chains may not be represented in the returned posterior predictive sample\n",
      "  warnings.warn(\n"
     ]
    },
    {
     "name": "stdout",
     "output_type": "stream",
     "text": [
      ">>>  2021_12 [4212.64628631 1107.55965486 4577.1041899 ] (0.0018181818181818182, 0.005749595745760689) % <<<\n",
      ">>> observed = [1955.  535. 1975.]\n"
     ]
    },
    {
     "name": "stderr",
     "output_type": "stream",
     "text": [
      "Auto-assigning NUTS sampler...\n",
      "Initializing NUTS using jitter+adapt_diag...\n",
      "Multiprocess sampling (2 chains in 2 jobs)\n",
      "NUTS: [prior, beta]\n",
      "Sampling 2 chains for 2_000 tune and 2_000 draw iterations (4_000 + 4_000 draws total) took 7 seconds.\n"
     ]
    },
    {
     "data": {
      "application/vnd.jupyter.widget-view+json": {
       "model_id": "d3122e487c53463298e3af1127bece69",
       "version_major": 2,
       "version_minor": 0
      },
      "text/plain": [
       "  0%|          | 0/10 [00:00<?, ?it/s]"
      ]
     },
     "metadata": {},
     "output_type": "display_data"
    },
    {
     "name": "stderr",
     "output_type": "stream",
     "text": [
      "/mnt/home/regis/anaconda3/envs/kaggle_env/lib/python3.9/site-packages/pymc3/sampling.py:1689: UserWarning: samples parameter is smaller than nchains times ndraws, some draws and/or chains may not be represented in the returned posterior predictive sample\n",
      "  warnings.warn(\n"
     ]
    },
    {
     "name": "stdout",
     "output_type": "stream",
     "text": [
      ">>>  2022_01 [1457.72322913  388.47899943 1548.72322497] (4.423636363636364, 0.4010729411618683) % <<<\n"
     ]
    }
   ],
   "source": [
    "flat_prior = prior = np.array([1.0, 1.0, 1.0])\n",
    "\n",
    "df_by_mes = df.groupby(\"mes\").sum().reset_index()\n",
    "for obj in df_by_mes.itertuples():\n",
    "# for obj in df.itertuples():\n",
    "    observed = np.array([obj.LULA, obj.NULO, obj.OUTROS])\n",
    "    print(f\">>> observed = {observed}\")\n",
    "    model = build_model(prior, observed)\n",
    "    trace, ppc = sampling(model)\n",
    "    posterior = ppc['current']\n",
    "    # print(f\">>> posterior.shape={posterior.shape}\")\n",
    "    prior = dirichlet.mle(posterior/posterior.sum(axis=1).reshape(-1, 1))\n",
    "    # print('dirichlet.mle(posterior/posterior.sum(axis=1).reshape(-1, 1))=,', prior)\n",
    "    print(\">>> \", obj.mes, prior, calc_prob_lula_win(model, trace, ppc=ppc), \"% <<<\")\n",
    "    # print(\">>> \", obj.data_pesquisa, prior, calc_prob_lula_win(posterior), \" <<<\")\n",
    "\n"
   ]
  },
  {
   "cell_type": "code",
   "execution_count": 32,
   "metadata": {},
   "outputs": [
    {
     "name": "stdout",
     "output_type": "stream",
     "text": [
      "[ 6.50961213  9.94610193 13.74551899]\n",
      "10.010595689515863 1.9528033378184413\n"
     ]
    }
   ],
   "source": [
    "values = np.random.normal(loc=10, scale=2, size=1000)\n",
    "print(np.quantile(values, q=[0.03, 0.5, 0.97]))\n",
    "print(values.mean(), values.std())"
   ]
  },
  {
   "cell_type": "code",
   "execution_count": null,
   "metadata": {},
   "outputs": [],
   "source": [
    "# az.plot_ppc(az.from_pymc3(posterior_predictive=ppc, model=model), figsize=(10,5));"
   ]
  },
  {
   "cell_type": "code",
   "execution_count": null,
   "metadata": {},
   "outputs": [],
   "source": [
    "az.summary(trace)"
   ]
  },
  {
   "cell_type": "code",
   "execution_count": null,
   "metadata": {},
   "outputs": [],
   "source": [
    "#fig, ax = plt.subplots(2, figsize=(10,6))\n",
    "az.plot_posterior({'Lula': ppc['current'][:,0], 'Demais': ppc['current'][:,2]})\n",
    "#az.plot_posterior({}, ax=ax[1])"
   ]
  },
  {
   "cell_type": "code",
   "execution_count": null,
   "metadata": {},
   "outputs": [],
   "source": [
    "def generate_data():\n",
    "    intercept = 2\n",
    "    x1 = np.random.random_sample(1)[0]\n",
    "    true_coeff = -2\n",
    "    theta = np.exp(intercept + true_coeff * x1)\n",
    "    output = np.random.poisson(theta)\n",
    "\n",
    "    return {'intercept': intercept, 'x1': x1, 'true_coeff': true_coeff, 'output': output, 'theta': theta}\n",
    "generate_data()"
   ]
  },
  {
   "cell_type": "code",
   "execution_count": null,
   "metadata": {},
   "outputs": [],
   "source": [
    "D1 = trace.posterior.prior.mean(axis=0).to_numpy()\n",
    "D2 = dirichlet.mle(D1)\n",
    "print(D2)\n",
    "print(D2.sum())"
   ]
  },
  {
   "cell_type": "code",
   "execution_count": null,
   "metadata": {},
   "outputs": [],
   "source": [
    "a0 = np.array([100, 299, 100])\n",
    "D0 = np.random.dirichlet(a0, 1000)\n",
    "D0"
   ]
  },
  {
   "cell_type": "markdown",
   "metadata": {},
   "source": [
    "## DEZEMBRO"
   ]
  },
  {
   "cell_type": "code",
   "execution_count": null,
   "metadata": {},
   "outputs": [],
   "source": [
    "# NOVEMBER\n",
    "prior = pd.array([6049, 1508, 7382]).astype(\"float32\")\n",
    "# DECEMBER\n",
    "observed = pd.array([7376, 1953, 7578])\n",
    "                    \n",
    "with pm.Model() as dirichlet_model:\n",
    "        \n",
    "    beta = pm.Beta(\"beta\", alpha=4, beta=1)\n",
    "    \n",
    "    november_prior = pm.Dirichlet(\n",
    "        \"november_prior\",\n",
    "        # Lula, BrancosNulosNaoSabem, Demais candidatos\n",
    "        a=prior * beta,\n",
    "    )\n",
    "    \n",
    "    december_like = pm.Multinomial(\n",
    "        \"december_like\", n=observed.sum(), p=november_prior, observed=observed,\n",
    "    )\n",
    "    "
   ]
  },
  {
   "cell_type": "code",
   "execution_count": null,
   "metadata": {},
   "outputs": [],
   "source": [
    "with dirichlet_model:\n",
    "   dirichlet_trace = pm.sample(5000, chains=2, return_inferencedata=False, cores=2, progressbar=False) # 20K samples\n",
    "   ppc = pm.sample_posterior_predictive(\n",
    "        dirichlet_trace, random_seed=1777,\n",
    "   )\n",
    "   az.plot_trace(dirichlet_trace)"
   ]
  },
  {
   "cell_type": "code",
   "execution_count": null,
   "metadata": {},
   "outputs": [],
   "source": [
    "az.summary(dirichlet_trace)"
   ]
  },
  {
   "cell_type": "code",
   "execution_count": null,
   "metadata": {},
   "outputs": [],
   "source": [
    "print(ppc)\n",
    "ppc['december_like'].mean(axis=0)"
   ]
  },
  {
   "cell_type": "code",
   "execution_count": null,
   "metadata": {},
   "outputs": [],
   "source": [
    "lula = ppc['december_like'][:, 0]\n",
    "demais = ppc['december_like'][:, 2]\n",
    "lula.shape,demais.shape"
   ]
  },
  {
   "cell_type": "code",
   "execution_count": null,
   "metadata": {},
   "outputs": [],
   "source": [
    "(lula > demais).mean()"
   ]
  },
  {
   "cell_type": "markdown",
   "metadata": {},
   "source": [
    "# Verifica conjugado"
   ]
  },
  {
   "cell_type": "code",
   "execution_count": null,
   "metadata": {},
   "outputs": [],
   "source": [
    "# NOVEMBER\n",
    "prior_data = pd.array([43, 11, 45]).astype(\"float32\")\n",
    "# DECEMBER\n",
    "observed = pd.array([46, 12, 41])\n",
    "                    \n",
    "with pm.Model() as m:\n",
    "        \n",
    "    prior = pm.Dirichlet(\"prior\", a=prior_data)\n",
    "    \n",
    "    pm.Multinomial(\"like\", n=observed.sum(), p=prior, observed=observed)\n",
    "    trace = pm.sample(5000, chains=2, return_inferencedata=True, cores=2, progressbar=False) # 20K samples"
   ]
  },
  {
   "cell_type": "code",
   "execution_count": null,
   "metadata": {},
   "outputs": [],
   "source": [
    "az.summary(trace)"
   ]
  },
  {
   "cell_type": "code",
   "execution_count": null,
   "metadata": {},
   "outputs": [],
   "source": [
    "obs2 = prior_data + observed\n",
    "with pm.Model() as m2:\n",
    "        \n",
    "    prior = pm.Dirichlet(\"prior\", a=np.array([1.0, 1.0, 1.0]))\n",
    "    \n",
    "    pm.Multinomial(\"like\", n=obs2.sum(), p=prior, observed=obs2)\n",
    "    trace2 = pm.sample(5000, tune=2000, chains=2, return_inferencedata=True, cores=2, progressbar=False) # 20K samples"
   ]
  },
  {
   "cell_type": "code",
   "execution_count": null,
   "metadata": {},
   "outputs": [],
   "source": [
    "az.summary(trace2)"
   ]
  },
  {
   "cell_type": "markdown",
   "metadata": {},
   "source": [
    "# Janeiro/Dezembro"
   ]
  },
  {
   "cell_type": "code",
   "execution_count": null,
   "metadata": {},
   "outputs": [],
   "source": [
    "import numpy as np\n",
    "\n",
    "T1 = 2_000 # \n",
    "T2 = 1_500 # EXAME/IDEIA\n",
    "T3 = 1_000 # XP/IPESPE\n",
    "# Mês atual: Lula, BrancosNulosNaoSabem, Demais candidatos\n",
    "current_observed = np.array([1955, 535, 2010])\n",
    "\n",
    "print(current_observed.sum())\n",
    "\n",
    "december_data = np.array([7356, 1973, 7578]).astype(\"float32\")\n",
    "\n",
    "with pm.Model() as dirichlet_model:\n",
    "    \n",
    "    beta = pm.Beta(\"beta\", alpha=6, beta=1)\n",
    "    \n",
    "    december_prior = pm.Dirichlet(\n",
    "        \"prior\",\n",
    "        # Mes anterior: Lula, BrancosNulosNaoSabem, Demais candidatos\n",
    "        a = december_data * beta,\n",
    "        # a = [1.0,1.0,1.0],\n",
    "        shape=(3,),\n",
    "    )\n",
    "    \n",
    "    january_like = pm.Multinomial(\n",
    "        \"like\", n=current_observed.sum(), p=december_prior, observed=current_observed, shape=(3,)\n",
    "    )\n",
    "pm.model_to_graphviz(dirichlet_model)    "
   ]
  },
  {
   "cell_type": "code",
   "execution_count": null,
   "metadata": {},
   "outputs": [],
   "source": [
    "with dirichlet_model:\n",
    "   dirichlet_trace = pm.sample(5000, chains=4, return_inferencedata=True, cores=4, progressbar=False) # 20K samples\n",
    "   ppc = pm.sample_posterior_predictive(\n",
    "        dirichlet_trace, random_seed=1777\n",
    "   )\n",
    "   az.plot_trace(dirichlet_trace, figsize=(22,8))\n",
    "   dirichlet_trace.extend(az.from_dict(posterior_predictive=ppc))"
   ]
  },
  {
   "cell_type": "code",
   "execution_count": null,
   "metadata": {},
   "outputs": [],
   "source": [
    "az.summary(dirichlet_trace)"
   ]
  },
  {
   "cell_type": "code",
   "execution_count": null,
   "metadata": {},
   "outputs": [],
   "source": [
    "az.plot_posterior(dirichlet_trace);"
   ]
  },
  {
   "cell_type": "code",
   "execution_count": null,
   "metadata": {},
   "outputs": [],
   "source": [
    "az.plot_energy(dirichlet_trace)"
   ]
  },
  {
   "cell_type": "code",
   "execution_count": null,
   "metadata": {},
   "outputs": [],
   "source": [
    "lula = ppc['like'][:, 0]\n",
    "demais = ppc['like'][:, 2]\n",
    "print(lula.shape,demais.shape)\n",
    "prob_lula = (lula > demais).mean() * 100.0\n",
    "print(f\"Probabilidade de Lula vencer no primeiro turno é de: {prob_lula:.2f}%\", )"
   ]
  },
  {
   "cell_type": "code",
   "execution_count": null,
   "metadata": {},
   "outputs": [],
   "source": [
    "# create figure and axes\n",
    "fig, ax = plt.subplots(figsize=(10, 5), dpi=100)\n",
    "ax.set_xlim(1800, 2200)\n",
    "sns.kdeplot(data=post_pred, ax=ax, palette=['red','yellow','black'], linewidth=2.5, gridsize=500);"
   ]
  },
  {
   "cell_type": "code",
   "execution_count": null,
   "metadata": {},
   "outputs": [],
   "source": []
  },
  {
   "cell_type": "markdown",
   "metadata": {},
   "source": [
    "## Playground"
   ]
  },
  {
   "cell_type": "code",
   "execution_count": null,
   "metadata": {},
   "outputs": [],
   "source": [
    "import math\n",
    "1 - stats.norm.cdf(0, loc=-1, scale=math.sqrt(5))"
   ]
  },
  {
   "cell_type": "code",
   "execution_count": null,
   "metadata": {},
   "outputs": [],
   "source": [
    "import scipy as sp\n",
    "true_p = sp.stats.dirichlet(6.0 * np.array([0.45, 0.3, 0.15, 0.9, 0.01])).rvs(size=10)\n",
    "observed = np.vstack([sp.stats.multinomial(n=50, p=p_i).rvs() for p_i in true_p])\n",
    "\n"
   ]
  },
  {
   "cell_type": "code",
   "execution_count": null,
   "metadata": {},
   "outputs": [],
   "source": [
    "observed.sum(axis=1)"
   ]
  },
  {
   "cell_type": "code",
   "execution_count": null,
   "metadata": {},
   "outputs": [],
   "source": [
    "current_observed.sum(axis=0)"
   ]
  },
  {
   "cell_type": "code",
   "execution_count": null,
   "metadata": {},
   "outputs": [],
   "source": [
    "current_observed.sum(axis=1)"
   ]
  },
  {
   "cell_type": "code",
   "execution_count": null,
   "metadata": {},
   "outputs": [],
   "source": [
    "current_observed"
   ]
  },
  {
   "cell_type": "code",
   "execution_count": null,
   "metadata": {},
   "outputs": [],
   "source": [
    "import ipywidgets as widgets\n",
    "from ipywidgets import interact\n",
    "from datetime import datetime\n",
    "import plotly.io as pio\n",
    "# Default is plotly_mimetype+notebook, but jekyll fails to parse plotly_mimetype.\n",
    "pio.renderers.default = 'notebook_connected'\n",
    "\n",
    "# Inject the missing require.js dependency.\n",
    "from IPython.display import display, HTML\n",
    "js = '<script src=\"https://cdnjs.cloudflare.com/ajax/libs/require.js/2.3.6/require.min.js\" integrity=\"sha512-c3Nl8+7g4LMSTdrm621y7kf9v3SDPnhxLNhcjFJbKECVnmZHTdo+IRO05sNLTH/D3vA6u1X32ehoLC7WFVdheg==\" crossorigin=\"anonymous\"></script>'\n",
    "display(HTML(js))\n",
    "import plotly.express as px\n",
    "\n",
    "df = px.data.gapminder()\n",
    "px.scatter(df, x=\"gdpPercap\", y=\"lifeExp\", animation_frame=\"year\", animation_group=\"country\",\n",
    "           size=\"pop\", color=\"continent\", hover_name=\"country\",\n",
    "           log_x=True, size_max=55, range_x=[100,100000], range_y=[25,90])\n"
   ]
  },
  {
   "cell_type": "code",
   "execution_count": null,
   "metadata": {},
   "outputs": [],
   "source": [
    "# hide_input\n",
    "# This cell is required for the export to HTML to work.\n"
   ]
  },
  {
   "cell_type": "code",
   "execution_count": null,
   "metadata": {},
   "outputs": [],
   "source": [
    "observed_prior = np.array([7356., 1973., 7578.])\n",
    "prior = []\n",
    "N = 4000\n",
    "for it in range(N):\n",
    "    b = stats.beta.rvs(a=5, b=1, size=3)\n",
    "    # print(b)\n",
    "    # print(observed_prior * b)\n",
    "    diric = stats.dirichlet.rvs(observed_prior * b,)\n",
    "    # print(diric[0])\n",
    "    prior.append(diric[0])\n",
    "prior = np.array(prior)\n",
    "print(prior[:4])"
   ]
  },
  {
   "cell_type": "code",
   "execution_count": null,
   "metadata": {},
   "outputs": [],
   "source": [
    "\n",
    "print((prior[:,0] > prior[:,2]).mean())\n",
    "print(prior.shape)\n"
   ]
  },
  {
   "cell_type": "code",
   "execution_count": null,
   "metadata": {},
   "outputs": [],
   "source": [
    "posterior = []\n",
    "for it in range(N):\n",
    "    mn = stats.multinomial.rvs(n=3000, p=[1340/3000, 370/3000, 1290/3000])\n",
    "    posterior.append(mn * prior[it])\n",
    "posterior = np.array(posterior)\n",
    "\n"
   ]
  },
  {
   "cell_type": "code",
   "execution_count": null,
   "metadata": {},
   "outputs": [],
   "source": [
    "post = posterior#/posterior.sum(axis=1).reshape(4000,1)\n",
    "print(post.sum(axis=1))\n",
    "print(post[:10, 0])\n",
    "print(post[:10, 2])"
   ]
  },
  {
   "cell_type": "code",
   "execution_count": null,
   "metadata": {},
   "outputs": [],
   "source": [
    "lula = post[:, 0]\n",
    "others = post[:, 2]\n",
    "print((lula > others).mean())"
   ]
  },
  {
   "cell_type": "code",
   "execution_count": null,
   "metadata": {},
   "outputs": [],
   "source": [
    "simul = []\n",
    "for it in range(N):\n",
    "    idx = np.random.choice(N,1)[0]\n",
    "    #print(idx)\n",
    "    #print(post[idx])\n",
    "    dir2 = stats.dirichlet.rvs(post[idx])[0]\n",
    "    simul.append(dir2)\n",
    "dir2 = np.array(simul)"
   ]
  },
  {
   "cell_type": "code",
   "execution_count": null,
   "metadata": {},
   "outputs": [],
   "source": [
    "dir2"
   ]
  },
  {
   "cell_type": "code",
   "execution_count": null,
   "metadata": {},
   "outputs": [],
   "source": [
    "lula = dir2[:, 0]\n",
    "others = dir2[:, 2]\n",
    "print((lula > others).mean())"
   ]
  },
  {
   "cell_type": "code",
   "execution_count": null,
   "metadata": {},
   "outputs": [],
   "source": [
    "np.arange(10)"
   ]
  },
  {
   "cell_type": "code",
   "execution_count": null,
   "metadata": {},
   "outputs": [],
   "source": [
    "np.linspace(0,1, 101)"
   ]
  },
  {
   "cell_type": "code",
   "execution_count": null,
   "metadata": {},
   "outputs": [],
   "source": [
    "x = np.arange(5,10)"
   ]
  },
  {
   "cell_type": "code",
   "execution_count": null,
   "metadata": {},
   "outputs": [],
   "source": [
    "np.concatenate([[x[0] - 5], x, [x[-1] + 5]])"
   ]
  },
  {
   "cell_type": "code",
   "execution_count": null,
   "metadata": {},
   "outputs": [],
   "source": []
  },
  {
   "cell_type": "code",
   "execution_count": null,
   "metadata": {},
   "outputs": [],
   "source": []
  }
 ],
 "metadata": {
  "interpreter": {
   "hash": "037a033ce234ff666f14cbdf22ea40000c7774c5ff2d9a18fd075477cf956e1c"
  },
  "kernelspec": {
   "display_name": "Python 3.9.6 64-bit ('kaggle_env': conda)",
   "language": "python",
   "name": "python3"
  },
  "language_info": {
   "codemirror_mode": {
    "name": "ipython",
    "version": 3
   },
   "file_extension": ".py",
   "mimetype": "text/x-python",
   "name": "python",
   "nbconvert_exporter": "python",
   "pygments_lexer": "ipython3",
   "version": "3.9.6"
  },
  "orig_nbformat": 4
 },
 "nbformat": 4,
 "nbformat_minor": 2
}
