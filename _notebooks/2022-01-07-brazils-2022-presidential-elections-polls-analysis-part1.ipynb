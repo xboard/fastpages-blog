{
 "cells": [
  {
   "cell_type": "markdown",
   "metadata": {},
   "source": [
    "# Collecting Brazil's 2022 presidential election polls data\n",
    "> A tutorial on how to collect, filter and prepare for analysis Brazil's 2022 presidential election polls data.\n",
    "\n",
    "- toc: true \n",
    "- badges: true\n",
    "- comments: true\n",
    "- categories: [data-science]\n",
    "- hide: false\n",
    "- search_exclude: false\n",
    "- image: images/chart-preview.png"
   ]
  },
  {
   "cell_type": "markdown",
   "metadata": {},
   "source": [
    "## Context\n",
    "\n",
    "This year [more than 146 million fellow Brazilian](https://www.tse.jus.br/eleitor/estatisticas-de-eleitorado/consulta-quantitativo) are going to choose our new President..."
   ]
  },
  {
   "cell_type": "markdown",
   "metadata": {},
   "source": [
    "## Data sources\n",
    "\n",
    "### Pool data\n",
    "- [Poder360 polls database](https://www.poder360.com.br/banco-de-dados/)\n",
    "### Voters statistics\n",
    "\n",
    "- [TSE: Voters statistics by Region](https://www.tse.jus.br/eleitor/estatisticas-de-eleitorado/consulta-quantitativo)\n",
    "- [TSE: Voters statistics by sex and age](https://www.tse.jus.br/eleitor/estatisticas-de-eleitorado/estatistica-do-eleitorado-por-sexo-e-faixa-etaria)\n",
    "\n",
    "### Dashboard\n",
    "- [App](https://chance-lula-ganhar-1o-turno.github.io/)\n",
    "- [Repositório: Chance de Lula ganhar no primeiro turno](https://github.com/chance-lula-ganhar-1o-turno)\n",
    "  "
   ]
  },
  {
   "cell_type": "markdown",
   "metadata": {},
   "source": [
    "## Analysis"
   ]
  },
  {
   "cell_type": "markdown",
   "metadata": {},
   "source": [
    "### Importing libraries"
   ]
  },
  {
   "cell_type": "code",
   "execution_count": null,
   "metadata": {},
   "outputs": [],
   "source": [
    "import numpy as np\n",
    "import scipy.stats as stats\n",
    "import pandas as pd\n",
    "import pymc3 as pm\n",
    "import arviz as az\n",
    "import matplotlib.pyplot as plt\n",
    "import seaborn as sns\n",
    "import dirichlet\n",
    "from pathlib import Path\n",
    "from tqdm.notebook import tqdm\n",
    "\n",
    "pd.set_option('display.max_columns', None)\n",
    "pd.set_option('display.max_rows', None)"
   ]
  },
  {
   "cell_type": "markdown",
   "metadata": {},
   "source": [
    "## Load and transform data"
   ]
  },
  {
   "cell_type": "code",
   "execution_count": null,
   "metadata": {},
   "outputs": [],
   "source": [
    "#noshow \n",
    "columns_to_use = [\"pesquisa_id\", \"cenario_id\", \"turno\", \"partido\",\n",
    "                  \"candidato\", \"cenario_descricao\", \"instituto\",\n",
    "                  \"percentual\", \"data_pesquisa\", \"qtd_entrevistas\",\n",
    "                  \"qtd_mencoes\",\"grupo\"]\n",
    "\n",
    "HDI = [0.025, 0.5, 0.975] # quantiles"
   ]
  },
  {
   "cell_type": "code",
   "execution_count": null,
   "metadata": {},
   "outputs": [],
   "source": [
    "def enrich_and_filter(df: pd.DataFrame) ->pd.DataFrame:\n",
    "    df['qtd_mencoes'] = df.percentual * df.qtd_entrevistas / 100.0\n",
    "    df['grupo'] = 'OUTROS'\n",
    "    df.loc[(df.partido == 'PT'), 'grupo'] = 'LULA'\n",
    "    df.loc[(df.partido.isna()), 'grupo'] = 'NULO'\n",
    "\n",
    "    return df[columns_to_use]"
   ]
  },
  {
   "cell_type": "code",
   "execution_count": null,
   "metadata": {},
   "outputs": [],
   "source": [
    "def get_most_recent_file() -> Path:\n",
    "    data_dir = Path('../assets/data/elections2022/')\n",
    "    return sorted(data_dir.glob('2022*.csv'))[-1]\n",
    "print(get_most_recent_file())"
   ]
  },
  {
   "cell_type": "code",
   "execution_count": null,
   "metadata": {},
   "outputs": [],
   "source": [
    "def get_most_recent_df() -> pd.DataFrame:\n",
    "    return enrich_and_filter(pd.read_csv(get_most_recent_file(),\n",
    "                                         sep=',',\n",
    "                                         parse_dates=True,\n",
    "                                         dayfirst=True)\n",
    "                             )\n"
   ]
  },
  {
   "cell_type": "code",
   "execution_count": null,
   "metadata": {},
   "outputs": [],
   "source": [
    "raw_df = get_most_recent_df()\n",
    "raw_df.head()"
   ]
  },
  {
   "cell_type": "code",
   "execution_count": null,
   "metadata": {},
   "outputs": [],
   "source": [
    "def prepare_df(raw_df: pd.DataFrame) -> pd.DataFrame:\n",
    "    table_df = raw_df.pivot_table(values=['qtd_mencoes'],\n",
    "                        index=['data_pesquisa', 'instituto'],\n",
    "                        columns=['grupo'],\n",
    "                        aggfunc=np.sum)\n",
    "    table2 = table_df.reset_index(col_level=1).copy()\n",
    "    table2.columns = [a[1] for a in table2.columns.to_flat_index()]\n",
    "    table2[\"TOTAL\"] = table2['LULA'] + table2['NULO'] + table2['OUTROS']\n",
    "    table2[\"mes\"] = pd.to_datetime(table2['data_pesquisa']).dt.strftime('%Y_%m')\n",
    "    return table2"
   ]
  },
  {
   "cell_type": "code",
   "execution_count": null,
   "metadata": {},
   "outputs": [],
   "source": [
    "df = prepare_df(raw_df)\n",
    "### ENQUANTO PODER DATA NAO ATUALIZA (SUA PRÓPRIA PESQUISA)\n",
    "### DADOS RETIRADOS DAQUI: https://bit.ly/3Ax2c93\n",
    "df = df.append(pd.DataFrame({\"data_pesquisa\": [\"2022-01-20\"],\n",
    "                        \"mes\": [\"2022_01\"],\n",
    "                        \"LULA\":[1260],\n",
    "                        \"NULO\":[360],\n",
    "                        \"OUTROS\":[1350],\n",
    "                        \"TOTAL\": [3000],\n",
    "                        \"instituto\":[\"PoderData\"]}))\n",
    "###\n",
    "df"
   ]
  },
  {
   "cell_type": "code",
   "execution_count": null,
   "metadata": {},
   "outputs": [],
   "source": [
    "def simulate_prob_freq(concentration: np.array, iters=10_000, N=100_000) -> float:\n",
    "    priors = stats.dirichlet.rvs(concentration, iters)\n",
    "    cnt = 0\n",
    "    for i in range(iters):\n",
    "        votes = stats.multinomial(n=100_000, p = priors[i]).rvs()[0]\n",
    "        if votes[0] > votes[2]:\n",
    "            cnt += 1\n",
    "    return cnt/iters * 100\n",
    "simulate_prob_freq(np.array([723, 186, 780]))\n",
    "#stats.multinomial(n=100_000, p = np.array([0.45, 0.11, 0.44])).rvs()"
   ]
  },
  {
   "cell_type": "code",
   "execution_count": null,
   "metadata": {},
   "outputs": [],
   "source": [
    "def run_prob_weekly(simulate_prob):\n",
    "    prior = np.array([420,130,450])\n",
    "    posterior = np.array([0,0,0])\n",
    "    for obj in df.itertuples():\n",
    "        like = np.array([obj.LULA, obj.NULO, obj.OUTROS])\n",
    "        posterior = prior + like * 0.5\n",
    "        print(obj.data_pesquisa, posterior/posterior.sum(), simulate_prob(posterior))\n",
    "        prior = 1000 * posterior/posterior.sum()\n",
    "\n",
    "run_prob_weekly(simulate_prob_freq)"
   ]
  },
  {
   "cell_type": "code",
   "execution_count": null,
   "metadata": {},
   "outputs": [],
   "source": [
    "mes = df.groupby(\"mes\").sum().reset_index()\n",
    "mes"
   ]
  },
  {
   "cell_type": "code",
   "execution_count": null,
   "metadata": {},
   "outputs": [],
   "source": [
    "def run_prob_monthly(simulate_prob):\n",
    "    prior = np.array([420,130,450])\n",
    "    posterior = np.array([0,0,0])\n",
    "    df_by_mes = df.groupby(\"mes\").sum().reset_index()\n",
    "    for obj in df_by_mes.itertuples():\n",
    "        # print(obj)\n",
    "        like = np.array([obj.LULA, obj.NULO, obj.OUTROS])\n",
    "        posterior = prior + like * 0.5\n",
    "        print(obj.mes, posterior, simulate_prob(posterior))\n",
    "        prior = 2000 * posterior/posterior.sum()\n",
    "run_prob_monthly(simulate_prob_freq)"
   ]
  },
  {
   "cell_type": "code",
   "execution_count": null,
   "metadata": {},
   "outputs": [],
   "source": [
    "def build_model(prior, observed, rw_alpha_mult=1.0, rw_beta_mult=1.0) -> pm.Model:\n",
    "    observed = observed.astype(\"int32\")\n",
    "    with pm.Model() as dirichlet_model:\n",
    "        rw = pm.Gamma(\"random_walk\",\n",
    "                      alpha=(rw_alpha_mult * prior),\n",
    "                      beta=(rw_beta_mult * np.ones(3)), shape=(3,)\n",
    "                      )\n",
    "        \n",
    "        previous_month_prior = pm.Dirichlet(\n",
    "            \"prior\", a=rw, shape=(3,),\n",
    "        )\n",
    "\n",
    "        pm.Multinomial(\n",
    "            \"current\", n=observed.sum(), p=(previous_month_prior), observed=observed, shape=(3,)\n",
    "        )\n",
    "    \n",
    "    return dirichlet_model\n",
    "model = build_model(np.ones(3), np.ones(3))\n",
    "pm.model_to_graphviz(model)"
   ]
  },
  {
   "cell_type": "code",
   "execution_count": null,
   "metadata": {},
   "outputs": [],
   "source": [
    "\n",
    "def sampling(model: pm.Model, samples=2000, chains=2):\n",
    "    with model:\n",
    "        dirichlet_trace = pm.sample(samples, tune=2000, chains=chains, return_inferencedata=True, progressbar=False)\n",
    "        ppc = pm.fast_sample_posterior_predictive(dirichlet_trace, 5000)\n",
    "    return dirichlet_trace , ppc\n",
    "\n",
    "def calc_prob_lula_win(model, trace, niter=30, ppc=None):\n",
    "    simul = []\n",
    "    if ppc:\n",
    "        lula = ppc['current'][:, 0]\n",
    "        others = ppc['current'][:, 2]\n",
    "        simul.append((lula > others).mean() * 100.0)\n",
    "    for _ in tqdm(range(niter)):\n",
    "        with model:\n",
    "            ppc = pm.fast_sample_posterior_predictive(trace, 10000)\n",
    "        lula = ppc['current'][:, 0]\n",
    "        others = ppc['current'][:, 2]\n",
    "        simul.append((lula > others).mean() * 100.0)\n",
    "    simul = np.array(simul)\n",
    "    return np.quantile(simul, q=HDI)"
   ]
  },
  {
   "cell_type": "markdown",
   "metadata": {},
   "source": [
    "### Weekly update"
   ]
  },
  {
   "cell_type": "code",
   "execution_count": null,
   "metadata": {},
   "outputs": [],
   "source": [
    "flat_prior = prior = np.array([400.0, 130.0, 470.0])\n",
    "\n",
    "df_by_mes = df.groupby(\"mes\").sum().reset_index()\n",
    "# for obj in df_by_mes.itertuples():\n",
    "\n",
    "print(df)\n",
    "for obj in df.itertuples():\n",
    "    observed = np.array([obj.LULA, obj.NULO, obj.OUTROS])\n",
    "    print(f\">>> observed = {observed}\")\n",
    "    model = build_model(prior, observed, rw_alpha_mult=10.0)\n",
    "    trace, ppc = sampling(model)\n",
    "    posterior = ppc['current']\n",
    "    # print(f\">>> posterior.shape={posterior.shape}\")\n",
    "    prior = dirichlet.mle(posterior/posterior.sum(axis=1).reshape(-1, 1))\n",
    "    # print('dirichlet.mle(posterior/posterior.sum(axis=1).reshape(-1, 1))=,', prior)\n",
    "    qs = calc_prob_lula_win(model, trace, ppc=ppc)\n",
    "    # print(f\">>> mes={obj.mes}, updaed_prior={prior},  qs={qs}% <<<\")\n",
    "    print(f\">>> data_pesquisa={obj.data_pesquisa}, updaed_prior={prior},  qs={qs}% <<<\");\n",
    "    post_prob = posterior/posterior.sum(axis=1).reshape(-1, 1)\n",
    "    print(f\"lula=\", np.quantile(post_prob[:, 0], q=HDI))\n",
    "    print(f\"nulo=\", np.quantile(post_prob[:, 1], q=HDI))\n",
    "    print(f\"demais=\", np.quantile(post_prob[:, 2], q=HDI))\n",
    "    "
   ]
  },
  {
   "cell_type": "code",
   "execution_count": null,
   "metadata": {},
   "outputs": [],
   "source": [
    "# az.plot_ppc(az.from_pymc3(posterior_predictive=ppc, model=model), figsize=(10,5));\n",
    "l = [1,2,3]\n",
    "print(*l)"
   ]
  },
  {
   "cell_type": "code",
   "execution_count": null,
   "metadata": {},
   "outputs": [],
   "source": [
    "az.summary(trace)"
   ]
  },
  {
   "cell_type": "code",
   "execution_count": null,
   "metadata": {},
   "outputs": [],
   "source": [
    "# fig, ax = plt.subplots(2, figsize=(10,6))\n",
    "lula = ppc['current'][:,0] / ppc['current'].sum(axis=1) * 100\n",
    "nulo = ppc['current'][:,1] / ppc['current'].sum(axis=1) * 100.00\n",
    "demais = ppc['current'][:,2] / ppc['current'].sum(axis=1) * 100\n",
    "az.plot_posterior({'Lula': lula, 'Demais': demais});\n",
    "#az.plot_posterior({}, ax=ax[1])"
   ]
  },
  {
   "cell_type": "code",
   "execution_count": null,
   "metadata": {},
   "outputs": [],
   "source": [
    "# a0 = np.array([100, 299, 100])\n",
    "# D0 = np.random.dirichlet(a0, 1000)\n",
    "# D0\n",
    "az.plot_posterior({'Lula': lula, 'Demais': demais, 'Nulo/Branco':nulo});\n",
    "fig, ax = plt.subplots(figsize=(10, 5), dpi=100)\n",
    "# ax.set_xlim(40, 50)\n",
    "post_pred = pd.DataFrame({'Lula': lula, 'Nulo': nulo, 'Demais': demais})\n",
    "sns.kdeplot(data=post_pred, ax=ax, palette=['red','yellow','black'], linewidth=2.5, gridsize=500);"
   ]
  },
  {
   "cell_type": "markdown",
   "metadata": {},
   "source": [
    "## MONTHLY"
   ]
  },
  {
   "cell_type": "code",
   "execution_count": null,
   "metadata": {},
   "outputs": [],
   "source": [
    "flat_prior = prior = np.array([420.0, 130.0, 450.0])\n",
    "\n",
    "df_by_mes = df.groupby(\"mes\").sum().reset_index()\n",
    "for obj in df_by_mes.itertuples():\n",
    "    observed = np.array([obj.LULA, obj.NULO, obj.OUTROS])\n",
    "    print(f\">>> observed = {observed}\")\n",
    "    model = build_model(prior, observed)\n",
    "    trace, ppc = sampling(model)\n",
    "    posterior = ppc['current']\n",
    "    # print(f\">>> posterior.shape={posterior.shape}\")\n",
    "    prior = dirichlet.mle(posterior/posterior.sum(axis=1).reshape(-1, 1))\n",
    "    # print('dirichlet.mle(posterior/posterior.sum(axis=1).reshape(-1, 1))=,', prior)\n",
    "    qs = calc_prob_lula_win(model, trace, 100, ppc=ppc)\n",
    "    print(f\">>> mes={obj.mes}, updaed_prior={prior},  qs={[str(q)+'%' for q in qs]} <<<\")\n",
    "    # print(f\">>> data_pesquisa={obj.data_pesquisa}, updaed_prior={prior},  qs={qs}% <<<\");\n",
    "    post_prob = posterior/posterior.sum(axis=1).reshape(-1, 1)\n",
    "    print(f\"lula=\", np.quantile(post_prob[:, 0], q=HDI))\n",
    "    print(f\"nulo=\", np.quantile(post_prob[:, 1], q=HDI))\n",
    "    print(f\"demais=\", np.quantile(post_prob[:, 2], q=HDI))\n",
    "\n"
   ]
  },
  {
   "cell_type": "code",
   "execution_count": null,
   "metadata": {},
   "outputs": [],
   "source": [
    "az.summary(trace)"
   ]
  },
  {
   "cell_type": "code",
   "execution_count": null,
   "metadata": {},
   "outputs": [],
   "source": [
    "lula = ppc['current'][:,0] / ppc['current'].sum(axis=1) * 100.00\n",
    "nulo = ppc['current'][:,1] / ppc['current'].sum(axis=1) * 100.00\n",
    "demais = ppc['current'][:,2] / ppc['current'].sum(axis=1) * 100.00\n",
    "az.plot_posterior({'Lula': lula, 'Demais': demais, 'Nulo/Branco':nulo});"
   ]
  },
  {
   "cell_type": "code",
   "execution_count": null,
   "metadata": {},
   "outputs": [],
   "source": [
    "fig, ax = plt.subplots(figsize=(10, 5), dpi=100)\n",
    "# ax.set_xlim(40, 50)\n",
    "post_pred = pd.DataFrame({'Lula': lula, 'Nulo': nulo, 'Demais': demais})\n",
    "sns.kdeplot(data=post_pred, ax=ax, palette=['red','yellow','black'], linewidth=2.5, gridsize=500);"
   ]
  },
  {
   "cell_type": "code",
   "execution_count": null,
   "metadata": {},
   "outputs": [],
   "source": [
    "(post_pred.Lula > post_pred.Demais).mean()"
   ]
  },
  {
   "cell_type": "markdown",
   "metadata": {},
   "source": [
    "## DEZEMBRO"
   ]
  },
  {
   "cell_type": "code",
   "execution_count": null,
   "metadata": {},
   "outputs": [],
   "source": [
    "# NOVEMBER\n",
    "prior = pd.array([6049, 1508, 7382]).astype(\"float32\")\n",
    "# DECEMBER\n",
    "observed = pd.array([7376, 1953, 7578])\n",
    "                    \n",
    "with pm.Model() as dirichlet_model:\n",
    "        \n",
    "    beta = pm.Beta(\"beta\", alpha=4, beta=1)\n",
    "    \n",
    "    november_prior = pm.Dirichlet(\n",
    "        \"november_prior\",\n",
    "        # Lula, BrancosNulosNaoSabem, Demais candidatos\n",
    "        a=prior * beta,\n",
    "    )\n",
    "    \n",
    "    december_like = pm.Multinomial(\n",
    "        \"december_like\", n=observed.sum(), p=november_prior, observed=observed,\n",
    "    )\n",
    "    "
   ]
  },
  {
   "cell_type": "code",
   "execution_count": null,
   "metadata": {},
   "outputs": [],
   "source": [
    "with dirichlet_model:\n",
    "   dirichlet_trace = pm.sample(5000, chains=2, return_inferencedata=False, cores=2, progressbar=False) # 20K samples\n",
    "   ppc = pm.sample_posterior_predictive(\n",
    "        dirichlet_trace, random_seed=1777,\n",
    "   )\n",
    "   az.plot_trace(dirichlet_trace)"
   ]
  },
  {
   "cell_type": "code",
   "execution_count": null,
   "metadata": {},
   "outputs": [],
   "source": [
    "az.summary(dirichlet_trace)"
   ]
  },
  {
   "cell_type": "code",
   "execution_count": null,
   "metadata": {},
   "outputs": [],
   "source": [
    "print(ppc)\n",
    "ppc['december_like'].mean(axis=0)"
   ]
  },
  {
   "cell_type": "code",
   "execution_count": null,
   "metadata": {},
   "outputs": [],
   "source": [
    "lula = ppc['december_like'][:, 0]\n",
    "demais = ppc['december_like'][:, 2]\n",
    "lula.shape,demais.shape"
   ]
  },
  {
   "cell_type": "code",
   "execution_count": null,
   "metadata": {},
   "outputs": [],
   "source": [
    "(lula > demais).mean()"
   ]
  },
  {
   "cell_type": "markdown",
   "metadata": {},
   "source": [
    "# Verifica conjugado"
   ]
  },
  {
   "cell_type": "code",
   "execution_count": null,
   "metadata": {},
   "outputs": [],
   "source": [
    "# NOVEMBER\n",
    "prior_data = pd.array([43, 11, 45]).astype(\"float32\")\n",
    "# DECEMBER\n",
    "observed = pd.array([46, 12, 41])\n",
    "                    \n",
    "with pm.Model() as m:\n",
    "        \n",
    "    prior = pm.Dirichlet(\"prior\", a=prior_data)\n",
    "    \n",
    "    pm.Multinomial(\"like\", n=observed.sum(), p=prior, observed=observed)\n",
    "    trace = pm.sample(5000, chains=2, return_inferencedata=True, cores=2, progressbar=False) # 20K samples"
   ]
  },
  {
   "cell_type": "code",
   "execution_count": null,
   "metadata": {},
   "outputs": [],
   "source": [
    "az.summary(trace)"
   ]
  },
  {
   "cell_type": "code",
   "execution_count": null,
   "metadata": {},
   "outputs": [],
   "source": [
    "obs2 = prior_data + observed\n",
    "with pm.Model() as m2:\n",
    "        \n",
    "    prior = pm.Dirichlet(\"prior\", a=np.array([1.0, 1.0, 1.0]))\n",
    "    \n",
    "    pm.Multinomial(\"like\", n=obs2.sum(), p=prior, observed=obs2)\n",
    "    trace2 = pm.sample(5000, tune=2000, chains=2, return_inferencedata=True, cores=2, progressbar=False) # 20K samples"
   ]
  },
  {
   "cell_type": "code",
   "execution_count": null,
   "metadata": {},
   "outputs": [],
   "source": [
    "az.summary(trace2)"
   ]
  },
  {
   "cell_type": "markdown",
   "metadata": {},
   "source": [
    "# Janeiro/Dezembro"
   ]
  },
  {
   "cell_type": "code",
   "execution_count": null,
   "metadata": {},
   "outputs": [],
   "source": [
    "import numpy as np\n",
    "\n",
    "T1 = 2_000 # \n",
    "T2 = 1_500 # EXAME/IDEIA\n",
    "T3 = 1_000 # XP/IPESPE\n",
    "# Mês atual: Lula, BrancosNulosNaoSabem, Demais candidatos\n",
    "current_observed = np.array([1955, 535, 2010])\n",
    "\n",
    "print(current_observed.sum())\n",
    "\n",
    "december_data = np.array([7356, 1973, 7578]).astype(\"float32\")\n",
    "\n",
    "with pm.Model() as dirichlet_model:\n",
    "    \n",
    "    beta = pm.Beta(\"beta\", alpha=6, beta=1)\n",
    "    \n",
    "    december_prior = pm.Dirichlet(\n",
    "        \"prior\",\n",
    "        # Mes anterior: Lula, BrancosNulosNaoSabem, Demais candidatos\n",
    "        a = december_data * beta,\n",
    "        # a = [1.0,1.0,1.0],\n",
    "        shape=(3,),\n",
    "    )\n",
    "    \n",
    "    january_like = pm.Multinomial(\n",
    "        \"like\", n=current_observed.sum(), p=december_prior, observed=current_observed, shape=(3,)\n",
    "    )\n",
    "pm.model_to_graphviz(dirichlet_model)    "
   ]
  },
  {
   "cell_type": "code",
   "execution_count": null,
   "metadata": {},
   "outputs": [],
   "source": [
    "with dirichlet_model:\n",
    "   dirichlet_trace = pm.sample(5000, chains=4, return_inferencedata=True, cores=4, progressbar=False) # 20K samples\n",
    "   ppc = pm.sample_posterior_predictive(\n",
    "        dirichlet_trace, random_seed=1777\n",
    "   )\n",
    "   az.plot_trace(dirichlet_trace, figsize=(22,8))\n",
    "   dirichlet_trace.extend(az.from_dict(posterior_predictive=ppc))"
   ]
  },
  {
   "cell_type": "code",
   "execution_count": null,
   "metadata": {},
   "outputs": [],
   "source": [
    "az.summary(dirichlet_trace)"
   ]
  },
  {
   "cell_type": "code",
   "execution_count": null,
   "metadata": {},
   "outputs": [],
   "source": [
    "az.plot_posterior(dirichlet_trace);"
   ]
  },
  {
   "cell_type": "code",
   "execution_count": null,
   "metadata": {},
   "outputs": [],
   "source": [
    "az.plot_energy(dirichlet_trace)"
   ]
  },
  {
   "cell_type": "code",
   "execution_count": null,
   "metadata": {},
   "outputs": [],
   "source": [
    "lula = ppc['like'][:, 0]\n",
    "demais = ppc['like'][:, 2]\n",
    "print(lula.shape,demais.shape)\n",
    "prob_lula = (lula > demais).mean() * 100.0\n",
    "print(f\"Probabilidade de Lula vencer no primeiro turno é de: {prob_lula:.2f}%\", )"
   ]
  },
  {
   "cell_type": "code",
   "execution_count": null,
   "metadata": {},
   "outputs": [],
   "source": [
    "# create figure and axes\n",
    "fig, ax = plt.subplots(figsize=(10, 5), dpi=100)\n",
    "ax.set_xlim(1800, 2200)\n",
    "sns.kdeplot(data=post_pred, ax=ax, palette=['red','yellow','black'], linewidth=2.5, gridsize=500);"
   ]
  },
  {
   "cell_type": "code",
   "execution_count": null,
   "metadata": {},
   "outputs": [],
   "source": []
  },
  {
   "cell_type": "markdown",
   "metadata": {},
   "source": [
    "## Playground"
   ]
  },
  {
   "cell_type": "code",
   "execution_count": null,
   "metadata": {},
   "outputs": [],
   "source": [
    "import math\n",
    "1 - stats.norm.cdf(0, loc=-1, scale=math.sqrt(5))"
   ]
  },
  {
   "cell_type": "code",
   "execution_count": null,
   "metadata": {},
   "outputs": [],
   "source": [
    "import scipy as sp\n",
    "true_p = sp.stats.dirichlet(6.0 * np.array([0.45, 0.3, 0.15, 0.9, 0.01])).rvs(size=10)\n",
    "observed = np.vstack([sp.stats.multinomial(n=50, p=p_i).rvs() for p_i in true_p])\n",
    "\n"
   ]
  },
  {
   "cell_type": "code",
   "execution_count": null,
   "metadata": {},
   "outputs": [],
   "source": [
    "observed.sum(axis=1)"
   ]
  },
  {
   "cell_type": "code",
   "execution_count": null,
   "metadata": {},
   "outputs": [],
   "source": [
    "current_observed.sum(axis=0)"
   ]
  },
  {
   "cell_type": "code",
   "execution_count": null,
   "metadata": {},
   "outputs": [],
   "source": [
    "current_observed.sum(axis=1)"
   ]
  },
  {
   "cell_type": "code",
   "execution_count": null,
   "metadata": {},
   "outputs": [],
   "source": [
    "current_observed"
   ]
  },
  {
   "cell_type": "code",
   "execution_count": null,
   "metadata": {},
   "outputs": [],
   "source": [
    "import ipywidgets as widgets\n",
    "from ipywidgets import interact\n",
    "from datetime import datetime\n",
    "import plotly.io as pio\n",
    "# Default is plotly_mimetype+notebook, but jekyll fails to parse plotly_mimetype.\n",
    "pio.renderers.default = 'notebook_connected'\n",
    "\n",
    "# Inject the missing require.js dependency.\n",
    "from IPython.display import display, HTML\n",
    "js = '<script src=\"https://cdnjs.cloudflare.com/ajax/libs/require.js/2.3.6/require.min.js\" integrity=\"sha512-c3Nl8+7g4LMSTdrm621y7kf9v3SDPnhxLNhcjFJbKECVnmZHTdo+IRO05sNLTH/D3vA6u1X32ehoLC7WFVdheg==\" crossorigin=\"anonymous\"></script>'\n",
    "display(HTML(js))\n",
    "import plotly.express as px\n",
    "\n",
    "df = px.data.gapminder()\n",
    "px.scatter(df, x=\"gdpPercap\", y=\"lifeExp\", animation_frame=\"year\", animation_group=\"country\",\n",
    "           size=\"pop\", color=\"continent\", hover_name=\"country\",\n",
    "           log_x=True, size_max=55, range_x=[100,100000], range_y=[25,90])\n"
   ]
  },
  {
   "cell_type": "code",
   "execution_count": null,
   "metadata": {},
   "outputs": [],
   "source": [
    "# hide_input\n",
    "# This cell is required for the export to HTML to work.\n"
   ]
  },
  {
   "cell_type": "code",
   "execution_count": null,
   "metadata": {},
   "outputs": [],
   "source": [
    "observed_prior = np.array([7356., 1973., 7578.])\n",
    "prior = []\n",
    "N = 4000\n",
    "for it in range(N):\n",
    "    b = stats.beta.rvs(a=5, b=1, size=3)\n",
    "    # print(b)\n",
    "    # print(observed_prior * b)\n",
    "    diric = stats.dirichlet.rvs(observed_prior * b,)\n",
    "    # print(diric[0])\n",
    "    prior.append(diric[0])\n",
    "prior = np.array(prior)\n",
    "print(prior[:4])"
   ]
  },
  {
   "cell_type": "code",
   "execution_count": null,
   "metadata": {},
   "outputs": [],
   "source": [
    "\n",
    "print((prior[:,0] > prior[:,2]).mean())\n",
    "print(prior.shape)\n"
   ]
  },
  {
   "cell_type": "code",
   "execution_count": null,
   "metadata": {},
   "outputs": [],
   "source": [
    "posterior = []\n",
    "for it in range(N):\n",
    "    mn = stats.multinomial.rvs(n=3000, p=[1340/3000, 370/3000, 1290/3000])\n",
    "    posterior.append(mn * prior[it])\n",
    "posterior = np.array(posterior)\n",
    "\n"
   ]
  },
  {
   "cell_type": "code",
   "execution_count": null,
   "metadata": {},
   "outputs": [],
   "source": [
    "post = posterior#/posterior.sum(axis=1).reshape(4000,1)\n",
    "print(post.sum(axis=1))\n",
    "print(post[:10, 0])\n",
    "print(post[:10, 2])"
   ]
  },
  {
   "cell_type": "code",
   "execution_count": null,
   "metadata": {},
   "outputs": [],
   "source": [
    "lula = post[:, 0]\n",
    "others = post[:, 2]\n",
    "print((lula > others).mean())"
   ]
  },
  {
   "cell_type": "code",
   "execution_count": null,
   "metadata": {},
   "outputs": [],
   "source": [
    "simul = []\n",
    "for it in range(N):\n",
    "    idx = np.random.choice(N,1)[0]\n",
    "    #print(idx)\n",
    "    #print(post[idx])\n",
    "    dir2 = stats.dirichlet.rvs(post[idx])[0]\n",
    "    simul.append(dir2)\n",
    "dir2 = np.array(simul)"
   ]
  },
  {
   "cell_type": "code",
   "execution_count": null,
   "metadata": {},
   "outputs": [],
   "source": [
    "dir2"
   ]
  },
  {
   "cell_type": "code",
   "execution_count": null,
   "metadata": {},
   "outputs": [],
   "source": [
    "lula = dir2[:, 0]\n",
    "others = dir2[:, 2]\n",
    "print((lula > others).mean())"
   ]
  },
  {
   "cell_type": "code",
   "execution_count": null,
   "metadata": {},
   "outputs": [],
   "source": [
    "np.arange(10)"
   ]
  },
  {
   "cell_type": "code",
   "execution_count": null,
   "metadata": {},
   "outputs": [],
   "source": [
    "np.linspace(0,1, 101)"
   ]
  },
  {
   "cell_type": "code",
   "execution_count": null,
   "metadata": {},
   "outputs": [],
   "source": [
    "x = np.arange(5,10)"
   ]
  },
  {
   "cell_type": "code",
   "execution_count": null,
   "metadata": {},
   "outputs": [],
   "source": [
    "np.concatenate([[x[0] - 5], x, [x[-1] + 5]])"
   ]
  },
  {
   "cell_type": "code",
   "execution_count": null,
   "metadata": {},
   "outputs": [],
   "source": [
    "1.96 * np.sqrt((0.5**2)/3000)"
   ]
  },
  {
   "cell_type": "code",
   "execution_count": null,
   "metadata": {},
   "outputs": [],
   "source": [
    "1./(1./0.01789 + 1./0.0200)"
   ]
  },
  {
   "cell_type": "code",
   "execution_count": null,
   "metadata": {},
   "outputs": [],
   "source": [
    "1/100"
   ]
  },
  {
   "cell_type": "code",
   "execution_count": null,
   "metadata": {},
   "outputs": [],
   "source": [
    "1/(1./0.01789 + 1./0.0200)"
   ]
  },
  {
   "cell_type": "code",
   "execution_count": null,
   "metadata": {},
   "outputs": [],
   "source": []
  }
 ],
 "metadata": {
  "interpreter": {
   "hash": "037a033ce234ff666f14cbdf22ea40000c7774c5ff2d9a18fd075477cf956e1c"
  },
  "kernelspec": {
   "display_name": "Python 3.9.6 64-bit ('kaggle_env': conda)",
   "language": "python",
   "name": "python3"
  },
  "language_info": {
   "codemirror_mode": {
    "name": "ipython",
    "version": 3
   },
   "file_extension": ".py",
   "mimetype": "text/x-python",
   "name": "python",
   "nbconvert_exporter": "python",
   "pygments_lexer": "ipython3",
   "version": "3.9.6"
  },
  "orig_nbformat": 4
 },
 "nbformat": 4,
 "nbformat_minor": 2
}
