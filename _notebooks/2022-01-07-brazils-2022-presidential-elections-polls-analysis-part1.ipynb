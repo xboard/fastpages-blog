{
 "cells": [
  {
   "cell_type": "markdown",
   "metadata": {},
   "source": [
    "# Collecting Brazil's 2022 presidential election polls data\n",
    "> A tutorial on how to collect, filter and prepare for analysis Brazil's 2022 presidential election polls data.\n",
    "\n",
    "- toc: true \n",
    "- badges: true\n",
    "- comments: true\n",
    "- categories: [data-science]\n",
    "- hide: false\n",
    "- search_exclude: false\n",
    "- image: images/chart-preview.png"
   ]
  },
  {
   "cell_type": "markdown",
   "metadata": {},
   "source": [
    "## Context\n",
    "\n",
    "This year [more than 146 million fellow Brazilian](https://www.tse.jus.br/eleitor/estatisticas-de-eleitorado/consulta-quantitativo) are going to choose our new President..."
   ]
  },
  {
   "cell_type": "markdown",
   "metadata": {},
   "source": [
    "## Data sources\n",
    "\n",
    "### Pool data\n",
    "- [Poder360 polls database](https://www.poder360.com.br/banco-de-dados/)\n",
    "### Voters statistics\n",
    "\n",
    "- [TSE: Voters statistics by Region](https://www.tse.jus.br/eleitor/estatisticas-de-eleitorado/consulta-quantitativo)\n",
    "- [TSE: Voters statistics by sex and age](https://www.tse.jus.br/eleitor/estatisticas-de-eleitorado/estatistica-do-eleitorado-por-sexo-e-faixa-etaria)\n",
    "\n",
    "### Dashboard\n",
    "- [App](https://chance-lula-ganhar-1o-turno.github.io/)\n",
    "- [Repositório: Chance de Lula ganhar no primeiro turno](https://github.com/chance-lula-ganhar-1o-turno)\n",
    "  "
   ]
  },
  {
   "cell_type": "markdown",
   "metadata": {},
   "source": [
    "## Analysis"
   ]
  },
  {
   "cell_type": "markdown",
   "metadata": {},
   "source": [
    "### Importing libraries"
   ]
  },
  {
   "cell_type": "code",
   "execution_count": 266,
   "metadata": {},
   "outputs": [],
   "source": [
    "import numpy as np\n",
    "import scipy.stats as stats\n",
    "import pandas as pd\n",
    "import pymc3 as pm\n",
    "import arviz as az\n",
    "import matplotlib.pyplot as plt\n",
    "import seaborn as sns\n",
    "import dirichlet\n",
    "from pathlib import Path\n",
    "from tqdm.notebook import tqdm\n",
    "\n",
    "pd.set_option('display.max_columns', None)\n",
    "pd.set_option('display.max_rows', None)"
   ]
  },
  {
   "cell_type": "markdown",
   "metadata": {},
   "source": [
    "## Load and transform data"
   ]
  },
  {
   "cell_type": "code",
   "execution_count": 267,
   "metadata": {},
   "outputs": [],
   "source": [
    "#noshow \n",
    "columns_to_use = [\"pesquisa_id\", \"cenario_id\", \"turno\", \"partido\",\n",
    "                  \"candidato\", \"cenario_descricao\", \"instituto\",\n",
    "                  \"percentual\", \"data_pesquisa\", \"qtd_entrevistas\",\n",
    "                  \"qtd_mencoes\",\"grupo\"]\n",
    "\n",
    "HDI = [0.025, 0.5, 0.975] # quantiles"
   ]
  },
  {
   "cell_type": "code",
   "execution_count": 268,
   "metadata": {},
   "outputs": [],
   "source": [
    "def enrich_and_filter(df: pd.DataFrame) ->pd.DataFrame:\n",
    "    df['qtd_mencoes'] = df.percentual * df.qtd_entrevistas / 100.0\n",
    "    df['grupo'] = 'OUTROS'\n",
    "    df.loc[(df.partido == 'PT'), 'grupo'] = 'LULA'\n",
    "    df.loc[(df.partido.isna()), 'grupo'] = 'NULO'\n",
    "\n",
    "    return df[columns_to_use]"
   ]
  },
  {
   "cell_type": "code",
   "execution_count": 269,
   "metadata": {},
   "outputs": [
    {
     "name": "stdout",
     "output_type": "stream",
     "text": [
      "../assets/data/elections2022/20220121.csv\n"
     ]
    }
   ],
   "source": [
    "def get_most_recent_file() -> Path:\n",
    "    data_dir = Path('../assets/data/elections2022/')\n",
    "    return sorted(data_dir.glob('2022*.csv'))[-1]\n",
    "print(get_most_recent_file())"
   ]
  },
  {
   "cell_type": "code",
   "execution_count": 270,
   "metadata": {},
   "outputs": [],
   "source": [
    "def get_most_recent_df() -> pd.DataFrame:\n",
    "    return enrich_and_filter(pd.read_csv(get_most_recent_file(),\n",
    "                                         sep=',',\n",
    "                                         parse_dates=True,\n",
    "                                         dayfirst=True)\n",
    "                             )\n"
   ]
  },
  {
   "cell_type": "code",
   "execution_count": 271,
   "metadata": {},
   "outputs": [
    {
     "data": {
      "text/html": [
       "<div>\n",
       "<style scoped>\n",
       "    .dataframe tbody tr th:only-of-type {\n",
       "        vertical-align: middle;\n",
       "    }\n",
       "\n",
       "    .dataframe tbody tr th {\n",
       "        vertical-align: top;\n",
       "    }\n",
       "\n",
       "    .dataframe thead th {\n",
       "        text-align: right;\n",
       "    }\n",
       "</style>\n",
       "<table border=\"1\" class=\"dataframe\">\n",
       "  <thead>\n",
       "    <tr style=\"text-align: right;\">\n",
       "      <th></th>\n",
       "      <th>pesquisa_id</th>\n",
       "      <th>cenario_id</th>\n",
       "      <th>turno</th>\n",
       "      <th>partido</th>\n",
       "      <th>candidato</th>\n",
       "      <th>cenario_descricao</th>\n",
       "      <th>instituto</th>\n",
       "      <th>percentual</th>\n",
       "      <th>data_pesquisa</th>\n",
       "      <th>qtd_entrevistas</th>\n",
       "      <th>qtd_mencoes</th>\n",
       "      <th>grupo</th>\n",
       "    </tr>\n",
       "  </thead>\n",
       "  <tbody>\n",
       "    <tr>\n",
       "      <th>0</th>\n",
       "      <td>9750</td>\n",
       "      <td>24567</td>\n",
       "      <td>1</td>\n",
       "      <td>NaN</td>\n",
       "      <td>não sabe / não respondeu</td>\n",
       "      <td>cenário 1 - estimulado - 1º turno</td>\n",
       "      <td>Vox Populi</td>\n",
       "      <td>12.0</td>\n",
       "      <td>2021-11-04</td>\n",
       "      <td>2000</td>\n",
       "      <td>240.0</td>\n",
       "      <td>NULO</td>\n",
       "    </tr>\n",
       "    <tr>\n",
       "      <th>1</th>\n",
       "      <td>9750</td>\n",
       "      <td>24567</td>\n",
       "      <td>1</td>\n",
       "      <td>NaN</td>\n",
       "      <td>branco / nulo / nenhum</td>\n",
       "      <td>cenário 1 - estimulado - 1º turno</td>\n",
       "      <td>Vox Populi</td>\n",
       "      <td>10.0</td>\n",
       "      <td>2021-11-04</td>\n",
       "      <td>2000</td>\n",
       "      <td>200.0</td>\n",
       "      <td>NULO</td>\n",
       "    </tr>\n",
       "    <tr>\n",
       "      <th>2</th>\n",
       "      <td>9750</td>\n",
       "      <td>24567</td>\n",
       "      <td>1</td>\n",
       "      <td>PSD</td>\n",
       "      <td>Rodrigo Pacheco</td>\n",
       "      <td>cenário 1 - estimulado - 1º turno</td>\n",
       "      <td>Vox Populi</td>\n",
       "      <td>0.0</td>\n",
       "      <td>2021-11-04</td>\n",
       "      <td>2000</td>\n",
       "      <td>0.0</td>\n",
       "      <td>OUTROS</td>\n",
       "    </tr>\n",
       "    <tr>\n",
       "      <th>3</th>\n",
       "      <td>9750</td>\n",
       "      <td>24567</td>\n",
       "      <td>1</td>\n",
       "      <td>PT</td>\n",
       "      <td>Lula</td>\n",
       "      <td>cenário 1 - estimulado - 1º turno</td>\n",
       "      <td>Vox Populi</td>\n",
       "      <td>44.0</td>\n",
       "      <td>2021-11-04</td>\n",
       "      <td>2000</td>\n",
       "      <td>880.0</td>\n",
       "      <td>LULA</td>\n",
       "    </tr>\n",
       "    <tr>\n",
       "      <th>4</th>\n",
       "      <td>9750</td>\n",
       "      <td>24567</td>\n",
       "      <td>1</td>\n",
       "      <td>sem partido</td>\n",
       "      <td>Bolsonaro</td>\n",
       "      <td>cenário 1 - estimulado - 1º turno</td>\n",
       "      <td>Vox Populi</td>\n",
       "      <td>21.0</td>\n",
       "      <td>2021-11-04</td>\n",
       "      <td>2000</td>\n",
       "      <td>420.0</td>\n",
       "      <td>OUTROS</td>\n",
       "    </tr>\n",
       "  </tbody>\n",
       "</table>\n",
       "</div>"
      ],
      "text/plain": [
       "   pesquisa_id  cenario_id  turno      partido                 candidato  \\\n",
       "0         9750       24567      1          NaN  não sabe / não respondeu   \n",
       "1         9750       24567      1          NaN    branco / nulo / nenhum   \n",
       "2         9750       24567      1          PSD           Rodrigo Pacheco   \n",
       "3         9750       24567      1           PT                      Lula   \n",
       "4         9750       24567      1  sem partido                 Bolsonaro   \n",
       "\n",
       "                   cenario_descricao   instituto  percentual data_pesquisa  \\\n",
       "0  cenário 1 - estimulado - 1º turno  Vox Populi        12.0    2021-11-04   \n",
       "1  cenário 1 - estimulado - 1º turno  Vox Populi        10.0    2021-11-04   \n",
       "2  cenário 1 - estimulado - 1º turno  Vox Populi         0.0    2021-11-04   \n",
       "3  cenário 1 - estimulado - 1º turno  Vox Populi        44.0    2021-11-04   \n",
       "4  cenário 1 - estimulado - 1º turno  Vox Populi        21.0    2021-11-04   \n",
       "\n",
       "   qtd_entrevistas  qtd_mencoes   grupo  \n",
       "0             2000        240.0    NULO  \n",
       "1             2000        200.0    NULO  \n",
       "2             2000          0.0  OUTROS  \n",
       "3             2000        880.0    LULA  \n",
       "4             2000        420.0  OUTROS  "
      ]
     },
     "execution_count": 271,
     "metadata": {},
     "output_type": "execute_result"
    }
   ],
   "source": [
    "raw_df = get_most_recent_df()\n",
    "raw_df.head()"
   ]
  },
  {
   "cell_type": "code",
   "execution_count": 272,
   "metadata": {},
   "outputs": [],
   "source": [
    "def prepare_df(raw_df: pd.DataFrame) -> pd.DataFrame:\n",
    "    table_df = raw_df.pivot_table(values=['qtd_mencoes'],\n",
    "                        index=['data_pesquisa', 'instituto'],\n",
    "                        columns=['grupo'],\n",
    "                        aggfunc=np.sum)\n",
    "    table2 = table_df.reset_index(col_level=1).copy()\n",
    "    table2.columns = [a[1] for a in table2.columns.to_flat_index()]\n",
    "    table2[\"TOTAL\"] = table2['LULA'] + table2['NULO'] + table2['OUTROS']\n",
    "    table2[\"mes\"] = pd.to_datetime(table2['data_pesquisa']).dt.strftime('%Y_%m')\n",
    "    return table2"
   ]
  },
  {
   "cell_type": "code",
   "execution_count": 273,
   "metadata": {},
   "outputs": [
    {
     "data": {
      "text/html": [
       "<div>\n",
       "<style scoped>\n",
       "    .dataframe tbody tr th:only-of-type {\n",
       "        vertical-align: middle;\n",
       "    }\n",
       "\n",
       "    .dataframe tbody tr th {\n",
       "        vertical-align: top;\n",
       "    }\n",
       "\n",
       "    .dataframe thead th {\n",
       "        text-align: right;\n",
       "    }\n",
       "</style>\n",
       "<table border=\"1\" class=\"dataframe\">\n",
       "  <thead>\n",
       "    <tr style=\"text-align: right;\">\n",
       "      <th></th>\n",
       "      <th>data_pesquisa</th>\n",
       "      <th>instituto</th>\n",
       "      <th>LULA</th>\n",
       "      <th>NULO</th>\n",
       "      <th>OUTROS</th>\n",
       "      <th>TOTAL</th>\n",
       "      <th>mes</th>\n",
       "    </tr>\n",
       "  </thead>\n",
       "  <tbody>\n",
       "    <tr>\n",
       "      <th>0</th>\n",
       "      <td>2021-11-04</td>\n",
       "      <td>Vox Populi</td>\n",
       "      <td>880.000</td>\n",
       "      <td>440.000</td>\n",
       "      <td>660.000</td>\n",
       "      <td>1980.0</td>\n",
       "      <td>2021_11</td>\n",
       "    </tr>\n",
       "    <tr>\n",
       "      <th>1</th>\n",
       "      <td>2021-11-06</td>\n",
       "      <td>Quaest</td>\n",
       "      <td>990.240</td>\n",
       "      <td>288.820</td>\n",
       "      <td>783.940</td>\n",
       "      <td>2063.0</td>\n",
       "      <td>2021_11</td>\n",
       "    </tr>\n",
       "    <tr>\n",
       "      <th>2</th>\n",
       "      <td>2021-11-19</td>\n",
       "      <td>Paraná Pesquisas</td>\n",
       "      <td>704.980</td>\n",
       "      <td>270.680</td>\n",
       "      <td>1044.340</td>\n",
       "      <td>2020.0</td>\n",
       "      <td>2021_11</td>\n",
       "    </tr>\n",
       "    <tr>\n",
       "      <th>3</th>\n",
       "      <td>2021-11-20</td>\n",
       "      <td>Futura</td>\n",
       "      <td>740.000</td>\n",
       "      <td>142.000</td>\n",
       "      <td>1118.000</td>\n",
       "      <td>2000.0</td>\n",
       "      <td>2021_11</td>\n",
       "    </tr>\n",
       "    <tr>\n",
       "      <th>4</th>\n",
       "      <td>2021-11-24</td>\n",
       "      <td>PoderData</td>\n",
       "      <td>850.000</td>\n",
       "      <td>225.000</td>\n",
       "      <td>1400.000</td>\n",
       "      <td>2475.0</td>\n",
       "      <td>2021_11</td>\n",
       "    </tr>\n",
       "    <tr>\n",
       "      <th>5</th>\n",
       "      <td>2021-11-29</td>\n",
       "      <td>Atlas</td>\n",
       "      <td>1883.628</td>\n",
       "      <td>140.832</td>\n",
       "      <td>2376.540</td>\n",
       "      <td>4401.0</td>\n",
       "      <td>2021_11</td>\n",
       "    </tr>\n",
       "    <tr>\n",
       "      <th>6</th>\n",
       "      <td>2021-12-05</td>\n",
       "      <td>Quaest</td>\n",
       "      <td>937.020</td>\n",
       "      <td>244.440</td>\n",
       "      <td>855.540</td>\n",
       "      <td>2037.0</td>\n",
       "      <td>2021_12</td>\n",
       "    </tr>\n",
       "    <tr>\n",
       "      <th>7</th>\n",
       "      <td>2021-12-09</td>\n",
       "      <td>Ideia Big Data</td>\n",
       "      <td>444.000</td>\n",
       "      <td>156.000</td>\n",
       "      <td>600.000</td>\n",
       "      <td>1200.0</td>\n",
       "      <td>2021_12</td>\n",
       "    </tr>\n",
       "    <tr>\n",
       "      <th>8</th>\n",
       "      <td>2021-12-11</td>\n",
       "      <td>MDA</td>\n",
       "      <td>856.856</td>\n",
       "      <td>306.306</td>\n",
       "      <td>838.838</td>\n",
       "      <td>2002.0</td>\n",
       "      <td>2021_12</td>\n",
       "    </tr>\n",
       "    <tr>\n",
       "      <th>9</th>\n",
       "      <td>2021-12-13</td>\n",
       "      <td>Futura</td>\n",
       "      <td>758.000</td>\n",
       "      <td>170.000</td>\n",
       "      <td>1072.000</td>\n",
       "      <td>2000.0</td>\n",
       "      <td>2021_12</td>\n",
       "    </tr>\n",
       "    <tr>\n",
       "      <th>10</th>\n",
       "      <td>2021-12-13</td>\n",
       "      <td>Ipec</td>\n",
       "      <td>960.960</td>\n",
       "      <td>280.280</td>\n",
       "      <td>760.760</td>\n",
       "      <td>2002.0</td>\n",
       "      <td>2021_12</td>\n",
       "    </tr>\n",
       "    <tr>\n",
       "      <th>11</th>\n",
       "      <td>2021-12-16</td>\n",
       "      <td>Datafolha</td>\n",
       "      <td>1759.680</td>\n",
       "      <td>366.600</td>\n",
       "      <td>1539.720</td>\n",
       "      <td>3666.0</td>\n",
       "      <td>2021_12</td>\n",
       "    </tr>\n",
       "    <tr>\n",
       "      <th>12</th>\n",
       "      <td>2021-12-16</td>\n",
       "      <td>Ipespe</td>\n",
       "      <td>440.000</td>\n",
       "      <td>120.000</td>\n",
       "      <td>450.000</td>\n",
       "      <td>1010.0</td>\n",
       "      <td>2021_12</td>\n",
       "    </tr>\n",
       "    <tr>\n",
       "      <th>13</th>\n",
       "      <td>2021-12-21</td>\n",
       "      <td>PoderData</td>\n",
       "      <td>1200.000</td>\n",
       "      <td>330.000</td>\n",
       "      <td>1470.000</td>\n",
       "      <td>3000.0</td>\n",
       "      <td>2021_12</td>\n",
       "    </tr>\n",
       "    <tr>\n",
       "      <th>14</th>\n",
       "      <td>2022-01-09</td>\n",
       "      <td>Quaest</td>\n",
       "      <td>900.000</td>\n",
       "      <td>240.000</td>\n",
       "      <td>820.000</td>\n",
       "      <td>1960.0</td>\n",
       "      <td>2022_01</td>\n",
       "    </tr>\n",
       "    <tr>\n",
       "      <th>15</th>\n",
       "      <td>2022-01-12</td>\n",
       "      <td>Ipespe</td>\n",
       "      <td>440.000</td>\n",
       "      <td>130.000</td>\n",
       "      <td>450.000</td>\n",
       "      <td>1020.0</td>\n",
       "      <td>2022_01</td>\n",
       "    </tr>\n",
       "    <tr>\n",
       "      <th>16</th>\n",
       "      <td>2022-01-13</td>\n",
       "      <td>Ideia Big Data</td>\n",
       "      <td>615.000</td>\n",
       "      <td>165.000</td>\n",
       "      <td>705.000</td>\n",
       "      <td>1485.0</td>\n",
       "      <td>2022_01</td>\n",
       "    </tr>\n",
       "    <tr>\n",
       "      <th>0</th>\n",
       "      <td>2022-01-20</td>\n",
       "      <td>PoderData</td>\n",
       "      <td>1260.000</td>\n",
       "      <td>360.000</td>\n",
       "      <td>1350.000</td>\n",
       "      <td>3000.0</td>\n",
       "      <td>2022_01</td>\n",
       "    </tr>\n",
       "  </tbody>\n",
       "</table>\n",
       "</div>"
      ],
      "text/plain": [
       "   data_pesquisa         instituto      LULA     NULO    OUTROS   TOTAL  \\\n",
       "0     2021-11-04        Vox Populi   880.000  440.000   660.000  1980.0   \n",
       "1     2021-11-06            Quaest   990.240  288.820   783.940  2063.0   \n",
       "2     2021-11-19  Paraná Pesquisas   704.980  270.680  1044.340  2020.0   \n",
       "3     2021-11-20            Futura   740.000  142.000  1118.000  2000.0   \n",
       "4     2021-11-24         PoderData   850.000  225.000  1400.000  2475.0   \n",
       "5     2021-11-29             Atlas  1883.628  140.832  2376.540  4401.0   \n",
       "6     2021-12-05            Quaest   937.020  244.440   855.540  2037.0   \n",
       "7     2021-12-09    Ideia Big Data   444.000  156.000   600.000  1200.0   \n",
       "8     2021-12-11               MDA   856.856  306.306   838.838  2002.0   \n",
       "9     2021-12-13            Futura   758.000  170.000  1072.000  2000.0   \n",
       "10    2021-12-13              Ipec   960.960  280.280   760.760  2002.0   \n",
       "11    2021-12-16         Datafolha  1759.680  366.600  1539.720  3666.0   \n",
       "12    2021-12-16            Ipespe   440.000  120.000   450.000  1010.0   \n",
       "13    2021-12-21         PoderData  1200.000  330.000  1470.000  3000.0   \n",
       "14    2022-01-09            Quaest   900.000  240.000   820.000  1960.0   \n",
       "15    2022-01-12            Ipespe   440.000  130.000   450.000  1020.0   \n",
       "16    2022-01-13    Ideia Big Data   615.000  165.000   705.000  1485.0   \n",
       "0     2022-01-20         PoderData  1260.000  360.000  1350.000  3000.0   \n",
       "\n",
       "        mes  \n",
       "0   2021_11  \n",
       "1   2021_11  \n",
       "2   2021_11  \n",
       "3   2021_11  \n",
       "4   2021_11  \n",
       "5   2021_11  \n",
       "6   2021_12  \n",
       "7   2021_12  \n",
       "8   2021_12  \n",
       "9   2021_12  \n",
       "10  2021_12  \n",
       "11  2021_12  \n",
       "12  2021_12  \n",
       "13  2021_12  \n",
       "14  2022_01  \n",
       "15  2022_01  \n",
       "16  2022_01  \n",
       "0   2022_01  "
      ]
     },
     "execution_count": 273,
     "metadata": {},
     "output_type": "execute_result"
    }
   ],
   "source": [
    "df = prepare_df(raw_df)\n",
    "### ENQUANTO PODER DATA NAO ATUALIZA (SUA PRÓPRIA PESQUISA)\n",
    "### DADOS RETIRADOS DAQUI: https://bit.ly/3Ax2c93\n",
    "df = df.append(pd.DataFrame({\"data_pesquisa\": [\"2022-01-20\"],\n",
    "                        \"mes\": [\"2022_01\"],\n",
    "                        \"LULA\":[1260],\n",
    "                        \"NULO\":[360],\n",
    "                        \"OUTROS\":[1350],\n",
    "                        \"TOTAL\": [3000],\n",
    "                        \"instituto\":[\"PoderData\"]}))\n",
    "###\n",
    "df"
   ]
  },
  {
   "cell_type": "code",
   "execution_count": 274,
   "metadata": {},
   "outputs": [
    {
     "data": {
      "text/plain": [
       "7.35"
      ]
     },
     "execution_count": 274,
     "metadata": {},
     "output_type": "execute_result"
    }
   ],
   "source": [
    "def simulate_prob_freq(concentration: np.array, iters=10_000, N=100_000) -> float:\n",
    "    priors = stats.dirichlet.rvs(concentration, iters)\n",
    "    cnt = 0\n",
    "    for i in range(iters):\n",
    "        votes = stats.multinomial(n=100_000, p = priors[i]).rvs()[0]\n",
    "        if votes[0] > votes[2]:\n",
    "            cnt += 1\n",
    "    return cnt/iters * 100\n",
    "simulate_prob_freq(np.array([723, 186, 780]))\n",
    "#stats.multinomial(n=100_000, p = np.array([0.45, 0.11, 0.44])).rvs()"
   ]
  },
  {
   "cell_type": "code",
   "execution_count": 275,
   "metadata": {},
   "outputs": [
    {
     "name": "stdout",
     "output_type": "stream",
     "text": [
      "2021-11-04 [0.4321608 0.1758794 0.3919598] 97.84\n",
      "2021-11-06 [0.45645129 0.15766153 0.38588718] 99.98\n",
      "2021-11-19 [0.40245836 0.14577191 0.45176974] 0.89\n",
      "2021-11-20 [0.38622918 0.10838595 0.50538487] 0.0\n",
      "2021-11-24 [0.36256053 0.09871998 0.53871949] 0.0\n",
      "2021-11-29 [0.40755336 0.05284674 0.5395999 ] 0.0\n",
      "2021-12-05 [0.43401702 0.08673111 0.47925187] 1.72\n",
      "2021-12-09 [0.41001064 0.10295694 0.48703242] 0.05\n",
      "2021-12-11 [0.41900981 0.12799097 0.45299921] 5.609999999999999\n",
      "2021-12-13 [0.39900491 0.10649549 0.49449961] 0.0\n",
      "2021-12-13 [0.43952269 0.12325612 0.43722119] 55.05\n",
      "2021-12-16 [0.46571221 0.10820901 0.42607878] 98.6\n",
      "2021-12-16 [0.45562273 0.11176678 0.43261049] 82.95\n",
      "2021-12-21 [0.42224909 0.11070671 0.46704419] 1.1400000000000001\n",
      "2022-01-09 [0.44052984 0.11651854 0.44295161] 45.6\n",
      "2022-01-12 [0.43743698 0.12021095 0.44235206] 41.75\n",
      "2022-01-13 [0.42751046 0.1163334  0.45615613] 10.100000000000001\n",
      "2022-01-20 [0.42555753 0.11924885 0.45519361] 5.96\n"
     ]
    }
   ],
   "source": [
    "def run_prob_weekly(simulate_prob):\n",
    "    prior = np.array([420,130,450])\n",
    "    posterior = np.array([0,0,0])\n",
    "    for obj in df.itertuples():\n",
    "        like = np.array([obj.LULA, obj.NULO, obj.OUTROS])\n",
    "        posterior = prior + like * 0.5\n",
    "        print(obj.data_pesquisa, posterior/posterior.sum(), simulate_prob(posterior))\n",
    "        prior = 1000 * posterior/posterior.sum()\n",
    "\n",
    "run_prob_weekly(simulate_prob_freq)"
   ]
  },
  {
   "cell_type": "code",
   "execution_count": 276,
   "metadata": {},
   "outputs": [
    {
     "data": {
      "text/html": [
       "<div>\n",
       "<style scoped>\n",
       "    .dataframe tbody tr th:only-of-type {\n",
       "        vertical-align: middle;\n",
       "    }\n",
       "\n",
       "    .dataframe tbody tr th {\n",
       "        vertical-align: top;\n",
       "    }\n",
       "\n",
       "    .dataframe thead th {\n",
       "        text-align: right;\n",
       "    }\n",
       "</style>\n",
       "<table border=\"1\" class=\"dataframe\">\n",
       "  <thead>\n",
       "    <tr style=\"text-align: right;\">\n",
       "      <th></th>\n",
       "      <th>mes</th>\n",
       "      <th>LULA</th>\n",
       "      <th>NULO</th>\n",
       "      <th>OUTROS</th>\n",
       "      <th>TOTAL</th>\n",
       "    </tr>\n",
       "  </thead>\n",
       "  <tbody>\n",
       "    <tr>\n",
       "      <th>0</th>\n",
       "      <td>2021_11</td>\n",
       "      <td>6048.848</td>\n",
       "      <td>1507.332</td>\n",
       "      <td>7382.820</td>\n",
       "      <td>14939.0</td>\n",
       "    </tr>\n",
       "    <tr>\n",
       "      <th>1</th>\n",
       "      <td>2021_12</td>\n",
       "      <td>7356.516</td>\n",
       "      <td>1973.626</td>\n",
       "      <td>7586.858</td>\n",
       "      <td>16917.0</td>\n",
       "    </tr>\n",
       "    <tr>\n",
       "      <th>2</th>\n",
       "      <td>2022_01</td>\n",
       "      <td>3215.000</td>\n",
       "      <td>895.000</td>\n",
       "      <td>3325.000</td>\n",
       "      <td>7465.0</td>\n",
       "    </tr>\n",
       "  </tbody>\n",
       "</table>\n",
       "</div>"
      ],
      "text/plain": [
       "       mes      LULA      NULO    OUTROS    TOTAL\n",
       "0  2021_11  6048.848  1507.332  7382.820  14939.0\n",
       "1  2021_12  7356.516  1973.626  7586.858  16917.0\n",
       "2  2022_01  3215.000   895.000  3325.000   7465.0"
      ]
     },
     "execution_count": 276,
     "metadata": {},
     "output_type": "execute_result"
    }
   ],
   "source": [
    "mes = df.groupby(\"mes\").sum().reset_index()\n",
    "mes"
   ]
  },
  {
   "cell_type": "code",
   "execution_count": 277,
   "metadata": {},
   "outputs": [
    {
     "name": "stdout",
     "output_type": "stream",
     "text": [
      "2021_11 [3444.424  883.666 4141.41 ] 0.0\n",
      "2021_12 [4491.62927339 1195.48316943 4771.38755718] 0.26\n",
      "2022_01 [2466.44330418  676.11465209 2574.94204373] 7.08\n"
     ]
    }
   ],
   "source": [
    "def run_prob_monthly(simulate_prob):\n",
    "    prior = np.array([420,130,450])\n",
    "    posterior = np.array([0,0,0])\n",
    "    df_by_mes = df.groupby(\"mes\").sum().reset_index()\n",
    "    for obj in df_by_mes.itertuples():\n",
    "        # print(obj)\n",
    "        like = np.array([obj.LULA, obj.NULO, obj.OUTROS])\n",
    "        posterior = prior + like * 0.5\n",
    "        print(obj.mes, posterior, simulate_prob(posterior))\n",
    "        prior = 2000 * posterior/posterior.sum()\n",
    "run_prob_monthly(simulate_prob_freq)"
   ]
  },
  {
   "cell_type": "code",
   "execution_count": 278,
   "metadata": {},
   "outputs": [
    {
     "data": {
      "image/svg+xml": "<?xml version=\"1.0\" encoding=\"UTF-8\" standalone=\"no\"?>\n<!DOCTYPE svg PUBLIC \"-//W3C//DTD SVG 1.1//EN\"\n \"http://www.w3.org/Graphics/SVG/1.1/DTD/svg11.dtd\">\n<!-- Generated by graphviz version 2.49.0 (20210829.0051)\n -->\n<!-- Pages: 1 -->\n<svg width=\"170pt\" height=\"360pt\"\n viewBox=\"0.00 0.00 170.00 359.86\" xmlns=\"http://www.w3.org/2000/svg\" xmlns:xlink=\"http://www.w3.org/1999/xlink\">\n<g id=\"graph0\" class=\"graph\" transform=\"scale(1 1) rotate(0) translate(4 355.86)\">\n<polygon fill=\"white\" stroke=\"transparent\" points=\"-4,4 -4,-355.86 166,-355.86 166,4 -4,4\"/>\n<g id=\"clust1\" class=\"cluster\">\n<title>cluster3</title>\n<path fill=\"none\" stroke=\"black\" d=\"M20,-8C20,-8 142,-8 142,-8 148,-8 154,-14 154,-20 154,-20 154,-331.86 154,-331.86 154,-337.86 148,-343.86 142,-343.86 142,-343.86 20,-343.86 20,-343.86 14,-343.86 8,-337.86 8,-331.86 8,-331.86 8,-20 8,-20 8,-14 14,-8 20,-8\"/>\n<text text-anchor=\"middle\" x=\"142.5\" y=\"-15.8\" font-family=\"Times,serif\" font-size=\"14.00\">3</text>\n</g>\n<!-- current -->\n<g id=\"node1\" class=\"node\">\n<title>current</title>\n<ellipse fill=\"lightgrey\" stroke=\"black\" cx=\"81\" cy=\"-76.48\" rx=\"60.62\" ry=\"37.45\"/>\n<text text-anchor=\"middle\" x=\"81\" y=\"-87.78\" font-family=\"Times,serif\" font-size=\"14.00\">current</text>\n<text text-anchor=\"middle\" x=\"81\" y=\"-72.78\" font-family=\"Times,serif\" font-size=\"14.00\">~</text>\n<text text-anchor=\"middle\" x=\"81\" y=\"-57.78\" font-family=\"Times,serif\" font-size=\"14.00\">Multinomial</text>\n</g>\n<!-- prior -->\n<g id=\"node2\" class=\"node\">\n<title>prior</title>\n<ellipse fill=\"none\" stroke=\"black\" cx=\"81\" cy=\"-187.43\" rx=\"45.92\" ry=\"37.45\"/>\n<text text-anchor=\"middle\" x=\"81\" y=\"-198.73\" font-family=\"Times,serif\" font-size=\"14.00\">prior</text>\n<text text-anchor=\"middle\" x=\"81\" y=\"-183.73\" font-family=\"Times,serif\" font-size=\"14.00\">~</text>\n<text text-anchor=\"middle\" x=\"81\" y=\"-168.73\" font-family=\"Times,serif\" font-size=\"14.00\">Dirichlet</text>\n</g>\n<!-- prior&#45;&gt;current -->\n<g id=\"edge2\" class=\"edge\">\n<title>prior&#45;&gt;current</title>\n<path fill=\"none\" stroke=\"black\" d=\"M81,-149.85C81,-141.67 81,-132.89 81,-124.37\"/>\n<polygon fill=\"black\" stroke=\"black\" points=\"84.5,-124.15 81,-114.15 77.5,-124.15 84.5,-124.15\"/>\n</g>\n<!-- random_walk -->\n<g id=\"node3\" class=\"node\">\n<title>random_walk</title>\n<ellipse fill=\"none\" stroke=\"black\" cx=\"81\" cy=\"-298.38\" rx=\"65.11\" ry=\"37.45\"/>\n<text text-anchor=\"middle\" x=\"81\" y=\"-309.68\" font-family=\"Times,serif\" font-size=\"14.00\">random_walk</text>\n<text text-anchor=\"middle\" x=\"81\" y=\"-294.68\" font-family=\"Times,serif\" font-size=\"14.00\">~</text>\n<text text-anchor=\"middle\" x=\"81\" y=\"-279.68\" font-family=\"Times,serif\" font-size=\"14.00\">Gamma</text>\n</g>\n<!-- random_walk&#45;&gt;prior -->\n<g id=\"edge1\" class=\"edge\">\n<title>random_walk&#45;&gt;prior</title>\n<path fill=\"none\" stroke=\"black\" d=\"M81,-260.8C81,-252.63 81,-243.85 81,-235.32\"/>\n<polygon fill=\"black\" stroke=\"black\" points=\"84.5,-235.1 81,-225.1 77.5,-235.1 84.5,-235.1\"/>\n</g>\n</g>\n</svg>\n",
      "text/plain": [
       "<graphviz.dot.Digraph at 0x7f508dfcbf70>"
      ]
     },
     "execution_count": 278,
     "metadata": {},
     "output_type": "execute_result"
    }
   ],
   "source": [
    "def build_model(prior, observed, rw_alpha_mult=1.0, rw_beta_mult=1.0) -> pm.Model:\n",
    "    observed = observed.astype(\"int32\")\n",
    "    with pm.Model() as dirichlet_model:\n",
    "        rw = pm.Gamma(\"random_walk\",\n",
    "                      alpha=(rw_alpha_mult * prior),\n",
    "                      beta=(rw_beta_mult * np.ones(3)), shape=(3,)\n",
    "                      )\n",
    "        \n",
    "        previous_month_prior = pm.Dirichlet(\n",
    "            \"prior\", a=rw, shape=(3,),\n",
    "        )\n",
    "\n",
    "        pm.Multinomial(\n",
    "            \"current\", n=observed.sum(), p=(previous_month_prior), observed=observed, shape=(3,)\n",
    "        )\n",
    "    \n",
    "    return dirichlet_model\n",
    "model = build_model(np.ones(3), np.ones(3))\n",
    "pm.model_to_graphviz(model)"
   ]
  },
  {
   "cell_type": "code",
   "execution_count": 279,
   "metadata": {},
   "outputs": [],
   "source": [
    "\n",
    "def sampling(model: pm.Model, samples=2000, chains=2):\n",
    "    with model:\n",
    "        dirichlet_trace = pm.sample(samples, tune=2000, chains=chains, return_inferencedata=True, progressbar=False)\n",
    "        ppc = pm.fast_sample_posterior_predictive(dirichlet_trace, 5000)\n",
    "    return dirichlet_trace , ppc\n",
    "\n",
    "def calc_prob_lula_win(model, trace, niter=30, ppc=None):\n",
    "    simul = []\n",
    "    if ppc:\n",
    "        lula = ppc['current'][:, 0]\n",
    "        others = ppc['current'][:, 2]\n",
    "        simul.append((lula > others).mean() * 100.0)\n",
    "    for _ in tqdm(range(niter)):\n",
    "        with model:\n",
    "            ppc = pm.fast_sample_posterior_predictive(trace, 10000)\n",
    "        lula = ppc['current'][:, 0]\n",
    "        others = ppc['current'][:, 2]\n",
    "        simul.append((lula > others).mean() * 100.0)\n",
    "    simul = np.array(simul)\n",
    "    return np.quantile(simul, q=HDI)"
   ]
  },
  {
   "cell_type": "markdown",
   "metadata": {},
   "source": [
    "### Weekly update"
   ]
  },
  {
   "cell_type": "code",
   "execution_count": 280,
   "metadata": {},
   "outputs": [
    {
     "name": "stdout",
     "output_type": "stream",
     "text": [
      ">>> observed = [880. 440. 660.]\n"
     ]
    },
    {
     "name": "stderr",
     "output_type": "stream",
     "text": [
      "Auto-assigning NUTS sampler...\n",
      "Initializing NUTS using jitter+adapt_diag...\n",
      "Multiprocess sampling (2 chains in 2 jobs)\n",
      "NUTS: [prior, random_walk]\n",
      "Sampling 2 chains for 2_000 tune and 2_000 draw iterations (4_000 + 4_000 draws total) took 17 seconds.\n"
     ]
    },
    {
     "data": {
      "application/vnd.jupyter.widget-view+json": {
       "model_id": "d879366d361a4a6586a4058965ae2ddd",
       "version_major": 2,
       "version_minor": 0
      },
      "text/plain": [
       "  0%|          | 0/30 [00:00<?, ?it/s]"
      ]
     },
     "metadata": {},
     "output_type": "display_data"
    },
    {
     "name": "stdout",
     "output_type": "stream",
     "text": [
      ">>> data_pesquisa=2021-11-04, updaed_prior=[621.44848525 240.55179342 637.19826208],  qs=[37.6475 40.62   41.3125]% <<<\n",
      "lula= [0.38989899 0.41414141 0.43939394]\n",
      "nulo= [0.14242424 0.16010101 0.17929293]\n",
      "demais= [0.39949495 0.42525253 0.45001263]\n",
      ">>> observed = [990.24 288.82 783.94]\n"
     ]
    },
    {
     "name": "stderr",
     "output_type": "stream",
     "text": [
      "Auto-assigning NUTS sampler...\n",
      "Initializing NUTS using jitter+adapt_diag...\n",
      "Multiprocess sampling (2 chains in 2 jobs)\n",
      "NUTS: [prior, random_walk]\n",
      "Sampling 2 chains for 2_000 tune and 2_000 draw iterations (4_000 + 4_000 draws total) took 11 seconds.\n"
     ]
    },
    {
     "data": {
      "application/vnd.jupyter.widget-view+json": {
       "model_id": "b0067388c70f4cbca9e55e363ee414b5",
       "version_major": 2,
       "version_minor": 0
      },
      "text/plain": [
       "  0%|          | 0/30 [00:00<?, ?it/s]"
      ]
     },
     "metadata": {},
     "output_type": "display_data"
    },
    {
     "name": "stdout",
     "output_type": "stream",
     "text": [
      ">>> data_pesquisa=2021-11-06, updaed_prior=[700.75179348 251.90164199 671.23193411],  qs=[41.965 42.94  52.78 ]% <<<\n",
      "lula= [0.40756914 0.43134401 0.45608928]\n",
      "nulo= [0.13779719 0.15526443 0.17273168]\n",
      "demais= [0.38913149 0.41339156 0.43668122]\n",
      ">>> observed = [ 704.98  270.68 1044.34]\n"
     ]
    },
    {
     "name": "stderr",
     "output_type": "stream",
     "text": [
      "Auto-assigning NUTS sampler...\n",
      "Initializing NUTS using jitter+adapt_diag...\n",
      "Multiprocess sampling (2 chains in 2 jobs)\n",
      "NUTS: [prior, random_walk]\n",
      "Sampling 2 chains for 2_000 tune and 2_000 draw iterations (4_000 + 4_000 draws total) took 10 seconds.\n"
     ]
    },
    {
     "data": {
      "application/vnd.jupyter.widget-view+json": {
       "model_id": "145d8f58564a410dbb0ba342a1868964",
       "version_major": 2,
       "version_minor": 0
      },
      "text/plain": [
       "  0%|          | 0/30 [00:00<?, ?it/s]"
      ]
     },
     "metadata": {},
     "output_type": "display_data"
    },
    {
     "name": "stdout",
     "output_type": "stream",
     "text": [
      ">>> data_pesquisa=2021-11-19, updaed_prior=[668.55714144 243.67956019 710.8893419 ],  qs=[32.2075 39.64   40.355 ]% <<<\n",
      "lula= [0.38850347 0.41179386 0.43608771]\n",
      "nulo= [0.13280476 0.15014866 0.16749257]\n",
      "demais= [0.41377602 0.43805748 0.46134787]\n",
      ">>> observed = [ 740.  142. 1118.]\n"
     ]
    },
    {
     "name": "stderr",
     "output_type": "stream",
     "text": [
      "Auto-assigning NUTS sampler...\n",
      "Initializing NUTS using jitter+adapt_diag...\n",
      "Multiprocess sampling (2 chains in 2 jobs)\n",
      "NUTS: [prior, random_walk]\n",
      "Sampling 2 chains for 2_000 tune and 2_000 draw iterations (4_000 + 4_000 draws total) took 12 seconds.\n"
     ]
    },
    {
     "data": {
      "application/vnd.jupyter.widget-view+json": {
       "model_id": "c9ca373794ad49b39f97854b150afa87",
       "version_major": 2,
       "version_minor": 0
      },
      "text/plain": [
       "  0%|          | 0/30 [00:00<?, ?it/s]"
      ]
     },
     "metadata": {},
     "output_type": "display_data"
    },
    {
     "name": "stdout",
     "output_type": "stream",
     "text": [
      ">>> data_pesquisa=2021-11-20, updaed_prior=[655.30442388 214.00658088 761.20592271],  qs=[27.7625 37.76   38.6475]% <<<\n",
      "lula= [0.3785 0.402  0.426 ]\n",
      "nulo= [0.115 0.131 0.148]\n",
      "demais= [0.443 0.467 0.49 ]\n",
      ">>> observed = [ 850.  225. 1400.]\n"
     ]
    },
    {
     "name": "stderr",
     "output_type": "stream",
     "text": [
      "Auto-assigning NUTS sampler...\n",
      "Initializing NUTS using jitter+adapt_diag...\n",
      "Multiprocess sampling (2 chains in 2 jobs)\n",
      "NUTS: [prior, random_walk]\n",
      "Sampling 2 chains for 2_000 tune and 2_000 draw iterations (4_000 + 4_000 draws total) took 11 seconds.\n"
     ]
    },
    {
     "data": {
      "application/vnd.jupyter.widget-view+json": {
       "model_id": "9ecf2eb8495341208b8ef8844c83061c",
       "version_major": 2,
       "version_minor": 0
      },
      "text/plain": [
       "  0%|          | 0/30 [00:00<?, ?it/s]"
      ]
     },
     "metadata": {},
     "output_type": "display_data"
    },
    {
     "name": "stdout",
     "output_type": "stream",
     "text": [
      ">>> data_pesquisa=2021-11-24, updaed_prior=[745.92880312 233.03302843 955.6170513 ],  qs=[25.515 34.82  35.7  ]% <<<\n",
      "lula= [0.3640404  0.38545455 0.40767677]\n",
      "nulo= [0.10626263 0.12040404 0.13494949]\n",
      "demais= [0.47232323 0.49414141 0.5159596 ]\n",
      ">>> observed = [1883.628  140.832 2376.54 ]\n"
     ]
    },
    {
     "name": "stderr",
     "output_type": "stream",
     "text": [
      "Auto-assigning NUTS sampler...\n",
      "Initializing NUTS using jitter+adapt_diag...\n",
      "Multiprocess sampling (2 chains in 2 jobs)\n",
      "NUTS: [prior, random_walk]\n",
      "Sampling 2 chains for 2_000 tune and 2_000 draw iterations (4_000 + 4_000 draws total) took 10 seconds.\n"
     ]
    },
    {
     "data": {
      "application/vnd.jupyter.widget-view+json": {
       "model_id": "923f3177c6ac4c9cb1f0c354ed5cdbfa",
       "version_major": 2,
       "version_minor": 0
      },
      "text/plain": [
       "  0%|          | 0/30 [00:00<?, ?it/s]"
      ]
     },
     "metadata": {},
     "output_type": "display_data"
    },
    {
     "name": "stdout",
     "output_type": "stream",
     "text": [
      ">>> data_pesquisa=2021-11-29, updaed_prior=[1249.2169797   272.72001044 1590.88509524],  qs=[26.565 36.28  37.03 ]% <<<\n",
      "lula= [0.3839509  0.40122755 0.41827688]\n",
      "nulo= [0.07774494 0.08751989 0.09774949]\n",
      "demais= [0.49329393 0.51102523 0.52875654]\n",
      ">>> observed = [937.02 244.44 855.54]\n"
     ]
    },
    {
     "name": "stderr",
     "output_type": "stream",
     "text": [
      "Auto-assigning NUTS sampler...\n",
      "Initializing NUTS using jitter+adapt_diag...\n",
      "Multiprocess sampling (2 chains in 2 jobs)\n",
      "NUTS: [prior, random_walk]\n",
      "Sampling 2 chains for 2_000 tune and 2_000 draw iterations (4_000 + 4_000 draws total) took 10 seconds.\n"
     ]
    },
    {
     "data": {
      "application/vnd.jupyter.widget-view+json": {
       "model_id": "4c4ede4af25046ca9bf549bc38f61e72",
       "version_major": 2,
       "version_minor": 0
      },
      "text/plain": [
       "  0%|          | 0/30 [00:00<?, ?it/s]"
      ]
     },
     "metadata": {},
     "output_type": "display_data"
    },
    {
     "name": "stdout",
     "output_type": "stream",
     "text": [
      ">>> data_pesquisa=2021-12-05, updaed_prior=[743.81575803 167.63746899 904.30535199],  qs=[27.6   37.5   38.125]% <<<\n",
      "lula= [0.3870334  0.40962672 0.43222004]\n",
      "nulo= [0.07907662 0.09233792 0.10559921]\n",
      "demais= [0.47495088 0.4975442  0.521611  ]\n",
      ">>> observed = [444. 156. 600.]\n"
     ]
    },
    {
     "name": "stderr",
     "output_type": "stream",
     "text": [
      "Auto-assigning NUTS sampler...\n",
      "Initializing NUTS using jitter+adapt_diag...\n",
      "Multiprocess sampling (2 chains in 2 jobs)\n",
      "NUTS: [prior, random_walk]\n",
      "Sampling 2 chains for 2_000 tune and 2_000 draw iterations (4_000 + 4_000 draws total) took 10 seconds.\n"
     ]
    },
    {
     "data": {
      "application/vnd.jupyter.widget-view+json": {
       "model_id": "3b261038588b4a169d31b91272197dfc",
       "version_major": 2,
       "version_minor": 0
      },
      "text/plain": [
       "  0%|          | 0/30 [00:00<?, ?it/s]"
      ]
     },
     "metadata": {},
     "output_type": "display_data"
    },
    {
     "name": "stdout",
     "output_type": "stream",
     "text": [
      ">>> data_pesquisa=2021-12-09, updaed_prior=[422.31092932 102.1223956  521.47654703],  qs=[27.19 37.02 37.89]% <<<\n",
      "lula= [0.375      0.40333333 0.43416667]\n",
      "nulo= [0.08       0.0975     0.11583333]\n",
      "demais= [0.46916667 0.49833333 0.5275    ]\n",
      ">>> observed = [856.856 306.306 838.838]\n"
     ]
    },
    {
     "name": "stderr",
     "output_type": "stream",
     "text": [
      "Auto-assigning NUTS sampler...\n",
      "Initializing NUTS using jitter+adapt_diag...\n",
      "Multiprocess sampling (2 chains in 2 jobs)\n",
      "NUTS: [prior, random_walk]\n",
      "Sampling 2 chains for 2_000 tune and 2_000 draw iterations (4_000 + 4_000 draws total) took 8 seconds.\n"
     ]
    },
    {
     "data": {
      "application/vnd.jupyter.widget-view+json": {
       "model_id": "ac33d5c355324ecdad44ecd4683f3256",
       "version_major": 2,
       "version_minor": 0
      },
      "text/plain": [
       "  0%|          | 0/30 [00:00<?, ?it/s]"
      ]
     },
     "metadata": {},
     "output_type": "display_data"
    },
    {
     "name": "stdout",
     "output_type": "stream",
     "text": [
      ">>> data_pesquisa=2021-12-11, updaed_prior=[600.02669376 167.92216249 689.62758995],  qs=[28.4125 38.66   39.4   ]% <<<\n",
      "lula= [0.387  0.4115 0.4365]\n",
      "nulo= [0.099 0.115 0.132]\n",
      "demais= [0.448  0.473  0.4995]\n",
      ">>> observed = [ 758.  170. 1072.]\n"
     ]
    },
    {
     "name": "stderr",
     "output_type": "stream",
     "text": [
      "Auto-assigning NUTS sampler...\n",
      "Initializing NUTS using jitter+adapt_diag...\n",
      "Multiprocess sampling (2 chains in 2 jobs)\n",
      "NUTS: [prior, random_walk]\n",
      "Sampling 2 chains for 2_000 tune and 2_000 draw iterations (4_000 + 4_000 draws total) took 8 seconds.\n"
     ]
    },
    {
     "data": {
      "application/vnd.jupyter.widget-view+json": {
       "model_id": "9716ad9d91324fd1a2911ab5686c371d",
       "version_major": 2,
       "version_minor": 0
      },
      "text/plain": [
       "  0%|          | 0/30 [00:00<?, ?it/s]"
      ]
     },
     "metadata": {},
     "output_type": "display_data"
    },
    {
     "name": "stdout",
     "output_type": "stream",
     "text": [
      ">>> data_pesquisa=2021-12-13, updaed_prior=[639.3729597  170.06694629 775.04772667],  qs=[27.025  37.02   38.1325]% <<<\n",
      "lula= [0.3795 0.4035 0.4285]\n",
      "nulo= [0.093     0.107     0.1230125]\n",
      "demais= [0.4645 0.489  0.513 ]\n",
      ">>> observed = [960.96 280.28 760.76]\n"
     ]
    },
    {
     "name": "stderr",
     "output_type": "stream",
     "text": [
      "Auto-assigning NUTS sampler...\n",
      "Initializing NUTS using jitter+adapt_diag...\n",
      "Multiprocess sampling (2 chains in 2 jobs)\n",
      "NUTS: [prior, random_walk]\n",
      "Sampling 2 chains for 2_000 tune and 2_000 draw iterations (4_000 + 4_000 draws total) took 8 seconds.\n"
     ]
    },
    {
     "data": {
      "application/vnd.jupyter.widget-view+json": {
       "model_id": "102fcc679c9244e795f54aed3675a507",
       "version_major": 2,
       "version_minor": 0
      },
      "text/plain": [
       "  0%|          | 0/30 [00:00<?, ?it/s]"
      ]
     },
     "metadata": {},
     "output_type": "display_data"
    },
    {
     "name": "stdout",
     "output_type": "stream",
     "text": [
      ">>> data_pesquisa=2021-12-13, updaed_prior=[667.3715635  182.23642145 732.67138404],  qs=[30.3975 40.17   40.895 ]% <<<\n",
      "lula= [0.398  0.4215 0.446 ]\n",
      "nulo= [0.0995 0.115  0.1315]\n",
      "demais= [0.438 0.463 0.487]\n",
      ">>> observed = [1759.68  366.6  1539.72]\n"
     ]
    },
    {
     "name": "stderr",
     "output_type": "stream",
     "text": [
      "Auto-assigning NUTS sampler...\n",
      "Initializing NUTS using jitter+adapt_diag...\n",
      "Multiprocess sampling (2 chains in 2 jobs)\n",
      "NUTS: [prior, random_walk]\n",
      "Sampling 2 chains for 2_000 tune and 2_000 draw iterations (4_000 + 4_000 draws total) took 8 seconds.\n"
     ]
    },
    {
     "data": {
      "application/vnd.jupyter.widget-view+json": {
       "model_id": "a52e644c20a7490dbd8eb9a56feaf2f7",
       "version_major": 2,
       "version_minor": 0
      },
      "text/plain": [
       "  0%|          | 0/30 [00:00<?, ?it/s]"
      ]
     },
     "metadata": {},
     "output_type": "display_data"
    },
    {
     "name": "stdout",
     "output_type": "stream",
     "text": [
      ">>> data_pesquisa=2021-12-16, updaed_prior=[1187.12217402  293.5495062  1198.43407315],  qs=[41.915 43.16  44.005]% <<<\n",
      "lula= [0.42385371 0.44323144 0.46206332]\n",
      "nulo= [0.09798035 0.10944323 0.12145197]\n",
      "demais= [0.42903248 0.44732533 0.46588428]\n",
      ">>> observed = [440. 120. 450.]\n"
     ]
    },
    {
     "name": "stderr",
     "output_type": "stream",
     "text": [
      "Auto-assigning NUTS sampler...\n",
      "Initializing NUTS using jitter+adapt_diag...\n",
      "Multiprocess sampling (2 chains in 2 jobs)\n",
      "NUTS: [prior, random_walk]\n",
      "Sampling 2 chains for 2_000 tune and 2_000 draw iterations (4_000 + 4_000 draws total) took 8 seconds.\n"
     ]
    },
    {
     "data": {
      "application/vnd.jupyter.widget-view+json": {
       "model_id": "d7f2e7539e7e4233887a8fee678acc6a",
       "version_major": 2,
       "version_minor": 0
      },
      "text/plain": [
       "  0%|          | 0/30 [00:00<?, ?it/s]"
      ]
     },
     "metadata": {},
     "output_type": "display_data"
    },
    {
     "name": "stdout",
     "output_type": "stream",
     "text": [
      ">>> data_pesquisa=2021-12-16, updaed_prior=[399.74715597  99.69661151 403.53060947],  qs=[41.955 43.01  44.12 ]% <<<\n",
      "lula= [0.41188119 0.44257426 0.47524752]\n",
      "nulo= [0.09009901 0.10990099 0.13168317]\n",
      "demais= [0.41386139 0.44752475 0.47920792]\n",
      ">>> observed = [1200.  330. 1470.]\n"
     ]
    },
    {
     "name": "stderr",
     "output_type": "stream",
     "text": [
      "Auto-assigning NUTS sampler...\n",
      "Initializing NUTS using jitter+adapt_diag...\n",
      "Multiprocess sampling (2 chains in 2 jobs)\n",
      "NUTS: [prior, random_walk]\n",
      "Sampling 2 chains for 2_000 tune and 2_000 draw iterations (4_000 + 4_000 draws total) took 8 seconds.\n"
     ]
    },
    {
     "data": {
      "application/vnd.jupyter.widget-view+json": {
       "model_id": "6792d99f1dbe4f4181c84b003f3f2549",
       "version_major": 2,
       "version_minor": 0
      },
      "text/plain": [
       "  0%|          | 0/30 [00:00<?, ?it/s]"
      ]
     },
     "metadata": {},
     "output_type": "display_data"
    },
    {
     "name": "stdout",
     "output_type": "stream",
     "text": [
      ">>> data_pesquisa=2021-12-21, updaed_prior=[862.06426218 224.16090887 948.89661698],  qs=[29.9575 40.15   41.175 ]% <<<\n",
      "lula= [0.40233333 0.42366667 0.44533333]\n",
      "nulo= [0.097325   0.11       0.12433333]\n",
      "demais= [0.445      0.46633333 0.488     ]\n",
      ">>> observed = [900. 240. 820.]\n"
     ]
    },
    {
     "name": "stderr",
     "output_type": "stream",
     "text": [
      "Auto-assigning NUTS sampler...\n",
      "Initializing NUTS using jitter+adapt_diag...\n",
      "Multiprocess sampling (2 chains in 2 jobs)\n",
      "NUTS: [prior, random_walk]\n",
      "Sampling 2 chains for 2_000 tune and 2_000 draw iterations (4_000 + 4_000 draws total) took 8 seconds.\n"
     ]
    },
    {
     "data": {
      "application/vnd.jupyter.widget-view+json": {
       "model_id": "b9673918610343ff8ad80ef29694a4a4",
       "version_major": 2,
       "version_minor": 0
      },
      "text/plain": [
       "  0%|          | 0/30 [00:00<?, ?it/s]"
      ]
     },
     "metadata": {},
     "output_type": "display_data"
    },
    {
     "name": "stdout",
     "output_type": "stream",
     "text": [
      ">>> data_pesquisa=2022-01-09, updaed_prior=[696.129243   181.96805499 738.21575126],  qs=[33.5575 41.17   42.1775]% <<<\n",
      "lula= [0.40663265 0.43061224 0.45459184]\n",
      "nulo= [0.09744898 0.1127551  0.12806122]\n",
      "demais= [0.43265306 0.45663265 0.48163265]\n",
      ">>> observed = [440. 130. 450.]\n"
     ]
    },
    {
     "name": "stderr",
     "output_type": "stream",
     "text": [
      "Auto-assigning NUTS sampler...\n",
      "Initializing NUTS using jitter+adapt_diag...\n",
      "Multiprocess sampling (2 chains in 2 jobs)\n",
      "NUTS: [prior, random_walk]\n",
      "Sampling 2 chains for 2_000 tune and 2_000 draw iterations (4_000 + 4_000 draws total) took 8 seconds.\n"
     ]
    },
    {
     "data": {
      "application/vnd.jupyter.widget-view+json": {
       "model_id": "c506697252434fbeab68019b30cd78cb",
       "version_major": 2,
       "version_minor": 0
      },
      "text/plain": [
       "  0%|          | 0/30 [00:00<?, ?it/s]"
      ]
     },
     "metadata": {},
     "output_type": "display_data"
    },
    {
     "name": "stdout",
     "output_type": "stream",
     "text": [
      ">>> data_pesquisa=2022-01-12, updaed_prior=[383.85000231 102.05922486 405.16314047],  qs=[35.7775 41.19   42.3175]% <<<\n",
      "lula= [0.39705882 0.43137255 0.46372549]\n",
      "nulo= [0.09411765 0.11470588 0.13529412]\n",
      "demais= [0.42254902 0.45490196 0.48921569]\n",
      ">>> observed = [615. 165. 705.]\n"
     ]
    },
    {
     "name": "stderr",
     "output_type": "stream",
     "text": [
      "Auto-assigning NUTS sampler...\n",
      "Initializing NUTS using jitter+adapt_diag...\n",
      "Multiprocess sampling (2 chains in 2 jobs)\n",
      "NUTS: [prior, random_walk]\n",
      "Sampling 2 chains for 2_000 tune and 2_000 draw iterations (4_000 + 4_000 draws total) took 9 seconds.\n"
     ]
    },
    {
     "data": {
      "application/vnd.jupyter.widget-view+json": {
       "model_id": "b1a182f8fa8e40daad6693e608c895c8",
       "version_major": 2,
       "version_minor": 0
      },
      "text/plain": [
       "  0%|          | 0/30 [00:00<?, ?it/s]"
      ]
     },
     "metadata": {},
     "output_type": "display_data"
    },
    {
     "name": "stdout",
     "output_type": "stream",
     "text": [
      ">>> data_pesquisa=2022-01-13, updaed_prior=[487.69366192 129.67760665 527.54937849],  qs=[32.1175 40.39   41.475 ]% <<<\n",
      "lula= [0.396633   0.42558923 0.45387205]\n",
      "nulo= [0.0956229  0.11313131 0.13198653]\n",
      "demais= [0.43232323 0.46060606 0.49023569]\n",
      ">>> observed = [1260.  360. 1350.]\n"
     ]
    },
    {
     "name": "stderr",
     "output_type": "stream",
     "text": [
      "Auto-assigning NUTS sampler...\n",
      "Initializing NUTS using jitter+adapt_diag...\n",
      "Multiprocess sampling (2 chains in 2 jobs)\n",
      "NUTS: [prior, random_walk]\n",
      "Sampling 2 chains for 2_000 tune and 2_000 draw iterations (4_000 + 4_000 draws total) took 7 seconds.\n"
     ]
    },
    {
     "data": {
      "application/vnd.jupyter.widget-view+json": {
       "model_id": "4477ef5fc76a435b88508198ee6821f0",
       "version_major": 2,
       "version_minor": 0
      },
      "text/plain": [
       "  0%|          | 0/30 [00:00<?, ?it/s]"
      ]
     },
     "metadata": {},
     "output_type": "display_data"
    },
    {
     "name": "stdout",
     "output_type": "stream",
     "text": [
      ">>> data_pesquisa=2022-01-20, updaed_prior=[907.10467679 248.31411395 976.67274337],  qs=[30.9325 40.67   41.5275]% <<<\n",
      "lula= [0.4047138  0.42525253 0.44713805]\n",
      "nulo= [0.1030303  0.11649832 0.12996633]\n",
      "demais= [0.43703704 0.45824916 0.47845118]\n"
     ]
    },
    {
     "data": {
      "text/html": [
       "<div>\n",
       "<style scoped>\n",
       "    .dataframe tbody tr th:only-of-type {\n",
       "        vertical-align: middle;\n",
       "    }\n",
       "\n",
       "    .dataframe tbody tr th {\n",
       "        vertical-align: top;\n",
       "    }\n",
       "\n",
       "    .dataframe thead th {\n",
       "        text-align: right;\n",
       "    }\n",
       "</style>\n",
       "<table border=\"1\" class=\"dataframe\">\n",
       "  <thead>\n",
       "    <tr style=\"text-align: right;\">\n",
       "      <th></th>\n",
       "      <th>data</th>\n",
       "      <th>LulaLB</th>\n",
       "      <th>LulaM</th>\n",
       "      <th>LulaUB</th>\n",
       "      <th>DemaisLB</th>\n",
       "      <th>DemaisM</th>\n",
       "      <th>DemaisUB</th>\n",
       "    </tr>\n",
       "  </thead>\n",
       "  <tbody>\n",
       "    <tr>\n",
       "      <th>0</th>\n",
       "      <td>2021-11-04</td>\n",
       "      <td>0.389899</td>\n",
       "      <td>0.414141</td>\n",
       "      <td>0.439394</td>\n",
       "      <td>0.399495</td>\n",
       "      <td>0.425253</td>\n",
       "      <td>0.450013</td>\n",
       "    </tr>\n",
       "    <tr>\n",
       "      <th>0</th>\n",
       "      <td>2021-11-06</td>\n",
       "      <td>0.407569</td>\n",
       "      <td>0.431344</td>\n",
       "      <td>0.456089</td>\n",
       "      <td>0.389131</td>\n",
       "      <td>0.413392</td>\n",
       "      <td>0.436681</td>\n",
       "    </tr>\n",
       "    <tr>\n",
       "      <th>0</th>\n",
       "      <td>2021-11-19</td>\n",
       "      <td>0.388503</td>\n",
       "      <td>0.411794</td>\n",
       "      <td>0.436088</td>\n",
       "      <td>0.413776</td>\n",
       "      <td>0.438057</td>\n",
       "      <td>0.461348</td>\n",
       "    </tr>\n",
       "    <tr>\n",
       "      <th>0</th>\n",
       "      <td>2021-11-20</td>\n",
       "      <td>0.378500</td>\n",
       "      <td>0.402000</td>\n",
       "      <td>0.426000</td>\n",
       "      <td>0.443000</td>\n",
       "      <td>0.467000</td>\n",
       "      <td>0.490000</td>\n",
       "    </tr>\n",
       "    <tr>\n",
       "      <th>0</th>\n",
       "      <td>2021-11-24</td>\n",
       "      <td>0.364040</td>\n",
       "      <td>0.385455</td>\n",
       "      <td>0.407677</td>\n",
       "      <td>0.472323</td>\n",
       "      <td>0.494141</td>\n",
       "      <td>0.515960</td>\n",
       "    </tr>\n",
       "    <tr>\n",
       "      <th>0</th>\n",
       "      <td>2021-11-29</td>\n",
       "      <td>0.383951</td>\n",
       "      <td>0.401228</td>\n",
       "      <td>0.418277</td>\n",
       "      <td>0.493294</td>\n",
       "      <td>0.511025</td>\n",
       "      <td>0.528757</td>\n",
       "    </tr>\n",
       "    <tr>\n",
       "      <th>0</th>\n",
       "      <td>2021-12-05</td>\n",
       "      <td>0.387033</td>\n",
       "      <td>0.409627</td>\n",
       "      <td>0.432220</td>\n",
       "      <td>0.474951</td>\n",
       "      <td>0.497544</td>\n",
       "      <td>0.521611</td>\n",
       "    </tr>\n",
       "    <tr>\n",
       "      <th>0</th>\n",
       "      <td>2021-12-09</td>\n",
       "      <td>0.375000</td>\n",
       "      <td>0.403333</td>\n",
       "      <td>0.434167</td>\n",
       "      <td>0.469167</td>\n",
       "      <td>0.498333</td>\n",
       "      <td>0.527500</td>\n",
       "    </tr>\n",
       "    <tr>\n",
       "      <th>0</th>\n",
       "      <td>2021-12-11</td>\n",
       "      <td>0.387000</td>\n",
       "      <td>0.411500</td>\n",
       "      <td>0.436500</td>\n",
       "      <td>0.448000</td>\n",
       "      <td>0.473000</td>\n",
       "      <td>0.499500</td>\n",
       "    </tr>\n",
       "    <tr>\n",
       "      <th>0</th>\n",
       "      <td>2021-12-13</td>\n",
       "      <td>0.379500</td>\n",
       "      <td>0.403500</td>\n",
       "      <td>0.428500</td>\n",
       "      <td>0.464500</td>\n",
       "      <td>0.489000</td>\n",
       "      <td>0.513000</td>\n",
       "    </tr>\n",
       "    <tr>\n",
       "      <th>0</th>\n",
       "      <td>2021-12-13</td>\n",
       "      <td>0.398000</td>\n",
       "      <td>0.421500</td>\n",
       "      <td>0.446000</td>\n",
       "      <td>0.438000</td>\n",
       "      <td>0.463000</td>\n",
       "      <td>0.487000</td>\n",
       "    </tr>\n",
       "    <tr>\n",
       "      <th>0</th>\n",
       "      <td>2021-12-16</td>\n",
       "      <td>0.423854</td>\n",
       "      <td>0.443231</td>\n",
       "      <td>0.462063</td>\n",
       "      <td>0.429032</td>\n",
       "      <td>0.447325</td>\n",
       "      <td>0.465884</td>\n",
       "    </tr>\n",
       "    <tr>\n",
       "      <th>0</th>\n",
       "      <td>2021-12-16</td>\n",
       "      <td>0.411881</td>\n",
       "      <td>0.442574</td>\n",
       "      <td>0.475248</td>\n",
       "      <td>0.413861</td>\n",
       "      <td>0.447525</td>\n",
       "      <td>0.479208</td>\n",
       "    </tr>\n",
       "    <tr>\n",
       "      <th>0</th>\n",
       "      <td>2021-12-21</td>\n",
       "      <td>0.402333</td>\n",
       "      <td>0.423667</td>\n",
       "      <td>0.445333</td>\n",
       "      <td>0.445000</td>\n",
       "      <td>0.466333</td>\n",
       "      <td>0.488000</td>\n",
       "    </tr>\n",
       "    <tr>\n",
       "      <th>0</th>\n",
       "      <td>2022-01-09</td>\n",
       "      <td>0.406633</td>\n",
       "      <td>0.430612</td>\n",
       "      <td>0.454592</td>\n",
       "      <td>0.432653</td>\n",
       "      <td>0.456633</td>\n",
       "      <td>0.481633</td>\n",
       "    </tr>\n",
       "    <tr>\n",
       "      <th>0</th>\n",
       "      <td>2022-01-12</td>\n",
       "      <td>0.397059</td>\n",
       "      <td>0.431373</td>\n",
       "      <td>0.463725</td>\n",
       "      <td>0.422549</td>\n",
       "      <td>0.454902</td>\n",
       "      <td>0.489216</td>\n",
       "    </tr>\n",
       "    <tr>\n",
       "      <th>0</th>\n",
       "      <td>2022-01-13</td>\n",
       "      <td>0.396633</td>\n",
       "      <td>0.425589</td>\n",
       "      <td>0.453872</td>\n",
       "      <td>0.432323</td>\n",
       "      <td>0.460606</td>\n",
       "      <td>0.490236</td>\n",
       "    </tr>\n",
       "    <tr>\n",
       "      <th>0</th>\n",
       "      <td>2022-01-20</td>\n",
       "      <td>0.404714</td>\n",
       "      <td>0.425253</td>\n",
       "      <td>0.447138</td>\n",
       "      <td>0.437037</td>\n",
       "      <td>0.458249</td>\n",
       "      <td>0.478451</td>\n",
       "    </tr>\n",
       "  </tbody>\n",
       "</table>\n",
       "</div>"
      ],
      "text/plain": [
       "         data    LulaLB     LulaM    LulaUB  DemaisLB   DemaisM  DemaisUB\n",
       "0  2021-11-04  0.389899  0.414141  0.439394  0.399495  0.425253  0.450013\n",
       "0  2021-11-06  0.407569  0.431344  0.456089  0.389131  0.413392  0.436681\n",
       "0  2021-11-19  0.388503  0.411794  0.436088  0.413776  0.438057  0.461348\n",
       "0  2021-11-20  0.378500  0.402000  0.426000  0.443000  0.467000  0.490000\n",
       "0  2021-11-24  0.364040  0.385455  0.407677  0.472323  0.494141  0.515960\n",
       "0  2021-11-29  0.383951  0.401228  0.418277  0.493294  0.511025  0.528757\n",
       "0  2021-12-05  0.387033  0.409627  0.432220  0.474951  0.497544  0.521611\n",
       "0  2021-12-09  0.375000  0.403333  0.434167  0.469167  0.498333  0.527500\n",
       "0  2021-12-11  0.387000  0.411500  0.436500  0.448000  0.473000  0.499500\n",
       "0  2021-12-13  0.379500  0.403500  0.428500  0.464500  0.489000  0.513000\n",
       "0  2021-12-13  0.398000  0.421500  0.446000  0.438000  0.463000  0.487000\n",
       "0  2021-12-16  0.423854  0.443231  0.462063  0.429032  0.447325  0.465884\n",
       "0  2021-12-16  0.411881  0.442574  0.475248  0.413861  0.447525  0.479208\n",
       "0  2021-12-21  0.402333  0.423667  0.445333  0.445000  0.466333  0.488000\n",
       "0  2022-01-09  0.406633  0.430612  0.454592  0.432653  0.456633  0.481633\n",
       "0  2022-01-12  0.397059  0.431373  0.463725  0.422549  0.454902  0.489216\n",
       "0  2022-01-13  0.396633  0.425589  0.453872  0.432323  0.460606  0.490236\n",
       "0  2022-01-20  0.404714  0.425253  0.447138  0.437037  0.458249  0.478451"
      ]
     },
     "execution_count": 280,
     "metadata": {},
     "output_type": "execute_result"
    }
   ],
   "source": [
    "flat_prior = prior = np.array([400.0, 130.0, 470.0])\n",
    "\n",
    "# df_by_mes = df.groupby(\"mes\").sum().reset_index()\n",
    "# for obj in df_by_mes.itertuples():\n",
    "df_results_weekly = pd.DataFrame({})\n",
    "# print(df)\n",
    "\n",
    "for obj in df.itertuples():\n",
    "    observed = np.array([obj.LULA, obj.NULO, obj.OUTROS])\n",
    "    print(f\">>> observed = {observed}\")\n",
    "    model_w = build_model(prior, observed, rw_alpha_mult=6.67, rw_beta_mult=0.667)\n",
    "    trace_w, ppc_w = sampling(model_w)\n",
    "    posterior_w = ppc_w['current']\n",
    "    # print(f\">>> posterior.shape={posterior.shape}\")\n",
    "    prior = dirichlet.mle(posterior_w/posterior_w.sum(axis=1).reshape(-1, 1))\n",
    "    # print('dirichlet.mle(posterior/posterior.sum(axis=1).reshape(-1, 1))=,', prior)\n",
    "    qs = calc_prob_lula_win(model, trace_w, ppc=ppc_w)\n",
    "    # print(f\">>> mes={obj.mes}, updaed_prior={prior},  qs={qs}% <<<\")\n",
    "    print(f\">>> data_pesquisa={obj.data_pesquisa}, updaed_prior={prior},  qs={qs}% <<<\");\n",
    "    post_prob = posterior_w/posterior_w.sum(axis=1).reshape(-1, 1)\n",
    "    df_results_weekly = df_results_weekly.append(pd.DataFrame({\"data\":[obj.data_pesquisa],\n",
    "                                           \"LulaLB\":[np.quantile(post_prob[:, 0], q=HDI)[0]],\n",
    "                                           \"LulaM\":[np.quantile(post_prob[:, 0], q=HDI)[1]],\n",
    "                                           \"LulaUB\":[np.quantile(post_prob[:, 0], q=HDI)[2]],\n",
    "                                           \"DemaisLB\":[np.quantile(post_prob[:, 2], q=HDI)[0]],\n",
    "                                           \"DemaisM\":[np.quantile(post_prob[:, 2], q=HDI)[1]],\n",
    "                                           \"DemaisUB\":[np.quantile(post_prob[:, 2], q=HDI)[2]]}))\n",
    "    print(f\"lula=\", np.quantile(post_prob[:, 0], q=HDI))\n",
    "    print(f\"nulo=\", np.quantile(post_prob[:, 1], q=HDI))\n",
    "    print(f\"demais=\", np.quantile(post_prob[:, 2], q=HDI))\n",
    "df_results_weekly"
   ]
  },
  {
   "cell_type": "markdown",
   "metadata": {},
   "source": [
    "model = build_model(prior, observed, rw_alpha_mult=6.67, rw_beta_mult=0.667)\n",
    "\n",
    ">>> data_pesquisa=2022-01-13, updaed_prior=[483.38778278 128.66210683 523.97315797],  qs=[ 9.25   9.69  10.065]% <<<\n",
    "lula= [0.396633   0.42558923 0.45454545]\n",
    "nulo= [0.0956229  0.11313131 0.13265993]\n",
    "demais= [0.43164983 0.46127946 0.49158249]\n",
    "\n",
    ">>> data_pesquisa=2022-01-20, updaed_prior=[896.11772754 245.53127403 967.04329633],  qs=[4.64 4.95 5.32]% <<<\n",
    "lula= [0.4037037  0.42491582 0.44612795]\n",
    "nulo= [0.1030303  0.11649832 0.13030303]\n",
    "demais= [0.43737374 0.45858586 0.47979798]"
   ]
  },
  {
   "cell_type": "code",
   "execution_count": 281,
   "metadata": {},
   "outputs": [],
   "source": [
    "# az.plot_ppc(az.from_pymc3(posterior_predictive=ppc, model=model), figsize=(10,5));"
   ]
  },
  {
   "cell_type": "code",
   "execution_count": 282,
   "metadata": {},
   "outputs": [
    {
     "data": {
      "text/html": [
       "<div>\n",
       "<style scoped>\n",
       "    .dataframe tbody tr th:only-of-type {\n",
       "        vertical-align: middle;\n",
       "    }\n",
       "\n",
       "    .dataframe tbody tr th {\n",
       "        vertical-align: top;\n",
       "    }\n",
       "\n",
       "    .dataframe thead th {\n",
       "        text-align: right;\n",
       "    }\n",
       "</style>\n",
       "<table border=\"1\" class=\"dataframe\">\n",
       "  <thead>\n",
       "    <tr style=\"text-align: right;\">\n",
       "      <th></th>\n",
       "      <th>mean</th>\n",
       "      <th>sd</th>\n",
       "      <th>hdi_3%</th>\n",
       "      <th>hdi_97%</th>\n",
       "      <th>mcse_mean</th>\n",
       "      <th>mcse_sd</th>\n",
       "      <th>ess_bulk</th>\n",
       "      <th>ess_tail</th>\n",
       "      <th>r_hat</th>\n",
       "    </tr>\n",
       "  </thead>\n",
       "  <tbody>\n",
       "    <tr>\n",
       "      <th>random_walk[0]</th>\n",
       "      <td>4871.338</td>\n",
       "      <td>80.088</td>\n",
       "      <td>4715.569</td>\n",
       "      <td>5013.745</td>\n",
       "      <td>1.344</td>\n",
       "      <td>0.950</td>\n",
       "      <td>3548.0</td>\n",
       "      <td>2547.0</td>\n",
       "      <td>1.0</td>\n",
       "    </tr>\n",
       "    <tr>\n",
       "      <th>random_walk[1]</th>\n",
       "      <td>1318.709</td>\n",
       "      <td>40.342</td>\n",
       "      <td>1246.336</td>\n",
       "      <td>1398.070</td>\n",
       "      <td>0.769</td>\n",
       "      <td>0.546</td>\n",
       "      <td>2765.0</td>\n",
       "      <td>2918.0</td>\n",
       "      <td>1.0</td>\n",
       "    </tr>\n",
       "    <tr>\n",
       "      <th>random_walk[2]</th>\n",
       "      <td>5258.339</td>\n",
       "      <td>83.780</td>\n",
       "      <td>5102.614</td>\n",
       "      <td>5414.195</td>\n",
       "      <td>1.430</td>\n",
       "      <td>1.011</td>\n",
       "      <td>3421.0</td>\n",
       "      <td>1968.0</td>\n",
       "      <td>1.0</td>\n",
       "    </tr>\n",
       "    <tr>\n",
       "      <th>prior[0]</th>\n",
       "      <td>0.425</td>\n",
       "      <td>0.006</td>\n",
       "      <td>0.414</td>\n",
       "      <td>0.435</td>\n",
       "      <td>0.000</td>\n",
       "      <td>0.000</td>\n",
       "      <td>2463.0</td>\n",
       "      <td>2576.0</td>\n",
       "      <td>1.0</td>\n",
       "    </tr>\n",
       "    <tr>\n",
       "      <th>prior[1]</th>\n",
       "      <td>0.116</td>\n",
       "      <td>0.004</td>\n",
       "      <td>0.109</td>\n",
       "      <td>0.123</td>\n",
       "      <td>0.000</td>\n",
       "      <td>0.000</td>\n",
       "      <td>2188.0</td>\n",
       "      <td>2323.0</td>\n",
       "      <td>1.0</td>\n",
       "    </tr>\n",
       "    <tr>\n",
       "      <th>prior[2]</th>\n",
       "      <td>0.458</td>\n",
       "      <td>0.006</td>\n",
       "      <td>0.448</td>\n",
       "      <td>0.469</td>\n",
       "      <td>0.000</td>\n",
       "      <td>0.000</td>\n",
       "      <td>2964.0</td>\n",
       "      <td>2676.0</td>\n",
       "      <td>1.0</td>\n",
       "    </tr>\n",
       "  </tbody>\n",
       "</table>\n",
       "</div>"
      ],
      "text/plain": [
       "                    mean      sd    hdi_3%   hdi_97%  mcse_mean  mcse_sd  \\\n",
       "random_walk[0]  4871.338  80.088  4715.569  5013.745      1.344    0.950   \n",
       "random_walk[1]  1318.709  40.342  1246.336  1398.070      0.769    0.546   \n",
       "random_walk[2]  5258.339  83.780  5102.614  5414.195      1.430    1.011   \n",
       "prior[0]           0.425   0.006     0.414     0.435      0.000    0.000   \n",
       "prior[1]           0.116   0.004     0.109     0.123      0.000    0.000   \n",
       "prior[2]           0.458   0.006     0.448     0.469      0.000    0.000   \n",
       "\n",
       "                ess_bulk  ess_tail  r_hat  \n",
       "random_walk[0]    3548.0    2547.0    1.0  \n",
       "random_walk[1]    2765.0    2918.0    1.0  \n",
       "random_walk[2]    3421.0    1968.0    1.0  \n",
       "prior[0]          2463.0    2576.0    1.0  \n",
       "prior[1]          2188.0    2323.0    1.0  \n",
       "prior[2]          2964.0    2676.0    1.0  "
      ]
     },
     "execution_count": 282,
     "metadata": {},
     "output_type": "execute_result"
    }
   ],
   "source": [
    "az.summary(trace_w)"
   ]
  },
  {
   "cell_type": "code",
   "execution_count": 283,
   "metadata": {},
   "outputs": [],
   "source": [
    "# fig, ax = plt.subplots(2, figsize=(10,6))\n",
    "lula_w = ppc_w['current'][:,0] / ppc_w['current'].sum(axis=1) * 100\n",
    "nulo_w = ppc_w['current'][:,1] / ppc_w['current'].sum(axis=1) * 100.00\n",
    "demais_w = ppc_w['current'][:,2] / ppc_w['current'].sum(axis=1) * 100\n",
    "# az.plot_posterior({'Lula': lula, 'Demais': demais});\n",
    "# az.plot_posterior({}, ax=ax[1])"
   ]
  },
  {
   "cell_type": "code",
   "execution_count": 284,
   "metadata": {},
   "outputs": [
    {
     "data": {
      "image/png": "[encoded data removed]",
      "text/plain": [
       "<Figure size 1490.4x331.2 with 3 Axes>"
      ]
     },
     "metadata": {
      "needs_background": "light"
     },
     "output_type": "display_data"
    },
    {
     "data": {
      "image/png": "[encoded data removed]",
      "text/plain": [
       "<Figure size 1000x500 with 1 Axes>"
      ]
     },
     "metadata": {
      "needs_background": "light"
     },
     "output_type": "display_data"
    }
   ],
   "source": [
    "# a0 = np.array([100, 299, 100])\n",
    "# D0 = np.random.dirichlet(a0, 1000)\n",
    "# D0\n",
    "post_pred_w = pd.DataFrame({'Lula': lula_w, 'Nulo': nulo_w, 'Demais': demais_w})\n",
    "az.plot_posterior(post_pred_w.to_dict(orient='list'));\n",
    "fig, ax = plt.subplots(figsize=(10, 5), dpi=100)\n",
    "# ax.set_xlim(40, 50)\n",
    "\n",
    "sns.kdeplot(data=post_pred_w, ax=ax, palette=['red','yellow','black'], linewidth=2.5, gridsize=100);"
   ]
  },
  {
   "cell_type": "code",
   "execution_count": 285,
   "metadata": {},
   "outputs": [
    {
     "data": {
      "text/html": [
       "<div>\n",
       "<style scoped>\n",
       "    .dataframe tbody tr th:only-of-type {\n",
       "        vertical-align: middle;\n",
       "    }\n",
       "\n",
       "    .dataframe tbody tr th {\n",
       "        vertical-align: top;\n",
       "    }\n",
       "\n",
       "    .dataframe thead th {\n",
       "        text-align: right;\n",
       "    }\n",
       "</style>\n",
       "<table border=\"1\" class=\"dataframe\">\n",
       "  <thead>\n",
       "    <tr style=\"text-align: right;\">\n",
       "      <th></th>\n",
       "      <th>data</th>\n",
       "      <th>LulaLB</th>\n",
       "      <th>LulaM</th>\n",
       "      <th>LulaUB</th>\n",
       "      <th>DemaisLB</th>\n",
       "      <th>DemaisM</th>\n",
       "      <th>DemaisUB</th>\n",
       "    </tr>\n",
       "  </thead>\n",
       "  <tbody>\n",
       "    <tr>\n",
       "      <th>0</th>\n",
       "      <td>2021-11-04</td>\n",
       "      <td>0.389899</td>\n",
       "      <td>0.414141</td>\n",
       "      <td>0.439394</td>\n",
       "      <td>0.399495</td>\n",
       "      <td>0.425253</td>\n",
       "      <td>0.450013</td>\n",
       "    </tr>\n",
       "    <tr>\n",
       "      <th>0</th>\n",
       "      <td>2021-11-06</td>\n",
       "      <td>0.407569</td>\n",
       "      <td>0.431344</td>\n",
       "      <td>0.456089</td>\n",
       "      <td>0.389131</td>\n",
       "      <td>0.413392</td>\n",
       "      <td>0.436681</td>\n",
       "    </tr>\n",
       "    <tr>\n",
       "      <th>0</th>\n",
       "      <td>2021-11-19</td>\n",
       "      <td>0.388503</td>\n",
       "      <td>0.411794</td>\n",
       "      <td>0.436088</td>\n",
       "      <td>0.413776</td>\n",
       "      <td>0.438057</td>\n",
       "      <td>0.461348</td>\n",
       "    </tr>\n",
       "    <tr>\n",
       "      <th>0</th>\n",
       "      <td>2021-11-20</td>\n",
       "      <td>0.378500</td>\n",
       "      <td>0.402000</td>\n",
       "      <td>0.426000</td>\n",
       "      <td>0.443000</td>\n",
       "      <td>0.467000</td>\n",
       "      <td>0.490000</td>\n",
       "    </tr>\n",
       "    <tr>\n",
       "      <th>0</th>\n",
       "      <td>2021-11-24</td>\n",
       "      <td>0.364040</td>\n",
       "      <td>0.385455</td>\n",
       "      <td>0.407677</td>\n",
       "      <td>0.472323</td>\n",
       "      <td>0.494141</td>\n",
       "      <td>0.515960</td>\n",
       "    </tr>\n",
       "    <tr>\n",
       "      <th>0</th>\n",
       "      <td>2021-11-29</td>\n",
       "      <td>0.383951</td>\n",
       "      <td>0.401228</td>\n",
       "      <td>0.418277</td>\n",
       "      <td>0.493294</td>\n",
       "      <td>0.511025</td>\n",
       "      <td>0.528757</td>\n",
       "    </tr>\n",
       "    <tr>\n",
       "      <th>0</th>\n",
       "      <td>2021-12-05</td>\n",
       "      <td>0.387033</td>\n",
       "      <td>0.409627</td>\n",
       "      <td>0.432220</td>\n",
       "      <td>0.474951</td>\n",
       "      <td>0.497544</td>\n",
       "      <td>0.521611</td>\n",
       "    </tr>\n",
       "    <tr>\n",
       "      <th>0</th>\n",
       "      <td>2021-12-09</td>\n",
       "      <td>0.375000</td>\n",
       "      <td>0.403333</td>\n",
       "      <td>0.434167</td>\n",
       "      <td>0.469167</td>\n",
       "      <td>0.498333</td>\n",
       "      <td>0.527500</td>\n",
       "    </tr>\n",
       "    <tr>\n",
       "      <th>0</th>\n",
       "      <td>2021-12-11</td>\n",
       "      <td>0.387000</td>\n",
       "      <td>0.411500</td>\n",
       "      <td>0.436500</td>\n",
       "      <td>0.448000</td>\n",
       "      <td>0.473000</td>\n",
       "      <td>0.499500</td>\n",
       "    </tr>\n",
       "    <tr>\n",
       "      <th>0</th>\n",
       "      <td>2021-12-13</td>\n",
       "      <td>0.379500</td>\n",
       "      <td>0.403500</td>\n",
       "      <td>0.428500</td>\n",
       "      <td>0.464500</td>\n",
       "      <td>0.489000</td>\n",
       "      <td>0.513000</td>\n",
       "    </tr>\n",
       "    <tr>\n",
       "      <th>0</th>\n",
       "      <td>2021-12-13</td>\n",
       "      <td>0.398000</td>\n",
       "      <td>0.421500</td>\n",
       "      <td>0.446000</td>\n",
       "      <td>0.438000</td>\n",
       "      <td>0.463000</td>\n",
       "      <td>0.487000</td>\n",
       "    </tr>\n",
       "    <tr>\n",
       "      <th>0</th>\n",
       "      <td>2021-12-16</td>\n",
       "      <td>0.423854</td>\n",
       "      <td>0.443231</td>\n",
       "      <td>0.462063</td>\n",
       "      <td>0.429032</td>\n",
       "      <td>0.447325</td>\n",
       "      <td>0.465884</td>\n",
       "    </tr>\n",
       "    <tr>\n",
       "      <th>0</th>\n",
       "      <td>2021-12-16</td>\n",
       "      <td>0.411881</td>\n",
       "      <td>0.442574</td>\n",
       "      <td>0.475248</td>\n",
       "      <td>0.413861</td>\n",
       "      <td>0.447525</td>\n",
       "      <td>0.479208</td>\n",
       "    </tr>\n",
       "    <tr>\n",
       "      <th>0</th>\n",
       "      <td>2021-12-21</td>\n",
       "      <td>0.402333</td>\n",
       "      <td>0.423667</td>\n",
       "      <td>0.445333</td>\n",
       "      <td>0.445000</td>\n",
       "      <td>0.466333</td>\n",
       "      <td>0.488000</td>\n",
       "    </tr>\n",
       "    <tr>\n",
       "      <th>0</th>\n",
       "      <td>2022-01-09</td>\n",
       "      <td>0.406633</td>\n",
       "      <td>0.430612</td>\n",
       "      <td>0.454592</td>\n",
       "      <td>0.432653</td>\n",
       "      <td>0.456633</td>\n",
       "      <td>0.481633</td>\n",
       "    </tr>\n",
       "    <tr>\n",
       "      <th>0</th>\n",
       "      <td>2022-01-12</td>\n",
       "      <td>0.397059</td>\n",
       "      <td>0.431373</td>\n",
       "      <td>0.463725</td>\n",
       "      <td>0.422549</td>\n",
       "      <td>0.454902</td>\n",
       "      <td>0.489216</td>\n",
       "    </tr>\n",
       "    <tr>\n",
       "      <th>0</th>\n",
       "      <td>2022-01-13</td>\n",
       "      <td>0.396633</td>\n",
       "      <td>0.425589</td>\n",
       "      <td>0.453872</td>\n",
       "      <td>0.432323</td>\n",
       "      <td>0.460606</td>\n",
       "      <td>0.490236</td>\n",
       "    </tr>\n",
       "    <tr>\n",
       "      <th>0</th>\n",
       "      <td>2022-01-20</td>\n",
       "      <td>0.404714</td>\n",
       "      <td>0.425253</td>\n",
       "      <td>0.447138</td>\n",
       "      <td>0.437037</td>\n",
       "      <td>0.458249</td>\n",
       "      <td>0.478451</td>\n",
       "    </tr>\n",
       "  </tbody>\n",
       "</table>\n",
       "</div>"
      ],
      "text/plain": [
       "         data    LulaLB     LulaM    LulaUB  DemaisLB   DemaisM  DemaisUB\n",
       "0  2021-11-04  0.389899  0.414141  0.439394  0.399495  0.425253  0.450013\n",
       "0  2021-11-06  0.407569  0.431344  0.456089  0.389131  0.413392  0.436681\n",
       "0  2021-11-19  0.388503  0.411794  0.436088  0.413776  0.438057  0.461348\n",
       "0  2021-11-20  0.378500  0.402000  0.426000  0.443000  0.467000  0.490000\n",
       "0  2021-11-24  0.364040  0.385455  0.407677  0.472323  0.494141  0.515960\n",
       "0  2021-11-29  0.383951  0.401228  0.418277  0.493294  0.511025  0.528757\n",
       "0  2021-12-05  0.387033  0.409627  0.432220  0.474951  0.497544  0.521611\n",
       "0  2021-12-09  0.375000  0.403333  0.434167  0.469167  0.498333  0.527500\n",
       "0  2021-12-11  0.387000  0.411500  0.436500  0.448000  0.473000  0.499500\n",
       "0  2021-12-13  0.379500  0.403500  0.428500  0.464500  0.489000  0.513000\n",
       "0  2021-12-13  0.398000  0.421500  0.446000  0.438000  0.463000  0.487000\n",
       "0  2021-12-16  0.423854  0.443231  0.462063  0.429032  0.447325  0.465884\n",
       "0  2021-12-16  0.411881  0.442574  0.475248  0.413861  0.447525  0.479208\n",
       "0  2021-12-21  0.402333  0.423667  0.445333  0.445000  0.466333  0.488000\n",
       "0  2022-01-09  0.406633  0.430612  0.454592  0.432653  0.456633  0.481633\n",
       "0  2022-01-12  0.397059  0.431373  0.463725  0.422549  0.454902  0.489216\n",
       "0  2022-01-13  0.396633  0.425589  0.453872  0.432323  0.460606  0.490236\n",
       "0  2022-01-20  0.404714  0.425253  0.447138  0.437037  0.458249  0.478451"
      ]
     },
     "execution_count": 285,
     "metadata": {},
     "output_type": "execute_result"
    }
   ],
   "source": [
    "df_results_weekly"
   ]
  },
  {
   "cell_type": "markdown",
   "metadata": {},
   "source": [
    "## MONTHLY"
   ]
  },
  {
   "cell_type": "code",
   "execution_count": 286,
   "metadata": {},
   "outputs": [
    {
     "name": "stdout",
     "output_type": "stream",
     "text": [
      ">>> observed = [6048.848 1507.332 7382.82 ]\n"
     ]
    },
    {
     "name": "stderr",
     "output_type": "stream",
     "text": [
      "Auto-assigning NUTS sampler...\n",
      "Initializing NUTS using jitter+adapt_diag...\n",
      "Multiprocess sampling (2 chains in 2 jobs)\n",
      "NUTS: [prior, random_walk]\n",
      "Sampling 2 chains for 2_000 tune and 2_000 draw iterations (4_000 + 4_000 draws total) took 6 seconds.\n"
     ]
    },
    {
     "ename": "NameError",
     "evalue": "name 'ppc' is not defined",
     "output_type": "error",
     "traceback": [
      "\u001b[0;31m---------------------------------------------------------------------------\u001b[0m",
      "\u001b[0;31mNameError\u001b[0m                                 Traceback (most recent call last)",
      "\u001b[0;32m/tmp/ipykernel_3427044/3348468397.py\u001b[0m in \u001b[0;36m<module>\u001b[0;34m\u001b[0m\n\u001b[1;32m      9\u001b[0m     \u001b[0mposterior_m\u001b[0m \u001b[0;34m=\u001b[0m \u001b[0mppc_m\u001b[0m\u001b[0;34m[\u001b[0m\u001b[0;34m'current'\u001b[0m\u001b[0;34m]\u001b[0m\u001b[0;34m\u001b[0m\u001b[0;34m\u001b[0m\u001b[0m\n\u001b[1;32m     10\u001b[0m     \u001b[0mprior\u001b[0m \u001b[0;34m=\u001b[0m \u001b[0mdirichlet\u001b[0m\u001b[0;34m.\u001b[0m\u001b[0mmle\u001b[0m\u001b[0;34m(\u001b[0m\u001b[0mposterior_m\u001b[0m\u001b[0;34m/\u001b[0m\u001b[0mposterior_m\u001b[0m\u001b[0;34m.\u001b[0m\u001b[0msum\u001b[0m\u001b[0;34m(\u001b[0m\u001b[0maxis\u001b[0m\u001b[0;34m=\u001b[0m\u001b[0;36m1\u001b[0m\u001b[0;34m)\u001b[0m\u001b[0;34m.\u001b[0m\u001b[0mreshape\u001b[0m\u001b[0;34m(\u001b[0m\u001b[0;34m-\u001b[0m\u001b[0;36m1\u001b[0m\u001b[0;34m,\u001b[0m \u001b[0;36m1\u001b[0m\u001b[0;34m)\u001b[0m\u001b[0;34m)\u001b[0m\u001b[0;34m\u001b[0m\u001b[0;34m\u001b[0m\u001b[0m\n\u001b[0;32m---> 11\u001b[0;31m     \u001b[0mqs\u001b[0m \u001b[0;34m=\u001b[0m \u001b[0mcalc_prob_lula_win\u001b[0m\u001b[0;34m(\u001b[0m\u001b[0mmodel\u001b[0m\u001b[0;34m,\u001b[0m \u001b[0mtrace\u001b[0m\u001b[0;34m,\u001b[0m \u001b[0;36m50\u001b[0m\u001b[0;34m,\u001b[0m \u001b[0mppc\u001b[0m\u001b[0;34m=\u001b[0m\u001b[0mppc\u001b[0m\u001b[0;34m)\u001b[0m\u001b[0;34m\u001b[0m\u001b[0;34m\u001b[0m\u001b[0m\n\u001b[0m\u001b[1;32m     12\u001b[0m     \u001b[0mprint\u001b[0m\u001b[0;34m(\u001b[0m\u001b[0;34mf\">>> mes={obj.mes}, updaed_prior={prior},  qs={[str(q)+'%' for q in qs]} <<<\"\u001b[0m\u001b[0;34m)\u001b[0m\u001b[0;34m\u001b[0m\u001b[0;34m\u001b[0m\u001b[0m\n\u001b[1;32m     13\u001b[0m     \u001b[0mpost_prob\u001b[0m \u001b[0;34m=\u001b[0m \u001b[0mposterior_m\u001b[0m\u001b[0;34m/\u001b[0m\u001b[0mposterior_m\u001b[0m\u001b[0;34m.\u001b[0m\u001b[0msum\u001b[0m\u001b[0;34m(\u001b[0m\u001b[0maxis\u001b[0m\u001b[0;34m=\u001b[0m\u001b[0;36m1\u001b[0m\u001b[0;34m)\u001b[0m\u001b[0;34m.\u001b[0m\u001b[0mreshape\u001b[0m\u001b[0;34m(\u001b[0m\u001b[0;34m-\u001b[0m\u001b[0;36m1\u001b[0m\u001b[0;34m,\u001b[0m \u001b[0;36m1\u001b[0m\u001b[0;34m)\u001b[0m\u001b[0;34m\u001b[0m\u001b[0;34m\u001b[0m\u001b[0m\n",
      "\u001b[0;31mNameError\u001b[0m: name 'ppc' is not defined"
     ]
    }
   ],
   "source": [
    "flat_prior = prior = np.array([420.0, 130.0, 450.0])\n",
    "\n",
    "df_by_mes = df.groupby(\"mes\").sum().reset_index()\n",
    "for obj in df_by_mes.itertuples():\n",
    "    observed = np.array([obj.LULA, obj.NULO, obj.OUTROS])\n",
    "    print(f\">>> observed = {observed}\")\n",
    "    model_m = build_model(prior, observed, rw_alpha_mult=1.0, rw_beta_mult=1.0)\n",
    "    trace_m, ppc_m = sampling(model_m)\n",
    "    posterior_m = ppc_m['current']\n",
    "    prior = dirichlet.mle(posterior_m/posterior_m.sum(axis=1).reshape(-1, 1))\n",
    "    qs = calc_prob_lula_win(model, trace, 50, ppc=ppc)\n",
    "    print(f\">>> mes={obj.mes}, updaed_prior={prior},  qs={[str(q)+'%' for q in qs]} <<<\")\n",
    "    post_prob = posterior_m/posterior_m.sum(axis=1).reshape(-1, 1)\n",
    "    print(f\"lula=\", np.quantile(post_prob[:, 0], q=HDI))\n",
    "    print(f\"nulo=\", np.quantile(post_prob[:, 1], q=HDI))\n",
    "    print(f\"demais=\", np.quantile(post_prob[:, 2], q=HDI))\n",
    "\n"
   ]
  },
  {
   "cell_type": "markdown",
   "metadata": {},
   "source": [
    "model = build_model(prior, observed, rw_alpha_mult=1.0, rw_beta_mult=1.0)\n",
    "\n",
    "\n",
    ">>> mes=2021_12, updaed_prior=[4010.21159264 1063.82999647 4263.9625701 ],  qs=['0.1925%', '0.26%', '0.33999999999999997%'] <<<\n",
    "lula= [0.4193896  0.42938221 0.43949305]\n",
    "nulo= [0.10747857 0.11392255 0.1205439 ]\n",
    "demais= [0.44670263 0.45651788 0.46668637]\n",
    ">>> mes=2022_01, updaed_prior=[1986.94630475  542.79884705 2077.89947253],  qs=['7.24%', '7.6%', '8.0175%'] <<<\n",
    "lula= [0.41708137 0.43120377 0.44559516]\n",
    "nulo= [0.10867518 0.11782112 0.12723605]\n",
    "demais= [0.43658373 0.45097512 0.46523201]"
   ]
  },
  {
   "cell_type": "code",
   "execution_count": null,
   "metadata": {},
   "outputs": [],
   "source": [
    "az.summary(trace_m)"
   ]
  },
  {
   "cell_type": "code",
   "execution_count": null,
   "metadata": {},
   "outputs": [],
   "source": [
    "lula_m = ppc_m['current'][:,0] / ppc_m['current'].sum(axis=1) * 100.00\n",
    "nulo_m = ppc_m['current'][:,1] / ppc_m['current'].sum(axis=1) * 100.00\n",
    "demais_m = ppc_m['current'][:,2] / ppc_m['current'].sum(axis=1) * 100.00\n",
    "post_pred = {'Lula': lula_m, 'Demais': demais_m, 'Nulo/Branco':nulo_m}\n",
    "az.plot_posterior(post_pred);"
   ]
  },
  {
   "cell_type": "code",
   "execution_count": null,
   "metadata": {},
   "outputs": [],
   "source": [
    "fig, ax = plt.subplots(figsize=(10, 5), dpi=100)\n",
    "# ax.set_xlim(40, 50)\n",
    "sns.kdeplot(data=post_pred, ax=ax, palette=['red','yellow','black'], linewidth=2.5, gridsize=500);"
   ]
  },
  {
   "cell_type": "code",
   "execution_count": null,
   "metadata": {},
   "outputs": [],
   "source": [
    "(post_pred.Lula > post_pred.Demais).mean()"
   ]
  },
  {
   "cell_type": "code",
   "execution_count": null,
   "metadata": {},
   "outputs": [],
   "source": []
  },
  {
   "cell_type": "markdown",
   "metadata": {},
   "source": [
    "## Playground"
   ]
  },
  {
   "cell_type": "code",
   "execution_count": null,
   "metadata": {},
   "outputs": [],
   "source": [
    "import math\n",
    "1 - stats.norm.cdf(0, loc=-1, scale=math.sqrt(5))"
   ]
  },
  {
   "cell_type": "code",
   "execution_count": null,
   "metadata": {},
   "outputs": [],
   "source": [
    "import scipy as sp\n",
    "true_p = sp.stats.dirichlet(6.0 * np.array([0.45, 0.3, 0.15, 0.9, 0.01])).rvs(size=10)\n",
    "observed = np.vstack([sp.stats.multinomial(n=50, p=p_i).rvs() for p_i in true_p])\n",
    "\n"
   ]
  },
  {
   "cell_type": "code",
   "execution_count": null,
   "metadata": {},
   "outputs": [],
   "source": [
    "observed.sum(axis=1)"
   ]
  },
  {
   "cell_type": "code",
   "execution_count": null,
   "metadata": {},
   "outputs": [],
   "source": [
    "current_observed.sum(axis=0)"
   ]
  },
  {
   "cell_type": "code",
   "execution_count": null,
   "metadata": {},
   "outputs": [],
   "source": [
    "current_observed.sum(axis=1)"
   ]
  },
  {
   "cell_type": "code",
   "execution_count": null,
   "metadata": {},
   "outputs": [],
   "source": [
    "current_observed"
   ]
  },
  {
   "cell_type": "code",
   "execution_count": null,
   "metadata": {},
   "outputs": [],
   "source": [
    "import ipywidgets as widgets\n",
    "from ipywidgets import interact\n",
    "from datetime import datetime\n",
    "import plotly.io as pio\n",
    "# Default is plotly_mimetype+notebook, but jekyll fails to parse plotly_mimetype.\n",
    "pio.renderers.default = 'notebook_connected'\n",
    "\n",
    "# Inject the missing require.js dependency.\n",
    "from IPython.display import display, HTML\n",
    "js = '<script src=\"https://cdnjs.cloudflare.com/ajax/libs/require.js/2.3.6/require.min.js\" integrity=\"sha512-c3Nl8+7g4LMSTdrm621y7kf9v3SDPnhxLNhcjFJbKECVnmZHTdo+IRO05sNLTH/D3vA6u1X32ehoLC7WFVdheg==\" crossorigin=\"anonymous\"></script>'\n",
    "display(HTML(js))\n",
    "import plotly.express as px\n",
    "\n",
    "df = px.data.gapminder()\n",
    "px.scatter(df, x=\"gdpPercap\", y=\"lifeExp\", animation_frame=\"year\", animation_group=\"country\",\n",
    "           size=\"pop\", color=\"continent\", hover_name=\"country\",\n",
    "           log_x=True, size_max=55, range_x=[100,100000], range_y=[25,90])\n"
   ]
  },
  {
   "cell_type": "code",
   "execution_count": null,
   "metadata": {},
   "outputs": [],
   "source": [
    "# hide_input\n",
    "# This cell is required for the export to HTML to work.\n"
   ]
  },
  {
   "cell_type": "code",
   "execution_count": null,
   "metadata": {},
   "outputs": [],
   "source": [
    "observed_prior = np.array([7356., 1973., 7578.])\n",
    "prior = []\n",
    "N = 4000\n",
    "for it in range(N):\n",
    "    b = stats.beta.rvs(a=5, b=1, size=3)\n",
    "    # print(b)\n",
    "    # print(observed_prior * b)\n",
    "    diric = stats.dirichlet.rvs(observed_prior * b,)\n",
    "    # print(diric[0])\n",
    "    prior.append(diric[0])\n",
    "prior = np.array(prior)\n",
    "print(prior[:4])"
   ]
  },
  {
   "cell_type": "code",
   "execution_count": null,
   "metadata": {},
   "outputs": [],
   "source": [
    "\n",
    "print((prior[:,0] > prior[:,2]).mean())\n",
    "print(prior.shape)\n"
   ]
  },
  {
   "cell_type": "code",
   "execution_count": null,
   "metadata": {},
   "outputs": [],
   "source": [
    "posterior = []\n",
    "for it in range(N):\n",
    "    mn = stats.multinomial.rvs(n=3000, p=[1340/3000, 370/3000, 1290/3000])\n",
    "    posterior.append(mn * prior[it])\n",
    "posterior = np.array(posterior)\n",
    "\n"
   ]
  },
  {
   "cell_type": "code",
   "execution_count": null,
   "metadata": {},
   "outputs": [],
   "source": [
    "post = posterior#/posterior.sum(axis=1).reshape(4000,1)\n",
    "print(post.sum(axis=1))\n",
    "print(post[:10, 0])\n",
    "print(post[:10, 2])"
   ]
  },
  {
   "cell_type": "code",
   "execution_count": null,
   "metadata": {},
   "outputs": [],
   "source": [
    "lula = post[:, 0]\n",
    "others = post[:, 2]\n",
    "print((lula > others).mean())"
   ]
  },
  {
   "cell_type": "code",
   "execution_count": null,
   "metadata": {},
   "outputs": [],
   "source": [
    "simul = []\n",
    "for it in range(N):\n",
    "    idx = np.random.choice(N,1)[0]\n",
    "    #print(idx)\n",
    "    #print(post[idx])\n",
    "    dir2 = stats.dirichlet.rvs(post[idx])[0]\n",
    "    simul.append(dir2)\n",
    "dir2 = np.array(simul)"
   ]
  },
  {
   "cell_type": "code",
   "execution_count": null,
   "metadata": {},
   "outputs": [],
   "source": [
    "dir2"
   ]
  },
  {
   "cell_type": "code",
   "execution_count": null,
   "metadata": {},
   "outputs": [],
   "source": [
    "lula = dir2[:, 0]\n",
    "others = dir2[:, 2]\n",
    "print((lula > others).mean())"
   ]
  },
  {
   "cell_type": "code",
   "execution_count": null,
   "metadata": {},
   "outputs": [],
   "source": [
    "np.arange(10)"
   ]
  },
  {
   "cell_type": "code",
   "execution_count": null,
   "metadata": {},
   "outputs": [],
   "source": [
    "np.linspace(0,1, 101)"
   ]
  },
  {
   "cell_type": "code",
   "execution_count": null,
   "metadata": {},
   "outputs": [],
   "source": [
    "x = np.arange(5,10)"
   ]
  },
  {
   "cell_type": "code",
   "execution_count": null,
   "metadata": {},
   "outputs": [],
   "source": [
    "np.concatenate([[x[0] - 5], x, [x[-1] + 5]])"
   ]
  },
  {
   "cell_type": "code",
   "execution_count": null,
   "metadata": {},
   "outputs": [],
   "source": [
    "1.96 * np.sqrt((0.5**2)/3000)"
   ]
  },
  {
   "cell_type": "code",
   "execution_count": null,
   "metadata": {},
   "outputs": [],
   "source": [
    "1./(1./0.01789 + 1./0.0200)"
   ]
  },
  {
   "cell_type": "code",
   "execution_count": null,
   "metadata": {},
   "outputs": [],
   "source": [
    "1/100"
   ]
  },
  {
   "cell_type": "code",
   "execution_count": null,
   "metadata": {},
   "outputs": [],
   "source": [
    "1/(1./0.01789 + 1./0.0200)"
   ]
  },
  {
   "cell_type": "code",
   "execution_count": null,
   "metadata": {},
   "outputs": [
    {
     "data": {
      "text/plain": [
       "(50.0, 28.577380332470412)"
      ]
     },
     "execution_count": 141,
     "metadata": {},
     "output_type": "execute_result"
    }
   ],
   "source": [
    "X = np.arange(1, 100)\n",
    "X.mean(), X.std()"
   ]
  },
  {
   "cell_type": "code",
   "execution_count": null,
   "metadata": {},
   "outputs": [
    {
     "name": "stdout",
     "output_type": "stream",
     "text": [
      "20.543583566122344 4.446651315132218\n"
     ]
    },
    {
     "data": {
      "text/plain": [
       "<matplotlib.collections.PathCollection at 0x7f50a1684370>"
      ]
     },
     "execution_count": 142,
     "metadata": {},
     "output_type": "execute_result"
    },
    {
     "data": {
      "image/png": "[encoded data removed]",
      "text/plain": [
       "<Figure size 432x288 with 1 Axes>"
      ]
     },
     "metadata": {
      "needs_background": "light"
     },
     "output_type": "display_data"
    }
   ],
   "source": [
    "Y = 12*(np.sin(X/50) + 1) + np.random.normal(0, 2, X.size)\n",
    "print(Y.mean(), Y.std())\n",
    "plt.scatter(X, Y)"
   ]
  },
  {
   "cell_type": "code",
   "execution_count": null,
   "metadata": {},
   "outputs": [
    {
     "name": "stderr",
     "output_type": "stream",
     "text": [
      "Auto-assigning NUTS sampler...\n",
      "Initializing NUTS using jitter+adapt_diag...\n",
      "Multiprocess sampling (2 chains in 2 jobs)\n",
      "NUTS: [grw]\n"
     ]
    },
    {
     "data": {
      "text/html": [
       "\n",
       "    <div>\n",
       "        <style>\n",
       "            /* Turns off some styling */\n",
       "            progress {\n",
       "                /* gets rid of default border in Firefox and Opera. */\n",
       "                border: none;\n",
       "                /* Needs to be in here for Safari polyfill so background images work as expected. */\n",
       "                background-size: auto;\n",
       "            }\n",
       "            .progress-bar-interrupted, .progress-bar-interrupted::-webkit-progress-bar {\n",
       "                background: #F44336;\n",
       "            }\n",
       "        </style>\n",
       "      <progress value='4000' class='' max='4000' style='width:300px; height:20px; vertical-align: middle;'></progress>\n",
       "      100.00% [4000/4000 00:17<00:00 Sampling 2 chains, 0 divergences]\n",
       "    </div>\n",
       "    "
      ],
      "text/plain": [
       "<IPython.core.display.HTML object>"
      ]
     },
     "metadata": {},
     "output_type": "display_data"
    },
    {
     "name": "stderr",
     "output_type": "stream",
     "text": [
      "Sampling 2 chains for 1_000 tune and 1_000 draw iterations (2_000 + 2_000 draws total) took 17 seconds.\n"
     ]
    },
    {
     "data": {
      "image/png": "[encoded data removed]",
      "text/plain": [
       "<Figure size 864x144 with 2 Axes>"
      ]
     },
     "metadata": {
      "needs_background": "light"
     },
     "output_type": "display_data"
    }
   ],
   "source": [
    "with pm.Model() as grw:\n",
    "    grw = pm.GaussianRandomWalk('grw', mu=0, sd=0.5, shape=X.size)\n",
    "    \n",
    "    observed = pm.Normal('observed', mu=grw, sigma=Y.std(), observed=Y)\n",
    "    \n",
    "    trace = pm.sample(1000, tune=1000, progressbar=True, \n",
    "                          return_inferencedata=True)\n",
    "    summary = az.summary(trace) # used below\n",
    "    az.plot_trace(trace)  \n"
   ]
  },
  {
   "cell_type": "code",
   "execution_count": null,
   "metadata": {},
   "outputs": [
    {
     "data": {
      "text/html": [
       "<div><svg style=\"position: absolute; width: 0; height: 0; overflow: hidden\">\n",
       "<defs>\n",
       "<symbol id=\"icon-database\" viewBox=\"0 0 32 32\">\n",
       "<path d=\"M16 0c-8.837 0-16 2.239-16 5v4c0 2.761 7.163 5 16 5s16-2.239 16-5v-4c0-2.761-7.163-5-16-5z\"></path>\n",
       "<path d=\"M16 17c-8.837 0-16-2.239-16-5v6c0 2.761 7.163 5 16 5s16-2.239 16-5v-6c0 2.761-7.163 5-16 5z\"></path>\n",
       "<path d=\"M16 26c-8.837 0-16-2.239-16-5v6c0 2.761 7.163 5 16 5s16-2.239 16-5v-6c0 2.761-7.163 5-16 5z\"></path>\n",
       "</symbol>\n",
       "<symbol id=\"icon-file-text2\" viewBox=\"0 0 32 32\">\n",
       "<path d=\"M28.681 7.159c-0.694-0.947-1.662-2.053-2.724-3.116s-2.169-2.030-3.116-2.724c-1.612-1.182-2.393-1.319-2.841-1.319h-15.5c-1.378 0-2.5 1.121-2.5 2.5v27c0 1.378 1.122 2.5 2.5 2.5h23c1.378 0 2.5-1.122 2.5-2.5v-19.5c0-0.448-0.137-1.23-1.319-2.841zM24.543 5.457c0.959 0.959 1.712 1.825 2.268 2.543h-4.811v-4.811c0.718 0.556 1.584 1.309 2.543 2.268zM28 29.5c0 0.271-0.229 0.5-0.5 0.5h-23c-0.271 0-0.5-0.229-0.5-0.5v-27c0-0.271 0.229-0.5 0.5-0.5 0 0 15.499-0 15.5 0v7c0 0.552 0.448 1 1 1h7v19.5z\"></path>\n",
       "<path d=\"M23 26h-14c-0.552 0-1-0.448-1-1s0.448-1 1-1h14c0.552 0 1 0.448 1 1s-0.448 1-1 1z\"></path>\n",
       "<path d=\"M23 22h-14c-0.552 0-1-0.448-1-1s0.448-1 1-1h14c0.552 0 1 0.448 1 1s-0.448 1-1 1z\"></path>\n",
       "<path d=\"M23 18h-14c-0.552 0-1-0.448-1-1s0.448-1 1-1h14c0.552 0 1 0.448 1 1s-0.448 1-1 1z\"></path>\n",
       "</symbol>\n",
       "</defs>\n",
       "</svg>\n",
       "<style>/* CSS stylesheet for displaying xarray objects in jupyterlab.\n",
       " *\n",
       " */\n",
       "\n",
       ":root {\n",
       "  --xr-font-color0: var(--jp-content-font-color0, rgba(0, 0, 0, 1));\n",
       "  --xr-font-color2: var(--jp-content-font-color2, rgba(0, 0, 0, 0.54));\n",
       "  --xr-font-color3: var(--jp-content-font-color3, rgba(0, 0, 0, 0.38));\n",
       "  --xr-border-color: var(--jp-border-color2, #e0e0e0);\n",
       "  --xr-disabled-color: var(--jp-layout-color3, #bdbdbd);\n",
       "  --xr-background-color: var(--jp-layout-color0, white);\n",
       "  --xr-background-color-row-even: var(--jp-layout-color1, white);\n",
       "  --xr-background-color-row-odd: var(--jp-layout-color2, #eeeeee);\n",
       "}\n",
       "\n",
       "html[theme=dark],\n",
       "body.vscode-dark {\n",
       "  --xr-font-color0: rgba(255, 255, 255, 1);\n",
       "  --xr-font-color2: rgba(255, 255, 255, 0.54);\n",
       "  --xr-font-color3: rgba(255, 255, 255, 0.38);\n",
       "  --xr-border-color: #1F1F1F;\n",
       "  --xr-disabled-color: #515151;\n",
       "  --xr-background-color: #111111;\n",
       "  --xr-background-color-row-even: #111111;\n",
       "  --xr-background-color-row-odd: #313131;\n",
       "}\n",
       "\n",
       ".xr-wrap {\n",
       "  display: block;\n",
       "  min-width: 300px;\n",
       "  max-width: 700px;\n",
       "}\n",
       "\n",
       ".xr-text-repr-fallback {\n",
       "  /* fallback to plain text repr when CSS is not injected (untrusted notebook) */\n",
       "  display: none;\n",
       "}\n",
       "\n",
       ".xr-header {\n",
       "  padding-top: 6px;\n",
       "  padding-bottom: 6px;\n",
       "  margin-bottom: 4px;\n",
       "  border-bottom: solid 1px var(--xr-border-color);\n",
       "}\n",
       "\n",
       ".xr-header > div,\n",
       ".xr-header > ul {\n",
       "  display: inline;\n",
       "  margin-top: 0;\n",
       "  margin-bottom: 0;\n",
       "}\n",
       "\n",
       ".xr-obj-type,\n",
       ".xr-array-name {\n",
       "  margin-left: 2px;\n",
       "  margin-right: 10px;\n",
       "}\n",
       "\n",
       ".xr-obj-type {\n",
       "  color: var(--xr-font-color2);\n",
       "}\n",
       "\n",
       ".xr-sections {\n",
       "  padding-left: 0 !important;\n",
       "  display: grid;\n",
       "  grid-template-columns: 150px auto auto 1fr 20px 20px;\n",
       "}\n",
       "\n",
       ".xr-section-item {\n",
       "  display: contents;\n",
       "}\n",
       "\n",
       ".xr-section-item input {\n",
       "  display: none;\n",
       "}\n",
       "\n",
       ".xr-section-item input + label {\n",
       "  color: var(--xr-disabled-color);\n",
       "}\n",
       "\n",
       ".xr-section-item input:enabled + label {\n",
       "  cursor: pointer;\n",
       "  color: var(--xr-font-color2);\n",
       "}\n",
       "\n",
       ".xr-section-item input:enabled + label:hover {\n",
       "  color: var(--xr-font-color0);\n",
       "}\n",
       "\n",
       ".xr-section-summary {\n",
       "  grid-column: 1;\n",
       "  color: var(--xr-font-color2);\n",
       "  font-weight: 500;\n",
       "}\n",
       "\n",
       ".xr-section-summary > span {\n",
       "  display: inline-block;\n",
       "  padding-left: 0.5em;\n",
       "}\n",
       "\n",
       ".xr-section-summary-in:disabled + label {\n",
       "  color: var(--xr-font-color2);\n",
       "}\n",
       "\n",
       ".xr-section-summary-in + label:before {\n",
       "  display: inline-block;\n",
       "  content: '►';\n",
       "  font-size: 11px;\n",
       "  width: 15px;\n",
       "  text-align: center;\n",
       "}\n",
       "\n",
       ".xr-section-summary-in:disabled + label:before {\n",
       "  color: var(--xr-disabled-color);\n",
       "}\n",
       "\n",
       ".xr-section-summary-in:checked + label:before {\n",
       "  content: '▼';\n",
       "}\n",
       "\n",
       ".xr-section-summary-in:checked + label > span {\n",
       "  display: none;\n",
       "}\n",
       "\n",
       ".xr-section-summary,\n",
       ".xr-section-inline-details {\n",
       "  padding-top: 4px;\n",
       "  padding-bottom: 4px;\n",
       "}\n",
       "\n",
       ".xr-section-inline-details {\n",
       "  grid-column: 2 / -1;\n",
       "}\n",
       "\n",
       ".xr-section-details {\n",
       "  display: none;\n",
       "  grid-column: 1 / -1;\n",
       "  margin-bottom: 5px;\n",
       "}\n",
       "\n",
       ".xr-section-summary-in:checked ~ .xr-section-details {\n",
       "  display: contents;\n",
       "}\n",
       "\n",
       ".xr-array-wrap {\n",
       "  grid-column: 1 / -1;\n",
       "  display: grid;\n",
       "  grid-template-columns: 20px auto;\n",
       "}\n",
       "\n",
       ".xr-array-wrap > label {\n",
       "  grid-column: 1;\n",
       "  vertical-align: top;\n",
       "}\n",
       "\n",
       ".xr-preview {\n",
       "  color: var(--xr-font-color3);\n",
       "}\n",
       "\n",
       ".xr-array-preview,\n",
       ".xr-array-data {\n",
       "  padding: 0 5px !important;\n",
       "  grid-column: 2;\n",
       "}\n",
       "\n",
       ".xr-array-data,\n",
       ".xr-array-in:checked ~ .xr-array-preview {\n",
       "  display: none;\n",
       "}\n",
       "\n",
       ".xr-array-in:checked ~ .xr-array-data,\n",
       ".xr-array-preview {\n",
       "  display: inline-block;\n",
       "}\n",
       "\n",
       ".xr-dim-list {\n",
       "  display: inline-block !important;\n",
       "  list-style: none;\n",
       "  padding: 0 !important;\n",
       "  margin: 0;\n",
       "}\n",
       "\n",
       ".xr-dim-list li {\n",
       "  display: inline-block;\n",
       "  padding: 0;\n",
       "  margin: 0;\n",
       "}\n",
       "\n",
       ".xr-dim-list:before {\n",
       "  content: '(';\n",
       "}\n",
       "\n",
       ".xr-dim-list:after {\n",
       "  content: ')';\n",
       "}\n",
       "\n",
       ".xr-dim-list li:not(:last-child):after {\n",
       "  content: ',';\n",
       "  padding-right: 5px;\n",
       "}\n",
       "\n",
       ".xr-has-index {\n",
       "  font-weight: bold;\n",
       "}\n",
       "\n",
       ".xr-var-list,\n",
       ".xr-var-item {\n",
       "  display: contents;\n",
       "}\n",
       "\n",
       ".xr-var-item > div,\n",
       ".xr-var-item label,\n",
       ".xr-var-item > .xr-var-name span {\n",
       "  background-color: var(--xr-background-color-row-even);\n",
       "  margin-bottom: 0;\n",
       "}\n",
       "\n",
       ".xr-var-item > .xr-var-name:hover span {\n",
       "  padding-right: 5px;\n",
       "}\n",
       "\n",
       ".xr-var-list > li:nth-child(odd) > div,\n",
       ".xr-var-list > li:nth-child(odd) > label,\n",
       ".xr-var-list > li:nth-child(odd) > .xr-var-name span {\n",
       "  background-color: var(--xr-background-color-row-odd);\n",
       "}\n",
       "\n",
       ".xr-var-name {\n",
       "  grid-column: 1;\n",
       "}\n",
       "\n",
       ".xr-var-dims {\n",
       "  grid-column: 2;\n",
       "}\n",
       "\n",
       ".xr-var-dtype {\n",
       "  grid-column: 3;\n",
       "  text-align: right;\n",
       "  color: var(--xr-font-color2);\n",
       "}\n",
       "\n",
       ".xr-var-preview {\n",
       "  grid-column: 4;\n",
       "}\n",
       "\n",
       ".xr-var-name,\n",
       ".xr-var-dims,\n",
       ".xr-var-dtype,\n",
       ".xr-preview,\n",
       ".xr-attrs dt {\n",
       "  white-space: nowrap;\n",
       "  overflow: hidden;\n",
       "  text-overflow: ellipsis;\n",
       "  padding-right: 10px;\n",
       "}\n",
       "\n",
       ".xr-var-name:hover,\n",
       ".xr-var-dims:hover,\n",
       ".xr-var-dtype:hover,\n",
       ".xr-attrs dt:hover {\n",
       "  overflow: visible;\n",
       "  width: auto;\n",
       "  z-index: 1;\n",
       "}\n",
       "\n",
       ".xr-var-attrs,\n",
       ".xr-var-data {\n",
       "  display: none;\n",
       "  background-color: var(--xr-background-color) !important;\n",
       "  padding-bottom: 5px !important;\n",
       "}\n",
       "\n",
       ".xr-var-attrs-in:checked ~ .xr-var-attrs,\n",
       ".xr-var-data-in:checked ~ .xr-var-data {\n",
       "  display: block;\n",
       "}\n",
       "\n",
       ".xr-var-data > table {\n",
       "  float: right;\n",
       "}\n",
       "\n",
       ".xr-var-name span,\n",
       ".xr-var-data,\n",
       ".xr-attrs {\n",
       "  padding-left: 25px !important;\n",
       "}\n",
       "\n",
       ".xr-attrs,\n",
       ".xr-var-attrs,\n",
       ".xr-var-data {\n",
       "  grid-column: 1 / -1;\n",
       "}\n",
       "\n",
       "dl.xr-attrs {\n",
       "  padding: 0;\n",
       "  margin: 0;\n",
       "  display: grid;\n",
       "  grid-template-columns: 125px auto;\n",
       "}\n",
       "\n",
       ".xr-attrs dt,\n",
       ".xr-attrs dd {\n",
       "  padding: 0;\n",
       "  margin: 0;\n",
       "  float: left;\n",
       "  padding-right: 10px;\n",
       "  width: auto;\n",
       "}\n",
       "\n",
       ".xr-attrs dt {\n",
       "  font-weight: normal;\n",
       "  grid-column: 1;\n",
       "}\n",
       "\n",
       ".xr-attrs dt:hover span {\n",
       "  display: inline-block;\n",
       "  background: var(--xr-background-color);\n",
       "  padding-right: 10px;\n",
       "}\n",
       "\n",
       ".xr-attrs dd {\n",
       "  grid-column: 2;\n",
       "  white-space: pre-wrap;\n",
       "  word-break: break-all;\n",
       "}\n",
       "\n",
       ".xr-icon-database,\n",
       ".xr-icon-file-text2 {\n",
       "  display: inline-block;\n",
       "  vertical-align: middle;\n",
       "  width: 1em;\n",
       "  height: 1.5em !important;\n",
       "  stroke-width: 0;\n",
       "  stroke: currentColor;\n",
       "  fill: currentColor;\n",
       "}\n",
       "</style><pre class='xr-text-repr-fallback'>&lt;xarray.DataArray &#x27;grw&#x27; (grw_dim_0: 99)&gt;\n",
       "array([13.53145899, 13.57597971, 13.64814222, 13.79262452, 13.91232107,\n",
       "       14.02703843, 14.16237848, 14.29720825, 14.43455276, 14.57649994,\n",
       "       14.74431263, 14.92655845, 15.15098872, 15.36342954, 15.55679744,\n",
       "       15.74343886, 15.92279749, 16.11261734, 16.31148026, 16.50715453,\n",
       "       16.73292296, 16.98756432, 17.24979188, 17.4416245 , 17.61695405,\n",
       "       17.76508783, 17.93304521, 18.11304747, 18.29325255, 18.47845587,\n",
       "       18.64627917, 18.79771092, 18.97263332, 19.14908779, 19.35659571,\n",
       "       19.56069719, 19.75353286, 19.93537284, 20.11564147, 20.3010874 ,\n",
       "       20.50947978, 20.70054655, 20.88291747, 21.03368753, 21.18034152,\n",
       "       21.29570353, 21.43784214, 21.52848192, 21.65513033, 21.75893768,\n",
       "       21.86170413, 21.99117369, 22.13118834, 22.31231048, 22.45050863,\n",
       "       22.57315166, 22.70499511, 22.79478137, 22.91935759, 23.00304035,\n",
       "       23.06930532, 23.06331378, 23.10936743, 23.12793951, 23.17048524,\n",
       "       23.2926946 , 23.38046774, 23.48860089, 23.5841288 , 23.67446622,\n",
       "       23.73690048, 23.84474157, 23.99342042, 24.11843438, 24.21984432,\n",
       "       24.3069952 , 24.34811943, 24.37884641, 24.37795848, 24.38919094,\n",
       "       24.36203944, 24.37384165, 24.36139604, 24.30523337, 24.18095606,\n",
       "       24.08613964, 24.0063687 , 23.93673087, 23.90036499, 23.86715065,\n",
       "       23.84360755, 23.83465486, 23.8418785 , 23.81105366, 23.76764942,\n",
       "       23.73137427, 23.69349614, 23.68481591, 23.69334685])\n",
       "Coordinates:\n",
       "  * grw_dim_0  (grw_dim_0) int64 0 1 2 3 4 5 6 7 8 ... 91 92 93 94 95 96 97 98</pre><div class='xr-wrap' hidden><div class='xr-header'><div class='xr-obj-type'>xarray.DataArray</div><div class='xr-array-name'>'grw'</div><ul class='xr-dim-list'><li><span class='xr-has-index'>grw_dim_0</span>: 99</li></ul></div><ul class='xr-sections'><li class='xr-section-item'><div class='xr-array-wrap'><input id='section-b8ef29ca-6b76-4b65-ab39-bfb0e9265e19' class='xr-array-in' type='checkbox' checked><label for='section-b8ef29ca-6b76-4b65-ab39-bfb0e9265e19' title='Show/hide data repr'><svg class='icon xr-icon-database'><use xlink:href='#icon-database'></use></svg></label><div class='xr-array-preview xr-preview'><span>13.53 13.58 13.65 13.79 13.91 14.03 ... 23.77 23.73 23.69 23.68 23.69</span></div><div class='xr-array-data'><pre>array([13.53145899, 13.57597971, 13.64814222, 13.79262452, 13.91232107,\n",
       "       14.02703843, 14.16237848, 14.29720825, 14.43455276, 14.57649994,\n",
       "       14.74431263, 14.92655845, 15.15098872, 15.36342954, 15.55679744,\n",
       "       15.74343886, 15.92279749, 16.11261734, 16.31148026, 16.50715453,\n",
       "       16.73292296, 16.98756432, 17.24979188, 17.4416245 , 17.61695405,\n",
       "       17.76508783, 17.93304521, 18.11304747, 18.29325255, 18.47845587,\n",
       "       18.64627917, 18.79771092, 18.97263332, 19.14908779, 19.35659571,\n",
       "       19.56069719, 19.75353286, 19.93537284, 20.11564147, 20.3010874 ,\n",
       "       20.50947978, 20.70054655, 20.88291747, 21.03368753, 21.18034152,\n",
       "       21.29570353, 21.43784214, 21.52848192, 21.65513033, 21.75893768,\n",
       "       21.86170413, 21.99117369, 22.13118834, 22.31231048, 22.45050863,\n",
       "       22.57315166, 22.70499511, 22.79478137, 22.91935759, 23.00304035,\n",
       "       23.06930532, 23.06331378, 23.10936743, 23.12793951, 23.17048524,\n",
       "       23.2926946 , 23.38046774, 23.48860089, 23.5841288 , 23.67446622,\n",
       "       23.73690048, 23.84474157, 23.99342042, 24.11843438, 24.21984432,\n",
       "       24.3069952 , 24.34811943, 24.37884641, 24.37795848, 24.38919094,\n",
       "       24.36203944, 24.37384165, 24.36139604, 24.30523337, 24.18095606,\n",
       "       24.08613964, 24.0063687 , 23.93673087, 23.90036499, 23.86715065,\n",
       "       23.84360755, 23.83465486, 23.8418785 , 23.81105366, 23.76764942,\n",
       "       23.73137427, 23.69349614, 23.68481591, 23.69334685])</pre></div></div></li><li class='xr-section-item'><input id='section-b9b793f6-0756-42ca-acaf-0433af68ff30' class='xr-section-summary-in' type='checkbox'  checked><label for='section-b9b793f6-0756-42ca-acaf-0433af68ff30' class='xr-section-summary' >Coordinates: <span>(1)</span></label><div class='xr-section-inline-details'></div><div class='xr-section-details'><ul class='xr-var-list'><li class='xr-var-item'><div class='xr-var-name'><span class='xr-has-index'>grw_dim_0</span></div><div class='xr-var-dims'>(grw_dim_0)</div><div class='xr-var-dtype'>int64</div><div class='xr-var-preview xr-preview'>0 1 2 3 4 5 6 ... 93 94 95 96 97 98</div><input id='attrs-2db2d632-cc90-49d7-bc7c-76774043a8e4' class='xr-var-attrs-in' type='checkbox' disabled><label for='attrs-2db2d632-cc90-49d7-bc7c-76774043a8e4' title='Show/Hide attributes'><svg class='icon xr-icon-file-text2'><use xlink:href='#icon-file-text2'></use></svg></label><input id='data-f96b36b6-67ad-491d-9b72-cc9ae433823e' class='xr-var-data-in' type='checkbox'><label for='data-f96b36b6-67ad-491d-9b72-cc9ae433823e' title='Show/Hide data repr'><svg class='icon xr-icon-database'><use xlink:href='#icon-database'></use></svg></label><div class='xr-var-attrs'><dl class='xr-attrs'></dl></div><div class='xr-var-data'><pre>array([ 0,  1,  2,  3,  4,  5,  6,  7,  8,  9, 10, 11, 12, 13, 14, 15, 16, 17,\n",
       "       18, 19, 20, 21, 22, 23, 24, 25, 26, 27, 28, 29, 30, 31, 32, 33, 34, 35,\n",
       "       36, 37, 38, 39, 40, 41, 42, 43, 44, 45, 46, 47, 48, 49, 50, 51, 52, 53,\n",
       "       54, 55, 56, 57, 58, 59, 60, 61, 62, 63, 64, 65, 66, 67, 68, 69, 70, 71,\n",
       "       72, 73, 74, 75, 76, 77, 78, 79, 80, 81, 82, 83, 84, 85, 86, 87, 88, 89,\n",
       "       90, 91, 92, 93, 94, 95, 96, 97, 98])</pre></div></li></ul></div></li><li class='xr-section-item'><input id='section-073dbcfe-76c0-4a52-80fa-e3e3c1be1a76' class='xr-section-summary-in' type='checkbox' disabled ><label for='section-073dbcfe-76c0-4a52-80fa-e3e3c1be1a76' class='xr-section-summary'  title='Expand/collapse section'>Attributes: <span>(0)</span></label><div class='xr-section-inline-details'></div><div class='xr-section-details'><dl class='xr-attrs'></dl></div></li></ul></div></div>"
      ],
      "text/plain": [
       "<xarray.DataArray 'grw' (grw_dim_0: 99)>\n",
       "array([13.53145899, 13.57597971, 13.64814222, 13.79262452, 13.91232107,\n",
       "       14.02703843, 14.16237848, 14.29720825, 14.43455276, 14.57649994,\n",
       "       14.74431263, 14.92655845, 15.15098872, 15.36342954, 15.55679744,\n",
       "       15.74343886, 15.92279749, 16.11261734, 16.31148026, 16.50715453,\n",
       "       16.73292296, 16.98756432, 17.24979188, 17.4416245 , 17.61695405,\n",
       "       17.76508783, 17.93304521, 18.11304747, 18.29325255, 18.47845587,\n",
       "       18.64627917, 18.79771092, 18.97263332, 19.14908779, 19.35659571,\n",
       "       19.56069719, 19.75353286, 19.93537284, 20.11564147, 20.3010874 ,\n",
       "       20.50947978, 20.70054655, 20.88291747, 21.03368753, 21.18034152,\n",
       "       21.29570353, 21.43784214, 21.52848192, 21.65513033, 21.75893768,\n",
       "       21.86170413, 21.99117369, 22.13118834, 22.31231048, 22.45050863,\n",
       "       22.57315166, 22.70499511, 22.79478137, 22.91935759, 23.00304035,\n",
       "       23.06930532, 23.06331378, 23.10936743, 23.12793951, 23.17048524,\n",
       "       23.2926946 , 23.38046774, 23.48860089, 23.5841288 , 23.67446622,\n",
       "       23.73690048, 23.84474157, 23.99342042, 24.11843438, 24.21984432,\n",
       "       24.3069952 , 24.34811943, 24.37884641, 24.37795848, 24.38919094,\n",
       "       24.36203944, 24.37384165, 24.36139604, 24.30523337, 24.18095606,\n",
       "       24.08613964, 24.0063687 , 23.93673087, 23.90036499, 23.86715065,\n",
       "       23.84360755, 23.83465486, 23.8418785 , 23.81105366, 23.76764942,\n",
       "       23.73137427, 23.69349614, 23.68481591, 23.69334685])\n",
       "Coordinates:\n",
       "  * grw_dim_0  (grw_dim_0) int64 0 1 2 3 4 5 6 7 8 ... 91 92 93 94 95 96 97 98"
      ]
     },
     "execution_count": 155,
     "metadata": {},
     "output_type": "execute_result"
    }
   ],
   "source": [
    "trace.posterior.grw.mean(axis=0).mean(axis=0)"
   ]
  },
  {
   "cell_type": "code",
   "execution_count": null,
   "metadata": {},
   "outputs": [
    {
     "data": {
      "text/plain": [
       "[<matplotlib.lines.Line2D at 0x7f509a338220>]"
      ]
     },
     "execution_count": 156,
     "metadata": {},
     "output_type": "execute_result"
    },
    {
     "data": {
      "image/png": "[encoded data removed]",
      "text/plain": [
       "<Figure size 432x288 with 1 Axes>"
      ]
     },
     "metadata": {
      "needs_background": "light"
     },
     "output_type": "display_data"
    }
   ],
   "source": [
    "plt.scatter(X, Y)\n",
    "plt.plot(X, trace.posterior.grw.mean(axis=0).mean(axis=0))"
   ]
  },
  {
   "cell_type": "code",
   "execution_count": null,
   "metadata": {},
   "outputs": [
    {
     "data": {
      "text/plain": [
       "(1000, 99)"
      ]
     },
     "execution_count": 157,
     "metadata": {},
     "output_type": "execute_result"
    }
   ],
   "source": [
    "# az.summary(trace)\n",
    "trace.posterior.grw.mean(axis=0).shape"
   ]
  },
  {
   "cell_type": "code",
   "execution_count": null,
   "metadata": {},
   "outputs": [],
   "source": [
    "qs = np.quantile(trace.posterior.grw.mean(axis=0), q=[0.025, 0.5, 0.975], axis=0)\n"
   ]
  },
  {
   "cell_type": "code",
   "execution_count": null,
   "metadata": {},
   "outputs": [
    {
     "data": {
      "text/plain": [
       "<matplotlib.collections.PolyCollection at 0x7f509a043130>"
      ]
     },
     "execution_count": 159,
     "metadata": {},
     "output_type": "execute_result"
    },
    {
     "data": {
      "image/png": "[encoded data removed]",
      "text/plain": [
       "<Figure size 432x288 with 1 Axes>"
      ]
     },
     "metadata": {
      "needs_background": "light"
     },
     "output_type": "display_data"
    }
   ],
   "source": [
    "plt.scatter(X, Y)\n",
    "plt.plot(X, qs[1])\n",
    "plt.fill_between(x=X,y1=qs[0], y2=qs[2], alpha=0.3)"
   ]
  },
  {
   "cell_type": "code",
   "execution_count": null,
   "metadata": {},
   "outputs": [
    {
     "data": {
      "text/plain": [
       "(18, 7)"
      ]
     },
     "execution_count": 160,
     "metadata": {},
     "output_type": "execute_result"
    }
   ],
   "source": [
    "df.shape"
   ]
  },
  {
   "cell_type": "code",
   "execution_count": 341,
   "metadata": {},
   "outputs": [],
   "source": [
    "XL = np.arange(0,18)\n",
    "YL = raw_df.query(\"partido == 'PT' \")[\"percentual\"]\n",
    "# XL = df_results_weekly.data\n",
    "YL = YL.append(to_append=pd.Series([42]))\n",
    "#YL[10:13]=np.nan"
   ]
  },
  {
   "cell_type": "code",
   "execution_count": 362,
   "metadata": {},
   "outputs": [
    {
     "name": "stderr",
     "output_type": "stream",
     "text": [
      "Auto-assigning NUTS sampler...\n",
      "Initializing NUTS using jitter+adapt_diag...\n",
      "Multiprocess sampling (2 chains in 2 jobs)\n",
      "NUTS: [grw]\n"
     ]
    },
    {
     "data": {
      "text/html": [
       "\n",
       "    <div>\n",
       "        <style>\n",
       "            /* Turns off some styling */\n",
       "            progress {\n",
       "                /* gets rid of default border in Firefox and Opera. */\n",
       "                border: none;\n",
       "                /* Needs to be in here for Safari polyfill so background images work as expected. */\n",
       "                background-size: auto;\n",
       "            }\n",
       "            .progress-bar-interrupted, .progress-bar-interrupted::-webkit-progress-bar {\n",
       "                background: #F44336;\n",
       "            }\n",
       "        </style>\n",
       "      <progress value='3000' class='' max='3000' style='width:300px; height:20px; vertical-align: middle;'></progress>\n",
       "      100.00% [3000/3000 00:02<00:00 Sampling 2 chains, 0 divergences]\n",
       "    </div>\n",
       "    "
      ],
      "text/plain": [
       "<IPython.core.display.HTML object>"
      ]
     },
     "metadata": {},
     "output_type": "display_data"
    },
    {
     "name": "stderr",
     "output_type": "stream",
     "text": [
      "Sampling 2 chains for 500 tune and 1_000 draw iterations (1_000 + 2_000 draws total) took 3 seconds.\n"
     ]
    },
    {
     "data": {
      "image/png": "[encoded data removed]",
      "text/plain": [
       "<Figure size 864x144 with 2 Axes>"
      ]
     },
     "metadata": {
      "needs_background": "light"
     },
     "output_type": "display_data"
    }
   ],
   "source": [
    "with pm.Model() as grw:\n",
    "    \n",
    "    grw = pm.GaussianRandomWalk('grw', mu=0, sd=2.0, shape=XL.size)\n",
    "    \n",
    "    observed = pm.Normal('observed', mu=grw, sigma=YL.std(), observed=YL)\n",
    "    \n",
    "    trace = pm.sample(1000, tune=500, progressbar=True, \n",
    "                          return_inferencedata=True)\n",
    "    summary = az.summary(trace) # used below\n",
    "    az.plot_trace(trace)  \n"
   ]
  },
  {
   "cell_type": "code",
   "execution_count": 363,
   "metadata": {},
   "outputs": [
    {
     "name": "stdout",
     "output_type": "stream",
     "text": [
      "18 18\n"
     ]
    },
    {
     "data": {
      "text/plain": [
       "<matplotlib.collections.PolyCollection at 0x7f5089c26280>"
      ]
     },
     "execution_count": 363,
     "metadata": {},
     "output_type": "execute_result"
    },
    {
     "data": {
      "image/png": "[encoded data removed]",
      "text/plain": [
       "<Figure size 1440x576 with 1 Axes>"
      ]
     },
     "metadata": {
      "needs_background": "light"
     },
     "output_type": "display_data"
    }
   ],
   "source": [
    "qs = np.quantile(trace.posterior.grw.mean(axis=0), q=[0.025, 0.5, 0.975], axis=0)\n",
    "plt.figure(figsize=(20,8))\n",
    "plt.ylim(30, 55)\n",
    "\n",
    "print(df_results_weekly.data.size, YL.size)\n",
    "plt.scatter(df_results_weekly.data, YL)\n",
    "plt.plot(df_results_weekly.data, qs[1])\n",
    "plt.fill_between(x=df_results_weekly.data,y1=qs[0], y2=qs[2], alpha=0.3)"
   ]
  },
  {
   "cell_type": "code",
   "execution_count": 364,
   "metadata": {},
   "outputs": [
    {
     "data": {
      "text/html": [
       "<div>\n",
       "<style scoped>\n",
       "    .dataframe tbody tr th:only-of-type {\n",
       "        vertical-align: middle;\n",
       "    }\n",
       "\n",
       "    .dataframe tbody tr th {\n",
       "        vertical-align: top;\n",
       "    }\n",
       "\n",
       "    .dataframe thead th {\n",
       "        text-align: right;\n",
       "    }\n",
       "</style>\n",
       "<table border=\"1\" class=\"dataframe\">\n",
       "  <thead>\n",
       "    <tr style=\"text-align: right;\">\n",
       "      <th></th>\n",
       "      <th>data</th>\n",
       "      <th>LulaLB</th>\n",
       "      <th>LulaM</th>\n",
       "      <th>LulaUB</th>\n",
       "      <th>DemaisLB</th>\n",
       "      <th>DemaisM</th>\n",
       "      <th>DemaisUB</th>\n",
       "    </tr>\n",
       "  </thead>\n",
       "  <tbody>\n",
       "    <tr>\n",
       "      <th>0</th>\n",
       "      <td>2021-11-04</td>\n",
       "      <td>0.389899</td>\n",
       "      <td>0.414141</td>\n",
       "      <td>0.439394</td>\n",
       "      <td>0.399495</td>\n",
       "      <td>0.425253</td>\n",
       "      <td>0.450013</td>\n",
       "    </tr>\n",
       "    <tr>\n",
       "      <th>0</th>\n",
       "      <td>2021-11-06</td>\n",
       "      <td>0.407569</td>\n",
       "      <td>0.431344</td>\n",
       "      <td>0.456089</td>\n",
       "      <td>0.389131</td>\n",
       "      <td>0.413392</td>\n",
       "      <td>0.436681</td>\n",
       "    </tr>\n",
       "    <tr>\n",
       "      <th>0</th>\n",
       "      <td>2021-11-19</td>\n",
       "      <td>0.388503</td>\n",
       "      <td>0.411794</td>\n",
       "      <td>0.436088</td>\n",
       "      <td>0.413776</td>\n",
       "      <td>0.438057</td>\n",
       "      <td>0.461348</td>\n",
       "    </tr>\n",
       "    <tr>\n",
       "      <th>0</th>\n",
       "      <td>2021-11-20</td>\n",
       "      <td>0.378500</td>\n",
       "      <td>0.402000</td>\n",
       "      <td>0.426000</td>\n",
       "      <td>0.443000</td>\n",
       "      <td>0.467000</td>\n",
       "      <td>0.490000</td>\n",
       "    </tr>\n",
       "    <tr>\n",
       "      <th>0</th>\n",
       "      <td>2021-11-24</td>\n",
       "      <td>0.364040</td>\n",
       "      <td>0.385455</td>\n",
       "      <td>0.407677</td>\n",
       "      <td>0.472323</td>\n",
       "      <td>0.494141</td>\n",
       "      <td>0.515960</td>\n",
       "    </tr>\n",
       "    <tr>\n",
       "      <th>0</th>\n",
       "      <td>2021-11-29</td>\n",
       "      <td>0.383951</td>\n",
       "      <td>0.401228</td>\n",
       "      <td>0.418277</td>\n",
       "      <td>0.493294</td>\n",
       "      <td>0.511025</td>\n",
       "      <td>0.528757</td>\n",
       "    </tr>\n",
       "    <tr>\n",
       "      <th>0</th>\n",
       "      <td>2021-12-05</td>\n",
       "      <td>0.387033</td>\n",
       "      <td>0.409627</td>\n",
       "      <td>0.432220</td>\n",
       "      <td>0.474951</td>\n",
       "      <td>0.497544</td>\n",
       "      <td>0.521611</td>\n",
       "    </tr>\n",
       "    <tr>\n",
       "      <th>0</th>\n",
       "      <td>2021-12-09</td>\n",
       "      <td>0.375000</td>\n",
       "      <td>0.403333</td>\n",
       "      <td>0.434167</td>\n",
       "      <td>0.469167</td>\n",
       "      <td>0.498333</td>\n",
       "      <td>0.527500</td>\n",
       "    </tr>\n",
       "    <tr>\n",
       "      <th>0</th>\n",
       "      <td>2021-12-11</td>\n",
       "      <td>0.387000</td>\n",
       "      <td>0.411500</td>\n",
       "      <td>0.436500</td>\n",
       "      <td>0.448000</td>\n",
       "      <td>0.473000</td>\n",
       "      <td>0.499500</td>\n",
       "    </tr>\n",
       "    <tr>\n",
       "      <th>0</th>\n",
       "      <td>2021-12-13</td>\n",
       "      <td>0.379500</td>\n",
       "      <td>0.403500</td>\n",
       "      <td>0.428500</td>\n",
       "      <td>0.464500</td>\n",
       "      <td>0.489000</td>\n",
       "      <td>0.513000</td>\n",
       "    </tr>\n",
       "    <tr>\n",
       "      <th>0</th>\n",
       "      <td>2021-12-13</td>\n",
       "      <td>0.398000</td>\n",
       "      <td>0.421500</td>\n",
       "      <td>0.446000</td>\n",
       "      <td>0.438000</td>\n",
       "      <td>0.463000</td>\n",
       "      <td>0.487000</td>\n",
       "    </tr>\n",
       "    <tr>\n",
       "      <th>0</th>\n",
       "      <td>2021-12-16</td>\n",
       "      <td>0.423854</td>\n",
       "      <td>0.443231</td>\n",
       "      <td>0.462063</td>\n",
       "      <td>0.429032</td>\n",
       "      <td>0.447325</td>\n",
       "      <td>0.465884</td>\n",
       "    </tr>\n",
       "    <tr>\n",
       "      <th>0</th>\n",
       "      <td>2021-12-16</td>\n",
       "      <td>0.411881</td>\n",
       "      <td>0.442574</td>\n",
       "      <td>0.475248</td>\n",
       "      <td>0.413861</td>\n",
       "      <td>0.447525</td>\n",
       "      <td>0.479208</td>\n",
       "    </tr>\n",
       "    <tr>\n",
       "      <th>0</th>\n",
       "      <td>2021-12-21</td>\n",
       "      <td>0.402333</td>\n",
       "      <td>0.423667</td>\n",
       "      <td>0.445333</td>\n",
       "      <td>0.445000</td>\n",
       "      <td>0.466333</td>\n",
       "      <td>0.488000</td>\n",
       "    </tr>\n",
       "    <tr>\n",
       "      <th>0</th>\n",
       "      <td>2022-01-09</td>\n",
       "      <td>0.406633</td>\n",
       "      <td>0.430612</td>\n",
       "      <td>0.454592</td>\n",
       "      <td>0.432653</td>\n",
       "      <td>0.456633</td>\n",
       "      <td>0.481633</td>\n",
       "    </tr>\n",
       "    <tr>\n",
       "      <th>0</th>\n",
       "      <td>2022-01-12</td>\n",
       "      <td>0.397059</td>\n",
       "      <td>0.431373</td>\n",
       "      <td>0.463725</td>\n",
       "      <td>0.422549</td>\n",
       "      <td>0.454902</td>\n",
       "      <td>0.489216</td>\n",
       "    </tr>\n",
       "    <tr>\n",
       "      <th>0</th>\n",
       "      <td>2022-01-13</td>\n",
       "      <td>0.396633</td>\n",
       "      <td>0.425589</td>\n",
       "      <td>0.453872</td>\n",
       "      <td>0.432323</td>\n",
       "      <td>0.460606</td>\n",
       "      <td>0.490236</td>\n",
       "    </tr>\n",
       "    <tr>\n",
       "      <th>0</th>\n",
       "      <td>2022-01-20</td>\n",
       "      <td>0.404714</td>\n",
       "      <td>0.425253</td>\n",
       "      <td>0.447138</td>\n",
       "      <td>0.437037</td>\n",
       "      <td>0.458249</td>\n",
       "      <td>0.478451</td>\n",
       "    </tr>\n",
       "  </tbody>\n",
       "</table>\n",
       "</div>"
      ],
      "text/plain": [
       "         data    LulaLB     LulaM    LulaUB  DemaisLB   DemaisM  DemaisUB\n",
       "0  2021-11-04  0.389899  0.414141  0.439394  0.399495  0.425253  0.450013\n",
       "0  2021-11-06  0.407569  0.431344  0.456089  0.389131  0.413392  0.436681\n",
       "0  2021-11-19  0.388503  0.411794  0.436088  0.413776  0.438057  0.461348\n",
       "0  2021-11-20  0.378500  0.402000  0.426000  0.443000  0.467000  0.490000\n",
       "0  2021-11-24  0.364040  0.385455  0.407677  0.472323  0.494141  0.515960\n",
       "0  2021-11-29  0.383951  0.401228  0.418277  0.493294  0.511025  0.528757\n",
       "0  2021-12-05  0.387033  0.409627  0.432220  0.474951  0.497544  0.521611\n",
       "0  2021-12-09  0.375000  0.403333  0.434167  0.469167  0.498333  0.527500\n",
       "0  2021-12-11  0.387000  0.411500  0.436500  0.448000  0.473000  0.499500\n",
       "0  2021-12-13  0.379500  0.403500  0.428500  0.464500  0.489000  0.513000\n",
       "0  2021-12-13  0.398000  0.421500  0.446000  0.438000  0.463000  0.487000\n",
       "0  2021-12-16  0.423854  0.443231  0.462063  0.429032  0.447325  0.465884\n",
       "0  2021-12-16  0.411881  0.442574  0.475248  0.413861  0.447525  0.479208\n",
       "0  2021-12-21  0.402333  0.423667  0.445333  0.445000  0.466333  0.488000\n",
       "0  2022-01-09  0.406633  0.430612  0.454592  0.432653  0.456633  0.481633\n",
       "0  2022-01-12  0.397059  0.431373  0.463725  0.422549  0.454902  0.489216\n",
       "0  2022-01-13  0.396633  0.425589  0.453872  0.432323  0.460606  0.490236\n",
       "0  2022-01-20  0.404714  0.425253  0.447138  0.437037  0.458249  0.478451"
      ]
     },
     "execution_count": 364,
     "metadata": {},
     "output_type": "execute_result"
    }
   ],
   "source": [
    "df_results_weekly"
   ]
  },
  {
   "cell_type": "code",
   "execution_count": 388,
   "metadata": {},
   "outputs": [
    {
     "data": {
      "text/plain": [
       "'2022-01-20'"
      ]
     },
     "execution_count": 388,
     "metadata": {},
     "output_type": "execute_result"
    }
   ],
   "source": [
    "# YL = YL/100.0\n",
    "dfrw.data.values[-1]"
   ]
  },
  {
   "cell_type": "code",
   "execution_count": 399,
   "metadata": {},
   "outputs": [
    {
     "data": {
      "text/plain": [
       "Text(2022-01-20, 0.45724915824915824, '45.82%')"
      ]
     },
     "execution_count": 399,
     "metadata": {},
     "output_type": "execute_result"
    },
    {
     "data": {
      "image/png": "[encoded data removed]",
      "text/plain": [
       "<Figure size 1440x576 with 1 Axes>"
      ]
     },
     "metadata": {
      "needs_background": "light"
     },
     "output_type": "display_data"
    }
   ],
   "source": [
    "dfrw = df_results_weekly\n",
    "\n",
    "plt.figure(figsize=(20,8))\n",
    "plt.ylim(0.30, 0.55)\n",
    "plt.yticks(np.arange(0.30, 0.55, 0.01))\n",
    "plt.scatter(dfrw.data, YL/100.0, color='red')\n",
    "plt.scatter(dfrw.data, df[\"OUTROS\"]/df[\"TOTAL\"], color='gray')\n",
    "plt.plot(dfrw.data, dfrw.LulaM, color='red')\n",
    "plt.fill_between(x=dfrw.data, y1=dfrw.LulaLB, y2=dfrw.LulaUB, alpha=0.2, color='red')\n",
    "plt.plot(dfrw.data, dfrw.DemaisM, color='gray')\n",
    "plt.fill_between(x=dfrw.data, y1=dfrw.DemaisLB, y2=dfrw.DemaisUB, alpha=0.2, color='gray')\n",
    "\n",
    "plt.text(dfrw.data.values[-1], dfrw.LulaUB.values[-1]-.001, f'{dfrw.LulaUB.values[-1] * 100:.2f}%', color='red')\n",
    "plt.text(dfrw.data.values[-1], dfrw.LulaM.values[-1]-.001, f'{dfrw.LulaM.values[-1] * 100:.2f}%', color='red')\n",
    "plt.text(dfrw.data.values[-1], dfrw.LulaLB.values[-1]-.001, f'{dfrw.LulaLB.values[-1] * 100:.2f}%', color='red')\n",
    "\n",
    "plt.text(dfrw.data.values[-1], dfrw.DemaisUB.values[-1]-.001, f'{dfrw.DemaisUB.values[-1] * 100:.2f}%', color='gray')\n",
    "plt.text(dfrw.data.values[-1], dfrw.DemaisM.values[-1]-.001, f'{dfrw.DemaisM.values[-1] * 100:.2f}%', color='gray')\n",
    "plt.text(dfrw.data.values[-1], dfrw.DemaisLB.values[-1]-.001, f'{dfrw.DemaisLB.values[-1] * 100:.2f}%', color='gray')"
   ]
  },
  {
   "cell_type": "code",
   "execution_count": null,
   "metadata": {},
   "outputs": [],
   "source": []
  }
 ],
 "metadata": {
  "interpreter": {
   "hash": "037a033ce234ff666f14cbdf22ea40000c7774c5ff2d9a18fd075477cf956e1c"
  },
  "kernelspec": {
   "display_name": "Python 3.9.6 64-bit ('kaggle_env': conda)",
   "language": "python",
   "name": "python3"
  },
  "language_info": {
   "codemirror_mode": {
    "name": "ipython",
    "version": 3
   },
   "file_extension": ".py",
   "mimetype": "text/x-python",
   "name": "python",
   "nbconvert_exporter": "python",
   "pygments_lexer": "ipython3",
   "version": "3.9.6"
  },
  "orig_nbformat": 4
 },
 "nbformat": 4,
 "nbformat_minor": 2
}
